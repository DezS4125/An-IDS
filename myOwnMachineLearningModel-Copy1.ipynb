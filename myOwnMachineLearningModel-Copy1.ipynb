{
 "cells": [
  {
   "cell_type": "code",
   "execution_count": 1,
   "id": "6607bf60-7c91-4490-b839-1806fe2502aa",
   "metadata": {},
   "outputs": [],
   "source": [
    "\n",
    "import os\n",
    "os.environ[\"KERAS_BACKEND\"] = \"tensorflow\""
   ]
  },
  {
   "cell_type": "code",
   "execution_count": 2,
   "id": "ce8a5a50-5f73-4e74-9333-d0a4bcd29c2d",
   "metadata": {},
   "outputs": [
    {
     "name": "stderr",
     "output_type": "stream",
     "text": [
      "2024-11-21 18:54:31.342538: I tensorflow/core/util/port.cc:153] oneDNN custom operations are on. You may see slightly different numerical results due to floating-point round-off errors from different computation orders. To turn them off, set the environment variable `TF_ENABLE_ONEDNN_OPTS=0`.\n",
      "2024-11-21 18:54:31.471226: E external/local_xla/xla/stream_executor/cuda/cuda_fft.cc:477] Unable to register cuFFT factory: Attempting to register factory for plugin cuFFT when one has already been registered\n",
      "WARNING: All log messages before absl::InitializeLog() is called are written to STDERR\n",
      "E0000 00:00:1732190071.538180   78091 cuda_dnn.cc:8310] Unable to register cuDNN factory: Attempting to register factory for plugin cuDNN when one has already been registered\n",
      "E0000 00:00:1732190071.557219   78091 cuda_blas.cc:1418] Unable to register cuBLAS factory: Attempting to register factory for plugin cuBLAS when one has already been registered\n",
      "2024-11-21 18:54:31.713309: I tensorflow/core/platform/cpu_feature_guard.cc:210] This TensorFlow binary is optimized to use available CPU instructions in performance-critical operations.\n",
      "To enable the following instructions: AVX2 AVX_VNNI FMA, in other operations, rebuild TensorFlow with the appropriate compiler flags.\n"
     ]
    }
   ],
   "source": [
    "import numpy as np  # for array\n",
    "import pandas as pd  # for csv files and dataframe\n",
    "import matplotlib.pyplot as plt  # for plotting\n",
    "import seaborn as sns  # plotting\n",
    "from scipy import stats\n",
    "from tqdm import tqdm  # Progress bar\n",
    "\n",
    "import pickle  # To load data int disk\n",
    "from prettytable import PrettyTable  # To print in tabular format\n",
    "\n",
    "import warnings\n",
    "warnings.filterwarnings(\"ignore\")\n",
    "\n",
    "from sklearn.preprocessing import StandardScaler  # Standardizer\n",
    "from sklearn.preprocessing import LabelEncoder, OneHotEncoder  # One hot Encoder\n",
    "from scipy.sparse import csr_matrix  # For sparse matrix\n",
    "\n",
    "from sklearn.model_selection import train_test_split\n",
    "# Different Models\n",
    "from sklearn.linear_model import LogisticRegression, SGDClassifier  # LR\n",
    "from sklearn.svm import LinearSVC  # SVM\n",
    "from sklearn.tree import DecisionTreeClassifier  #DT\n",
    "from sklearn.ensemble import RandomForestClassifier  # RF\n",
    "import xgboost as xgb  #XGB\n",
    "\n",
    "from sklearn.metrics import accuracy_score, confusion_matrix, make_scorer  # Scoring functions\n",
    "from sklearn.metrics import auc, f1_score, roc_curve, roc_auc_score  # Scoring fns\n",
    "from sklearn.model_selection import GridSearchCV, RandomizedSearchCV  # Cross validation\n",
    "from sklearn.metrics import accuracy_score\n",
    "from sklearn.ensemble import VotingClassifier\n",
    "\n",
    "from sklearn import metrics\n",
    "\n",
    "from keras.preprocessing.sequence import pad_sequences\n",
    "\n",
    "from keras.models import Sequential\n",
    "\n",
    "from keras.callbacks import ReduceLROnPlateau, EarlyStopping\n",
    "\n",
    "from keras.layers import Activation, Dense, Dropout, Embedding, LSTM\n",
    "\n",
    "import re\n",
    "\n",
    "from IPython.display import display\n",
    "\n",
    "import os\n",
    "\n",
    "import string\n",
    "\n",
    "import time\n",
    "\n",
    "import random\n",
    "\n",
    "import matplotlib.pyplot as plt\n",
    "\n",
    "from tensorflow.keras.datasets import imdb\n",
    "\n",
    "random.seed(10)\n",
    "\n",
    "\n",
    "%matplotlib inline"
   ]
  },
  {
   "cell_type": "code",
   "execution_count": 3,
   "id": "01c2155f-9d84-4b0b-88e2-e9abfae7952f",
   "metadata": {},
   "outputs": [],
   "source": [
    "file_path = \"./datasets/final_UNSW-NB15\"\n",
    "# Train and Test data\n",
    "x_train, y_train = pickle.load(open(file_path+'/final_train.pkl', 'rb'))\n",
    "x_test, y_test = pickle.load(open(file_path+'/final_test.pkl', 'rb'))\n",
    "\n",
    "# Dictionaries\n",
    "saved_dict = pickle.load(open(file_path+'/saved_dict.pkl', 'rb'))\n",
    "mode_dict = pickle.load(open(file_path+'/mode_dict.pkl', 'rb'))\n",
    "\n",
    "# Standard scaler\n",
    "scaler = pickle.load(open(file_path+'/scaler.pkl', 'rb'))\n",
    "\n",
    "# Onehot encoders\n",
    "ohe_proto = pickle.load(open(file_path+'/ohe_proto.pkl', 'rb'))\n",
    "ohe_service = pickle.load(open(file_path+'/ohe_service.pkl', 'rb'))\n",
    "ohe_state = pickle.load(open(file_path+'/ohe_state.pkl', 'rb'))\n",
    "\n",
    "label_encoder = pickle.load(open(file_path+'/label_encoder.pkl', 'rb'))\n"
   ]
  },
  {
   "cell_type": "code",
   "execution_count": 4,
   "id": "95aa1597-287b-40fb-9f84-e393c6ee8aae",
   "metadata": {},
   "outputs": [
    {
     "name": "stdout",
     "output_type": "stream",
     "text": [
      "['analysis' 'backdoor' 'dos' 'exploits' 'fuzzers' 'generic' 'normal'\n",
      " 'reconnaissance' 'shellcode' 'worms']\n",
      "[0 1 2 3 4 5 6 7 8 9]\n",
      "{'analysis': np.int64(0), 'backdoor': np.int64(1), 'dos': np.int64(2), 'exploits': np.int64(3), 'fuzzers': np.int64(4), 'generic': np.int64(5), 'normal': np.int64(6), 'reconnaissance': np.int64(7), 'shellcode': np.int64(8), 'worms': np.int64(9)}\n"
     ]
    }
   ],
   "source": [
    "class_labels = label_encoder.classes_\n",
    "print(class_labels)\n",
    "encoded_values = label_encoder.transform(['analysis', 'backdoor', 'dos', 'exploits', 'fuzzers', 'generic', 'normal', 'reconnaissance', 'shellcode', 'worms'])\n",
    "print(encoded_values)\n",
    "mapping = dict(zip(class_labels, encoded_values))\n",
    "print(mapping)"
   ]
  },
  {
   "cell_type": "markdown",
   "id": "0b4e8ac7-3e27-43f5-aa62-1cce3e24b19d",
   "metadata": {},
   "source": [
    "## Pipeline functions"
   ]
  },
  {
   "cell_type": "code",
   "execution_count": 5,
   "id": "0def3cd4-ebeb-4d3c-9733-297a391522d2",
   "metadata": {},
   "outputs": [],
   "source": [
    "#------------------------------------------------------------------------------------------\n",
    "# Data Cleaning\n",
    "#------------------------------------------------------------------------------------------\n",
    "def clean_data(data):\n",
    "    '''\n",
    "    Cleans given raw data. Performs various cleaning, removes Null and wrong values.\n",
    "    Check for columns datatype and fix them.\n",
    "    '''\n",
    "    numerical_col = data.select_dtypes(include=np.number).columns  # All the numerical columns list\n",
    "    categorical_col = data.select_dtypes(exclude=np.number).columns  # All the categorical columns list\n",
    "    \n",
    "    # Cleaning the data\n",
    "    for col in data.columns:\n",
    "        val = mode_dict[col]  # Mode value of the column in train data\n",
    "        data[col] = data[col].fillna(value=val)\n",
    "        data[col] = data[col].replace(' ', value=val)\n",
    "        data[col] = data[col].apply(lambda x:\"none\" if x==\"-\" else x)\n",
    "\n",
    "        # Fixing binary columns\n",
    "        if col in saved_dict['binary_col']:\n",
    "            data[col] = np.where(data[col]>1, val, data[col])\n",
    "\n",
    "    # Fixing datatype of columns\n",
    "    bad_dtypes = list(set(categorical_col) - set(saved_dict['cat_col']))\n",
    "    for bad_col in bad_dtypes:\n",
    "        data[col] = data[col].astype(float)\n",
    "    \n",
    "    return data\n",
    "\n",
    "#------------------------------------------------------------------------------------------\n",
    "# Feature Engineering: Apply log1p\n",
    "#------------------------------------------------------------------------------------------\n",
    "def apply_log1p(data):\n",
    "    '''\n",
    "    Performs FE on the data. Apply log1p on the specified columns create new column and remove those original columns.\n",
    "    '''\n",
    "    for col in saved_dict['log1p_col']:\n",
    "        new_col = col + '_log1p'  # New col name\n",
    "        data[new_col] = data[col].apply(np.log1p)  # Creating new column on transformed data\n",
    "        data.drop(col, axis=1, inplace=True)  # Removing old columns\n",
    "    return data\n",
    "\n",
    "#------------------------------------------------------------------------------------------\n",
    "# Standardizing: Mean centering an d varience scaling\n",
    "#------------------------------------------------------------------------------------------\n",
    "def standardize(data):\n",
    "    '''\n",
    "    Stanardize the given data. Performs mean centering and varience scaling.\n",
    "    Using stanardscaler object trained on train data.\n",
    "    '''\n",
    "    data[saved_dict['num_col']] = scaler.transform(data[saved_dict['num_col']])\n",
    "    return data\n",
    "\n",
    "#------------------------------------------------------------------------------------------\n",
    "# Onehot encoding of categorical columns\n",
    "#------------------------------------------------------------------------------------------\n",
    "def ohencoding(data):\n",
    "    '''\n",
    "    Onehot encoding the categoricla columns.\n",
    "    Add the ohe columns with the data and removes categorical columns.\n",
    "    Using Onehotencoder objects trained on train data.\n",
    "    '''\n",
    "    # Onehot encoding cat col using onehotencoder objects\n",
    "    X = ohe_service.transform(data['service'].values.reshape(-1, 1))\n",
    "    Xm = ohe_proto.transform(data['proto'].values.reshape(-1, 1))\n",
    "    Xmm = ohe_state.transform(data['state'].values.reshape(-1, 1))\n",
    "    \n",
    "    # Adding encoding data to original data\n",
    "    data = pd.concat([data,\n",
    "                      pd.DataFrame(Xm.toarray(), columns=['proto_'+i for i in ohe_proto.categories_[0]]),\n",
    "                      pd.DataFrame(X.toarray(), columns=['service_'+i for i in ohe_service.categories_[0]]),\n",
    "                      pd.DataFrame(Xmm.toarray(), columns=['state_'+i for i in ohe_state.categories_[0]])],\n",
    "                      axis=1)\n",
    "    \n",
    "    # Removing cat columns\n",
    "    data.drop(['proto', 'service', 'state'], axis=1, inplace=True)\n",
    "    return data"
   ]
  },
  {
   "cell_type": "code",
   "execution_count": 6,
   "id": "4edd3203-a625-4717-a236-67ff3198d6bd",
   "metadata": {},
   "outputs": [],
   "source": [
    "def labelcoding(data):\n",
    "    data= label_encoder.transform(data) \n",
    "    return data"
   ]
  },
  {
   "cell_type": "code",
   "execution_count": 7,
   "id": "3d5c6266-5bcf-47bc-8114-06750d6132d3",
   "metadata": {},
   "outputs": [],
   "source": [
    "def get_final_data(data, saved_dict=saved_dict, mode_dict=mode_dict):\n",
    "    '''\n",
    "    This functions takes raw input and convert that to model required output.\n",
    "    '''\n",
    "    data.reset_index(drop=True, inplace=True)\n",
    "    data.columns = saved_dict['columns']\n",
    "    \n",
    "    data['network_bytes'] = data['dbytes'] + data['sbytes']\n",
    "    \n",
    "    dropable_col = saved_dict['to_drop'] + saved_dict['corr_col']\n",
    "    data.drop(columns=dropable_col, inplace=True)\n",
    "    \n",
    "    data = clean_data(data)\n",
    "    data = apply_log1p(data)\n",
    "    data = standardize(data)\n",
    "    data = ohencoding(data)\n",
    "    \n",
    "    return data"
   ]
  },
  {
   "cell_type": "code",
   "execution_count": 8,
   "id": "77c890c4-3900-4c1f-908e-282ad2b024df",
   "metadata": {},
   "outputs": [
    {
     "data": {
      "text/plain": [
       "Index(['srcip', 'sport', 'dstip', 'dsport', 'proto', 'state', 'dur', 'sbytes',\n",
       "       'dbytes', 'sttl', 'dttl', 'sloss', 'dloss', 'service', 'sload', 'dload',\n",
       "       'spkts', 'dpkts', 'swin', 'dwin', 'stcpb', 'dtcpb', 'smeansz',\n",
       "       'dmeansz', 'trans_depth', 'res_bdy_len', 'sjit', 'djit', 'stime',\n",
       "       'ltime', 'sintpkt', 'dintpkt', 'tcprtt', 'synack', 'ackdat',\n",
       "       'is_sm_ips_ports', 'ct_state_ttl', 'ct_flw_http_mthd', 'is_ftp_login',\n",
       "       'ct_ftp_cmd', 'ct_srv_src', 'ct_srv_dst', 'ct_dst_ltm', 'ct_src_ltm',\n",
       "       'ct_src_dport_ltm', 'ct_dst_sport_ltm', 'ct_dst_src_ltm', 'label'],\n",
       "      dtype='object')"
      ]
     },
     "execution_count": 8,
     "metadata": {},
     "output_type": "execute_result"
    }
   ],
   "source": [
    "x_test.columns"
   ]
  },
  {
   "cell_type": "code",
   "execution_count": 9,
   "id": "02b6dbc4-d547-4b5e-87c4-13e35abefd30",
   "metadata": {},
   "outputs": [
    {
     "data": {
      "text/plain": [
       "[array(['dhcp', 'dns', 'ftp', 'ftp-data', 'http', 'irc', 'none', 'pop3',\n",
       "        'radius', 'smtp', 'snmp', 'ssh', 'ssl'], dtype=object)]"
      ]
     },
     "execution_count": 9,
     "metadata": {},
     "output_type": "execute_result"
    }
   ],
   "source": [
    "ohe_service.categories_"
   ]
  },
  {
   "cell_type": "code",
   "execution_count": 10,
   "id": "633d8e21-4d2e-42e0-abd3-655d518dcb3f",
   "metadata": {},
   "outputs": [],
   "source": [
    "# Using pipeline to prepare test data\n",
    "x_test = get_final_data(x_test)"
   ]
  },
  {
   "cell_type": "code",
   "execution_count": 11,
   "id": "b4cda83d-a2c6-43d0-9b60-b37fb8728e4e",
   "metadata": {},
   "outputs": [],
   "source": [
    "y_test=y_test.fillna(value=\"normal\").apply(lambda x:x.strip().lower())\n",
    "y_test = y_test.replace('backdoors','backdoor', regex=True).apply(lambda x: x.strip().lower())\n",
    "y_test= labelcoding(y_test)\n",
    "y_test = pd.DataFrame(y_test,columns=['attack_cat',],)\n",
    "y_test=y_test['attack_cat']"
   ]
  },
  {
   "cell_type": "code",
   "execution_count": 12,
   "id": "1ac439fc-3797-4e7b-bcf4-f3b1f22eafad",
   "metadata": {},
   "outputs": [
    {
     "data": {
      "text/plain": [
       "array([6, 3, 5, 4, 7, 2, 0, 1, 8, 9])"
      ]
     },
     "execution_count": 12,
     "metadata": {},
     "output_type": "execute_result"
    }
   ],
   "source": [
    "y_test.unique()"
   ]
  },
  {
   "cell_type": "code",
   "execution_count": 13,
   "id": "2bcab51a-e082-4a42-b32c-af2456af85e7",
   "metadata": {},
   "outputs": [
    {
     "data": {
      "text/plain": [
       "['sttl',\n",
       " 'dttl',\n",
       " 'swin',\n",
       " 'trans_depth',\n",
       " 'res_bdy_len',\n",
       " 'stime',\n",
       " 'sintpkt',\n",
       " 'dintpkt',\n",
       " 'tcprtt',\n",
       " 'synack',\n",
       " 'ackdat',\n",
       " 'is_sm_ips_ports',\n",
       " 'ct_state_ttl',\n",
       " 'ct_flw_http_mthd',\n",
       " 'is_ftp_login',\n",
       " 'ct_ftp_cmd',\n",
       " 'ct_srv_src',\n",
       " 'ct_dst_ltm',\n",
       " 'ct_src_ltm',\n",
       " 'ct_dst_sport_ltm',\n",
       " 'dur_log1p',\n",
       " 'sbytes_log1p',\n",
       " 'dbytes_log1p',\n",
       " 'sload_log1p',\n",
       " 'dload_log1p',\n",
       " 'spkts_log1p',\n",
       " 'stcpb_log1p',\n",
       " 'dtcpb_log1p',\n",
       " 'smeansz_log1p',\n",
       " 'dmeansz_log1p',\n",
       " 'sjit_log1p',\n",
       " 'djit_log1p',\n",
       " 'network_bytes_log1p',\n",
       " 'proto_3pc',\n",
       " 'proto_a/n',\n",
       " 'proto_aes-sp3-d',\n",
       " 'proto_any',\n",
       " 'proto_argus',\n",
       " 'proto_aris',\n",
       " 'proto_arp',\n",
       " 'proto_ax.25',\n",
       " 'proto_bbn-rcc',\n",
       " 'proto_bna',\n",
       " 'proto_br-sat-mon',\n",
       " 'proto_cbt',\n",
       " 'proto_cftp',\n",
       " 'proto_chaos',\n",
       " 'proto_compaq-peer',\n",
       " 'proto_cphb',\n",
       " 'proto_cpnx',\n",
       " 'proto_crtp',\n",
       " 'proto_crudp',\n",
       " 'proto_dcn',\n",
       " 'proto_ddp',\n",
       " 'proto_ddx',\n",
       " 'proto_dgp',\n",
       " 'proto_egp',\n",
       " 'proto_eigrp',\n",
       " 'proto_emcon',\n",
       " 'proto_encap',\n",
       " 'proto_esp',\n",
       " 'proto_etherip',\n",
       " 'proto_fc',\n",
       " 'proto_fire',\n",
       " 'proto_ggp',\n",
       " 'proto_gmtp',\n",
       " 'proto_gre',\n",
       " 'proto_hmp',\n",
       " 'proto_i-nlsp',\n",
       " 'proto_iatp',\n",
       " 'proto_ib',\n",
       " 'proto_icmp',\n",
       " 'proto_idpr',\n",
       " 'proto_idpr-cmtp',\n",
       " 'proto_idrp',\n",
       " 'proto_ifmp',\n",
       " 'proto_igmp',\n",
       " 'proto_igp',\n",
       " 'proto_il',\n",
       " 'proto_ip',\n",
       " 'proto_ipcomp',\n",
       " 'proto_ipcv',\n",
       " 'proto_ipip',\n",
       " 'proto_iplt',\n",
       " 'proto_ipnip',\n",
       " 'proto_ippc',\n",
       " 'proto_ipv6',\n",
       " 'proto_ipv6-frag',\n",
       " 'proto_ipv6-no',\n",
       " 'proto_ipv6-opts',\n",
       " 'proto_ipv6-route',\n",
       " 'proto_ipx-n-ip',\n",
       " 'proto_irtp',\n",
       " 'proto_isis',\n",
       " 'proto_iso-ip',\n",
       " 'proto_iso-tp4',\n",
       " 'proto_kryptolan',\n",
       " 'proto_l2tp',\n",
       " 'proto_larp',\n",
       " 'proto_leaf-1',\n",
       " 'proto_leaf-2',\n",
       " 'proto_merit-inp',\n",
       " 'proto_mfe-nsp',\n",
       " 'proto_mhrp',\n",
       " 'proto_micp',\n",
       " 'proto_mobile',\n",
       " 'proto_mtp',\n",
       " 'proto_mux',\n",
       " 'proto_narp',\n",
       " 'proto_netblt',\n",
       " 'proto_nsfnet-igp',\n",
       " 'proto_nvp',\n",
       " 'proto_ospf',\n",
       " 'proto_pgm',\n",
       " 'proto_pim',\n",
       " 'proto_pipe',\n",
       " 'proto_pnni',\n",
       " 'proto_pri-enc',\n",
       " 'proto_prm',\n",
       " 'proto_ptp',\n",
       " 'proto_pup',\n",
       " 'proto_pvp',\n",
       " 'proto_qnx',\n",
       " 'proto_rdp',\n",
       " 'proto_rsvp',\n",
       " 'proto_rtp',\n",
       " 'proto_rvd',\n",
       " 'proto_sat-expak',\n",
       " 'proto_sat-mon',\n",
       " 'proto_sccopmce',\n",
       " 'proto_scps',\n",
       " 'proto_sctp',\n",
       " 'proto_sdrp',\n",
       " 'proto_secure-vmtp',\n",
       " 'proto_sep',\n",
       " 'proto_skip',\n",
       " 'proto_sm',\n",
       " 'proto_smp',\n",
       " 'proto_snp',\n",
       " 'proto_sprite-rpc',\n",
       " 'proto_sps',\n",
       " 'proto_srp',\n",
       " 'proto_st2',\n",
       " 'proto_stp',\n",
       " 'proto_sun-nd',\n",
       " 'proto_swipe',\n",
       " 'proto_tcf',\n",
       " 'proto_tcp',\n",
       " 'proto_tlsp',\n",
       " 'proto_tp++',\n",
       " 'proto_trunk-1',\n",
       " 'proto_trunk-2',\n",
       " 'proto_ttp',\n",
       " 'proto_udp',\n",
       " 'proto_udt',\n",
       " 'proto_unas',\n",
       " 'proto_uti',\n",
       " 'proto_vines',\n",
       " 'proto_visa',\n",
       " 'proto_vmtp',\n",
       " 'proto_vrrp',\n",
       " 'proto_wb-expak',\n",
       " 'proto_wb-mon',\n",
       " 'proto_wsn',\n",
       " 'proto_xnet',\n",
       " 'proto_xns-idp',\n",
       " 'proto_xtp',\n",
       " 'proto_zero',\n",
       " 'service_dhcp',\n",
       " 'service_dns',\n",
       " 'service_ftp',\n",
       " 'service_ftp-data',\n",
       " 'service_http',\n",
       " 'service_irc',\n",
       " 'service_none',\n",
       " 'service_pop3',\n",
       " 'service_radius',\n",
       " 'service_smtp',\n",
       " 'service_snmp',\n",
       " 'service_ssh',\n",
       " 'service_ssl',\n",
       " 'state_ACC',\n",
       " 'state_CLO',\n",
       " 'state_CON',\n",
       " 'state_ECO',\n",
       " 'state_ECR',\n",
       " 'state_FIN',\n",
       " 'state_INT',\n",
       " 'state_MAS',\n",
       " 'state_PAR',\n",
       " 'state_REQ',\n",
       " 'state_RST',\n",
       " 'state_TST',\n",
       " 'state_TXD',\n",
       " 'state_URH',\n",
       " 'state_URN',\n",
       " 'state_no']"
      ]
     },
     "execution_count": 13,
     "metadata": {},
     "output_type": "execute_result"
    }
   ],
   "source": [
    "x_train.columns.tolist()"
   ]
  },
  {
   "cell_type": "code",
   "execution_count": 14,
   "id": "0535cc6f-d186-4566-aa47-4524c712ec81",
   "metadata": {},
   "outputs": [
    {
     "data": {
      "text/plain": [
       "((1778032, 197), (1778032,))"
      ]
     },
     "execution_count": 14,
     "metadata": {},
     "output_type": "execute_result"
    }
   ],
   "source": [
    "x_train.shape, y_train.shape"
   ]
  },
  {
   "cell_type": "code",
   "execution_count": 15,
   "id": "77aa4627-9f00-466d-be0f-c432da42c48d",
   "metadata": {},
   "outputs": [
    {
     "data": {
      "text/plain": [
       "((762015, 197), (762015,))"
      ]
     },
     "execution_count": 15,
     "metadata": {},
     "output_type": "execute_result"
    }
   ],
   "source": [
    "x_test.shape, y_test.shape"
   ]
  },
  {
   "cell_type": "code",
   "execution_count": 16,
   "id": "0a95ddc1-c7a4-4d82-8a2c-8f4a8d63fd7a",
   "metadata": {},
   "outputs": [
    {
     "data": {
      "text/plain": [
       "True"
      ]
     },
     "execution_count": 16,
     "metadata": {},
     "output_type": "execute_result"
    }
   ],
   "source": [
    "all(x_train.columns == x_test.columns)"
   ]
  },
  {
   "cell_type": "code",
   "execution_count": 17,
   "id": "b079cbef-7098-4559-8983-b9e697f49739",
   "metadata": {},
   "outputs": [],
   "source": [
    "\n",
    "def encode_attack_non_attack(df):\n",
    "    #something broke, so i'm doing this, i'm tired\n",
    "    df=pd.DataFrame(df)\n",
    "    replace_values = [9, 8, 7, 5, 4, 3, 2, 1, 0]\n",
    "    new_df = df.replace(replace_values, 1).replace(6, 0)\n",
    "    return new_df\n",
    "\n",
    "\n",
    "# def calculate_far(y_true, y_pred):\n",
    "#     tn, fp, fn, tp = confusion_matrix(y_true, y_pred).ravel()\n",
    "#     far = fp / (fp + tn)\n",
    "#     return 0\n",
    "\n",
    "def false_alarm_rate(y_true, y_pred):\n",
    "    \"\"\"\n",
    "    This function will return False Alarm Rate for given true and predicted values.\n",
    "    False Alarm Rate is average of False Negetive Rate and False Positive Rate\n",
    "    \"\"\"\n",
    "    return calculate_far(y_true, y_pred)\n",
    "    y_true=encode_attack_non_attack(y_true)\n",
    "    y_pred = encode_attack_non_attack(y_pred)\n",
    "\n",
    "    c_matrix=confusion_matrix(y_true, y_pred)\n",
    "    tn, fp, fn, tp = c_matrix.ravel()\n",
    "    \n",
    "    labels= ['non-attack', 'attack']\n",
    "    plt.figure(figsize=(8, 6))  # Adjust figure size as needed\n",
    "    sns.heatmap(c_matrix, annot=True, cmap='Blues', fmt='d',xticklabels=labels, yticklabels=labels)  # Customize colors and format\n",
    "    plt.xlabel('Predicted Label')\n",
    "    plt.ylabel('True Label')\n",
    "    plt.title(f'Confusion Matrix for General Attack Detection')\n",
    "    plt.show()\n",
    "    FPR = fp / (fp + tn)  # False positive rate\n",
    "    FNR = fn / (fn + tp)  # False negetive rate\n",
    "    return (FPR+FNR)/2  # False alarm rate\n",
    "\n",
    "\n",
    "def evaluate_result(y_test, y_test_predictions, model_name):\n",
    "\n",
    "    # Training the model (assuming you already have the trained model)\n",
    "    # clf.fit(x_train, y_train)  # Remove this line if training is done elsewhere\n",
    "    \n",
    "    # Prediction on test data\n",
    "    \n",
    "    # F1 score and acc score\n",
    "    far=false_alarm_rate(y_test, y_test_predictions)\n",
    "    # test_f1 = f1_score(y_test, y_test_pred, average=None)\n",
    "    acc = accuracy_score(y_test, y_test_predictions)\n",
    "    # cm_display = metrics.ConfusionMatrixDisplay(confusion_matrix = confusion_matrix, display_labels = [0, 1])\n",
    "    \n",
    "    x = PrettyTable()\n",
    "    x.field_names = [ 'Accuracy','False Alarm Rate']\n",
    "    x.add_row([acc,far])\n",
    "    print(x)\n",
    "\n",
    "    confusion_matrix = metrics.confusion_matrix(y_test, y_test_predictions)\n",
    "\n",
    "    # Create a heatmap with clear labels and annotations\n",
    "    plt.figure(figsize=(8, 6))  # Adjust figure size as needed\n",
    "    sns.heatmap(confusion_matrix, annot=True, cmap='Blues', fmt='d')  # Customize colors and format\n",
    "    plt.xlabel('Predicted Label')\n",
    "    plt.ylabel('True Label')\n",
    "    plt.title(f'Confusion Matrix for {model_name}')\n",
    "    plt.show()\n",
    "    # cm_display.plot()\n",
    "    # plt.show()\n",
    "    \n",
    "    # Returning scores\n",
    "    return acc"
   ]
  },
  {
   "cell_type": "markdown",
   "id": "7300ddd4-3b4c-44ea-9093-74383033b776",
   "metadata": {},
   "source": [
    "## CNN"
   ]
  },
  {
   "cell_type": "code",
   "execution_count": 18,
   "id": "2f2f7cf3-1ca4-40ba-8208-8fe6823a9d6d",
   "metadata": {},
   "outputs": [],
   "source": [
    "# X_train = x_train.values.reshape(x_train.shape[0], x_train.shape[1], 1)\n",
    "# X_test = x_test.values.reshape(x_test.shape[0], x_test.shape[1], 1)"
   ]
  },
  {
   "cell_type": "code",
   "execution_count": 19,
   "id": "62458e19-b86b-45c7-ab7d-f2acfaade4af",
   "metadata": {},
   "outputs": [],
   "source": [
    "# input_shape = X_train.shape[1:]"
   ]
  },
  {
   "cell_type": "code",
   "execution_count": 20,
   "id": "fcf6d5c7-b728-4404-a844-a3b5f9fb2b4b",
   "metadata": {},
   "outputs": [
    {
     "data": {
      "text/plain": [
       "(197, 1)"
      ]
     },
     "execution_count": 20,
     "metadata": {},
     "output_type": "execute_result"
    }
   ],
   "source": [
    "# input_shape"
   ]
  },
  {
   "cell_type": "code",
   "execution_count": 21,
   "id": "387c39aa-5fc8-4314-9615-eb84b3b7e30f",
   "metadata": {},
   "outputs": [
    {
     "data": {
      "text/plain": [
       "10"
      ]
     },
     "execution_count": 21,
     "metadata": {},
     "output_type": "execute_result"
    }
   ],
   "source": [
    "# num_classes = len(np.unique(y_train))\n",
    "# num_classes"
   ]
  },
  {
   "cell_type": "code",
   "execution_count": 22,
   "id": "12a58658-4dbf-48b6-af03-94f541d2bed6",
   "metadata": {},
   "outputs": [],
   "source": [
    "# from  tensorflow.keras.utils import to_categorical \n",
    "\n",
    "# y_train = to_categorical(y_train, num_classes=num_classes)\n",
    "# y_test = to_categorical(y_test, num_classes=num_classes)"
   ]
  },
  {
   "cell_type": "code",
   "execution_count": 23,
   "id": "92b3e92d-182b-4af7-af34-21f71094b26d",
   "metadata": {},
   "outputs": [
    {
     "name": "stderr",
     "output_type": "stream",
     "text": [
      "I0000 00:00:1732190087.713883   78091 gpu_device.cc:2022] Created device /job:localhost/replica:0/task:0/device:GPU:0 with 1622 MB memory:  -> device: 0, name: NVIDIA GeForce RTX 3050 Laptop GPU, pci bus id: 0000:01:00.0, compute capability: 8.6\n"
     ]
    },
    {
     "data": {
      "text/html": [
       "<pre style=\"white-space:pre;overflow-x:auto;line-height:normal;font-family:Menlo,'DejaVu Sans Mono',consolas,'Courier New',monospace\"><span style=\"font-weight: bold\">Model: \"sequential\"</span>\n",
       "</pre>\n"
      ],
      "text/plain": [
       "\u001b[1mModel: \"sequential\"\u001b[0m\n"
      ]
     },
     "metadata": {},
     "output_type": "display_data"
    },
    {
     "data": {
      "text/html": [
       "<pre style=\"white-space:pre;overflow-x:auto;line-height:normal;font-family:Menlo,'DejaVu Sans Mono',consolas,'Courier New',monospace\">┏━━━━━━━━━━━━━━━━━━━━━━━━━━━━━━━━━┳━━━━━━━━━━━━━━━━━━━━━━━━┳━━━━━━━━━━━━━━━┓\n",
       "┃<span style=\"font-weight: bold\"> Layer (type)                    </span>┃<span style=\"font-weight: bold\"> Output Shape           </span>┃<span style=\"font-weight: bold\">       Param # </span>┃\n",
       "┡━━━━━━━━━━━━━━━━━━━━━━━━━━━━━━━━━╇━━━━━━━━━━━━━━━━━━━━━━━━╇━━━━━━━━━━━━━━━┩\n",
       "│ conv1d (<span style=\"color: #0087ff; text-decoration-color: #0087ff\">Conv1D</span>)                 │ (<span style=\"color: #00d7ff; text-decoration-color: #00d7ff\">None</span>, <span style=\"color: #00af00; text-decoration-color: #00af00\">195</span>, <span style=\"color: #00af00; text-decoration-color: #00af00\">32</span>)        │           <span style=\"color: #00af00; text-decoration-color: #00af00\">128</span> │\n",
       "├─────────────────────────────────┼────────────────────────┼───────────────┤\n",
       "│ max_pooling1d (<span style=\"color: #0087ff; text-decoration-color: #0087ff\">MaxPooling1D</span>)    │ (<span style=\"color: #00d7ff; text-decoration-color: #00d7ff\">None</span>, <span style=\"color: #00af00; text-decoration-color: #00af00\">97</span>, <span style=\"color: #00af00; text-decoration-color: #00af00\">32</span>)         │             <span style=\"color: #00af00; text-decoration-color: #00af00\">0</span> │\n",
       "├─────────────────────────────────┼────────────────────────┼───────────────┤\n",
       "│ conv1d_1 (<span style=\"color: #0087ff; text-decoration-color: #0087ff\">Conv1D</span>)               │ (<span style=\"color: #00d7ff; text-decoration-color: #00d7ff\">None</span>, <span style=\"color: #00af00; text-decoration-color: #00af00\">95</span>, <span style=\"color: #00af00; text-decoration-color: #00af00\">64</span>)         │         <span style=\"color: #00af00; text-decoration-color: #00af00\">6,208</span> │\n",
       "├─────────────────────────────────┼────────────────────────┼───────────────┤\n",
       "│ max_pooling1d_1 (<span style=\"color: #0087ff; text-decoration-color: #0087ff\">MaxPooling1D</span>)  │ (<span style=\"color: #00d7ff; text-decoration-color: #00d7ff\">None</span>, <span style=\"color: #00af00; text-decoration-color: #00af00\">47</span>, <span style=\"color: #00af00; text-decoration-color: #00af00\">64</span>)         │             <span style=\"color: #00af00; text-decoration-color: #00af00\">0</span> │\n",
       "├─────────────────────────────────┼────────────────────────┼───────────────┤\n",
       "│ conv1d_2 (<span style=\"color: #0087ff; text-decoration-color: #0087ff\">Conv1D</span>)               │ (<span style=\"color: #00d7ff; text-decoration-color: #00d7ff\">None</span>, <span style=\"color: #00af00; text-decoration-color: #00af00\">45</span>, <span style=\"color: #00af00; text-decoration-color: #00af00\">128</span>)        │        <span style=\"color: #00af00; text-decoration-color: #00af00\">24,704</span> │\n",
       "├─────────────────────────────────┼────────────────────────┼───────────────┤\n",
       "│ max_pooling1d_2 (<span style=\"color: #0087ff; text-decoration-color: #0087ff\">MaxPooling1D</span>)  │ (<span style=\"color: #00d7ff; text-decoration-color: #00d7ff\">None</span>, <span style=\"color: #00af00; text-decoration-color: #00af00\">22</span>, <span style=\"color: #00af00; text-decoration-color: #00af00\">128</span>)        │             <span style=\"color: #00af00; text-decoration-color: #00af00\">0</span> │\n",
       "├─────────────────────────────────┼────────────────────────┼───────────────┤\n",
       "│ flatten (<span style=\"color: #0087ff; text-decoration-color: #0087ff\">Flatten</span>)               │ (<span style=\"color: #00d7ff; text-decoration-color: #00d7ff\">None</span>, <span style=\"color: #00af00; text-decoration-color: #00af00\">2816</span>)           │             <span style=\"color: #00af00; text-decoration-color: #00af00\">0</span> │\n",
       "├─────────────────────────────────┼────────────────────────┼───────────────┤\n",
       "│ dense (<span style=\"color: #0087ff; text-decoration-color: #0087ff\">Dense</span>)                   │ (<span style=\"color: #00d7ff; text-decoration-color: #00d7ff\">None</span>, <span style=\"color: #00af00; text-decoration-color: #00af00\">64</span>)             │       <span style=\"color: #00af00; text-decoration-color: #00af00\">180,288</span> │\n",
       "├─────────────────────────────────┼────────────────────────┼───────────────┤\n",
       "│ dense_1 (<span style=\"color: #0087ff; text-decoration-color: #0087ff\">Dense</span>)                 │ (<span style=\"color: #00d7ff; text-decoration-color: #00d7ff\">None</span>, <span style=\"color: #00af00; text-decoration-color: #00af00\">10</span>)             │           <span style=\"color: #00af00; text-decoration-color: #00af00\">650</span> │\n",
       "└─────────────────────────────────┴────────────────────────┴───────────────┘\n",
       "</pre>\n"
      ],
      "text/plain": [
       "┏━━━━━━━━━━━━━━━━━━━━━━━━━━━━━━━━━┳━━━━━━━━━━━━━━━━━━━━━━━━┳━━━━━━━━━━━━━━━┓\n",
       "┃\u001b[1m \u001b[0m\u001b[1mLayer (type)                   \u001b[0m\u001b[1m \u001b[0m┃\u001b[1m \u001b[0m\u001b[1mOutput Shape          \u001b[0m\u001b[1m \u001b[0m┃\u001b[1m \u001b[0m\u001b[1m      Param #\u001b[0m\u001b[1m \u001b[0m┃\n",
       "┡━━━━━━━━━━━━━━━━━━━━━━━━━━━━━━━━━╇━━━━━━━━━━━━━━━━━━━━━━━━╇━━━━━━━━━━━━━━━┩\n",
       "│ conv1d (\u001b[38;5;33mConv1D\u001b[0m)                 │ (\u001b[38;5;45mNone\u001b[0m, \u001b[38;5;34m195\u001b[0m, \u001b[38;5;34m32\u001b[0m)        │           \u001b[38;5;34m128\u001b[0m │\n",
       "├─────────────────────────────────┼────────────────────────┼───────────────┤\n",
       "│ max_pooling1d (\u001b[38;5;33mMaxPooling1D\u001b[0m)    │ (\u001b[38;5;45mNone\u001b[0m, \u001b[38;5;34m97\u001b[0m, \u001b[38;5;34m32\u001b[0m)         │             \u001b[38;5;34m0\u001b[0m │\n",
       "├─────────────────────────────────┼────────────────────────┼───────────────┤\n",
       "│ conv1d_1 (\u001b[38;5;33mConv1D\u001b[0m)               │ (\u001b[38;5;45mNone\u001b[0m, \u001b[38;5;34m95\u001b[0m, \u001b[38;5;34m64\u001b[0m)         │         \u001b[38;5;34m6,208\u001b[0m │\n",
       "├─────────────────────────────────┼────────────────────────┼───────────────┤\n",
       "│ max_pooling1d_1 (\u001b[38;5;33mMaxPooling1D\u001b[0m)  │ (\u001b[38;5;45mNone\u001b[0m, \u001b[38;5;34m47\u001b[0m, \u001b[38;5;34m64\u001b[0m)         │             \u001b[38;5;34m0\u001b[0m │\n",
       "├─────────────────────────────────┼────────────────────────┼───────────────┤\n",
       "│ conv1d_2 (\u001b[38;5;33mConv1D\u001b[0m)               │ (\u001b[38;5;45mNone\u001b[0m, \u001b[38;5;34m45\u001b[0m, \u001b[38;5;34m128\u001b[0m)        │        \u001b[38;5;34m24,704\u001b[0m │\n",
       "├─────────────────────────────────┼────────────────────────┼───────────────┤\n",
       "│ max_pooling1d_2 (\u001b[38;5;33mMaxPooling1D\u001b[0m)  │ (\u001b[38;5;45mNone\u001b[0m, \u001b[38;5;34m22\u001b[0m, \u001b[38;5;34m128\u001b[0m)        │             \u001b[38;5;34m0\u001b[0m │\n",
       "├─────────────────────────────────┼────────────────────────┼───────────────┤\n",
       "│ flatten (\u001b[38;5;33mFlatten\u001b[0m)               │ (\u001b[38;5;45mNone\u001b[0m, \u001b[38;5;34m2816\u001b[0m)           │             \u001b[38;5;34m0\u001b[0m │\n",
       "├─────────────────────────────────┼────────────────────────┼───────────────┤\n",
       "│ dense (\u001b[38;5;33mDense\u001b[0m)                   │ (\u001b[38;5;45mNone\u001b[0m, \u001b[38;5;34m64\u001b[0m)             │       \u001b[38;5;34m180,288\u001b[0m │\n",
       "├─────────────────────────────────┼────────────────────────┼───────────────┤\n",
       "│ dense_1 (\u001b[38;5;33mDense\u001b[0m)                 │ (\u001b[38;5;45mNone\u001b[0m, \u001b[38;5;34m10\u001b[0m)             │           \u001b[38;5;34m650\u001b[0m │\n",
       "└─────────────────────────────────┴────────────────────────┴───────────────┘\n"
      ]
     },
     "metadata": {},
     "output_type": "display_data"
    },
    {
     "data": {
      "text/html": [
       "<pre style=\"white-space:pre;overflow-x:auto;line-height:normal;font-family:Menlo,'DejaVu Sans Mono',consolas,'Courier New',monospace\"><span style=\"font-weight: bold\"> Total params: </span><span style=\"color: #00af00; text-decoration-color: #00af00\">211,978</span> (828.04 KB)\n",
       "</pre>\n"
      ],
      "text/plain": [
       "\u001b[1m Total params: \u001b[0m\u001b[38;5;34m211,978\u001b[0m (828.04 KB)\n"
      ]
     },
     "metadata": {},
     "output_type": "display_data"
    },
    {
     "data": {
      "text/html": [
       "<pre style=\"white-space:pre;overflow-x:auto;line-height:normal;font-family:Menlo,'DejaVu Sans Mono',consolas,'Courier New',monospace\"><span style=\"font-weight: bold\"> Trainable params: </span><span style=\"color: #00af00; text-decoration-color: #00af00\">211,978</span> (828.04 KB)\n",
       "</pre>\n"
      ],
      "text/plain": [
       "\u001b[1m Trainable params: \u001b[0m\u001b[38;5;34m211,978\u001b[0m (828.04 KB)\n"
      ]
     },
     "metadata": {},
     "output_type": "display_data"
    },
    {
     "data": {
      "text/html": [
       "<pre style=\"white-space:pre;overflow-x:auto;line-height:normal;font-family:Menlo,'DejaVu Sans Mono',consolas,'Courier New',monospace\"><span style=\"font-weight: bold\"> Non-trainable params: </span><span style=\"color: #00af00; text-decoration-color: #00af00\">0</span> (0.00 B)\n",
       "</pre>\n"
      ],
      "text/plain": [
       "\u001b[1m Non-trainable params: \u001b[0m\u001b[38;5;34m0\u001b[0m (0.00 B)\n"
      ]
     },
     "metadata": {},
     "output_type": "display_data"
    }
   ],
   "source": [
    "# from tensorflow.keras.models import Sequential\n",
    "# from tensorflow.keras.layers import Conv1D, MaxPooling1D, Flatten, Dense\n",
    "\n",
    "# model = Sequential()\n",
    "# model.add(Conv1D(32, 3, activation='relu', input_shape=(input_shape)))\n",
    "# model.add(MaxPooling1D(2))\n",
    "# # model.add(Conv1D(64, 3, activation='relu', input_shape=(input_shape)))\n",
    "# # model.add(MaxPooling1D(2))\n",
    "# # model.add(Conv1D(64, 3, activation='relu', input_shape=(input_shape)))\n",
    "# # model.add(MaxPooling1D(2))\n",
    "# model.add(Conv1D(64, 3, activation='relu', input_shape=(input_shape)))\n",
    "# model.add(MaxPooling1D(2))\n",
    "# model.add(Conv1D(128, 3, activation='relu'))\n",
    "# model.add(MaxPooling1D(2))\n",
    "# model.add(Flatten())\n",
    "# model.add(Dense(64, activation='relu'))\n",
    "# model.add(Dense(num_classes, activation='softmax'))\n",
    "\n",
    "# model.summary()"
   ]
  },
  {
   "cell_type": "code",
   "execution_count": 24,
   "id": "899731e2-0a8c-43fc-882d-9a26a75f4941",
   "metadata": {},
   "outputs": [],
   "source": [
    "\n",
    "\n",
    "# from tensorflow.keras.datasets import mnist\n",
    "# from tensorflow.keras.utils import to_categorical\n",
    "# from tensorflow.keras.models import Sequential\n",
    "# from tensorflow.keras.layers import Conv1D, Input, ZeroPadding1D\n",
    "# from tensorflow.keras.layers import MaxPooling1D, Add, AveragePooling1D\n",
    "# from tensorflow.keras.layers import Dense, BatchNormalization, Activation\n",
    "# from tensorflow.keras.layers import Flatten\n",
    "# from tensorflow.keras.models import Model\n",
    "# from keras.initializers import glorot_uniform\n",
    "# import keras.backend as K\n",
    "# import tensorflow as tf\n",
    "# from tensorflow.keras.optimizers import Adam#input the model before this cell\n",
    "# #model = build_model(num_classes, input_shape=input_shape)\n",
    "# opt = Adam(learning_rate=0.001)\n",
    "# model.compile(optimizer=opt, loss= tf.keras.metrics.categorical_crossentropy, \n",
    "#                   metrics=['accuracy'])\n"
   ]
  },
  {
   "cell_type": "code",
   "execution_count": null,
   "id": "31a54a0c-8ba6-41c5-8099-b2b8b6ad1888",
   "metadata": {},
   "outputs": [
    {
     "name": "stdout",
     "output_type": "stream",
     "text": [
      "Epoch 1/5\n"
     ]
    },
    {
     "name": "stderr",
     "output_type": "stream",
     "text": [
      "WARNING: All log messages before absl::InitializeLog() is called are written to STDERR\n",
      "I0000 00:00:1732190091.654984   78218 service.cc:148] XLA service 0x7cad8c016110 initialized for platform CUDA (this does not guarantee that XLA will be used). Devices:\n",
      "I0000 00:00:1732190091.655202   78218 service.cc:156]   StreamExecutor device (0): NVIDIA GeForce RTX 3050 Laptop GPU, Compute Capability 8.6\n",
      "2024-11-21 18:54:51.734444: I tensorflow/compiler/mlir/tensorflow/utils/dump_mlir_util.cc:268] disabling MLIR crash reproducer, set env var `MLIR_CRASH_REPRODUCER_DIRECTORY` to enable.\n",
      "I0000 00:00:1732190091.908012   78218 cuda_dnn.cc:529] Loaded cuDNN version 90300\n"
     ]
    },
    {
     "name": "stdout",
     "output_type": "stream",
     "text": [
      "\u001b[1m   35/27782\u001b[0m \u001b[37m━━━━━━━━━━━━━━━━━━━━\u001b[0m \u001b[1m1:40\u001b[0m 4ms/step - accuracy: 0.8633 - loss: 1.1474"
     ]
    },
    {
     "name": "stderr",
     "output_type": "stream",
     "text": [
      "I0000 00:00:1732190094.468497   78218 device_compiler.h:188] Compiled cluster using XLA!  This line is logged at most once for the lifetime of the process.\n"
     ]
    },
    {
     "name": "stdout",
     "output_type": "stream",
     "text": [
      "\u001b[1m27782/27782\u001b[0m \u001b[32m━━━━━━━━━━━━━━━━━━━━\u001b[0m\u001b[37m\u001b[0m \u001b[1m0s\u001b[0m 3ms/step - accuracy: 0.9722 - loss: 0.0797"
     ]
    }
   ],
   "source": [
    "# from keras.callbacks import ModelCheckpoint, EarlyStopping, ReduceLROnPlateau\n",
    "# #from livelossplot import PlotLossesKeras\n",
    "\n",
    "\n",
    "# #model_weights_file_path = \"model_best_weights.h5\"\n",
    "# #checkpoint = ModelCheckpoint(filepath=model_weights_file_path, monitor=\"val_loss\", verbose=1, save_best_only=True, mode=\"min\", save_weights_only=True)\n",
    "# #checkpoint = ModelCheckpoint(filepath=model_weights_file_path, monitor=\"val_loss\", verbose=1, save_best_only=True, mode=\"min\", save_weights_only=True)\n",
    "# early_stopping = EarlyStopping(monitor=\"val_loss\", mode=\"min\", verbose=1, patience=10)\n",
    "# lr_reduce = ReduceLROnPlateau(monitor='val_loss', factor=0.5, patience=5, mode=\"min\", verbose=1, min_lr=0)\n",
    "# #plotlosses = PlotLossesKeras()\n",
    "# call_backs = [ early_stopping, lr_reduce]\n",
    "# EPOCHS = 5\n",
    "# BATCH_SIZE = 64\n",
    "# call_backs = [early_stopping, lr_reduce]\n",
    "# history = model.fit(X_train, y_train, \n",
    "#                     validation_data=(X_test, y_test),\n",
    "#                     validation_split=0.1,\n",
    "#                     epochs=EPOCHS, \n",
    "#                     batch_size=BATCH_SIZE,\n",
    "#                     callbacks=call_backs,\n",
    "#                     #class_weight=class_weights,\n",
    "#                     verbose=1)"
   ]
  },
  {
   "cell_type": "code",
   "execution_count": 30,
   "id": "8776d51c-4555-49ba-abfe-fd693e196abd",
   "metadata": {},
   "outputs": [],
   "source": [
    "# tf.keras.backend.clear_session()"
   ]
  },
  {
   "cell_type": "markdown",
   "id": "c60e0041-ad02-4ce1-8ccb-faba93064784",
   "metadata": {},
   "source": [
    "## SVM"
   ]
  },
  {
   "cell_type": "code",
   "execution_count": null,
   "id": "57e010ae-e954-48c9-b179-e275645affe9",
   "metadata": {},
   "outputs": [],
   "source": [
    "from sklearn import svm\n",
    "svm_clf = svm.SVC()\n",
    "svm_clf.fit(x_train,y_train)"
   ]
  },
  {
   "cell_type": "code",
   "execution_count": null,
   "id": "03871114-a730-4a80-b6a6-239def9d6f90",
   "metadata": {},
   "outputs": [],
   "source": [
    "svm_y_test_pred=svm_clf.predict(x_test)"
   ]
  },
  {
   "cell_type": "code",
   "execution_count": null,
   "id": "aba335a1-ed83-4896-bcc8-8980a9a01d46",
   "metadata": {},
   "outputs": [],
   "source": [
    "dt_acc =evaluate_result(y_test, svm_y_test_pred, 'SVM')"
   ]
  },
  {
   "cell_type": "markdown",
   "id": "c2142385-51a0-4c3c-a157-3c7577b7d231",
   "metadata": {},
   "source": [
    "## Decision Tree\n"
   ]
  },
  {
   "cell_type": "code",
   "execution_count": null,
   "id": "20de42e7-b8c3-430d-a985-cd2f66fe5a31",
   "metadata": {},
   "outputs": [],
   "source": [
    "dt_classifier = DecisionTreeClassifier(max_depth=10, min_samples_split=6, min_samples_leaf=9)\n",
    "dt_classifier.fit(x_train,y_train)"
   ]
  },
  {
   "cell_type": "code",
   "execution_count": null,
   "id": "a442f199-f336-41a2-83cd-981fb3f3bc8c",
   "metadata": {},
   "outputs": [],
   "source": [
    "dt_y_test_pred=dt_classifier.predict(x_test)"
   ]
  },
  {
   "cell_type": "code",
   "execution_count": null,
   "id": "3793ea14-9790-4205-a8c3-ee8ee689f31b",
   "metadata": {},
   "outputs": [],
   "source": [
    "dt_acc =evaluate_result(y_test, dt_y_test_pred, 'DT')"
   ]
  },
  {
   "cell_type": "markdown",
   "id": "e6ee784f-5fe2-4ab9-a6df-4d1dff6c7e67",
   "metadata": {},
   "source": [
    "## Logistic Regression\n"
   ]
  },
  {
   "cell_type": "code",
   "execution_count": null,
   "id": "191740f0-9d08-4304-8073-dd889bda76b0",
   "metadata": {},
   "outputs": [],
   "source": [
    "import numpy\n",
    "from sklearn import linear_model\n",
    "\n",
    "#Reshaped for Logistic function.\n",
    "# X = numpy.array([3.78, 2.44, 2.09, 0.14, 1.72, 1.65, 4.92, 4.37, 4.96, 4.52, 3.69, 5.88]).reshape(-1,1)\n",
    "# y = numpy.array([0, 0, 0, 0, 0, 0, 1, 1, 1, 1, 1, 1])\n",
    "\n",
    "logr = linear_model.LogisticRegression()\n",
    "logr.fit(x_train,y_train)\n",
    "\n",
    "#predict if tumor is cancerous where the size is 3.46mm:\n",
    "# predicted = logr.predict(numpy.array([3.46]).reshape(-1,1))\n",
    "# print(predicted) "
   ]
  },
  {
   "cell_type": "code",
   "execution_count": null,
   "id": "53a0c08d-af3f-4bc5-b5d7-d294a406440f",
   "metadata": {},
   "outputs": [],
   "source": [
    "lr_y_test_pred = logr.predict(x_test)\n",
    "lr_acc =evaluate_result(y_test, lr_y_test_pred, 'LR')"
   ]
  },
  {
   "cell_type": "code",
   "execution_count": null,
   "id": "e5542ee8-1c15-4421-ac92-00dadca2955c",
   "metadata": {},
   "outputs": [],
   "source": [
    "with open('datasets/final_UNSW-NB15/my_lr.pkl', 'wb') as f:\n",
    "    pickle.dump(logr, f)"
   ]
  },
  {
   "cell_type": "markdown",
   "id": "665f5b03-55ce-4f5d-aba8-17a47d74b93f",
   "metadata": {},
   "source": [
    "## Random Forest"
   ]
  },
  {
   "cell_type": "code",
   "execution_count": null,
   "id": "29a21734-dd99-4ec4-a8fb-2d514f80dd6b",
   "metadata": {},
   "outputs": [],
   "source": [
    "from sklearn.ensemble import RandomForestClassifier\n",
    "from sklearn.datasets import make_classification\n",
    "# X, y = make_classification(n_samples=1000, n_features=4,\n",
    "#                            n_informative=2, n_redundant=0,\n",
    "#                            random_state=0, shuffle=False)\n",
    "rf_clf = RandomForestClassifier(max_depth=22, random_state=0)\n",
    "rf_clf.fit(x_train,y_train)"
   ]
  },
  {
   "cell_type": "code",
   "execution_count": null,
   "id": "29655e17-b148-485e-a7c4-88f571341f35",
   "metadata": {},
   "outputs": [],
   "source": [
    "rf_y_test_pred=rf_clf.predict(x_test)"
   ]
  },
  {
   "cell_type": "code",
   "execution_count": null,
   "id": "55fcc7bb-4b10-4177-a4da-ab3976981f3a",
   "metadata": {},
   "outputs": [],
   "source": [
    "lr_acc =evaluate_result(y_test, rf_y_test_pred, 'RF')"
   ]
  },
  {
   "cell_type": "code",
   "execution_count": null,
   "id": "5ecb6eef-27f2-4318-8554-84dcad45ca26",
   "metadata": {},
   "outputs": [],
   "source": [
    "with open('datasets/final_UNSW-NB15/my_rf.pkl', 'wb') as f:\n",
    "    pickle.dump(rf_clf, f)"
   ]
  },
  {
   "cell_type": "markdown",
   "id": "001869e8-a7d0-44e8-8bb4-3a5a2afbb2e3",
   "metadata": {},
   "source": [
    "## XGBBoost"
   ]
  },
  {
   "cell_type": "code",
   "execution_count": null,
   "id": "fb21764a-46b3-4b2c-b312-77a1f5ada773",
   "metadata": {},
   "outputs": [],
   "source": [
    "from xgboost import XGBClassifier\n",
    "# read data\n",
    "# from sklearn.datasets import load_iris\n",
    "# from sklearn.model_selection import train_test_split\n",
    "# data = load_iris()\n",
    "# X_train, X_test, y_train, y_test = train_test_split(data['data'], data['target'], test_size=.2)\n",
    "# create model instance\n",
    "bst = XGBClassifier(n_estimators=400, max_depth=12, learning_rate=0.1, colsample_bylevel=0.5, subsample=0.1, n_jobs=-1)\n",
    "# fit model\n",
    "bst.fit(x_train, y_train)"
   ]
  },
  {
   "cell_type": "code",
   "execution_count": null,
   "id": "6aa80786-462b-4869-8a2e-86962d589618",
   "metadata": {},
   "outputs": [],
   "source": [
    "xgb_y_test_pred=bst.predict(x_test)"
   ]
  },
  {
   "cell_type": "code",
   "execution_count": null,
   "id": "e9af3c9f-0ae4-4c1b-beb6-54b6c2fc7e15",
   "metadata": {},
   "outputs": [],
   "source": [
    "xgb_acc =evaluate_result(y_test, xgb_y_test_pred, 'XGB')"
   ]
  },
  {
   "cell_type": "code",
   "execution_count": null,
   "id": "7e9883db-189c-41e0-87ee-39b6c635e4b4",
   "metadata": {},
   "outputs": [],
   "source": [
    "with open('datasets/final_UNSW-NB15/my_xgb.pkl', 'wb') as f:\n",
    "    pickle.dump(bst, f)"
   ]
  },
  {
   "cell_type": "markdown",
   "id": "0b78ebf7-ff44-46af-9398-eba3d16e33be",
   "metadata": {},
   "source": [
    "## Ensemble"
   ]
  },
  {
   "cell_type": "code",
   "execution_count": null,
   "id": "5aaf5e4b-081b-4102-84dc-e3fb7c09d26a",
   "metadata": {},
   "outputs": [],
   "source": [
    "from sklearn.ensemble import VotingClassifier\n",
    "# Initializing all the 3 classifiers with best found parameters\n",
    "dt_clf = DecisionTreeClassifier(max_depth=10, min_samples_split=6, min_samples_leaf=9)\n",
    "rf_clf = RandomForestClassifier(criterion='gini', max_depth=22, min_samples_split=6, n_estimators=300, n_jobs=-1)\n",
    "xgb_clf = xgb.XGBClassifier(n_estimators=400, max_depth=12, learning_rate=0.1, colsample_bylevel=0.5, subsample=0.1, n_jobs=-1)\n",
    "v_clf = VotingClassifier(estimators=[('lr', dt_clf), ('rf', rf_clf), ('xgb', xgb_clf)], voting='soft', n_jobs=-1)"
   ]
  },
  {
   "cell_type": "code",
   "execution_count": null,
   "id": "4d79c0cb-94f2-43fd-8b4e-2200d71aa6a8",
   "metadata": {},
   "outputs": [],
   "source": [
    "v_clf.fit(x_train, y_train)"
   ]
  },
  {
   "cell_type": "code",
   "execution_count": null,
   "id": "14d48f8c-ada7-4f3d-a1b9-aaed28c6a11c",
   "metadata": {},
   "outputs": [],
   "source": [
    "v_clf_y_test_pred=v_clf.predict(x_test)"
   ]
  },
  {
   "cell_type": "code",
   "execution_count": null,
   "id": "7eb39245-d8b6-4b45-9f75-f56d0c05f51e",
   "metadata": {},
   "outputs": [],
   "source": [
    "v_clf_acc =evaluate_result(y_test, v_clf_y_test_pred, 'Ensemble Classifier')"
   ]
  },
  {
   "cell_type": "code",
   "execution_count": null,
   "id": "1eb0dee5-eaa8-4431-9240-a699a5f7c621",
   "metadata": {},
   "outputs": [],
   "source": [
    "with open('datasets/final_UNSW-NB15/my_ensemble_clf.pkl', 'wb') as f:\n",
    "    pickle.dump(v_clf, f)"
   ]
  },
  {
   "cell_type": "code",
   "execution_count": null,
   "id": "bcddee2e-c265-4c22-b908-b9da8cf6dfc3",
   "metadata": {},
   "outputs": [],
   "source": []
  }
 ],
 "metadata": {
  "kernelspec": {
   "display_name": "Python 3 (ipykernel)",
   "language": "python",
   "name": "python3"
  },
  "language_info": {
   "codemirror_mode": {
    "name": "ipython",
    "version": 3
   },
   "file_extension": ".py",
   "mimetype": "text/x-python",
   "name": "python",
   "nbconvert_exporter": "python",
   "pygments_lexer": "ipython3",
   "version": "3.12.3"
  }
 },
 "nbformat": 4,
 "nbformat_minor": 5
}
