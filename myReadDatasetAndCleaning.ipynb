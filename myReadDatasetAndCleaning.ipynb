{
 "cells": [
  {
   "cell_type": "code",
   "execution_count": 1,
   "id": "9b7cccc4-3e0c-4b6b-8afb-c6d2e06f5aa2",
   "metadata": {},
   "outputs": [],
   "source": [
    "import numpy as np  # for array\n",
    "import pandas as pd  # for csv files and dataframe\n",
    "import matplotlib.pyplot as plt  # for plotting\n",
    "import seaborn as sns  # plotting\n",
    "from scipy import stats\n",
    "\n",
    "import pickle  # To load data int disk\n",
    "from prettytable import PrettyTable  # To print in tabular format\n",
    "\n",
    "import warnings\n",
    "warnings.filterwarnings(\"ignore\")\n",
    "\n",
    "from sklearn.preprocessing import StandardScaler\n",
    "from sklearn.preprocessing import LabelEncoder, OneHotEncoder\n",
    "\n",
    "from sklearn.model_selection import train_test_split\n",
    "from sklearn.linear_model import LogisticRegression, SGDClassifier\n",
    "from sklearn.svm import LinearSVC\n",
    "from sklearn.naive_bayes import MultinomialNB\n",
    "from sklearn.tree import DecisionTreeClassifier\n",
    "from sklearn.ensemble import RandomForestClassifier\n",
    "import xgboost as xgb\n",
    "\n",
    "from sklearn.metrics import accuracy_score, confusion_matrix, make_scorer\n",
    "from sklearn.metrics import auc, f1_score, roc_curve\n",
    "from sklearn.model_selection import GridSearchCV, RandomizedSearchCV\n",
    "from sklearn.model_selection import cross_validate, cross_val_predict\n",
    "\n",
    "%matplotlib inline"
   ]
  },
  {
   "cell_type": "code",
   "execution_count": 46,
   "id": "8dc32b20-e6c6-4a1a-85d6-e1fccf0d6095",
   "metadata": {},
   "outputs": [],
   "source": [
    "saved_info = {}"
   ]
  },
  {
   "cell_type": "code",
   "execution_count": 5,
   "id": "4b29814f-c2ec-494d-aa77-21eec9be4b75",
   "metadata": {},
   "outputs": [],
   "source": [
    "# Reading datasets\n",
    "dfs = []\n",
    "for i in range(1,5):\n",
    "    path = 'datasets/UNSW-NB15/UNSW-NB15_{}.csv'  # There are 4 input csv files\n",
    "    dfs.append(pd.read_csv(path.format(i), header = None))\n",
    "all_data = pd.concat(dfs).reset_index(drop=True)  # Concat all to a single df"
   ]
  },
  {
   "cell_type": "code",
   "execution_count": 13,
   "id": "e48e51b9-e8e3-477c-960d-fd0bea6f2990",
   "metadata": {},
   "outputs": [
    {
     "data": {
      "text/html": [
       "<div>\n",
       "<style scoped>\n",
       "    .dataframe tbody tr th:only-of-type {\n",
       "        vertical-align: middle;\n",
       "    }\n",
       "\n",
       "    .dataframe tbody tr th {\n",
       "        vertical-align: top;\n",
       "    }\n",
       "\n",
       "    .dataframe thead th {\n",
       "        text-align: right;\n",
       "    }\n",
       "</style>\n",
       "<table border=\"1\" class=\"dataframe\">\n",
       "  <thead>\n",
       "    <tr style=\"text-align: right;\">\n",
       "      <th>Name</th>\n",
       "      <th>srcip</th>\n",
       "      <th>sport</th>\n",
       "      <th>dstip</th>\n",
       "      <th>dsport</th>\n",
       "      <th>proto</th>\n",
       "      <th>state</th>\n",
       "      <th>dur</th>\n",
       "      <th>sbytes</th>\n",
       "      <th>dbytes</th>\n",
       "      <th>sttl</th>\n",
       "      <th>...</th>\n",
       "      <th>ct_ftp_cmd</th>\n",
       "      <th>ct_srv_src</th>\n",
       "      <th>ct_srv_dst</th>\n",
       "      <th>ct_dst_ltm</th>\n",
       "      <th>ct_src_ltm</th>\n",
       "      <th>ct_src_dport_ltm</th>\n",
       "      <th>ct_dst_sport_ltm</th>\n",
       "      <th>ct_dst_src_ltm</th>\n",
       "      <th>attack_cat</th>\n",
       "      <th>label</th>\n",
       "    </tr>\n",
       "  </thead>\n",
       "  <tbody>\n",
       "    <tr>\n",
       "      <th>0</th>\n",
       "      <td>59.166.0.0</td>\n",
       "      <td>1390</td>\n",
       "      <td>149.171.126.6</td>\n",
       "      <td>53</td>\n",
       "      <td>udp</td>\n",
       "      <td>CON</td>\n",
       "      <td>0.001055</td>\n",
       "      <td>132</td>\n",
       "      <td>164</td>\n",
       "      <td>31</td>\n",
       "      <td>...</td>\n",
       "      <td>0</td>\n",
       "      <td>3</td>\n",
       "      <td>7</td>\n",
       "      <td>1</td>\n",
       "      <td>3</td>\n",
       "      <td>1</td>\n",
       "      <td>1</td>\n",
       "      <td>1</td>\n",
       "      <td>NaN</td>\n",
       "      <td>0</td>\n",
       "    </tr>\n",
       "    <tr>\n",
       "      <th>1</th>\n",
       "      <td>59.166.0.0</td>\n",
       "      <td>33661</td>\n",
       "      <td>149.171.126.9</td>\n",
       "      <td>1024</td>\n",
       "      <td>udp</td>\n",
       "      <td>CON</td>\n",
       "      <td>0.036133</td>\n",
       "      <td>528</td>\n",
       "      <td>304</td>\n",
       "      <td>31</td>\n",
       "      <td>...</td>\n",
       "      <td>0</td>\n",
       "      <td>2</td>\n",
       "      <td>4</td>\n",
       "      <td>2</td>\n",
       "      <td>3</td>\n",
       "      <td>1</td>\n",
       "      <td>1</td>\n",
       "      <td>2</td>\n",
       "      <td>NaN</td>\n",
       "      <td>0</td>\n",
       "    </tr>\n",
       "    <tr>\n",
       "      <th>2</th>\n",
       "      <td>59.166.0.6</td>\n",
       "      <td>1464</td>\n",
       "      <td>149.171.126.7</td>\n",
       "      <td>53</td>\n",
       "      <td>udp</td>\n",
       "      <td>CON</td>\n",
       "      <td>0.001119</td>\n",
       "      <td>146</td>\n",
       "      <td>178</td>\n",
       "      <td>31</td>\n",
       "      <td>...</td>\n",
       "      <td>0</td>\n",
       "      <td>12</td>\n",
       "      <td>8</td>\n",
       "      <td>1</td>\n",
       "      <td>2</td>\n",
       "      <td>2</td>\n",
       "      <td>1</td>\n",
       "      <td>1</td>\n",
       "      <td>NaN</td>\n",
       "      <td>0</td>\n",
       "    </tr>\n",
       "    <tr>\n",
       "      <th>3</th>\n",
       "      <td>59.166.0.5</td>\n",
       "      <td>3593</td>\n",
       "      <td>149.171.126.5</td>\n",
       "      <td>53</td>\n",
       "      <td>udp</td>\n",
       "      <td>CON</td>\n",
       "      <td>0.001209</td>\n",
       "      <td>132</td>\n",
       "      <td>164</td>\n",
       "      <td>31</td>\n",
       "      <td>...</td>\n",
       "      <td>0</td>\n",
       "      <td>6</td>\n",
       "      <td>9</td>\n",
       "      <td>1</td>\n",
       "      <td>1</td>\n",
       "      <td>1</td>\n",
       "      <td>1</td>\n",
       "      <td>1</td>\n",
       "      <td>NaN</td>\n",
       "      <td>0</td>\n",
       "    </tr>\n",
       "    <tr>\n",
       "      <th>4</th>\n",
       "      <td>59.166.0.3</td>\n",
       "      <td>49664</td>\n",
       "      <td>149.171.126.0</td>\n",
       "      <td>53</td>\n",
       "      <td>udp</td>\n",
       "      <td>CON</td>\n",
       "      <td>0.001169</td>\n",
       "      <td>146</td>\n",
       "      <td>178</td>\n",
       "      <td>31</td>\n",
       "      <td>...</td>\n",
       "      <td>0</td>\n",
       "      <td>7</td>\n",
       "      <td>9</td>\n",
       "      <td>1</td>\n",
       "      <td>1</td>\n",
       "      <td>1</td>\n",
       "      <td>1</td>\n",
       "      <td>1</td>\n",
       "      <td>NaN</td>\n",
       "      <td>0</td>\n",
       "    </tr>\n",
       "  </tbody>\n",
       "</table>\n",
       "<p>5 rows × 49 columns</p>\n",
       "</div>"
      ],
      "text/plain": [
       "Name       srcip  sport          dstip dsport proto state       dur  sbytes  \\\n",
       "0     59.166.0.0   1390  149.171.126.6     53   udp   CON  0.001055     132   \n",
       "1     59.166.0.0  33661  149.171.126.9   1024   udp   CON  0.036133     528   \n",
       "2     59.166.0.6   1464  149.171.126.7     53   udp   CON  0.001119     146   \n",
       "3     59.166.0.5   3593  149.171.126.5     53   udp   CON  0.001209     132   \n",
       "4     59.166.0.3  49664  149.171.126.0     53   udp   CON  0.001169     146   \n",
       "\n",
       "Name  dbytes  sttl  ...  ct_ftp_cmd  ct_srv_src  ct_srv_dst ct_dst_ltm  \\\n",
       "0        164    31  ...           0           3           7          1   \n",
       "1        304    31  ...           0           2           4          2   \n",
       "2        178    31  ...           0          12           8          1   \n",
       "3        164    31  ...           0           6           9          1   \n",
       "4        178    31  ...           0           7           9          1   \n",
       "\n",
       "Name  ct_src_ltm  ct_src_dport_ltm  ct_dst_sport_ltm  ct_dst_src_ltm  \\\n",
       "0              3                 1                 1               1   \n",
       "1              3                 1                 1               2   \n",
       "2              2                 2                 1               1   \n",
       "3              1                 1                 1               1   \n",
       "4              1                 1                 1               1   \n",
       "\n",
       "Name  attack_cat  label  \n",
       "0            NaN      0  \n",
       "1            NaN      0  \n",
       "2            NaN      0  \n",
       "3            NaN      0  \n",
       "4            NaN      0  \n",
       "\n",
       "[5 rows x 49 columns]"
      ]
     },
     "execution_count": 13,
     "metadata": {},
     "output_type": "execute_result"
    }
   ],
   "source": [
    "all_data.head()"
   ]
  },
  {
   "cell_type": "code",
   "execution_count": 48,
   "id": "2a638d0f-bec0-4fed-85dd-780f7d243d49",
   "metadata": {},
   "outputs": [],
   "source": [
    "df_col = pd.read_csv('datasets/UNSW-NB15/NUSW-NB15_features.csv', encoding='ISO-8859-1')"
   ]
  },
  {
   "cell_type": "code",
   "execution_count": 49,
   "id": "7f1bff10-2aa2-4edd-8eba-ad0f2bbc2fa7",
   "metadata": {},
   "outputs": [],
   "source": [
    "df_col['Name'] = df_col['Name'].apply(lambda x: x.strip().replace(' ', '').lower())"
   ]
  },
  {
   "cell_type": "code",
   "execution_count": 9,
   "id": "c76e9e01-bb05-4145-bc11-a1209d934ff4",
   "metadata": {},
   "outputs": [],
   "source": [
    "all_data.columns=df_col['Name']"
   ]
  },
  {
   "cell_type": "code",
   "execution_count": 12,
   "id": "0013c86f-486a-4af0-9d7e-4d763900e0ef",
   "metadata": {},
   "outputs": [
    {
     "data": {
      "text/html": [
       "<div>\n",
       "<style scoped>\n",
       "    .dataframe tbody tr th:only-of-type {\n",
       "        vertical-align: middle;\n",
       "    }\n",
       "\n",
       "    .dataframe tbody tr th {\n",
       "        vertical-align: top;\n",
       "    }\n",
       "\n",
       "    .dataframe thead th {\n",
       "        text-align: right;\n",
       "    }\n",
       "</style>\n",
       "<table border=\"1\" class=\"dataframe\">\n",
       "  <thead>\n",
       "    <tr style=\"text-align: right;\">\n",
       "      <th>Name</th>\n",
       "      <th>srcip</th>\n",
       "      <th>sport</th>\n",
       "      <th>dstip</th>\n",
       "      <th>dsport</th>\n",
       "      <th>proto</th>\n",
       "      <th>state</th>\n",
       "      <th>dur</th>\n",
       "      <th>sbytes</th>\n",
       "      <th>dbytes</th>\n",
       "      <th>sttl</th>\n",
       "      <th>...</th>\n",
       "      <th>ct_ftp_cmd</th>\n",
       "      <th>ct_srv_src</th>\n",
       "      <th>ct_srv_dst</th>\n",
       "      <th>ct_dst_ltm</th>\n",
       "      <th>ct_src_ltm</th>\n",
       "      <th>ct_src_dport_ltm</th>\n",
       "      <th>ct_dst_sport_ltm</th>\n",
       "      <th>ct_dst_src_ltm</th>\n",
       "      <th>attack_cat</th>\n",
       "      <th>label</th>\n",
       "    </tr>\n",
       "  </thead>\n",
       "  <tbody>\n",
       "    <tr>\n",
       "      <th>0</th>\n",
       "      <td>59.166.0.0</td>\n",
       "      <td>1390</td>\n",
       "      <td>149.171.126.6</td>\n",
       "      <td>53</td>\n",
       "      <td>udp</td>\n",
       "      <td>CON</td>\n",
       "      <td>0.001055</td>\n",
       "      <td>132</td>\n",
       "      <td>164</td>\n",
       "      <td>31</td>\n",
       "      <td>...</td>\n",
       "      <td>0</td>\n",
       "      <td>3</td>\n",
       "      <td>7</td>\n",
       "      <td>1</td>\n",
       "      <td>3</td>\n",
       "      <td>1</td>\n",
       "      <td>1</td>\n",
       "      <td>1</td>\n",
       "      <td>NaN</td>\n",
       "      <td>0</td>\n",
       "    </tr>\n",
       "    <tr>\n",
       "      <th>1</th>\n",
       "      <td>59.166.0.0</td>\n",
       "      <td>33661</td>\n",
       "      <td>149.171.126.9</td>\n",
       "      <td>1024</td>\n",
       "      <td>udp</td>\n",
       "      <td>CON</td>\n",
       "      <td>0.036133</td>\n",
       "      <td>528</td>\n",
       "      <td>304</td>\n",
       "      <td>31</td>\n",
       "      <td>...</td>\n",
       "      <td>0</td>\n",
       "      <td>2</td>\n",
       "      <td>4</td>\n",
       "      <td>2</td>\n",
       "      <td>3</td>\n",
       "      <td>1</td>\n",
       "      <td>1</td>\n",
       "      <td>2</td>\n",
       "      <td>NaN</td>\n",
       "      <td>0</td>\n",
       "    </tr>\n",
       "    <tr>\n",
       "      <th>2</th>\n",
       "      <td>59.166.0.6</td>\n",
       "      <td>1464</td>\n",
       "      <td>149.171.126.7</td>\n",
       "      <td>53</td>\n",
       "      <td>udp</td>\n",
       "      <td>CON</td>\n",
       "      <td>0.001119</td>\n",
       "      <td>146</td>\n",
       "      <td>178</td>\n",
       "      <td>31</td>\n",
       "      <td>...</td>\n",
       "      <td>0</td>\n",
       "      <td>12</td>\n",
       "      <td>8</td>\n",
       "      <td>1</td>\n",
       "      <td>2</td>\n",
       "      <td>2</td>\n",
       "      <td>1</td>\n",
       "      <td>1</td>\n",
       "      <td>NaN</td>\n",
       "      <td>0</td>\n",
       "    </tr>\n",
       "    <tr>\n",
       "      <th>3</th>\n",
       "      <td>59.166.0.5</td>\n",
       "      <td>3593</td>\n",
       "      <td>149.171.126.5</td>\n",
       "      <td>53</td>\n",
       "      <td>udp</td>\n",
       "      <td>CON</td>\n",
       "      <td>0.001209</td>\n",
       "      <td>132</td>\n",
       "      <td>164</td>\n",
       "      <td>31</td>\n",
       "      <td>...</td>\n",
       "      <td>0</td>\n",
       "      <td>6</td>\n",
       "      <td>9</td>\n",
       "      <td>1</td>\n",
       "      <td>1</td>\n",
       "      <td>1</td>\n",
       "      <td>1</td>\n",
       "      <td>1</td>\n",
       "      <td>NaN</td>\n",
       "      <td>0</td>\n",
       "    </tr>\n",
       "    <tr>\n",
       "      <th>4</th>\n",
       "      <td>59.166.0.3</td>\n",
       "      <td>49664</td>\n",
       "      <td>149.171.126.0</td>\n",
       "      <td>53</td>\n",
       "      <td>udp</td>\n",
       "      <td>CON</td>\n",
       "      <td>0.001169</td>\n",
       "      <td>146</td>\n",
       "      <td>178</td>\n",
       "      <td>31</td>\n",
       "      <td>...</td>\n",
       "      <td>0</td>\n",
       "      <td>7</td>\n",
       "      <td>9</td>\n",
       "      <td>1</td>\n",
       "      <td>1</td>\n",
       "      <td>1</td>\n",
       "      <td>1</td>\n",
       "      <td>1</td>\n",
       "      <td>NaN</td>\n",
       "      <td>0</td>\n",
       "    </tr>\n",
       "  </tbody>\n",
       "</table>\n",
       "<p>5 rows × 49 columns</p>\n",
       "</div>"
      ],
      "text/plain": [
       "Name       srcip  sport          dstip dsport proto state       dur  sbytes  \\\n",
       "0     59.166.0.0   1390  149.171.126.6     53   udp   CON  0.001055     132   \n",
       "1     59.166.0.0  33661  149.171.126.9   1024   udp   CON  0.036133     528   \n",
       "2     59.166.0.6   1464  149.171.126.7     53   udp   CON  0.001119     146   \n",
       "3     59.166.0.5   3593  149.171.126.5     53   udp   CON  0.001209     132   \n",
       "4     59.166.0.3  49664  149.171.126.0     53   udp   CON  0.001169     146   \n",
       "\n",
       "Name  dbytes  sttl  ...  ct_ftp_cmd  ct_srv_src  ct_srv_dst ct_dst_ltm  \\\n",
       "0        164    31  ...           0           3           7          1   \n",
       "1        304    31  ...           0           2           4          2   \n",
       "2        178    31  ...           0          12           8          1   \n",
       "3        164    31  ...           0           6           9          1   \n",
       "4        178    31  ...           0           7           9          1   \n",
       "\n",
       "Name  ct_src_ltm  ct_src_dport_ltm  ct_dst_sport_ltm  ct_dst_src_ltm  \\\n",
       "0              3                 1                 1               1   \n",
       "1              3                 1                 1               2   \n",
       "2              2                 2                 1               1   \n",
       "3              1                 1                 1               1   \n",
       "4              1                 1                 1               1   \n",
       "\n",
       "Name  attack_cat  label  \n",
       "0            NaN      0  \n",
       "1            NaN      0  \n",
       "2            NaN      0  \n",
       "3            NaN      0  \n",
       "4            NaN      0  \n",
       "\n",
       "[5 rows x 49 columns]"
      ]
     },
     "execution_count": 12,
     "metadata": {},
     "output_type": "execute_result"
    }
   ],
   "source": [
    "all_data.head()"
   ]
  },
  {
   "cell_type": "code",
   "execution_count": 50,
   "id": "38316e3d-9871-4fd4-bfda-08783b00d977",
   "metadata": {},
   "outputs": [],
   "source": [
    "saved_info[\"columns\"]=df_col['Name'][df_col['Name']!='attack_cat'].tolist()"
   ]
  },
  {
   "cell_type": "code",
   "execution_count": 20,
   "id": "3012e51b-929b-471d-b1e9-4f6494089acf",
   "metadata": {},
   "outputs": [],
   "source": [
    "del df_col"
   ]
  },
  {
   "cell_type": "code",
   "execution_count": 21,
   "id": "ce93b920-94fb-4f91-866f-304cb3b67b98",
   "metadata": {},
   "outputs": [],
   "source": [
    "train,test=train_test_split(all_data,test_size=0.3,random_state=1)"
   ]
  },
  {
   "cell_type": "code",
   "execution_count": 22,
   "id": "90bd8bfd-2ec4-4bb4-86bf-d61e9ba170b6",
   "metadata": {},
   "outputs": [],
   "source": [
    "del all_data"
   ]
  },
  {
   "cell_type": "code",
   "execution_count": 23,
   "id": "86de8d44-3384-47af-8781-0892dfd34d6c",
   "metadata": {},
   "outputs": [
    {
     "name": "stdout",
     "output_type": "stream",
     "text": [
      "(1778032, 49) \n",
      " (762015, 49)\n"
     ]
    }
   ],
   "source": [
    "print(train.shape,'\\n',test.shape)"
   ]
  },
  {
   "cell_type": "code",
   "execution_count": 25,
   "id": "478c6bfe-ef42-4dfd-b859-29fffaa5e149",
   "metadata": {},
   "outputs": [
    {
     "data": {
      "text/plain": [
       "Name\n",
       "srcip                     0\n",
       "sport                     0\n",
       "dstip                     0\n",
       "dsport                    0\n",
       "proto                     0\n",
       "state                     0\n",
       "dur                       0\n",
       "sbytes                    0\n",
       "dbytes                    0\n",
       "sttl                      0\n",
       "dttl                      0\n",
       "sloss                     0\n",
       "dloss                     0\n",
       "service                   0\n",
       "sload                     0\n",
       "dload                     0\n",
       "spkts                     0\n",
       "dpkts                     0\n",
       "swin                      0\n",
       "dwin                      0\n",
       "stcpb                     0\n",
       "dtcpb                     0\n",
       "smeansz                   0\n",
       "dmeansz                   0\n",
       "trans_depth               0\n",
       "res_bdy_len               0\n",
       "sjit                      0\n",
       "djit                      0\n",
       "stime                     0\n",
       "ltime                     0\n",
       "sintpkt                   0\n",
       "dintpkt                   0\n",
       "tcprtt                    0\n",
       "synack                    0\n",
       "ackdat                    0\n",
       "is_sm_ips_ports           0\n",
       "ct_state_ttl              0\n",
       "ct_flw_http_mthd     943764\n",
       "is_ftp_login        1001030\n",
       "ct_ftp_cmd                0\n",
       "ct_srv_src                0\n",
       "ct_srv_dst                0\n",
       "ct_dst_ltm                0\n",
       "ct_src_ltm                0\n",
       "ct_src_dport_ltm          0\n",
       "ct_dst_sport_ltm          0\n",
       "ct_dst_src_ltm            0\n",
       "attack_cat          1553058\n",
       "label                     0\n",
       "dtype: int64"
      ]
     },
     "execution_count": 25,
     "metadata": {},
     "output_type": "execute_result"
    }
   ],
   "source": [
    "train.isnull().sum()"
   ]
  },
  {
   "cell_type": "code",
   "execution_count": 26,
   "id": "046aede4-f6e8-4faa-b0af-67eb3367d05b",
   "metadata": {},
   "outputs": [],
   "source": [
    "train['attack_cat'] = train.attack_cat.fillna(value='normal').apply(lambda x: x.strip().lower())"
   ]
  },
  {
   "cell_type": "code",
   "execution_count": 27,
   "id": "fce6b20c-887e-4be9-a0c4-2c4f2a7d9972",
   "metadata": {},
   "outputs": [],
   "source": [
    "train['ct_flw_http_mthd'] = train.ct_flw_http_mthd.fillna(value=0)"
   ]
  },
  {
   "cell_type": "code",
   "execution_count": 28,
   "id": "7bf56fbe-57f0-4cc0-8d7c-315b469ec9cd",
   "metadata": {},
   "outputs": [],
   "source": [
    "train['is_ftp_login'] = (train.is_ftp_login.fillna(value=0)).astype(int)"
   ]
  },
  {
   "cell_type": "code",
   "execution_count": 30,
   "id": "9d188ccb-06ab-40a9-a823-9a1b8bd45498",
   "metadata": {},
   "outputs": [
    {
     "data": {
      "text/plain": [
       "attack_cat\n",
       "normal            1553058\n",
       "generic            151011\n",
       "exploits            31182\n",
       "fuzzers             16876\n",
       "dos                 11419\n",
       "reconnaissance       9779\n",
       "analysis             1857\n",
       "backdoor             1284\n",
       "shellcode            1054\n",
       "backdoors             387\n",
       "worms                 125\n",
       "Name: count, dtype: int64"
      ]
     },
     "execution_count": 30,
     "metadata": {},
     "output_type": "execute_result"
    }
   ],
   "source": [
    "train['attack_cat'].value_counts()"
   ]
  },
  {
   "cell_type": "code",
   "execution_count": 32,
   "id": "8957b1ac-d46b-4ea4-b13c-a7573e75edc3",
   "metadata": {},
   "outputs": [
    {
     "data": {
      "text/plain": [
       "attack_cat\n",
       "normal            87.347022\n",
       "generic            8.493154\n",
       "exploits           1.753737\n",
       "fuzzers            0.949139\n",
       "dos                0.642227\n",
       "reconnaissance     0.549990\n",
       "analysis           0.104441\n",
       "backdoor           0.072215\n",
       "shellcode          0.059279\n",
       "backdoors          0.021766\n",
       "worms              0.007030\n",
       "Name: count, dtype: float64"
      ]
     },
     "execution_count": 32,
     "metadata": {},
     "output_type": "execute_result"
    }
   ],
   "source": [
    "train['attack_cat'].value_counts()/len(train)*100"
   ]
  },
  {
   "cell_type": "code",
   "execution_count": 34,
   "id": "002e6cfd-69d8-4878-b275-d841d107b8f7",
   "metadata": {},
   "outputs": [
    {
     "data": {
      "image/png": "[encoded data removed]",
      "text/plain": [
       "<Figure size 640x480 with 1 Axes>"
      ]
     },
     "metadata": {},
     "output_type": "display_data"
    }
   ],
   "source": [
    "plt.figure()\n",
    "plt.title(\"class distribution of train and test dataset\")\n",
    "train['attack_cat'].value_counts().plot(kind=\"bar\", color='b', label=\"train\")\n",
    "test['attack_cat'].value_counts().plot(kind=\"bar\", color='orange', label=\"test\")\n",
    "plt.xlabel(\"Class\")\n",
    "plt.ylabel(\"Count\")\n",
    "plt.legend()\n",
    "plt.show()"
   ]
  },
  {
   "cell_type": "code",
   "execution_count": 35,
   "id": "60f01688-a9a7-433a-85e1-689ddf9e6929",
   "metadata": {},
   "outputs": [
    {
     "data": {
      "text/plain": [
       "int64      29\n",
       "float64    11\n",
       "object      9\n",
       "Name: count, dtype: int64"
      ]
     },
     "execution_count": 35,
     "metadata": {},
     "output_type": "execute_result"
    }
   ],
   "source": [
    "train.dtypes.value_counts()"
   ]
  },
  {
   "cell_type": "code",
   "execution_count": 38,
   "id": "a38200c6-2c77-419d-8d92-d54403f4480b",
   "metadata": {},
   "outputs": [
    {
     "data": {
      "text/plain": [
       "['srcip',\n",
       " 'sport',\n",
       " 'dstip',\n",
       " 'dsport',\n",
       " 'proto',\n",
       " 'state',\n",
       " 'service',\n",
       " 'ct_ftp_cmd',\n",
       " 'attack_cat']"
      ]
     },
     "execution_count": 38,
     "metadata": {},
     "output_type": "execute_result"
    }
   ],
   "source": [
    "train.select_dtypes(include='object').columns.tolist()"
   ]
  },
  {
   "cell_type": "code",
   "execution_count": 41,
   "id": "3aa06c69-c6fb-4e5d-ad63-fac4f7243094",
   "metadata": {},
   "outputs": [
    {
     "data": {
      "text/plain": [
       "['dur',\n",
       " 'sbytes',\n",
       " 'dbytes',\n",
       " 'sttl',\n",
       " 'dttl',\n",
       " 'sloss',\n",
       " 'dloss',\n",
       " 'sload',\n",
       " 'dload',\n",
       " 'spkts',\n",
       " 'dpkts',\n",
       " 'swin',\n",
       " 'dwin',\n",
       " 'stcpb',\n",
       " 'dtcpb',\n",
       " 'smeansz',\n",
       " 'dmeansz',\n",
       " 'trans_depth',\n",
       " 'res_bdy_len',\n",
       " 'sjit',\n",
       " 'djit',\n",
       " 'stime',\n",
       " 'ltime',\n",
       " 'sintpkt',\n",
       " 'dintpkt',\n",
       " 'tcprtt',\n",
       " 'synack',\n",
       " 'ackdat',\n",
       " 'is_sm_ips_ports',\n",
       " 'ct_state_ttl',\n",
       " 'ct_flw_http_mthd',\n",
       " 'is_ftp_login',\n",
       " 'ct_ftp_cmd',\n",
       " 'ct_srv_src',\n",
       " 'ct_srv_dst',\n",
       " 'ct_dst_ltm',\n",
       " 'ct_src_ltm',\n",
       " 'ct_src_dport_ltm',\n",
       " 'ct_dst_sport_ltm',\n",
       " 'ct_dst_src_ltm',\n",
       " 'label']"
      ]
     },
     "execution_count": 41,
     "metadata": {},
     "output_type": "execute_result"
    }
   ],
   "source": [
    "train.select_dtypes(include=np.number).columns.tolist()"
   ]
  },
  {
   "cell_type": "code",
   "execution_count": 39,
   "id": "97b92d45-c78f-4219-b72b-211d9132ae3d",
   "metadata": {},
   "outputs": [],
   "source": [
    "train['ct_ftp_cmd'] = train['ct_ftp_cmd'].replace(to_replace=' ', value=0).astype(int)"
   ]
  },
  {
   "cell_type": "code",
   "execution_count": 52,
   "id": "83d923e9-4483-4ffe-b833-de62a7f26a74",
   "metadata": {},
   "outputs": [],
   "source": [
    "saved_info['binary_col'] = ['is_sm_ips_ports', 'is_ftp_login']"
   ]
  },
  {
   "cell_type": "code",
   "execution_count": 42,
   "id": "738d53db-c4c0-4342-8384-70e9b0fe3a97",
   "metadata": {},
   "outputs": [],
   "source": [
    "train['is_ftp_login'] = np.where(train['is_ftp_login']>1, 1, train['is_ftp_login'])"
   ]
  },
  {
   "cell_type": "code",
   "execution_count": 44,
   "id": "0dfb2ec6-d033-42ed-b6b8-cf4e83d026d3",
   "metadata": {},
   "outputs": [],
   "source": [
    "train['service'] = train['service'].apply(lambda x:\"none\" if x==\"-\" else x)"
   ]
  },
  {
   "cell_type": "code",
   "execution_count": 45,
   "id": "cb2da299-4c37-4569-b2e0-fe5373dcf07e",
   "metadata": {},
   "outputs": [],
   "source": [
    "train['attack_cat'] = train['attack_cat'].replace('backdoors','backdoor', regex=True).apply(lambda x: x.strip().lower())"
   ]
  },
  {
   "cell_type": "code",
   "execution_count": 53,
   "id": "625e3596-8951-4fea-bce9-8ee86752996c",
   "metadata": {},
   "outputs": [],
   "source": [
    "path=\"/home/dezs/projects/myIDS/datasets/myDataset/\"\n",
    "train.to_csv(path+'train_alldata_EDA.csv', index=False)\n",
    "test.to_csv(path+'test_alldata_EDA.csv', index=False)\n",
    "pickle.dump(saved_info, open(path+'saved_infos', 'wb'))"
   ]
  },
  {
   "cell_type": "code",
   "execution_count": null,
   "id": "0618bf92-385b-45f1-9a91-68a0fe95aacc",
   "metadata": {},
   "outputs": [],
   "source": []
  }
 ],
 "metadata": {
  "kernelspec": {
   "display_name": "Python 3 (ipykernel)",
   "language": "python",
   "name": "python3"
  },
  "language_info": {
   "codemirror_mode": {
    "name": "ipython",
    "version": 3
   },
   "file_extension": ".py",
   "mimetype": "text/x-python",
   "name": "python",
   "nbconvert_exporter": "python",
   "pygments_lexer": "ipython3",
   "version": "3.12.3"
  }
 },
 "nbformat": 4,
 "nbformat_minor": 5
}
