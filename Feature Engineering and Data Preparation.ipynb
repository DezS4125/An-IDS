{
 "cells": [
  {
   "cell_type": "markdown",
   "metadata": {
    "colab_type": "text",
    "id": "YWffoP0FqwE4"
   },
   "source": [
    "# UNSW-NB15: Feature Engineering"
   ]
  },
  {
   "cell_type": "code",
   "execution_count": 1,
   "metadata": {},
   "outputs": [],
   "source": [
    "import numpy as np  # for array\n",
    "import pandas as pd  # for csv files and dataframe\n",
    "import matplotlib.pyplot as plt  # for plotting\n",
    "import seaborn as sns  # plotting\n",
    "from scipy import stats\n",
    "\n",
    "import pickle  # To load data int disk\n",
    "from prettytable import PrettyTable  # To print in tabular format\n",
    "\n",
    "import warnings\n",
    "warnings.filterwarnings(\"ignore\")\n",
    "\n",
    "from sklearn.preprocessing import StandardScaler\n",
    "from sklearn.preprocessing import LabelEncoder, OneHotEncoder\n",
    "\n",
    "from sklearn.model_selection import train_test_split\n",
    "from sklearn.linear_model import LogisticRegression, SGDClassifier\n",
    "from sklearn.svm import LinearSVC\n",
    "from sklearn.naive_bayes import MultinomialNB\n",
    "from sklearn.tree import DecisionTreeClassifier\n",
    "from sklearn.ensemble import RandomForestClassifier\n",
    "import xgboost as xgb\n",
    "\n",
    "from sklearn.metrics import accuracy_score, confusion_matrix, make_scorer\n",
    "from sklearn.metrics import auc, f1_score, roc_curve\n",
    "from sklearn.model_selection import GridSearchCV, RandomizedSearchCV\n",
    "from sklearn.model_selection import cross_validate, cross_val_predict\n",
    "\n",
    "%matplotlib inline"
   ]
  },
  {
   "cell_type": "code",
   "execution_count": 2,
   "metadata": {
    "colab": {},
    "colab_type": "code",
    "id": "NOMATARHRcV5"
   },
   "outputs": [],
   "source": [
    "import pandas as pd\n",
    "# Loading data from disk\n",
    "train = pd.read_csv('./train_alldata_EDA.csv')\n",
    "test = pd.read_csv('./test_alldata_EDA.csv')"
   ]
  },
  {
   "cell_type": "code",
   "execution_count": 3,
   "metadata": {},
   "outputs": [
    {
     "data": {
      "text/plain": [
       "attack_cat\n",
       "normal            1552862\n",
       "generic            150906\n",
       "exploits            31507\n",
       "fuzzers             16914\n",
       "dos                 11433\n",
       "reconnaissance       9764\n",
       "analysis             1855\n",
       "backdoor             1616\n",
       "shellcode            1055\n",
       "worms                 120\n",
       "Name: count, dtype: int64"
      ]
     },
     "execution_count": 3,
     "metadata": {},
     "output_type": "execute_result"
    }
   ],
   "source": [
    "train['attack_cat'].value_counts(dropna=False)"
   ]
  },
  {
   "cell_type": "code",
   "execution_count": 4,
   "metadata": {
    "colab": {},
    "colab_type": "code",
    "id": "fIc3neXESMFG"
   },
   "outputs": [],
   "source": [
    "# Utility function\n",
    "def multi_corr(col1, col2=\"label\", df=train):\n",
    "    '''\n",
    "    This function returns correlation between 2 given features.\n",
    "    Also gives corr of the given features with \"label\" afetr applying log1p to it.\n",
    "    '''\n",
    "    corr = df[[col1, col2]].corr().iloc[0,1]\n",
    "    log_corr = df[col1].apply(np.log1p).corr(df[col2])\n",
    "\n",
    "    print(\"Correlation : {}\\nlog_Correlation: {}\".format(corr, log_corr))"
   ]
  },
  {
   "cell_type": "code",
   "execution_count": 5,
   "metadata": {
    "colab": {},
    "colab_type": "code",
    "id": "3LJoqWxGSMFK"
   },
   "outputs": [],
   "source": [
    "def corr(col1, col2=\"label\", df=train):\n",
    "    \"\"\"\n",
    "    This function returns correlation between 2 given features\n",
    "    \"\"\"\n",
    "    return df[[col1, col2]].corr().iloc[0,1]"
   ]
  },
  {
   "cell_type": "markdown",
   "metadata": {
    "colab_type": "text",
    "id": "2QWyeKKUQsz4"
   },
   "source": [
    "## Removing highly correlated features"
   ]
  },
  {
   "cell_type": "code",
   "execution_count": 6,
   "metadata": {
    "colab": {},
    "colab_type": "code",
    "id": "wloRudezQsz7"
   },
   "outputs": [],
   "source": [
    "# Selecting all the features with high correlation values with other features\n",
    "# Refer: https://chrisalbon.com/machine_learning/feature_selection/drop_highly_correlated_features/\n",
    "\n",
    "train_prep = train.select_dtypes(exclude=['object'])\n",
    "\n",
    "corr_matrix = train_prep.corr().abs()\n",
    "\n",
    "# Select upper triangle of correlation matrix\n",
    "upper = corr_matrix.where(np.triu(np.ones(corr_matrix.shape), k=1).astype(np.bool))\n",
    "\n",
    "# Find index of feature columns with correlation greater than 0.9\n",
    "to_drop = [column for column in upper.columns if any(upper[column] > 0.95)]"
   ]
  },
  {
   "cell_type": "code",
   "execution_count": 7,
   "metadata": {
    "colab": {
     "base_uri": "https://localhost:8080/",
     "height": 34
    },
    "colab_type": "code",
    "executionInfo": {
     "elapsed": 1980,
     "status": "ok",
     "timestamp": 1598254586384,
     "user": {
      "displayName": "Subrata Maji",
      "photoUrl": "https://lh3.googleusercontent.com/a-/AOh14Ghxu8VIGqB6XL51-t5wM_f1R1LdmEePYHIwb9b-=s64",
      "userId": "03124174213573157612"
     },
     "user_tz": -330
    },
    "id": "cyd3R92wQs0C",
    "outputId": "6783c75c-abb2-4120-9d13-9a76e4d8b41e"
   },
   "outputs": [
    {
     "name": "stdout",
     "output_type": "stream",
     "text": [
      "['sloss', 'dloss', 'dpkts', 'dwin', 'ltime', 'ct_srv_dst', 'ct_src_dport_ltm', 'ct_dst_src_ltm']\n"
     ]
    }
   ],
   "source": [
    "# We don't want to use these features for plotting because these are having high corr\n",
    "# And most likely have same kind of plots with already plotted feature\n",
    "print(to_drop)"
   ]
  },
  {
   "cell_type": "code",
   "execution_count": 8,
   "metadata": {
    "colab": {},
    "colab_type": "code",
    "id": "PWylTNjdQs0H"
   },
   "outputs": [
    {
     "name": "stdout",
     "output_type": "stream",
     "text": [
      "{'columns': ['srcip', 'sport', 'dstip', 'dsport', 'proto', 'state', 'dur', 'sbytes', 'dbytes', 'sttl', 'dttl', 'sloss', 'dloss', 'service', 'sload', 'dload', 'spkts', 'dpkts', 'swin', 'dwin', 'stcpb', 'dtcpb', 'smeansz', 'dmeansz', 'trans_depth', 'res_bdy_len', 'sjit', 'djit', 'stime', 'ltime', 'sintpkt', 'dintpkt', 'tcprtt', 'synack', 'ackdat', 'is_sm_ips_ports', 'ct_state_ttl', 'ct_flw_http_mthd', 'is_ftp_login', 'ct_ftp_cmd', 'ct_srv_src', 'ct_srv_dst', 'ct_dst_ltm', 'ct_src_ltm', 'ct_src_dport_ltm', 'ct_dst_sport_ltm', 'ct_dst_src_ltm', 'label'], 'binary_col': ['is_sm_ips_ports', 'is_ftp_login']}\n"
     ]
    }
   ],
   "source": [
    "import pickle\n",
    "\n",
    "# Load the saved object\n",
    "with open('./final_ipynb', 'rb') as f:\n",
    "    saved_dict = pickle.load(f)\n",
    "\n",
    "# Now you can use the loaded_dict\n",
    "print(saved_dict)\n",
    "saved_dict['corr_col'] = to_drop"
   ]
  },
  {
   "cell_type": "code",
   "execution_count": 9,
   "metadata": {},
   "outputs": [
    {
     "data": {
      "text/plain": [
       "Index(['srcip', 'sport', 'dstip', 'dsport', 'proto', 'state', 'dur', 'sbytes',\n",
       "       'dbytes', 'sttl', 'dttl', 'sloss', 'dloss', 'service', 'sload', 'dload',\n",
       "       'spkts', 'dpkts', 'swin', 'dwin', 'stcpb', 'dtcpb', 'smeansz',\n",
       "       'dmeansz', 'trans_depth', 'res_bdy_len', 'sjit', 'djit', 'stime',\n",
       "       'ltime', 'sintpkt', 'dintpkt', 'tcprtt', 'synack', 'ackdat',\n",
       "       'is_sm_ips_ports', 'ct_state_ttl', 'ct_flw_http_mthd', 'is_ftp_login',\n",
       "       'ct_ftp_cmd', 'ct_srv_src', 'ct_srv_dst', 'ct_dst_ltm', 'ct_src_ltm',\n",
       "       'ct_src_dport_ltm', 'ct_dst_sport_ltm', 'ct_dst_src_ltm', 'attack_cat',\n",
       "       'label'],\n",
       "      dtype='object')"
      ]
     },
     "execution_count": 9,
     "metadata": {},
     "output_type": "execute_result"
    }
   ],
   "source": [
    "train.columns"
   ]
  },
  {
   "cell_type": "code",
   "execution_count": 10,
   "metadata": {},
   "outputs": [
    {
     "data": {
      "text/plain": [
       "['sloss',\n",
       " 'dloss',\n",
       " 'dpkts',\n",
       " 'dwin',\n",
       " 'ltime',\n",
       " 'ct_srv_dst',\n",
       " 'ct_src_dport_ltm',\n",
       " 'ct_dst_src_ltm']"
      ]
     },
     "execution_count": 10,
     "metadata": {},
     "output_type": "execute_result"
    }
   ],
   "source": [
    "to_drop"
   ]
  },
  {
   "cell_type": "code",
   "execution_count": 11,
   "metadata": {
    "colab": {},
    "colab_type": "code",
    "id": "C0-3uVfIQs0M"
   },
   "outputs": [],
   "source": [
    "# removing the features from train and test data\n",
    "train.drop(columns=to_drop, inplace=True)"
   ]
  },
  {
   "cell_type": "code",
   "execution_count": 12,
   "metadata": {
    "colab": {
     "base_uri": "https://localhost:8080/",
     "height": 34
    },
    "colab_type": "code",
    "executionInfo": {
     "elapsed": 742,
     "status": "ok",
     "timestamp": 1598254591696,
     "user": {
      "displayName": "Subrata Maji",
      "photoUrl": "https://lh3.googleusercontent.com/a-/AOh14Ghxu8VIGqB6XL51-t5wM_f1R1LdmEePYHIwb9b-=s64",
      "userId": "03124174213573157612"
     },
     "user_tz": -330
    },
    "id": "BFYbC6urQs0Q",
    "outputId": "9d85f065-04de-4d79-d028-62272a1c9c58"
   },
   "outputs": [
    {
     "data": {
      "text/plain": [
       "((1778032, 41), (762015, 49))"
      ]
     },
     "execution_count": 12,
     "metadata": {},
     "output_type": "execute_result"
    }
   ],
   "source": [
    "train.shape, test.shape"
   ]
  },
  {
   "cell_type": "markdown",
   "metadata": {
    "colab_type": "text",
    "id": "6oqmHrbOrB16"
   },
   "source": [
    "## Adding New Features\n",
    "\n",
    "Refer: https://www.elastic.co/guide/en/ecs/master/ecs-network.html\n",
    "* Network bytes: Total bytes trasferred by the network. It is sum of 'sbytes' (Source to destination bytes) and 'dbytes' (Destination to source bytes)."
   ]
  },
  {
   "cell_type": "code",
   "execution_count": 13,
   "metadata": {
    "colab": {},
    "colab_type": "code",
    "id": "amjoXyqG0UfC"
   },
   "outputs": [],
   "source": [
    "# creating new features\n",
    "train['network_bytes'] = train['sbytes'] + train['dbytes']"
   ]
  },
  {
   "cell_type": "code",
   "execution_count": 14,
   "metadata": {
    "colab": {
     "base_uri": "https://localhost:8080/",
     "height": 34
    },
    "colab_type": "code",
    "executionInfo": {
     "elapsed": 862,
     "status": "ok",
     "timestamp": 1598254597524,
     "user": {
      "displayName": "Subrata Maji",
      "photoUrl": "https://lh3.googleusercontent.com/a-/AOh14Ghxu8VIGqB6XL51-t5wM_f1R1LdmEePYHIwb9b-=s64",
      "userId": "03124174213573157612"
     },
     "user_tz": -330
    },
    "id": "E5M8hMaLrGrw",
    "outputId": "af23a58a-56cd-4c56-ecca-9f91efbd78f4"
   },
   "outputs": [
    {
     "data": {
      "text/plain": [
       "((1778032, 42), (762015, 49))"
      ]
     },
     "execution_count": 14,
     "metadata": {},
     "output_type": "execute_result"
    }
   ],
   "source": [
    "train.shape, test.shape"
   ]
  },
  {
   "cell_type": "code",
   "execution_count": 15,
   "metadata": {
    "colab": {},
    "colab_type": "code",
    "id": "0Bht_lnc2S62"
   },
   "outputs": [],
   "source": [
    "# Dropping columns which are not useful for the classification\n",
    "# attack_cat is for multiclass classification\n",
    "# all the other columns are address related and not present in sample train data\n",
    "\n",
    "# !!changed drop attack_cat into drop label\n",
    "train.drop(['srcip', 'sport', 'dstip', 'dsport', 'label'], axis=1, inplace=True)"
   ]
  },
  {
   "cell_type": "code",
   "execution_count": 16,
   "metadata": {
    "colab": {},
    "colab_type": "code",
    "id": "qKmGyfTs_rrw"
   },
   "outputs": [],
   "source": [
    "# To use during test data transformation\n",
    "saved_dict['to_drop'] = ['srcip', 'sport', 'dstip', 'dsport', 'label']"
   ]
  },
  {
   "cell_type": "code",
   "execution_count": 17,
   "metadata": {
    "colab": {
     "base_uri": "https://localhost:8080/",
     "height": 34
    },
    "colab_type": "code",
    "executionInfo": {
     "elapsed": 1665,
     "status": "ok",
     "timestamp": 1598254605266,
     "user": {
      "displayName": "Subrata Maji",
      "photoUrl": "https://lh3.googleusercontent.com/a-/AOh14Ghxu8VIGqB6XL51-t5wM_f1R1LdmEePYHIwb9b-=s64",
      "userId": "03124174213573157612"
     },
     "user_tz": -330
    },
    "id": "1MN4vE9aQT_V",
    "outputId": "e8112a4e-173d-4862-da60-137b420bcf95"
   },
   "outputs": [
    {
     "data": {
      "text/plain": [
       "((1778032, 37), (762015, 49))"
      ]
     },
     "execution_count": 17,
     "metadata": {},
     "output_type": "execute_result"
    }
   ],
   "source": [
    "train.shape, test.shape"
   ]
  },
  {
   "cell_type": "markdown",
   "metadata": {},
   "source": [
    "----- Label Encoding attack category"
   ]
  },
  {
   "cell_type": "code",
   "execution_count": 18,
   "metadata": {},
   "outputs": [
    {
     "data": {
      "text/plain": [
       "0    normal\n",
       "1    normal\n",
       "2    normal\n",
       "3    normal\n",
       "4    normal\n",
       "Name: attack_cat, dtype: object"
      ]
     },
     "execution_count": 18,
     "metadata": {},
     "output_type": "execute_result"
    }
   ],
   "source": [
    "train['attack_cat'].head()"
   ]
  },
  {
   "cell_type": "code",
   "execution_count": 19,
   "metadata": {},
   "outputs": [],
   "source": [
    "from sklearn import preprocessing \n",
    "  \n",
    "# label_encoder object knows  \n",
    "# how to understand word labels. \n",
    "label_encoder = preprocessing.LabelEncoder() \n",
    "# lab_enc = pd.DataFrame()\n",
    "# Encode labels in column 'species'. \n",
    "train['attack_cat']= label_encoder.fit_transform(train['attack_cat']) "
   ]
  },
  {
   "cell_type": "code",
   "execution_count": 20,
   "metadata": {},
   "outputs": [
    {
     "data": {
      "text/plain": [
       "0    6\n",
       "1    6\n",
       "2    6\n",
       "3    6\n",
       "4    6\n",
       "Name: attack_cat, dtype: int64"
      ]
     },
     "execution_count": 20,
     "metadata": {},
     "output_type": "execute_result"
    }
   ],
   "source": [
    "train['attack_cat'].head()"
   ]
  },
  {
   "cell_type": "code",
   "execution_count": 21,
   "metadata": {},
   "outputs": [],
   "source": [
    "#save the label encoder\n",
    "with open('datasets/final_UNSW-NB15/label_encoder.pkl', 'wb') as f:\n",
    "    pickle.dump(label_encoder, f)"
   ]
  },
  {
   "cell_type": "code",
   "execution_count": 22,
   "metadata": {},
   "outputs": [],
   "source": [
    "#train['attack_cat']=label_encoder.inverse_transform(train['attack_cat'])\n",
    "#train['attack_cat'].head()"
   ]
  },
  {
   "cell_type": "code",
   "execution_count": 23,
   "metadata": {},
   "outputs": [
    {
     "data": {
      "text/plain": [
       "0    normal\n",
       "1    normal\n",
       "2    normal\n",
       "3    normal\n",
       "4    normal\n",
       "Name: attack_cat, dtype: object"
      ]
     },
     "execution_count": 23,
     "metadata": {},
     "output_type": "execute_result"
    }
   ],
   "source": [
    "#load the saved LabelEncoder\n",
    "with open('datasets/final_UNSW-NB15/label_encoder.pkl', 'rb') as f:\n",
    "    loaded_label_encoder = pickle.load(f)\n",
    "    \n",
    "test_label_encoder_df = pd.DataFrame()\n",
    "\n",
    "test_label_encoder_df['attack_cat'] = loaded_label_encoder.inverse_transform(train['attack_cat'])\n",
    "test_label_encoder_df['attack_cat'].head()"
   ]
  },
  {
   "cell_type": "code",
   "execution_count": null,
   "metadata": {},
   "outputs": [],
   "source": []
  },
  {
   "cell_type": "markdown",
   "metadata": {
    "colab_type": "text",
    "id": "KiifyFft0GSo"
   },
   "source": [
    "## Applying log1p on Numerical columns\n",
    "\n",
    "During EDA we found that few numerical columns shows better visualization for pdf curves if we apply log1p to the columns.\n",
    "\n",
    "So I thought to try log1p on all the columns and check the correlation value of the original column and log1p column with target column i.e. \"label\""
   ]
  },
  {
   "cell_type": "code",
   "execution_count": 24,
   "metadata": {
    "colab": {},
    "colab_type": "code",
    "id": "JjpXQ3oWrmiI"
   },
   "outputs": [],
   "source": [
    "# Getting number of unique values of all the columns\n",
    "# If the unique values are high that means it has continuous set of values\n",
    "col_unique_values = train.nunique()"
   ]
  },
  {
   "cell_type": "code",
   "execution_count": 25,
   "metadata": {
    "colab": {},
    "colab_type": "code",
    "id": "tf9pWtnWulGB"
   },
   "outputs": [],
   "source": [
    "# If the unique values are getter than some threshould than we will check its corr\n",
    "col = col_unique_values[col_unique_values>200].index"
   ]
  },
  {
   "cell_type": "code",
   "execution_count": 26,
   "metadata": {
    "colab": {
     "base_uri": "https://localhost:8080/",
     "height": 1000
    },
    "colab_type": "code",
    "executionInfo": {
     "elapsed": 3776,
     "status": "ok",
     "timestamp": 1598252740703,
     "user": {
      "displayName": "Subrata Maji",
      "photoUrl": "https://lh3.googleusercontent.com/a-/AOh14Ghxu8VIGqB6XL51-t5wM_f1R1LdmEePYHIwb9b-=s64",
      "userId": "03124174213573157612"
     },
     "user_tz": -330
    },
    "id": "NC0f9_qLwMm5",
    "outputId": "29e12135-6ac1-4a7e-caea-fd72213bbf2c"
   },
   "outputs": [
    {
     "name": "stdout",
     "output_type": "stream",
     "text": [
      "-------------dur--------------\n",
      "Correlation : -0.013519441246284594\n",
      "log_Correlation: -0.04098854103441191\n",
      "------------sbytes------------\n",
      "Correlation : -0.03845640607305405\n",
      "log_Correlation: 0.19859453649804734\n",
      "------------dbytes------------\n",
      "Correlation : 0.05098117341142439\n",
      "log_Correlation: 0.33854562205324307\n",
      "------------sload-------------\n",
      "Correlation : -0.1452123094012568\n",
      "log_Correlation: -0.1868853429287026\n",
      "------------dload-------------\n",
      "Correlation : 0.16581141304636643\n",
      "log_Correlation: 0.41108281642575945\n",
      "------------spkts-------------\n",
      "Correlation : 0.06814334845385042\n",
      "log_Correlation: 0.19606709148920856\n",
      "------------stcpb-------------\n",
      "Correlation : 0.1394512038375975\n",
      "log_Correlation: 0.18731095974617937\n",
      "------------dtcpb-------------\n",
      "Correlation : 0.1392885842189552\n",
      "log_Correlation: 0.18711348220769292\n",
      "-----------smeansz------------\n",
      "Correlation : -0.006363283150753063\n",
      "log_Correlation: 0.037845847375549066\n",
      "-----------dmeansz------------\n",
      "Correlation : 0.18151041243797844\n",
      "log_Correlation: 0.3684691087501228\n",
      "---------res_bdy_len----------\n",
      "Correlation : 0.016629150608082306\n",
      "log_Correlation: 0.026388628107637827\n",
      "-------------sjit-------------\n",
      "Correlation : -0.036321095413005086\n",
      "log_Correlation: 0.07269851692021728\n",
      "-------------djit-------------\n",
      "Correlation : 0.027556585555870063\n",
      "log_Correlation: 0.10221936218435736\n",
      "------------stime-------------\n",
      "Correlation : -0.1968868550653121\n",
      "log_Correlation: -0.19688652596917833\n",
      "-----------sintpkt------------\n",
      "Correlation : 0.01122461541816585\n",
      "log_Correlation: -0.014063959569879814\n",
      "-----------dintpkt------------\n",
      "Correlation : 0.004765938989449208\n",
      "log_Correlation: -0.0060824975915457664\n",
      "------------tcprtt------------\n",
      "Correlation : -0.1807031152471739\n",
      "log_Correlation: -0.2291376969658479\n",
      "------------synack------------\n",
      "Correlation : -0.15577345394843106\n",
      "log_Correlation: -0.19347719793250942\n",
      "------------ackdat------------\n",
      "Correlation : -0.1803028053538798\n",
      "log_Correlation: -0.2192765972192791\n",
      "--------network_bytes---------\n",
      "Correlation : 0.03520587258079701\n",
      "log_Correlation: 0.24622554027321056\n"
     ]
    }
   ],
   "source": [
    "# Checking corr value of original col and log1p applied col\n",
    "# Taking those columns whose unique values are getter than some threshould\n",
    "for column in col:\n",
    "    print(\"{:-^30}\".format(column))\n",
    "    multi_corr(column,'attack_cat')"
   ]
  },
  {
   "cell_type": "code",
   "execution_count": 27,
   "metadata": {
    "colab": {},
    "colab_type": "code",
    "id": "a0ydWVD2yQ-l"
   },
   "outputs": [],
   "source": [
    "# Will apply log1p on this columns and remove original columns\n",
    "log1p_col = ['dur', 'sbytes', 'dbytes', 'sload', 'dload', 'spkts', 'stcpb', 'dtcpb', 'smeansz', 'dmeansz', 'sjit', 'djit', 'network_bytes']"
   ]
  },
  {
   "cell_type": "code",
   "execution_count": 28,
   "metadata": {
    "colab": {},
    "colab_type": "code",
    "id": "NaP_SChj_3x_"
   },
   "outputs": [],
   "source": [
    "saved_dict['log1p_col'] = log1p_col"
   ]
  },
  {
   "cell_type": "code",
   "execution_count": 29,
   "metadata": {
    "colab": {},
    "colab_type": "code",
    "id": "ibWUIhAU_8Em"
   },
   "outputs": [],
   "source": [
    "# mode values of every features, will use to fill Null values of test\n",
    "mode_dict = train.mode().iloc[0].to_dict()"
   ]
  },
  {
   "cell_type": "code",
   "execution_count": 30,
   "metadata": {
    "colab": {},
    "colab_type": "code",
    "id": "Ck9W5AcD4nOk"
   },
   "outputs": [],
   "source": [
    "def log1p_transform(col, df=train):\n",
    "    '''\n",
    "    Apply log1p on given column.\n",
    "    Remove the original cola and keep log1p applied col\n",
    "    '''\n",
    "    new_col = col+'_log1p'\n",
    "    df[new_col] = df[col].apply(np.log1p)\n",
    "    df.drop(col, axis=1, inplace=True)"
   ]
  },
  {
   "cell_type": "code",
   "execution_count": 31,
   "metadata": {
    "colab": {},
    "colab_type": "code",
    "id": "l4JWdr225k9S"
   },
   "outputs": [],
   "source": [
    "# Transforming columns with log1p\n",
    "for col in log1p_col:\n",
    "    log1p_transform(col, df=train)"
   ]
  },
  {
   "cell_type": "code",
   "execution_count": 32,
   "metadata": {
    "colab": {
     "base_uri": "https://localhost:8080/",
     "height": 34
    },
    "colab_type": "code",
    "executionInfo": {
     "elapsed": 1270,
     "status": "ok",
     "timestamp": 1598254631197,
     "user": {
      "displayName": "Subrata Maji",
      "photoUrl": "https://lh3.googleusercontent.com/a-/AOh14Ghxu8VIGqB6XL51-t5wM_f1R1LdmEePYHIwb9b-=s64",
      "userId": "03124174213573157612"
     },
     "user_tz": -330
    },
    "id": "ZsgRqtKaSz1j",
    "outputId": "59497e73-3b4f-45e3-93f3-28a4e979384b"
   },
   "outputs": [
    {
     "data": {
      "text/plain": [
       "(1778032, 37)"
      ]
     },
     "execution_count": 32,
     "metadata": {},
     "output_type": "execute_result"
    }
   ],
   "source": [
    "train.shape"
   ]
  },
  {
   "cell_type": "code",
   "execution_count": 33,
   "metadata": {
    "colab": {
     "base_uri": "https://localhost:8080/",
     "height": 170
    },
    "colab_type": "code",
    "executionInfo": {
     "elapsed": 1467,
     "status": "ok",
     "timestamp": 1598254633748,
     "user": {
      "displayName": "Subrata Maji",
      "photoUrl": "https://lh3.googleusercontent.com/a-/AOh14Ghxu8VIGqB6XL51-t5wM_f1R1LdmEePYHIwb9b-=s64",
      "userId": "03124174213573157612"
     },
     "user_tz": -330
    },
    "id": "yrLZ3F9T5y_x",
    "outputId": "c0b56aca-287c-487c-cb7d-04e237af731f"
   },
   "outputs": [
    {
     "data": {
      "text/plain": [
       "Index(['proto', 'state', 'sttl', 'dttl', 'service', 'swin', 'trans_depth',\n",
       "       'res_bdy_len', 'stime', 'sintpkt', 'dintpkt', 'tcprtt', 'synack',\n",
       "       'ackdat', 'is_sm_ips_ports', 'ct_state_ttl', 'ct_flw_http_mthd',\n",
       "       'is_ftp_login', 'ct_ftp_cmd', 'ct_srv_src', 'ct_dst_ltm', 'ct_src_ltm',\n",
       "       'ct_dst_sport_ltm', 'attack_cat', 'dur_log1p', 'sbytes_log1p',\n",
       "       'dbytes_log1p', 'sload_log1p', 'dload_log1p', 'spkts_log1p',\n",
       "       'stcpb_log1p', 'dtcpb_log1p', 'smeansz_log1p', 'dmeansz_log1p',\n",
       "       'sjit_log1p', 'djit_log1p', 'network_bytes_log1p'],\n",
       "      dtype='object')"
      ]
     },
     "execution_count": 33,
     "metadata": {},
     "output_type": "execute_result"
    }
   ],
   "source": [
    "train.columns"
   ]
  },
  {
   "cell_type": "code",
   "execution_count": 34,
   "metadata": {
    "colab": {
     "base_uri": "https://localhost:8080/",
     "height": 34
    },
    "colab_type": "code",
    "executionInfo": {
     "elapsed": 2037,
     "status": "ok",
     "timestamp": 1598254639075,
     "user": {
      "displayName": "Subrata Maji",
      "photoUrl": "https://lh3.googleusercontent.com/a-/AOh14Ghxu8VIGqB6XL51-t5wM_f1R1LdmEePYHIwb9b-=s64",
      "userId": "03124174213573157612"
     },
     "user_tz": -330
    },
    "id": "QXO4fhjU58gH",
    "outputId": "42a284f7-3dd3-4fcf-c970-7835ff6ce68a"
   },
   "outputs": [
    {
     "data": {
      "text/plain": [
       "((1778032, 37), (762015, 49))"
      ]
     },
     "execution_count": 34,
     "metadata": {},
     "output_type": "execute_result"
    }
   ],
   "source": [
    "train.shape, test.shape"
   ]
  },
  {
   "cell_type": "code",
   "execution_count": 35,
   "metadata": {
    "colab": {},
    "colab_type": "code",
    "id": "5YvVxlBS6Anw"
   },
   "outputs": [],
   "source": [
    "# creating x and y set from the dataset\n",
    "x_train, y_train = train.drop(columns=['attack_cat']), train['attack_cat']\n",
    "x_test, y_test = test.drop(columns=['attack_cat']), test['attack_cat']"
   ]
  },
  {
   "cell_type": "code",
   "execution_count": 36,
   "metadata": {
    "colab": {
     "base_uri": "https://localhost:8080/",
     "height": 68
    },
    "colab_type": "code",
    "executionInfo": {
     "elapsed": 996,
     "status": "ok",
     "timestamp": 1598252886305,
     "user": {
      "displayName": "Subrata Maji",
      "photoUrl": "https://lh3.googleusercontent.com/a-/AOh14Ghxu8VIGqB6XL51-t5wM_f1R1LdmEePYHIwb9b-=s64",
      "userId": "03124174213573157612"
     },
     "user_tz": -330
    },
    "id": "_rcY9ebK6USH",
    "outputId": "57848477-e19f-411a-fd58-83a1820d4724"
   },
   "outputs": [
    {
     "name": "stdout",
     "output_type": "stream",
     "text": [
      "(1778032, 36) (1778032,)\n",
      "\n",
      "(762015, 48) (762015,)\n"
     ]
    }
   ],
   "source": [
    "print(x_train.shape, y_train.shape)\n",
    "print()\n",
    "print(x_test.shape, y_test.shape)"
   ]
  },
  {
   "cell_type": "code",
   "execution_count": 37,
   "metadata": {},
   "outputs": [
    {
     "data": {
      "text/plain": [
       "Index(['srcip', 'sport', 'dstip', 'dsport', 'proto', 'state', 'dur', 'sbytes',\n",
       "       'dbytes', 'sttl', 'dttl', 'sloss', 'dloss', 'service', 'sload', 'dload',\n",
       "       'spkts', 'dpkts', 'swin', 'dwin', 'stcpb', 'dtcpb', 'smeansz',\n",
       "       'dmeansz', 'trans_depth', 'res_bdy_len', 'sjit', 'djit', 'stime',\n",
       "       'ltime', 'sintpkt', 'dintpkt', 'tcprtt', 'synack', 'ackdat',\n",
       "       'is_sm_ips_ports', 'ct_state_ttl', 'ct_flw_http_mthd', 'is_ftp_login',\n",
       "       'ct_ftp_cmd', 'ct_srv_src', 'ct_srv_dst', 'ct_dst_ltm', 'ct_src_ltm',\n",
       "       'ct_src_dport_ltm', 'ct_dst_sport_ltm', 'ct_dst_src_ltm', 'label'],\n",
       "      dtype='object')"
      ]
     },
     "execution_count": 37,
     "metadata": {},
     "output_type": "execute_result"
    }
   ],
   "source": [
    "x_test.columns"
   ]
  },
  {
   "cell_type": "code",
   "execution_count": 38,
   "metadata": {},
   "outputs": [
    {
     "data": {
      "text/html": [
       "<div>\n",
       "<style scoped>\n",
       "    .dataframe tbody tr th:only-of-type {\n",
       "        vertical-align: middle;\n",
       "    }\n",
       "\n",
       "    .dataframe tbody tr th {\n",
       "        vertical-align: top;\n",
       "    }\n",
       "\n",
       "    .dataframe thead th {\n",
       "        text-align: right;\n",
       "    }\n",
       "</style>\n",
       "<table border=\"1\" class=\"dataframe\">\n",
       "  <thead>\n",
       "    <tr style=\"text-align: right;\">\n",
       "      <th></th>\n",
       "      <th>srcip</th>\n",
       "      <th>sport</th>\n",
       "      <th>dstip</th>\n",
       "      <th>dsport</th>\n",
       "      <th>proto</th>\n",
       "      <th>state</th>\n",
       "      <th>dur</th>\n",
       "      <th>sbytes</th>\n",
       "      <th>dbytes</th>\n",
       "      <th>sttl</th>\n",
       "      <th>...</th>\n",
       "      <th>ct_ftp_cmd</th>\n",
       "      <th>ct_srv_src</th>\n",
       "      <th>ct_srv_dst</th>\n",
       "      <th>ct_dst_ltm</th>\n",
       "      <th>ct_src_ltm</th>\n",
       "      <th>ct_src_dport_ltm</th>\n",
       "      <th>ct_dst_sport_ltm</th>\n",
       "      <th>ct_dst_src_ltm</th>\n",
       "      <th>attack_cat</th>\n",
       "      <th>label</th>\n",
       "    </tr>\n",
       "  </thead>\n",
       "  <tbody>\n",
       "    <tr>\n",
       "      <th>0</th>\n",
       "      <td>59.166.0.3</td>\n",
       "      <td>42878</td>\n",
       "      <td>149.171.126.5</td>\n",
       "      <td>53</td>\n",
       "      <td>udp</td>\n",
       "      <td>CON</td>\n",
       "      <td>0.001037</td>\n",
       "      <td>146</td>\n",
       "      <td>178</td>\n",
       "      <td>31</td>\n",
       "      <td>...</td>\n",
       "      <td>0</td>\n",
       "      <td>2</td>\n",
       "      <td>2</td>\n",
       "      <td>2</td>\n",
       "      <td>3</td>\n",
       "      <td>1</td>\n",
       "      <td>1</td>\n",
       "      <td>1</td>\n",
       "      <td>NaN</td>\n",
       "      <td>0</td>\n",
       "    </tr>\n",
       "    <tr>\n",
       "      <th>1</th>\n",
       "      <td>59.166.0.6</td>\n",
       "      <td>26948</td>\n",
       "      <td>149.171.126.7</td>\n",
       "      <td>53</td>\n",
       "      <td>udp</td>\n",
       "      <td>CON</td>\n",
       "      <td>0.001008</td>\n",
       "      <td>146</td>\n",
       "      <td>178</td>\n",
       "      <td>31</td>\n",
       "      <td>...</td>\n",
       "      <td>0</td>\n",
       "      <td>5</td>\n",
       "      <td>2</td>\n",
       "      <td>6</td>\n",
       "      <td>3</td>\n",
       "      <td>1</td>\n",
       "      <td>1</td>\n",
       "      <td>1</td>\n",
       "      <td>NaN</td>\n",
       "      <td>0</td>\n",
       "    </tr>\n",
       "    <tr>\n",
       "      <th>2</th>\n",
       "      <td>149.171.126.18</td>\n",
       "      <td>47439</td>\n",
       "      <td>175.45.176.3</td>\n",
       "      <td>53</td>\n",
       "      <td>udp</td>\n",
       "      <td>INT</td>\n",
       "      <td>0.000009</td>\n",
       "      <td>264</td>\n",
       "      <td>0</td>\n",
       "      <td>60</td>\n",
       "      <td>...</td>\n",
       "      <td></td>\n",
       "      <td>31</td>\n",
       "      <td>31</td>\n",
       "      <td>25</td>\n",
       "      <td>25</td>\n",
       "      <td>25</td>\n",
       "      <td>25</td>\n",
       "      <td>31</td>\n",
       "      <td>NaN</td>\n",
       "      <td>0</td>\n",
       "    </tr>\n",
       "    <tr>\n",
       "      <th>3</th>\n",
       "      <td>59.166.0.5</td>\n",
       "      <td>10707</td>\n",
       "      <td>149.171.126.7</td>\n",
       "      <td>39181</td>\n",
       "      <td>tcp</td>\n",
       "      <td>FIN</td>\n",
       "      <td>0.005121</td>\n",
       "      <td>3920</td>\n",
       "      <td>2456</td>\n",
       "      <td>31</td>\n",
       "      <td>...</td>\n",
       "      <td>0</td>\n",
       "      <td>7</td>\n",
       "      <td>9</td>\n",
       "      <td>6</td>\n",
       "      <td>6</td>\n",
       "      <td>1</td>\n",
       "      <td>1</td>\n",
       "      <td>4</td>\n",
       "      <td>NaN</td>\n",
       "      <td>0</td>\n",
       "    </tr>\n",
       "    <tr>\n",
       "      <th>4</th>\n",
       "      <td>59.166.0.8</td>\n",
       "      <td>16847</td>\n",
       "      <td>149.171.126.5</td>\n",
       "      <td>53</td>\n",
       "      <td>udp</td>\n",
       "      <td>CON</td>\n",
       "      <td>0.001134</td>\n",
       "      <td>146</td>\n",
       "      <td>178</td>\n",
       "      <td>31</td>\n",
       "      <td>...</td>\n",
       "      <td></td>\n",
       "      <td>3</td>\n",
       "      <td>3</td>\n",
       "      <td>1</td>\n",
       "      <td>2</td>\n",
       "      <td>1</td>\n",
       "      <td>1</td>\n",
       "      <td>2</td>\n",
       "      <td>NaN</td>\n",
       "      <td>0</td>\n",
       "    </tr>\n",
       "    <tr>\n",
       "      <th>...</th>\n",
       "      <td>...</td>\n",
       "      <td>...</td>\n",
       "      <td>...</td>\n",
       "      <td>...</td>\n",
       "      <td>...</td>\n",
       "      <td>...</td>\n",
       "      <td>...</td>\n",
       "      <td>...</td>\n",
       "      <td>...</td>\n",
       "      <td>...</td>\n",
       "      <td>...</td>\n",
       "      <td>...</td>\n",
       "      <td>...</td>\n",
       "      <td>...</td>\n",
       "      <td>...</td>\n",
       "      <td>...</td>\n",
       "      <td>...</td>\n",
       "      <td>...</td>\n",
       "      <td>...</td>\n",
       "      <td>...</td>\n",
       "      <td>...</td>\n",
       "    </tr>\n",
       "    <tr>\n",
       "      <th>762010</th>\n",
       "      <td>149.171.126.18</td>\n",
       "      <td>47439</td>\n",
       "      <td>175.45.176.1</td>\n",
       "      <td>53</td>\n",
       "      <td>udp</td>\n",
       "      <td>INT</td>\n",
       "      <td>0.000002</td>\n",
       "      <td>264</td>\n",
       "      <td>0</td>\n",
       "      <td>60</td>\n",
       "      <td>...</td>\n",
       "      <td></td>\n",
       "      <td>24</td>\n",
       "      <td>24</td>\n",
       "      <td>6</td>\n",
       "      <td>6</td>\n",
       "      <td>6</td>\n",
       "      <td>6</td>\n",
       "      <td>24</td>\n",
       "      <td>NaN</td>\n",
       "      <td>0</td>\n",
       "    </tr>\n",
       "    <tr>\n",
       "      <th>762011</th>\n",
       "      <td>59.166.0.3</td>\n",
       "      <td>39778</td>\n",
       "      <td>149.171.126.1</td>\n",
       "      <td>63666</td>\n",
       "      <td>tcp</td>\n",
       "      <td>FIN</td>\n",
       "      <td>0.222460</td>\n",
       "      <td>8928</td>\n",
       "      <td>320</td>\n",
       "      <td>31</td>\n",
       "      <td>...</td>\n",
       "      <td></td>\n",
       "      <td>1</td>\n",
       "      <td>1</td>\n",
       "      <td>1</td>\n",
       "      <td>3</td>\n",
       "      <td>1</td>\n",
       "      <td>1</td>\n",
       "      <td>1</td>\n",
       "      <td>NaN</td>\n",
       "      <td>0</td>\n",
       "    </tr>\n",
       "    <tr>\n",
       "      <th>762012</th>\n",
       "      <td>59.166.0.8</td>\n",
       "      <td>14032</td>\n",
       "      <td>149.171.126.8</td>\n",
       "      <td>21</td>\n",
       "      <td>tcp</td>\n",
       "      <td>FIN</td>\n",
       "      <td>1.060533</td>\n",
       "      <td>2934</td>\n",
       "      <td>3742</td>\n",
       "      <td>31</td>\n",
       "      <td>...</td>\n",
       "      <td>1</td>\n",
       "      <td>1</td>\n",
       "      <td>1</td>\n",
       "      <td>4</td>\n",
       "      <td>2</td>\n",
       "      <td>1</td>\n",
       "      <td>1</td>\n",
       "      <td>5</td>\n",
       "      <td>NaN</td>\n",
       "      <td>0</td>\n",
       "    </tr>\n",
       "    <tr>\n",
       "      <th>762013</th>\n",
       "      <td>175.45.176.1</td>\n",
       "      <td>47439</td>\n",
       "      <td>149.171.126.18</td>\n",
       "      <td>53</td>\n",
       "      <td>udp</td>\n",
       "      <td>INT</td>\n",
       "      <td>0.000004</td>\n",
       "      <td>114</td>\n",
       "      <td>0</td>\n",
       "      <td>254</td>\n",
       "      <td>...</td>\n",
       "      <td></td>\n",
       "      <td>44</td>\n",
       "      <td>44</td>\n",
       "      <td>44</td>\n",
       "      <td>44</td>\n",
       "      <td>44</td>\n",
       "      <td>20</td>\n",
       "      <td>44</td>\n",
       "      <td>Generic</td>\n",
       "      <td>1</td>\n",
       "    </tr>\n",
       "    <tr>\n",
       "      <th>762014</th>\n",
       "      <td>59.166.0.1</td>\n",
       "      <td>62510</td>\n",
       "      <td>149.171.126.1</td>\n",
       "      <td>80</td>\n",
       "      <td>tcp</td>\n",
       "      <td>FIN</td>\n",
       "      <td>1.082983</td>\n",
       "      <td>1684</td>\n",
       "      <td>10168</td>\n",
       "      <td>31</td>\n",
       "      <td>...</td>\n",
       "      <td></td>\n",
       "      <td>2</td>\n",
       "      <td>1</td>\n",
       "      <td>5</td>\n",
       "      <td>8</td>\n",
       "      <td>2</td>\n",
       "      <td>1</td>\n",
       "      <td>3</td>\n",
       "      <td>NaN</td>\n",
       "      <td>0</td>\n",
       "    </tr>\n",
       "  </tbody>\n",
       "</table>\n",
       "<p>762015 rows × 49 columns</p>\n",
       "</div>"
      ],
      "text/plain": [
       "                 srcip  sport           dstip dsport proto state       dur  \\\n",
       "0           59.166.0.3  42878   149.171.126.5     53   udp   CON  0.001037   \n",
       "1           59.166.0.6  26948   149.171.126.7     53   udp   CON  0.001008   \n",
       "2       149.171.126.18  47439    175.45.176.3     53   udp   INT  0.000009   \n",
       "3           59.166.0.5  10707   149.171.126.7  39181   tcp   FIN  0.005121   \n",
       "4           59.166.0.8  16847   149.171.126.5     53   udp   CON  0.001134   \n",
       "...                ...    ...             ...    ...   ...   ...       ...   \n",
       "762010  149.171.126.18  47439    175.45.176.1     53   udp   INT  0.000002   \n",
       "762011      59.166.0.3  39778   149.171.126.1  63666   tcp   FIN  0.222460   \n",
       "762012      59.166.0.8  14032   149.171.126.8     21   tcp   FIN  1.060533   \n",
       "762013    175.45.176.1  47439  149.171.126.18     53   udp   INT  0.000004   \n",
       "762014      59.166.0.1  62510   149.171.126.1     80   tcp   FIN  1.082983   \n",
       "\n",
       "        sbytes  dbytes  sttl  ...  ct_ftp_cmd  ct_srv_src  ct_srv_dst  \\\n",
       "0          146     178    31  ...           0           2           2   \n",
       "1          146     178    31  ...           0           5           2   \n",
       "2          264       0    60  ...                      31          31   \n",
       "3         3920    2456    31  ...           0           7           9   \n",
       "4          146     178    31  ...                       3           3   \n",
       "...        ...     ...   ...  ...         ...         ...         ...   \n",
       "762010     264       0    60  ...                      24          24   \n",
       "762011    8928     320    31  ...                       1           1   \n",
       "762012    2934    3742    31  ...           1           1           1   \n",
       "762013     114       0   254  ...                      44          44   \n",
       "762014    1684   10168    31  ...                       2           1   \n",
       "\n",
       "       ct_dst_ltm  ct_src_ltm  ct_src_dport_ltm  ct_dst_sport_ltm  \\\n",
       "0               2           3                 1                 1   \n",
       "1               6           3                 1                 1   \n",
       "2              25          25                25                25   \n",
       "3               6           6                 1                 1   \n",
       "4               1           2                 1                 1   \n",
       "...           ...         ...               ...               ...   \n",
       "762010          6           6                 6                 6   \n",
       "762011          1           3                 1                 1   \n",
       "762012          4           2                 1                 1   \n",
       "762013         44          44                44                20   \n",
       "762014          5           8                 2                 1   \n",
       "\n",
       "        ct_dst_src_ltm  attack_cat  label  \n",
       "0                    1         NaN      0  \n",
       "1                    1         NaN      0  \n",
       "2                   31         NaN      0  \n",
       "3                    4         NaN      0  \n",
       "4                    2         NaN      0  \n",
       "...                ...         ...    ...  \n",
       "762010              24         NaN      0  \n",
       "762011               1         NaN      0  \n",
       "762012               5         NaN      0  \n",
       "762013              44     Generic      1  \n",
       "762014               3         NaN      0  \n",
       "\n",
       "[762015 rows x 49 columns]"
      ]
     },
     "execution_count": 38,
     "metadata": {},
     "output_type": "execute_result"
    }
   ],
   "source": [
    "test"
   ]
  },
  {
   "cell_type": "code",
   "execution_count": 39,
   "metadata": {
    "colab": {},
    "colab_type": "code",
    "id": "wFEVBjtU72ad"
   },
   "outputs": [],
   "source": [
    "# Saving all the files to disk to use later\n",
    "pickle.dump((x_train, y_train), open('datasets/final_UNSW-NB15/final_train.pkl', 'wb'))\n",
    "pickle.dump((x_test, y_test), open('datasets/final_UNSW-NB15/final_test.pkl', 'wb'))"
   ]
  },
  {
   "cell_type": "code",
   "execution_count": 40,
   "metadata": {
    "colab": {},
    "colab_type": "code",
    "id": "vXxUr-le6YNY"
   },
   "outputs": [],
   "source": [
    "# getting categorical and numerical columns in 2 diff lists\n",
    "cat_col = ['proto', 'service', 'state']\n",
    "num_col = list(set(x_train.columns) - set(cat_col))"
   ]
  },
  {
   "cell_type": "code",
   "execution_count": 41,
   "metadata": {
    "colab": {},
    "colab_type": "code",
    "id": "rvGoI5IMAO1N"
   },
   "outputs": [],
   "source": [
    "# To use later, during test data cleaning\n",
    "saved_dict['cat_col'] = cat_col\n",
    "saved_dict['num_col'] = num_col"
   ]
  },
  {
   "cell_type": "code",
   "execution_count": 42,
   "metadata": {
    "colab": {
     "base_uri": "https://localhost:8080/",
     "height": 224
    },
    "colab_type": "code",
    "executionInfo": {
     "elapsed": 738,
     "status": "ok",
     "timestamp": 1598252897213,
     "user": {
      "displayName": "Subrata Maji",
      "photoUrl": "https://lh3.googleusercontent.com/a-/AOh14Ghxu8VIGqB6XL51-t5wM_f1R1LdmEePYHIwb9b-=s64",
      "userId": "03124174213573157612"
     },
     "user_tz": -330
    },
    "id": "-QcxEKUz6kOj",
    "outputId": "c4781242-72ec-4990-cc29-3eeed91a7ef4"
   },
   "outputs": [
    {
     "data": {
      "text/html": [
       "<div>\n",
       "<style scoped>\n",
       "    .dataframe tbody tr th:only-of-type {\n",
       "        vertical-align: middle;\n",
       "    }\n",
       "\n",
       "    .dataframe tbody tr th {\n",
       "        vertical-align: top;\n",
       "    }\n",
       "\n",
       "    .dataframe thead th {\n",
       "        text-align: right;\n",
       "    }\n",
       "</style>\n",
       "<table border=\"1\" class=\"dataframe\">\n",
       "  <thead>\n",
       "    <tr style=\"text-align: right;\">\n",
       "      <th></th>\n",
       "      <th>proto</th>\n",
       "      <th>state</th>\n",
       "      <th>sttl</th>\n",
       "      <th>dttl</th>\n",
       "      <th>service</th>\n",
       "      <th>swin</th>\n",
       "      <th>trans_depth</th>\n",
       "      <th>res_bdy_len</th>\n",
       "      <th>stime</th>\n",
       "      <th>sintpkt</th>\n",
       "      <th>...</th>\n",
       "      <th>sload_log1p</th>\n",
       "      <th>dload_log1p</th>\n",
       "      <th>spkts_log1p</th>\n",
       "      <th>stcpb_log1p</th>\n",
       "      <th>dtcpb_log1p</th>\n",
       "      <th>smeansz_log1p</th>\n",
       "      <th>dmeansz_log1p</th>\n",
       "      <th>sjit_log1p</th>\n",
       "      <th>djit_log1p</th>\n",
       "      <th>network_bytes_log1p</th>\n",
       "    </tr>\n",
       "  </thead>\n",
       "  <tbody>\n",
       "    <tr>\n",
       "      <th>0</th>\n",
       "      <td>udp</td>\n",
       "      <td>INT</td>\n",
       "      <td>254</td>\n",
       "      <td>0</td>\n",
       "      <td>none</td>\n",
       "      <td>0</td>\n",
       "      <td>0</td>\n",
       "      <td>0</td>\n",
       "      <td>1421930643</td>\n",
       "      <td>33.479000</td>\n",
       "      <td>...</td>\n",
       "      <td>9.275600</td>\n",
       "      <td>0.000000</td>\n",
       "      <td>1.609438</td>\n",
       "      <td>0.000000</td>\n",
       "      <td>0.000000</td>\n",
       "      <td>3.828641</td>\n",
       "      <td>0.000000</td>\n",
       "      <td>3.878042</td>\n",
       "      <td>0.000000</td>\n",
       "      <td>5.187386</td>\n",
       "    </tr>\n",
       "    <tr>\n",
       "      <th>1</th>\n",
       "      <td>udp</td>\n",
       "      <td>INT</td>\n",
       "      <td>60</td>\n",
       "      <td>0</td>\n",
       "      <td>dns</td>\n",
       "      <td>0</td>\n",
       "      <td>0</td>\n",
       "      <td>0</td>\n",
       "      <td>1424246229</td>\n",
       "      <td>0.008000</td>\n",
       "      <td>...</td>\n",
       "      <td>18.698312</td>\n",
       "      <td>0.000000</td>\n",
       "      <td>1.098612</td>\n",
       "      <td>0.000000</td>\n",
       "      <td>0.000000</td>\n",
       "      <td>4.890349</td>\n",
       "      <td>0.000000</td>\n",
       "      <td>0.000000</td>\n",
       "      <td>0.000000</td>\n",
       "      <td>5.579730</td>\n",
       "    </tr>\n",
       "    <tr>\n",
       "      <th>2</th>\n",
       "      <td>tcp</td>\n",
       "      <td>FIN</td>\n",
       "      <td>31</td>\n",
       "      <td>29</td>\n",
       "      <td>none</td>\n",
       "      <td>255</td>\n",
       "      <td>0</td>\n",
       "      <td>0</td>\n",
       "      <td>1421948071</td>\n",
       "      <td>0.372205</td>\n",
       "      <td>...</td>\n",
       "      <td>14.105347</td>\n",
       "      <td>16.314201</td>\n",
       "      <td>3.713572</td>\n",
       "      <td>20.196135</td>\n",
       "      <td>21.733479</td>\n",
       "      <td>4.174387</td>\n",
       "      <td>6.313548</td>\n",
       "      <td>0.000000</td>\n",
       "      <td>3.012070</td>\n",
       "      <td>10.152883</td>\n",
       "    </tr>\n",
       "    <tr>\n",
       "      <th>3</th>\n",
       "      <td>tcp</td>\n",
       "      <td>FIN</td>\n",
       "      <td>31</td>\n",
       "      <td>29</td>\n",
       "      <td>ftp</td>\n",
       "      <td>255</td>\n",
       "      <td>0</td>\n",
       "      <td>0</td>\n",
       "      <td>1421971944</td>\n",
       "      <td>16.144740</td>\n",
       "      <td>...</td>\n",
       "      <td>10.258074</td>\n",
       "      <td>10.501435</td>\n",
       "      <td>3.970292</td>\n",
       "      <td>21.803017</td>\n",
       "      <td>20.494420</td>\n",
       "      <td>4.043051</td>\n",
       "      <td>4.248495</td>\n",
       "      <td>7.264606</td>\n",
       "      <td>3.984562</td>\n",
       "      <td>8.806124</td>\n",
       "    </tr>\n",
       "    <tr>\n",
       "      <th>4</th>\n",
       "      <td>tcp</td>\n",
       "      <td>FIN</td>\n",
       "      <td>31</td>\n",
       "      <td>29</td>\n",
       "      <td>none</td>\n",
       "      <td>255</td>\n",
       "      <td>0</td>\n",
       "      <td>0</td>\n",
       "      <td>1421963050</td>\n",
       "      <td>1.218800</td>\n",
       "      <td>...</td>\n",
       "      <td>13.339317</td>\n",
       "      <td>13.412088</td>\n",
       "      <td>2.833213</td>\n",
       "      <td>20.673269</td>\n",
       "      <td>21.855078</td>\n",
       "      <td>4.574711</td>\n",
       "      <td>4.521789</td>\n",
       "      <td>4.309533</td>\n",
       "      <td>1.138118</td>\n",
       "      <td>8.066208</td>\n",
       "    </tr>\n",
       "  </tbody>\n",
       "</table>\n",
       "<p>5 rows × 36 columns</p>\n",
       "</div>"
      ],
      "text/plain": [
       "  proto state  sttl  dttl service  swin  trans_depth  res_bdy_len       stime  \\\n",
       "0   udp   INT   254     0    none     0            0            0  1421930643   \n",
       "1   udp   INT    60     0     dns     0            0            0  1424246229   \n",
       "2   tcp   FIN    31    29    none   255            0            0  1421948071   \n",
       "3   tcp   FIN    31    29     ftp   255            0            0  1421971944   \n",
       "4   tcp   FIN    31    29    none   255            0            0  1421963050   \n",
       "\n",
       "     sintpkt  ...  sload_log1p  dload_log1p  spkts_log1p  stcpb_log1p  \\\n",
       "0  33.479000  ...     9.275600     0.000000     1.609438     0.000000   \n",
       "1   0.008000  ...    18.698312     0.000000     1.098612     0.000000   \n",
       "2   0.372205  ...    14.105347    16.314201     3.713572    20.196135   \n",
       "3  16.144740  ...    10.258074    10.501435     3.970292    21.803017   \n",
       "4   1.218800  ...    13.339317    13.412088     2.833213    20.673269   \n",
       "\n",
       "   dtcpb_log1p  smeansz_log1p  dmeansz_log1p  sjit_log1p  djit_log1p  \\\n",
       "0     0.000000       3.828641       0.000000    3.878042    0.000000   \n",
       "1     0.000000       4.890349       0.000000    0.000000    0.000000   \n",
       "2    21.733479       4.174387       6.313548    0.000000    3.012070   \n",
       "3    20.494420       4.043051       4.248495    7.264606    3.984562   \n",
       "4    21.855078       4.574711       4.521789    4.309533    1.138118   \n",
       "\n",
       "   network_bytes_log1p  \n",
       "0             5.187386  \n",
       "1             5.579730  \n",
       "2            10.152883  \n",
       "3             8.806124  \n",
       "4             8.066208  \n",
       "\n",
       "[5 rows x 36 columns]"
      ]
     },
     "execution_count": 42,
     "metadata": {},
     "output_type": "execute_result"
    }
   ],
   "source": [
    "x_train.head()"
   ]
  },
  {
   "cell_type": "markdown",
   "metadata": {
    "colab_type": "text",
    "id": "OPugBJCJ4M2t"
   },
   "source": [
    "## Standardizing\n",
    "    \n",
    "As we have seen that the range of few features in this dataset is very large. So we will keep everything within certain range by applying standardscaler. After this all the features will have mean 0 and std 1"
   ]
  },
  {
   "cell_type": "code",
   "execution_count": 43,
   "metadata": {
    "colab": {},
    "colab_type": "code",
    "id": "zahQPu3dAZyJ"
   },
   "outputs": [],
   "source": [
    "# Standardizing the data\n",
    "scaler = StandardScaler()\n",
    "scaler = scaler.fit(x_train[num_col])"
   ]
  },
  {
   "cell_type": "code",
   "execution_count": 44,
   "metadata": {
    "colab": {},
    "colab_type": "code",
    "id": "0ERzXoVGAhNY"
   },
   "outputs": [],
   "source": [
    "x_train[num_col] = scaler.transform(x_train[num_col])"
   ]
  },
  {
   "cell_type": "code",
   "execution_count": 45,
   "metadata": {
    "colab": {
     "base_uri": "https://localhost:8080/",
     "height": 224
    },
    "colab_type": "code",
    "executionInfo": {
     "elapsed": 1325,
     "status": "ok",
     "timestamp": 1598254679362,
     "user": {
      "displayName": "Subrata Maji",
      "photoUrl": "https://lh3.googleusercontent.com/a-/AOh14Ghxu8VIGqB6XL51-t5wM_f1R1LdmEePYHIwb9b-=s64",
      "userId": "03124174213573157612"
     },
     "user_tz": -330
    },
    "id": "bqrHkb0H7OXm",
    "outputId": "e14875d6-0293-4a88-bbe4-2c7b51db78f5"
   },
   "outputs": [
    {
     "data": {
      "text/plain": [
       "0    6\n",
       "1    6\n",
       "2    6\n",
       "3    6\n",
       "4    6\n",
       "Name: attack_cat, dtype: int64"
      ]
     },
     "execution_count": 45,
     "metadata": {},
     "output_type": "execute_result"
    }
   ],
   "source": [
    "y_train.head()"
   ]
  },
  {
   "cell_type": "raw",
   "metadata": {},
   "source": [
    "CHECKPOINT SAVE!!!!"
   ]
  },
  {
   "cell_type": "markdown",
   "metadata": {
    "colab_type": "text",
    "id": "-9sQ48qZ4ktf"
   },
   "source": [
    "## Onehot Encoding\n",
    "\n",
    "In our dataset we have few categorical columns with text data.\n",
    "But ML models can't process text data it can process numbers.\n",
    "\n",
    "So we have to convert categorical columns to numerical columns in some way.\n",
    "We will use onehotencoder where we will assign 1 if the value is present for the row and rest of the columns will be 0."
   ]
  },
  {
   "cell_type": "code",
   "execution_count": 46,
   "metadata": {
    "colab": {},
    "colab_type": "code",
    "id": "Esez2EkUlZ3o"
   },
   "outputs": [],
   "source": [
    "# Onehot Encoding\n",
    "service_ = OneHotEncoder()\n",
    "proto_ = OneHotEncoder()\n",
    "state_ = OneHotEncoder()\n",
    "ohe_service = service_.fit(x_train.service.values.reshape(-1,1))\n",
    "ohe_proto = proto_.fit(x_train.proto.values.reshape(-1,1))\n",
    "ohe_state = state_.fit(x_train.state.values.reshape(-1,1))"
   ]
  },
  {
   "cell_type": "code",
   "execution_count": 47,
   "metadata": {},
   "outputs": [
    {
     "data": {
      "text/plain": [
       "array(['none', 'dns', 'ftp', 'smtp', 'http', 'ftp-data', 'ssh', 'ssl',\n",
       "       'pop3', 'dhcp', 'irc', 'snmp', 'radius'], dtype=object)"
      ]
     },
     "execution_count": 47,
     "metadata": {},
     "output_type": "execute_result"
    }
   ],
   "source": [
    "x_train.service.unique()"
   ]
  },
  {
   "cell_type": "code",
   "execution_count": 48,
   "metadata": {
    "colab": {},
    "colab_type": "code",
    "id": "GUc8MixOBcb_"
   },
   "outputs": [],
   "source": [
    "# We are onehot encoding the given column\n",
    "# Remove the original categorical column\n",
    "for col, ohe in zip(['proto', 'service', 'state'], [ohe_proto, ohe_service, ohe_state]):\n",
    "    x = ohe.transform(x_train[col].values.reshape(-1,1))\n",
    "    tmp_df = pd.DataFrame(x.todense(), columns=[col+'_'+str(i) for i in ohe.categories_[0]])\n",
    "    x_train = pd.concat([x_train.drop(col, axis=1), tmp_df], axis=1)"
   ]
  },
  {
   "cell_type": "code",
   "execution_count": 49,
   "metadata": {
    "colab": {
     "base_uri": "https://localhost:8080/",
     "height": 270
    },
    "colab_type": "code",
    "executionInfo": {
     "elapsed": 1512,
     "status": "ok",
     "timestamp": 1598254771621,
     "user": {
      "displayName": "Subrata Maji",
      "photoUrl": "https://lh3.googleusercontent.com/a-/AOh14Ghxu8VIGqB6XL51-t5wM_f1R1LdmEePYHIwb9b-=s64",
      "userId": "03124174213573157612"
     },
     "user_tz": -330
    },
    "id": "DO192yJJmbJs",
    "outputId": "0380cc6a-1b35-45ab-bee0-a98a4514107e"
   },
   "outputs": [
    {
     "data": {
      "text/html": [
       "<div>\n",
       "<style scoped>\n",
       "    .dataframe tbody tr th:only-of-type {\n",
       "        vertical-align: middle;\n",
       "    }\n",
       "\n",
       "    .dataframe tbody tr th {\n",
       "        vertical-align: top;\n",
       "    }\n",
       "\n",
       "    .dataframe thead th {\n",
       "        text-align: right;\n",
       "    }\n",
       "</style>\n",
       "<table border=\"1\" class=\"dataframe\">\n",
       "  <thead>\n",
       "    <tr style=\"text-align: right;\">\n",
       "      <th></th>\n",
       "      <th>sttl</th>\n",
       "      <th>dttl</th>\n",
       "      <th>swin</th>\n",
       "      <th>trans_depth</th>\n",
       "      <th>res_bdy_len</th>\n",
       "      <th>stime</th>\n",
       "      <th>sintpkt</th>\n",
       "      <th>dintpkt</th>\n",
       "      <th>tcprtt</th>\n",
       "      <th>synack</th>\n",
       "      <th>...</th>\n",
       "      <th>state_INT</th>\n",
       "      <th>state_MAS</th>\n",
       "      <th>state_PAR</th>\n",
       "      <th>state_REQ</th>\n",
       "      <th>state_RST</th>\n",
       "      <th>state_TST</th>\n",
       "      <th>state_TXD</th>\n",
       "      <th>state_URH</th>\n",
       "      <th>state_URN</th>\n",
       "      <th>state_no</th>\n",
       "    </tr>\n",
       "  </thead>\n",
       "  <tbody>\n",
       "    <tr>\n",
       "      <th>0</th>\n",
       "      <td>2.561444</td>\n",
       "      <td>-0.717760</td>\n",
       "      <td>-1.196045</td>\n",
       "      <td>-0.225343</td>\n",
       "      <td>-0.089113</td>\n",
       "      <td>-1.172764</td>\n",
       "      <td>-0.057567</td>\n",
       "      <td>-0.055099</td>\n",
       "      <td>-0.136439</td>\n",
       "      <td>-0.128893</td>\n",
       "      <td>...</td>\n",
       "      <td>1.0</td>\n",
       "      <td>0.0</td>\n",
       "      <td>0.0</td>\n",
       "      <td>0.0</td>\n",
       "      <td>0.0</td>\n",
       "      <td>0.0</td>\n",
       "      <td>0.0</td>\n",
       "      <td>0.0</td>\n",
       "      <td>0.0</td>\n",
       "      <td>0.0</td>\n",
       "    </tr>\n",
       "    <tr>\n",
       "      <th>1</th>\n",
       "      <td>-0.037542</td>\n",
       "      <td>-0.717760</td>\n",
       "      <td>-1.196045</td>\n",
       "      <td>-0.225343</td>\n",
       "      <td>-0.089113</td>\n",
       "      <td>0.868469</td>\n",
       "      <td>-0.069616</td>\n",
       "      <td>-0.055099</td>\n",
       "      <td>-0.136439</td>\n",
       "      <td>-0.128893</td>\n",
       "      <td>...</td>\n",
       "      <td>1.0</td>\n",
       "      <td>0.0</td>\n",
       "      <td>0.0</td>\n",
       "      <td>0.0</td>\n",
       "      <td>0.0</td>\n",
       "      <td>0.0</td>\n",
       "      <td>0.0</td>\n",
       "      <td>0.0</td>\n",
       "      <td>0.0</td>\n",
       "      <td>0.0</td>\n",
       "    </tr>\n",
       "    <tr>\n",
       "      <th>2</th>\n",
       "      <td>-0.426051</td>\n",
       "      <td>-0.041365</td>\n",
       "      <td>0.836096</td>\n",
       "      <td>-0.225343</td>\n",
       "      <td>-0.089113</td>\n",
       "      <td>-1.157401</td>\n",
       "      <td>-0.069485</td>\n",
       "      <td>-0.054857</td>\n",
       "      <td>-0.121383</td>\n",
       "      <td>-0.107394</td>\n",
       "      <td>...</td>\n",
       "      <td>0.0</td>\n",
       "      <td>0.0</td>\n",
       "      <td>0.0</td>\n",
       "      <td>0.0</td>\n",
       "      <td>0.0</td>\n",
       "      <td>0.0</td>\n",
       "      <td>0.0</td>\n",
       "      <td>0.0</td>\n",
       "      <td>0.0</td>\n",
       "      <td>0.0</td>\n",
       "    </tr>\n",
       "    <tr>\n",
       "      <th>3</th>\n",
       "      <td>-0.426051</td>\n",
       "      <td>-0.041365</td>\n",
       "      <td>0.836096</td>\n",
       "      <td>-0.225343</td>\n",
       "      <td>-0.089113</td>\n",
       "      <td>-1.136357</td>\n",
       "      <td>-0.063807</td>\n",
       "      <td>-0.044512</td>\n",
       "      <td>-0.120830</td>\n",
       "      <td>-0.107159</td>\n",
       "      <td>...</td>\n",
       "      <td>0.0</td>\n",
       "      <td>0.0</td>\n",
       "      <td>0.0</td>\n",
       "      <td>0.0</td>\n",
       "      <td>0.0</td>\n",
       "      <td>0.0</td>\n",
       "      <td>0.0</td>\n",
       "      <td>0.0</td>\n",
       "      <td>0.0</td>\n",
       "      <td>0.0</td>\n",
       "    </tr>\n",
       "    <tr>\n",
       "      <th>4</th>\n",
       "      <td>-0.426051</td>\n",
       "      <td>-0.041365</td>\n",
       "      <td>0.836096</td>\n",
       "      <td>-0.225343</td>\n",
       "      <td>-0.089113</td>\n",
       "      <td>-1.144197</td>\n",
       "      <td>-0.069180</td>\n",
       "      <td>-0.054358</td>\n",
       "      <td>-0.123351</td>\n",
       "      <td>-0.110421</td>\n",
       "      <td>...</td>\n",
       "      <td>0.0</td>\n",
       "      <td>0.0</td>\n",
       "      <td>0.0</td>\n",
       "      <td>0.0</td>\n",
       "      <td>0.0</td>\n",
       "      <td>0.0</td>\n",
       "      <td>0.0</td>\n",
       "      <td>0.0</td>\n",
       "      <td>0.0</td>\n",
       "      <td>0.0</td>\n",
       "    </tr>\n",
       "  </tbody>\n",
       "</table>\n",
       "<p>5 rows × 197 columns</p>\n",
       "</div>"
      ],
      "text/plain": [
       "       sttl      dttl      swin  trans_depth  res_bdy_len     stime   sintpkt  \\\n",
       "0  2.561444 -0.717760 -1.196045    -0.225343    -0.089113 -1.172764 -0.057567   \n",
       "1 -0.037542 -0.717760 -1.196045    -0.225343    -0.089113  0.868469 -0.069616   \n",
       "2 -0.426051 -0.041365  0.836096    -0.225343    -0.089113 -1.157401 -0.069485   \n",
       "3 -0.426051 -0.041365  0.836096    -0.225343    -0.089113 -1.136357 -0.063807   \n",
       "4 -0.426051 -0.041365  0.836096    -0.225343    -0.089113 -1.144197 -0.069180   \n",
       "\n",
       "    dintpkt    tcprtt    synack  ...  state_INT  state_MAS  state_PAR  \\\n",
       "0 -0.055099 -0.136439 -0.128893  ...        1.0        0.0        0.0   \n",
       "1 -0.055099 -0.136439 -0.128893  ...        1.0        0.0        0.0   \n",
       "2 -0.054857 -0.121383 -0.107394  ...        0.0        0.0        0.0   \n",
       "3 -0.044512 -0.120830 -0.107159  ...        0.0        0.0        0.0   \n",
       "4 -0.054358 -0.123351 -0.110421  ...        0.0        0.0        0.0   \n",
       "\n",
       "   state_REQ  state_RST  state_TST  state_TXD  state_URH  state_URN  state_no  \n",
       "0        0.0        0.0        0.0        0.0        0.0        0.0       0.0  \n",
       "1        0.0        0.0        0.0        0.0        0.0        0.0       0.0  \n",
       "2        0.0        0.0        0.0        0.0        0.0        0.0       0.0  \n",
       "3        0.0        0.0        0.0        0.0        0.0        0.0       0.0  \n",
       "4        0.0        0.0        0.0        0.0        0.0        0.0       0.0  \n",
       "\n",
       "[5 rows x 197 columns]"
      ]
     },
     "execution_count": 49,
     "metadata": {},
     "output_type": "execute_result"
    }
   ],
   "source": [
    "x_train.head()"
   ]
  },
  {
   "cell_type": "markdown",
   "metadata": {
    "colab_type": "text",
    "id": "HB0cKgK1cISu"
   },
   "source": [
    "Saving all the important parameters and objects to disk so that we can apply same process on test data"
   ]
  },
  {
   "cell_type": "code",
   "execution_count": 50,
   "metadata": {
    "colab": {},
    "colab_type": "code",
    "id": "d1joGxiQVUPT"
   },
   "outputs": [],
   "source": [
    "file_path = 'datasets/final_UNSW-NB15/'"
   ]
  },
  {
   "cell_type": "code",
   "execution_count": 51,
   "metadata": {
    "colab": {},
    "colab_type": "code",
    "id": "b_FpdYpQErot"
   },
   "outputs": [],
   "source": [
    "pickle.dump(scaler, open(file_path+'scaler.pkl', 'wb'))  # Standard scaler\n",
    "pickle.dump(saved_dict, open(file_path+'saved_dict.pkl', 'wb'))  # Dictionary with important parameters\n",
    "pickle.dump(mode_dict, open(file_path+'mode_dict.pkl', 'wb'))  #  Dictionary with most frequent values of columns"
   ]
  },
  {
   "cell_type": "code",
   "execution_count": 52,
   "metadata": {
    "colab": {},
    "colab_type": "code",
    "id": "T_Z5UekVFksJ"
   },
   "outputs": [],
   "source": [
    "# Onehot encoder for categorical columns\n",
    "pickle.dump(ohe_proto, open(file_path+'ohe_proto.pkl', 'wb'))\n",
    "pickle.dump(ohe_service, open(file_path+'ohe_service.pkl', 'wb'))\n",
    "pickle.dump(ohe_state, open(file_path+'ohe_state.pkl', 'wb'))"
   ]
  },
  {
   "cell_type": "code",
   "execution_count": 53,
   "metadata": {
    "colab": {},
    "colab_type": "code",
    "id": "B_-6QrZdGtEK"
   },
   "outputs": [],
   "source": [
    "# Cleaned and processed train data\n",
    "pickle.dump((x_train, y_train), open(file_path+'final_train.pkl', 'wb'))"
   ]
  },
  {
   "cell_type": "markdown",
   "metadata": {
    "colab_type": "text",
    "id": "aN2r_OMDYEXw"
   },
   "source": [
    "## Pipeline functions"
   ]
  },
  {
   "cell_type": "markdown",
   "metadata": {
    "colab_type": "text",
    "id": "3GAn5_uXJTEd"
   },
   "source": [
    "We have to prepare a pipeline, where we can send raw data and get the output.\n",
    "\n",
    "We will use test data to implement the pipeline. Here we will use all the parameters we have saved using train data.\n",
    "\n",
    "Also standardize and onehot encode test data using train data objects for standardscaler and onehotencoder."
   ]
  },
  {
   "cell_type": "code",
   "execution_count": 54,
   "metadata": {
    "colab": {},
    "colab_type": "code",
    "id": "mbdSvaKIOpuL"
   },
   "outputs": [],
   "source": [
    "def clean_data(data):\n",
    "    '''\n",
    "    Cleans given raw data. Performs various cleaning, removes Null and wrong values.\n",
    "    Check for columns datatype and fix them.\n",
    "    '''\n",
    "    numerical_col = data.select_dtypes(include=np.number).columns  # All the numerical columns list\n",
    "    categorical_col = data.select_dtypes(exclude=np.number).columns  # All the categorical columns list\n",
    "    \n",
    "    # Cleaning the data\n",
    "    for col in data.columns:\n",
    "        val = mode_dict[col]  # Mode value of the column in train data\n",
    "        data[col] = data[col].fillna(value=val)\n",
    "        data[col] = data[col].replace(' ', value=val)\n",
    "        data[col] = data[col].apply(lambda x:\"none\" if x==\"-\" else x)\n",
    "\n",
    "        # Fixing binary columns\n",
    "        if col in saved_dict['binary_col']:\n",
    "            data[col] = np.where(data[col]>1, val, data[col])\n",
    "\n",
    "    # Fixing datatype of columns\n",
    "    bad_dtypes = list(set(categorical_col) - set(saved_dict['cat_col']))\n",
    "    for bad_col in bad_dtypes:\n",
    "        data[col] = data[col].astype(float)\n",
    "    \n",
    "    return data"
   ]
  },
  {
   "cell_type": "code",
   "execution_count": 55,
   "metadata": {
    "colab": {},
    "colab_type": "code",
    "id": "_JN24bR5Vlqb"
   },
   "outputs": [],
   "source": [
    "def apply_log1p(data):\n",
    "    '''\n",
    "    Performs FE on the data. Apply log1p on the specified columns create new column and remove those original columns.\n",
    "    '''\n",
    "    for col in saved_dict['log1p_col']:\n",
    "        new_col = col + '_log1p'  # New col name\n",
    "        data[new_col] = data[col].apply(np.log1p)  # Creating new column on transformed data\n",
    "        data.drop(col, axis=1, inplace=True)  # Removing old columns\n",
    "    return data"
   ]
  },
  {
   "cell_type": "code",
   "execution_count": 56,
   "metadata": {
    "colab": {},
    "colab_type": "code",
    "id": "uaJlj78XWGFA"
   },
   "outputs": [],
   "source": [
    "def standardize(data):\n",
    "    '''\n",
    "    Stanardize the given data. Performs mean centering and varience scaling.\n",
    "    Using stanardscaler object trained on train data.\n",
    "    '''\n",
    "    data[saved_dict['num_col']] = scaler.transform(data[saved_dict['num_col']])\n",
    "    return data"
   ]
  },
  {
   "cell_type": "code",
   "execution_count": 57,
   "metadata": {
    "colab": {},
    "colab_type": "code",
    "id": "sWl6pGluquBP"
   },
   "outputs": [],
   "source": [
    "def ohencoding(data):\n",
    "    '''\n",
    "    Onehot encoding the categoricla columns.\n",
    "    Add the ohe columns with the data and removes categorical columns.\n",
    "    Using Onehotencoder objects trained on train data.\n",
    "    '''\n",
    "\n",
    "    # Onehot encoding cat col using onehotencoder objects\n",
    "    X = ohe_service.transform(data['service'].values.reshape(-1, 1))\n",
    "    Xm = ohe_proto.transform(data['proto'].values.reshape(-1, 1))\n",
    "    Xmm = ohe_state.transform(data['state'].values.reshape(-1, 1))\n",
    "    \n",
    "    # Adding encoding data to original data\n",
    "    data = pd.concat([data,\n",
    "                      pd.DataFrame(Xm.toarray(), columns=['proto_'+i for i in ohe_proto.categories_[0]]),\n",
    "                      pd.DataFrame(X.toarray(), columns=['service_'+i for i in ohe_service.categories_[0]]),\n",
    "                      pd.DataFrame(Xmm.toarray(), columns=['state_'+i for i in ohe_state.categories_[0]])],\n",
    "                      axis=1)\n",
    "    \n",
    "    # Removing cat columns\n",
    "    data.drop(['proto', 'service', 'state'], axis=1, inplace=True)\n",
    "\n",
    "    return data"
   ]
  },
  {
   "cell_type": "markdown",
   "metadata": {
    "colab_type": "text",
    "id": "wzxR_OnQcika"
   },
   "source": [
    "Loading all the objects from disk, that we have trained on train data."
   ]
  },
  {
   "cell_type": "code",
   "execution_count": 58,
   "metadata": {
    "colab": {},
    "colab_type": "code",
    "id": "nbVyiM21Hj2F"
   },
   "outputs": [],
   "source": [
    "# Parametrs\n",
    "saved_dict = pickle.load(open(file_path+'saved_dict.pkl', 'rb'))\n",
    "# Mode value of all the columns\n",
    "mode_dict = pickle.load(open(file_path+'mode_dict.pkl', 'rb'))\n",
    "# Stanardscaler object\n",
    "scaler = pickle.load(open(file_path+'scaler.pkl', 'rb'))"
   ]
  },
  {
   "cell_type": "code",
   "execution_count": 59,
   "metadata": {
    "colab": {},
    "colab_type": "code",
    "id": "8KWNgXQLc_75"
   },
   "outputs": [],
   "source": [
    "# One hot encoder objects\n",
    "ohe_proto = pickle.load(open(file_path+'ohe_proto.pkl', 'rb'))\n",
    "ohe_service = pickle.load(open(file_path+'ohe_service.pkl', 'rb'))\n",
    "ohe_state = pickle.load(open(file_path+'ohe_state.pkl', 'rb'))"
   ]
  },
  {
   "cell_type": "code",
   "execution_count": 60,
   "metadata": {
    "colab": {
     "base_uri": "https://localhost:8080/",
     "height": 34
    },
    "colab_type": "code",
    "executionInfo": {
     "elapsed": 971,
     "status": "ok",
     "timestamp": 1598254791308,
     "user": {
      "displayName": "Subrata Maji",
      "photoUrl": "https://lh3.googleusercontent.com/a-/AOh14Ghxu8VIGqB6XL51-t5wM_f1R1LdmEePYHIwb9b-=s64",
      "userId": "03124174213573157612"
     },
     "user_tz": -330
    },
    "id": "h9O_-z_ZlCE_",
    "outputId": "57909fa9-80c3-4a53-b041-b0f6d954560e"
   },
   "outputs": [
    {
     "data": {
      "text/plain": [
       "(762015, 48)"
      ]
     },
     "execution_count": 60,
     "metadata": {},
     "output_type": "execute_result"
    }
   ],
   "source": [
    "x_test.shape"
   ]
  },
  {
   "cell_type": "code",
   "execution_count": 61,
   "metadata": {
    "colab": {},
    "colab_type": "code",
    "id": "xrowypS2smFi"
   },
   "outputs": [],
   "source": [
    "# Resetting index of test data\n",
    "x_test.reset_index(drop=True, inplace=True)"
   ]
  },
  {
   "cell_type": "code",
   "execution_count": 62,
   "metadata": {
    "colab": {
     "base_uri": "https://localhost:8080/",
     "height": 34
    },
    "colab_type": "code",
    "executionInfo": {
     "elapsed": 718,
     "status": "ok",
     "timestamp": 1598254793566,
     "user": {
      "displayName": "Subrata Maji",
      "photoUrl": "https://lh3.googleusercontent.com/a-/AOh14Ghxu8VIGqB6XL51-t5wM_f1R1LdmEePYHIwb9b-=s64",
      "userId": "03124174213573157612"
     },
     "user_tz": -330
    },
    "id": "nylwjO_Ifngf",
    "outputId": "84161159-1b04-433d-bf06-4b8f1a6870ea"
   },
   "outputs": [
    {
     "data": {
      "text/plain": [
       "(762015, 48)"
      ]
     },
     "execution_count": 62,
     "metadata": {},
     "output_type": "execute_result"
    }
   ],
   "source": [
    "x_test.shape"
   ]
  },
  {
   "cell_type": "code",
   "execution_count": 63,
   "metadata": {
    "colab": {
     "base_uri": "https://localhost:8080/",
     "height": 170
    },
    "colab_type": "code",
    "executionInfo": {
     "elapsed": 2073,
     "status": "ok",
     "timestamp": 1598254796641,
     "user": {
      "displayName": "Subrata Maji",
      "photoUrl": "https://lh3.googleusercontent.com/a-/AOh14Ghxu8VIGqB6XL51-t5wM_f1R1LdmEePYHIwb9b-=s64",
      "userId": "03124174213573157612"
     },
     "user_tz": -330
    },
    "id": "f2uMszD5tGF0",
    "outputId": "96b77406-1092-458d-a29a-84bf071e3a0f"
   },
   "outputs": [
    {
     "data": {
      "text/plain": [
       "Index(['srcip', 'sport', 'dstip', 'dsport', 'proto', 'state', 'dur', 'sbytes',\n",
       "       'dbytes', 'sttl', 'dttl', 'sloss', 'dloss', 'service', 'sload', 'dload',\n",
       "       'spkts', 'dpkts', 'swin', 'dwin', 'stcpb', 'dtcpb', 'smeansz',\n",
       "       'dmeansz', 'trans_depth', 'res_bdy_len', 'sjit', 'djit', 'stime',\n",
       "       'ltime', 'sintpkt', 'dintpkt', 'tcprtt', 'synack', 'ackdat',\n",
       "       'is_sm_ips_ports', 'ct_state_ttl', 'ct_flw_http_mthd', 'is_ftp_login',\n",
       "       'ct_ftp_cmd', 'ct_srv_src', 'ct_srv_dst', 'ct_dst_ltm', 'ct_src_ltm',\n",
       "       'ct_src_dport_ltm', 'ct_dst_sport_ltm', 'ct_dst_src_ltm', 'label'],\n",
       "      dtype='object')"
      ]
     },
     "execution_count": 63,
     "metadata": {},
     "output_type": "execute_result"
    }
   ],
   "source": [
    "x_test.columns"
   ]
  },
  {
   "cell_type": "code",
   "execution_count": 64,
   "metadata": {
    "colab": {},
    "colab_type": "code",
    "id": "nketS4eVXY9k"
   },
   "outputs": [],
   "source": [
    "# Adding column names\n",
    "x_test.columns = saved_dict['columns']"
   ]
  },
  {
   "cell_type": "code",
   "execution_count": 65,
   "metadata": {
    "colab": {},
    "colab_type": "code",
    "id": "5icbXK2iXTye"
   },
   "outputs": [],
   "source": [
    "# Creating new Feature\n",
    "x_test['network_bytes'] = x_test['dbytes'] + x_test['sbytes']"
   ]
  },
  {
   "cell_type": "code",
   "execution_count": 66,
   "metadata": {},
   "outputs": [
    {
     "data": {
      "text/plain": [
       "['srcip', 'sport', 'dstip', 'dsport', 'label']"
      ]
     },
     "execution_count": 66,
     "metadata": {},
     "output_type": "execute_result"
    }
   ],
   "source": [
    "saved_dict['to_drop'] "
   ]
  },
  {
   "cell_type": "code",
   "execution_count": 67,
   "metadata": {},
   "outputs": [
    {
     "data": {
      "text/plain": [
       "['sloss',\n",
       " 'dloss',\n",
       " 'dpkts',\n",
       " 'dwin',\n",
       " 'ltime',\n",
       " 'ct_srv_dst',\n",
       " 'ct_src_dport_ltm',\n",
       " 'ct_dst_src_ltm']"
      ]
     },
     "execution_count": 67,
     "metadata": {},
     "output_type": "execute_result"
    }
   ],
   "source": [
    "saved_dict['corr_col']"
   ]
  },
  {
   "cell_type": "code",
   "execution_count": 68,
   "metadata": {},
   "outputs": [
    {
     "data": {
      "text/plain": [
       "['srcip',\n",
       " 'sport',\n",
       " 'dstip',\n",
       " 'dsport',\n",
       " 'label',\n",
       " 'sloss',\n",
       " 'dloss',\n",
       " 'dpkts',\n",
       " 'dwin',\n",
       " 'ltime',\n",
       " 'ct_srv_dst',\n",
       " 'ct_src_dport_ltm',\n",
       " 'ct_dst_src_ltm']"
      ]
     },
     "execution_count": 68,
     "metadata": {},
     "output_type": "execute_result"
    }
   ],
   "source": [
    "\n",
    "dropable_col = saved_dict['to_drop'] + saved_dict['corr_col']\n",
    "dropable_col"
   ]
  },
  {
   "cell_type": "code",
   "execution_count": 69,
   "metadata": {
    "colab": {},
    "colab_type": "code",
    "id": "134bXg3TZBg0"
   },
   "outputs": [],
   "source": [
    "# Droping all the unwanted columns\n",
    "dropable_col = saved_dict['to_drop'] + saved_dict['corr_col']\n",
    "x_test.drop(columns=dropable_col, inplace=True)"
   ]
  },
  {
   "cell_type": "code",
   "execution_count": 70,
   "metadata": {
    "colab": {
     "base_uri": "https://localhost:8080/",
     "height": 34
    },
    "colab_type": "code",
    "executionInfo": {
     "elapsed": 1167,
     "status": "ok",
     "timestamp": 1598254805357,
     "user": {
      "displayName": "Subrata Maji",
      "photoUrl": "https://lh3.googleusercontent.com/a-/AOh14Ghxu8VIGqB6XL51-t5wM_f1R1LdmEePYHIwb9b-=s64",
      "userId": "03124174213573157612"
     },
     "user_tz": -330
    },
    "id": "0BUcBPhfZZDE",
    "outputId": "b33dd79a-8450-4b0b-b3ef-327e7fe4373c"
   },
   "outputs": [
    {
     "data": {
      "text/plain": [
       "(762015, 36)"
      ]
     },
     "execution_count": 70,
     "metadata": {},
     "output_type": "execute_result"
    }
   ],
   "source": [
    "x_test.shape"
   ]
  },
  {
   "cell_type": "code",
   "execution_count": 71,
   "metadata": {
    "colab": {},
    "colab_type": "code",
    "id": "lkyzpOcSZhFo"
   },
   "outputs": [],
   "source": [
    "# Cleaning data using clean_data()\n",
    "x_test = clean_data(x_test)"
   ]
  },
  {
   "cell_type": "code",
   "execution_count": 72,
   "metadata": {
    "colab": {
     "base_uri": "https://localhost:8080/",
     "height": 34
    },
    "colab_type": "code",
    "executionInfo": {
     "elapsed": 629,
     "status": "ok",
     "timestamp": 1598254819165,
     "user": {
      "displayName": "Subrata Maji",
      "photoUrl": "https://lh3.googleusercontent.com/a-/AOh14Ghxu8VIGqB6XL51-t5wM_f1R1LdmEePYHIwb9b-=s64",
      "userId": "03124174213573157612"
     },
     "user_tz": -330
    },
    "id": "Pd9v3-ODWW0d",
    "outputId": "3ff7306c-085c-4ee9-9b3c-1ab8741af7ab"
   },
   "outputs": [
    {
     "data": {
      "text/plain": [
       "(762015, 36)"
      ]
     },
     "execution_count": 72,
     "metadata": {},
     "output_type": "execute_result"
    }
   ],
   "source": [
    "x_test.shape"
   ]
  },
  {
   "cell_type": "code",
   "execution_count": 73,
   "metadata": {
    "colab": {},
    "colab_type": "code",
    "id": "X5a1-ZRraESH"
   },
   "outputs": [],
   "source": [
    "# FE: applying log1p using apply_log1p()\n",
    "x_test = apply_log1p(x_test)"
   ]
  },
  {
   "cell_type": "code",
   "execution_count": 74,
   "metadata": {
    "colab": {
     "base_uri": "https://localhost:8080/",
     "height": 34
    },
    "colab_type": "code",
    "executionInfo": {
     "elapsed": 827,
     "status": "ok",
     "timestamp": 1598254840234,
     "user": {
      "displayName": "Subrata Maji",
      "photoUrl": "https://lh3.googleusercontent.com/a-/AOh14Ghxu8VIGqB6XL51-t5wM_f1R1LdmEePYHIwb9b-=s64",
      "userId": "03124174213573157612"
     },
     "user_tz": -330
    },
    "id": "1e_xjHpRuULJ",
    "outputId": "a8792367-2674-4695-dbf1-32ebdc381513"
   },
   "outputs": [
    {
     "data": {
      "text/plain": [
       "(762015, 36)"
      ]
     },
     "execution_count": 74,
     "metadata": {},
     "output_type": "execute_result"
    }
   ],
   "source": [
    "x_test.shape"
   ]
  },
  {
   "cell_type": "code",
   "execution_count": 75,
   "metadata": {
    "colab": {
     "base_uri": "https://localhost:8080/",
     "height": 170
    },
    "colab_type": "code",
    "executionInfo": {
     "elapsed": 574,
     "status": "ok",
     "timestamp": 1598254841517,
     "user": {
      "displayName": "Subrata Maji",
      "photoUrl": "https://lh3.googleusercontent.com/a-/AOh14Ghxu8VIGqB6XL51-t5wM_f1R1LdmEePYHIwb9b-=s64",
      "userId": "03124174213573157612"
     },
     "user_tz": -330
    },
    "id": "aWh6xLQwWb3W",
    "outputId": "1115319e-c1cf-4a84-fac0-7535f5484b6e"
   },
   "outputs": [
    {
     "data": {
      "text/plain": [
       "Index(['proto', 'state', 'sttl', 'dttl', 'service', 'swin', 'trans_depth',\n",
       "       'res_bdy_len', 'stime', 'sintpkt', 'dintpkt', 'tcprtt', 'synack',\n",
       "       'ackdat', 'is_sm_ips_ports', 'ct_state_ttl', 'ct_flw_http_mthd',\n",
       "       'is_ftp_login', 'ct_ftp_cmd', 'ct_srv_src', 'ct_dst_ltm', 'ct_src_ltm',\n",
       "       'ct_dst_sport_ltm', 'dur_log1p', 'sbytes_log1p', 'dbytes_log1p',\n",
       "       'sload_log1p', 'dload_log1p', 'spkts_log1p', 'stcpb_log1p',\n",
       "       'dtcpb_log1p', 'smeansz_log1p', 'dmeansz_log1p', 'sjit_log1p',\n",
       "       'djit_log1p', 'network_bytes_log1p'],\n",
       "      dtype='object')"
      ]
     },
     "execution_count": 75,
     "metadata": {},
     "output_type": "execute_result"
    }
   ],
   "source": [
    "x_test.columns"
   ]
  },
  {
   "cell_type": "code",
   "execution_count": 76,
   "metadata": {
    "colab": {},
    "colab_type": "code",
    "id": "SovFBr2XaLMB"
   },
   "outputs": [],
   "source": [
    "# Standardscaling using stanardize()\n",
    "x_test = standardize(x_test)"
   ]
  },
  {
   "cell_type": "code",
   "execution_count": 77,
   "metadata": {
    "colab": {
     "base_uri": "https://localhost:8080/",
     "height": 224
    },
    "colab_type": "code",
    "executionInfo": {
     "elapsed": 597,
     "status": "ok",
     "timestamp": 1598254856268,
     "user": {
      "displayName": "Subrata Maji",
      "photoUrl": "https://lh3.googleusercontent.com/a-/AOh14Ghxu8VIGqB6XL51-t5wM_f1R1LdmEePYHIwb9b-=s64",
      "userId": "03124174213573157612"
     },
     "user_tz": -330
    },
    "id": "f6HrpEbiWil5",
    "outputId": "c8859515-ff2e-4005-c37a-1d7d159a5952"
   },
   "outputs": [
    {
     "data": {
      "text/html": [
       "<div>\n",
       "<style scoped>\n",
       "    .dataframe tbody tr th:only-of-type {\n",
       "        vertical-align: middle;\n",
       "    }\n",
       "\n",
       "    .dataframe tbody tr th {\n",
       "        vertical-align: top;\n",
       "    }\n",
       "\n",
       "    .dataframe thead th {\n",
       "        text-align: right;\n",
       "    }\n",
       "</style>\n",
       "<table border=\"1\" class=\"dataframe\">\n",
       "  <thead>\n",
       "    <tr style=\"text-align: right;\">\n",
       "      <th></th>\n",
       "      <th>proto</th>\n",
       "      <th>state</th>\n",
       "      <th>sttl</th>\n",
       "      <th>dttl</th>\n",
       "      <th>service</th>\n",
       "      <th>swin</th>\n",
       "      <th>trans_depth</th>\n",
       "      <th>res_bdy_len</th>\n",
       "      <th>stime</th>\n",
       "      <th>sintpkt</th>\n",
       "      <th>...</th>\n",
       "      <th>sload_log1p</th>\n",
       "      <th>dload_log1p</th>\n",
       "      <th>spkts_log1p</th>\n",
       "      <th>stcpb_log1p</th>\n",
       "      <th>dtcpb_log1p</th>\n",
       "      <th>smeansz_log1p</th>\n",
       "      <th>dmeansz_log1p</th>\n",
       "      <th>sjit_log1p</th>\n",
       "      <th>djit_log1p</th>\n",
       "      <th>network_bytes_log1p</th>\n",
       "    </tr>\n",
       "  </thead>\n",
       "  <tbody>\n",
       "    <tr>\n",
       "      <th>0</th>\n",
       "      <td>udp</td>\n",
       "      <td>CON</td>\n",
       "      <td>-0.426051</td>\n",
       "      <td>-0.041365</td>\n",
       "      <td>dns</td>\n",
       "      <td>-1.196045</td>\n",
       "      <td>-0.225343</td>\n",
       "      <td>-0.089113</td>\n",
       "      <td>-1.148407</td>\n",
       "      <td>-0.069615</td>\n",
       "      <td>...</td>\n",
       "      <td>-0.121716</td>\n",
       "      <td>0.482924</td>\n",
       "      <td>-1.080734</td>\n",
       "      <td>-1.190007</td>\n",
       "      <td>-1.189697</td>\n",
       "      <td>-0.374605</td>\n",
       "      <td>0.096502</td>\n",
       "      <td>-0.995343</td>\n",
       "      <td>-0.899657</td>\n",
       "      <td>-0.974789</td>\n",
       "    </tr>\n",
       "    <tr>\n",
       "      <th>1</th>\n",
       "      <td>udp</td>\n",
       "      <td>CON</td>\n",
       "      <td>-0.426051</td>\n",
       "      <td>-0.041365</td>\n",
       "      <td>dns</td>\n",
       "      <td>-1.196045</td>\n",
       "      <td>-0.225343</td>\n",
       "      <td>-0.089113</td>\n",
       "      <td>-1.163715</td>\n",
       "      <td>-0.069617</td>\n",
       "      <td>...</td>\n",
       "      <td>-0.112689</td>\n",
       "      <td>0.487911</td>\n",
       "      <td>-1.080734</td>\n",
       "      <td>-1.190007</td>\n",
       "      <td>-1.189697</td>\n",
       "      <td>-0.374605</td>\n",
       "      <td>0.096502</td>\n",
       "      <td>-0.995343</td>\n",
       "      <td>-0.899657</td>\n",
       "      <td>-0.974789</td>\n",
       "    </tr>\n",
       "    <tr>\n",
       "      <th>2</th>\n",
       "      <td>udp</td>\n",
       "      <td>INT</td>\n",
       "      <td>-0.037542</td>\n",
       "      <td>-0.717760</td>\n",
       "      <td>dns</td>\n",
       "      <td>-1.196045</td>\n",
       "      <td>-0.225343</td>\n",
       "      <td>-0.089113</td>\n",
       "      <td>0.855736</td>\n",
       "      <td>-0.069616</td>\n",
       "      <td>...</td>\n",
       "      <td>1.577442</td>\n",
       "      <td>-1.879995</td>\n",
       "      <td>-1.080734</td>\n",
       "      <td>-1.190007</td>\n",
       "      <td>-1.189697</td>\n",
       "      <td>0.565988</td>\n",
       "      <td>-1.850553</td>\n",
       "      <td>-0.995343</td>\n",
       "      <td>-0.899657</td>\n",
       "      <td>-1.062092</td>\n",
       "    </tr>\n",
       "    <tr>\n",
       "      <th>3</th>\n",
       "      <td>tcp</td>\n",
       "      <td>FIN</td>\n",
       "      <td>-0.426051</td>\n",
       "      <td>-0.041365</td>\n",
       "      <td>none</td>\n",
       "      <td>0.836096</td>\n",
       "      <td>-0.225343</td>\n",
       "      <td>-0.089113</td>\n",
       "      <td>-1.157963</td>\n",
       "      <td>-0.069518</td>\n",
       "      <td>...</td>\n",
       "      <td>0.619603</td>\n",
       "      <td>0.775428</td>\n",
       "      <td>0.277671</td>\n",
       "      <td>0.898135</td>\n",
       "      <td>0.898496</td>\n",
       "      <td>1.366104</td>\n",
       "      <td>0.278308</td>\n",
       "      <td>-0.163891</td>\n",
       "      <td>-0.794201</td>\n",
       "      <td>0.298473</td>\n",
       "    </tr>\n",
       "    <tr>\n",
       "      <th>4</th>\n",
       "      <td>udp</td>\n",
       "      <td>CON</td>\n",
       "      <td>-0.426051</td>\n",
       "      <td>-0.041365</td>\n",
       "      <td>dns</td>\n",
       "      <td>-1.196045</td>\n",
       "      <td>-0.225343</td>\n",
       "      <td>-0.089113</td>\n",
       "      <td>0.864749</td>\n",
       "      <td>-0.069616</td>\n",
       "      <td>...</td>\n",
       "      <td>-0.150173</td>\n",
       "      <td>0.467203</td>\n",
       "      <td>-1.080734</td>\n",
       "      <td>-1.190007</td>\n",
       "      <td>-1.189697</td>\n",
       "      <td>-0.374605</td>\n",
       "      <td>0.096502</td>\n",
       "      <td>-0.995343</td>\n",
       "      <td>-0.899657</td>\n",
       "      <td>-0.974789</td>\n",
       "    </tr>\n",
       "  </tbody>\n",
       "</table>\n",
       "<p>5 rows × 36 columns</p>\n",
       "</div>"
      ],
      "text/plain": [
       "  proto state      sttl      dttl service      swin  trans_depth  res_bdy_len  \\\n",
       "0   udp   CON -0.426051 -0.041365     dns -1.196045    -0.225343    -0.089113   \n",
       "1   udp   CON -0.426051 -0.041365     dns -1.196045    -0.225343    -0.089113   \n",
       "2   udp   INT -0.037542 -0.717760     dns -1.196045    -0.225343    -0.089113   \n",
       "3   tcp   FIN -0.426051 -0.041365    none  0.836096    -0.225343    -0.089113   \n",
       "4   udp   CON -0.426051 -0.041365     dns -1.196045    -0.225343    -0.089113   \n",
       "\n",
       "      stime   sintpkt  ...  sload_log1p  dload_log1p  spkts_log1p  \\\n",
       "0 -1.148407 -0.069615  ...    -0.121716     0.482924    -1.080734   \n",
       "1 -1.163715 -0.069617  ...    -0.112689     0.487911    -1.080734   \n",
       "2  0.855736 -0.069616  ...     1.577442    -1.879995    -1.080734   \n",
       "3 -1.157963 -0.069518  ...     0.619603     0.775428     0.277671   \n",
       "4  0.864749 -0.069616  ...    -0.150173     0.467203    -1.080734   \n",
       "\n",
       "   stcpb_log1p  dtcpb_log1p  smeansz_log1p  dmeansz_log1p  sjit_log1p  \\\n",
       "0    -1.190007    -1.189697      -0.374605       0.096502   -0.995343   \n",
       "1    -1.190007    -1.189697      -0.374605       0.096502   -0.995343   \n",
       "2    -1.190007    -1.189697       0.565988      -1.850553   -0.995343   \n",
       "3     0.898135     0.898496       1.366104       0.278308   -0.163891   \n",
       "4    -1.190007    -1.189697      -0.374605       0.096502   -0.995343   \n",
       "\n",
       "   djit_log1p  network_bytes_log1p  \n",
       "0   -0.899657            -0.974789  \n",
       "1   -0.899657            -0.974789  \n",
       "2   -0.899657            -1.062092  \n",
       "3   -0.794201             0.298473  \n",
       "4   -0.899657            -0.974789  \n",
       "\n",
       "[5 rows x 36 columns]"
      ]
     },
     "execution_count": 77,
     "metadata": {},
     "output_type": "execute_result"
    }
   ],
   "source": [
    "x_test.head()"
   ]
  },
  {
   "cell_type": "code",
   "execution_count": 78,
   "metadata": {
    "colab": {},
    "colab_type": "code",
    "id": "rfVelvrWaRRS"
   },
   "outputs": [],
   "source": [
    "# Onehot encoding categorical columns using ohencoding()\n",
    "x_test = ohencoding(x_test)"
   ]
  },
  {
   "cell_type": "code",
   "execution_count": 79,
   "metadata": {
    "colab": {
     "base_uri": "https://localhost:8080/",
     "height": 34
    },
    "colab_type": "code",
    "executionInfo": {
     "elapsed": 821,
     "status": "ok",
     "timestamp": 1598254875109,
     "user": {
      "displayName": "Subrata Maji",
      "photoUrl": "https://lh3.googleusercontent.com/a-/AOh14Ghxu8VIGqB6XL51-t5wM_f1R1LdmEePYHIwb9b-=s64",
      "userId": "03124174213573157612"
     },
     "user_tz": -330
    },
    "id": "Yvpv3XcPr8P8",
    "outputId": "f1b76f84-12d0-4aa9-e4d6-0d11ffd5f5ce"
   },
   "outputs": [
    {
     "data": {
      "text/plain": [
       "(762015, 197)"
      ]
     },
     "execution_count": 79,
     "metadata": {},
     "output_type": "execute_result"
    }
   ],
   "source": [
    "x_test.shape"
   ]
  },
  {
   "cell_type": "code",
   "execution_count": 80,
   "metadata": {
    "colab": {
     "base_uri": "https://localhost:8080/",
     "height": 270
    },
    "colab_type": "code",
    "executionInfo": {
     "elapsed": 932,
     "status": "ok",
     "timestamp": 1598254877225,
     "user": {
      "displayName": "Subrata Maji",
      "photoUrl": "https://lh3.googleusercontent.com/a-/AOh14Ghxu8VIGqB6XL51-t5wM_f1R1LdmEePYHIwb9b-=s64",
      "userId": "03124174213573157612"
     },
     "user_tz": -330
    },
    "id": "_9x_SlYSuxNU",
    "outputId": "dfe86c01-49f4-44a0-fc2b-9764b6b47db2"
   },
   "outputs": [
    {
     "data": {
      "text/html": [
       "<div>\n",
       "<style scoped>\n",
       "    .dataframe tbody tr th:only-of-type {\n",
       "        vertical-align: middle;\n",
       "    }\n",
       "\n",
       "    .dataframe tbody tr th {\n",
       "        vertical-align: top;\n",
       "    }\n",
       "\n",
       "    .dataframe thead th {\n",
       "        text-align: right;\n",
       "    }\n",
       "</style>\n",
       "<table border=\"1\" class=\"dataframe\">\n",
       "  <thead>\n",
       "    <tr style=\"text-align: right;\">\n",
       "      <th></th>\n",
       "      <th>sttl</th>\n",
       "      <th>dttl</th>\n",
       "      <th>swin</th>\n",
       "      <th>trans_depth</th>\n",
       "      <th>res_bdy_len</th>\n",
       "      <th>stime</th>\n",
       "      <th>sintpkt</th>\n",
       "      <th>dintpkt</th>\n",
       "      <th>tcprtt</th>\n",
       "      <th>synack</th>\n",
       "      <th>...</th>\n",
       "      <th>state_INT</th>\n",
       "      <th>state_MAS</th>\n",
       "      <th>state_PAR</th>\n",
       "      <th>state_REQ</th>\n",
       "      <th>state_RST</th>\n",
       "      <th>state_TST</th>\n",
       "      <th>state_TXD</th>\n",
       "      <th>state_URH</th>\n",
       "      <th>state_URN</th>\n",
       "      <th>state_no</th>\n",
       "    </tr>\n",
       "  </thead>\n",
       "  <tbody>\n",
       "    <tr>\n",
       "      <th>0</th>\n",
       "      <td>-0.426051</td>\n",
       "      <td>-0.041365</td>\n",
       "      <td>-1.196045</td>\n",
       "      <td>-0.225343</td>\n",
       "      <td>-0.089113</td>\n",
       "      <td>-1.148407</td>\n",
       "      <td>-0.069615</td>\n",
       "      <td>-0.055095</td>\n",
       "      <td>-0.136439</td>\n",
       "      <td>-0.128893</td>\n",
       "      <td>...</td>\n",
       "      <td>0.0</td>\n",
       "      <td>0.0</td>\n",
       "      <td>0.0</td>\n",
       "      <td>0.0</td>\n",
       "      <td>0.0</td>\n",
       "      <td>0.0</td>\n",
       "      <td>0.0</td>\n",
       "      <td>0.0</td>\n",
       "      <td>0.0</td>\n",
       "      <td>0.0</td>\n",
       "    </tr>\n",
       "    <tr>\n",
       "      <th>1</th>\n",
       "      <td>-0.426051</td>\n",
       "      <td>-0.041365</td>\n",
       "      <td>-1.196045</td>\n",
       "      <td>-0.225343</td>\n",
       "      <td>-0.089113</td>\n",
       "      <td>-1.163715</td>\n",
       "      <td>-0.069617</td>\n",
       "      <td>-0.055093</td>\n",
       "      <td>-0.136439</td>\n",
       "      <td>-0.128893</td>\n",
       "      <td>...</td>\n",
       "      <td>0.0</td>\n",
       "      <td>0.0</td>\n",
       "      <td>0.0</td>\n",
       "      <td>0.0</td>\n",
       "      <td>0.0</td>\n",
       "      <td>0.0</td>\n",
       "      <td>0.0</td>\n",
       "      <td>0.0</td>\n",
       "      <td>0.0</td>\n",
       "      <td>0.0</td>\n",
       "    </tr>\n",
       "    <tr>\n",
       "      <th>2</th>\n",
       "      <td>-0.037542</td>\n",
       "      <td>-0.717760</td>\n",
       "      <td>-1.196045</td>\n",
       "      <td>-0.225343</td>\n",
       "      <td>-0.089113</td>\n",
       "      <td>0.855736</td>\n",
       "      <td>-0.069616</td>\n",
       "      <td>-0.055099</td>\n",
       "      <td>-0.136439</td>\n",
       "      <td>-0.128893</td>\n",
       "      <td>...</td>\n",
       "      <td>1.0</td>\n",
       "      <td>0.0</td>\n",
       "      <td>0.0</td>\n",
       "      <td>0.0</td>\n",
       "      <td>0.0</td>\n",
       "      <td>0.0</td>\n",
       "      <td>0.0</td>\n",
       "      <td>0.0</td>\n",
       "      <td>0.0</td>\n",
       "      <td>0.0</td>\n",
       "    </tr>\n",
       "    <tr>\n",
       "      <th>3</th>\n",
       "      <td>-0.426051</td>\n",
       "      <td>-0.041365</td>\n",
       "      <td>0.836096</td>\n",
       "      <td>-0.225343</td>\n",
       "      <td>-0.089113</td>\n",
       "      <td>-1.157963</td>\n",
       "      <td>-0.069518</td>\n",
       "      <td>-0.054912</td>\n",
       "      <td>-0.121029</td>\n",
       "      <td>-0.107473</td>\n",
       "      <td>...</td>\n",
       "      <td>0.0</td>\n",
       "      <td>0.0</td>\n",
       "      <td>0.0</td>\n",
       "      <td>0.0</td>\n",
       "      <td>0.0</td>\n",
       "      <td>0.0</td>\n",
       "      <td>0.0</td>\n",
       "      <td>0.0</td>\n",
       "      <td>0.0</td>\n",
       "      <td>0.0</td>\n",
       "    </tr>\n",
       "    <tr>\n",
       "      <th>4</th>\n",
       "      <td>-0.426051</td>\n",
       "      <td>-0.041365</td>\n",
       "      <td>-1.196045</td>\n",
       "      <td>-0.225343</td>\n",
       "      <td>-0.089113</td>\n",
       "      <td>0.864749</td>\n",
       "      <td>-0.069616</td>\n",
       "      <td>-0.055095</td>\n",
       "      <td>-0.136439</td>\n",
       "      <td>-0.128893</td>\n",
       "      <td>...</td>\n",
       "      <td>0.0</td>\n",
       "      <td>0.0</td>\n",
       "      <td>0.0</td>\n",
       "      <td>0.0</td>\n",
       "      <td>0.0</td>\n",
       "      <td>0.0</td>\n",
       "      <td>0.0</td>\n",
       "      <td>0.0</td>\n",
       "      <td>0.0</td>\n",
       "      <td>0.0</td>\n",
       "    </tr>\n",
       "  </tbody>\n",
       "</table>\n",
       "<p>5 rows × 197 columns</p>\n",
       "</div>"
      ],
      "text/plain": [
       "       sttl      dttl      swin  trans_depth  res_bdy_len     stime   sintpkt  \\\n",
       "0 -0.426051 -0.041365 -1.196045    -0.225343    -0.089113 -1.148407 -0.069615   \n",
       "1 -0.426051 -0.041365 -1.196045    -0.225343    -0.089113 -1.163715 -0.069617   \n",
       "2 -0.037542 -0.717760 -1.196045    -0.225343    -0.089113  0.855736 -0.069616   \n",
       "3 -0.426051 -0.041365  0.836096    -0.225343    -0.089113 -1.157963 -0.069518   \n",
       "4 -0.426051 -0.041365 -1.196045    -0.225343    -0.089113  0.864749 -0.069616   \n",
       "\n",
       "    dintpkt    tcprtt    synack  ...  state_INT  state_MAS  state_PAR  \\\n",
       "0 -0.055095 -0.136439 -0.128893  ...        0.0        0.0        0.0   \n",
       "1 -0.055093 -0.136439 -0.128893  ...        0.0        0.0        0.0   \n",
       "2 -0.055099 -0.136439 -0.128893  ...        1.0        0.0        0.0   \n",
       "3 -0.054912 -0.121029 -0.107473  ...        0.0        0.0        0.0   \n",
       "4 -0.055095 -0.136439 -0.128893  ...        0.0        0.0        0.0   \n",
       "\n",
       "   state_REQ  state_RST  state_TST  state_TXD  state_URH  state_URN  state_no  \n",
       "0        0.0        0.0        0.0        0.0        0.0        0.0       0.0  \n",
       "1        0.0        0.0        0.0        0.0        0.0        0.0       0.0  \n",
       "2        0.0        0.0        0.0        0.0        0.0        0.0       0.0  \n",
       "3        0.0        0.0        0.0        0.0        0.0        0.0       0.0  \n",
       "4        0.0        0.0        0.0        0.0        0.0        0.0       0.0  \n",
       "\n",
       "[5 rows x 197 columns]"
      ]
     },
     "execution_count": 80,
     "metadata": {},
     "output_type": "execute_result"
    }
   ],
   "source": [
    "# Final test data\n",
    "x_test.head()"
   ]
  },
  {
   "cell_type": "code",
   "execution_count": 81,
   "metadata": {
    "colab": {
     "base_uri": "https://localhost:8080/",
     "height": 34
    },
    "colab_type": "code",
    "executionInfo": {
     "elapsed": 912,
     "status": "ok",
     "timestamp": 1598254883093,
     "user": {
      "displayName": "Subrata Maji",
      "photoUrl": "https://lh3.googleusercontent.com/a-/AOh14Ghxu8VIGqB6XL51-t5wM_f1R1LdmEePYHIwb9b-=s64",
      "userId": "03124174213573157612"
     },
     "user_tz": -330
    },
    "id": "Xfgg1xv6oe5a",
    "outputId": "fd78e545-c224-4e27-8321-f4956fbaabd3"
   },
   "outputs": [
    {
     "data": {
      "text/plain": [
       "True"
      ]
     },
     "execution_count": 81,
     "metadata": {},
     "output_type": "execute_result"
    }
   ],
   "source": [
    "# Matching test data columns with train data columns\n",
    "all(x_train.columns == x_test.columns)"
   ]
  },
  {
   "cell_type": "code",
   "execution_count": null,
   "metadata": {
    "colab": {},
    "colab_type": "code",
    "id": "I2RqN_AxiZBw"
   },
   "outputs": [],
   "source": []
  },
  {
   "cell_type": "code",
   "execution_count": null,
   "metadata": {},
   "outputs": [],
   "source": []
  }
 ],
 "metadata": {
  "colab": {
   "authorship_tag": "ABX9TyPXGF2NJxYdMQ6udPW7Xp71",
   "collapsed_sections": [],
   "name": "CS1_Feature_Engineering.ipynb",
   "provenance": []
  },
  "kernelspec": {
   "display_name": "Python 3 (ipykernel)",
   "language": "python",
   "name": "python3"
  },
  "language_info": {
   "codemirror_mode": {
    "name": "ipython",
    "version": 3
   },
   "file_extension": ".py",
   "mimetype": "text/x-python",
   "name": "python",
   "nbconvert_exporter": "python",
   "pygments_lexer": "ipython3",
   "version": "3.12.3"
  },
  "toc": {
   "base_numbering": 1,
   "nav_menu": {},
   "number_sections": true,
   "sideBar": true,
   "skip_h1_title": false,
   "title_cell": "Table of Contents",
   "title_sidebar": "Contents",
   "toc_cell": false,
   "toc_position": {},
   "toc_section_display": true,
   "toc_window_display": false
  }
 },
 "nbformat": 4,
 "nbformat_minor": 4
}
