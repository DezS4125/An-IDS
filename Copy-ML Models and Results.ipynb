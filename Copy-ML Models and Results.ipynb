{
 "cells": [
  {
   "cell_type": "markdown",
   "metadata": {},
   "source": [
    "# UNSW-NB15: Machine Learning Models"
   ]
  },
  {
   "cell_type": "code",
   "execution_count": 1,
   "metadata": {
    "colab": {},
    "colab_type": "code",
    "id": "wylL3v8GwY77"
   },
   "outputs": [],
   "source": [
    "file_path = \"./models/Original Ensemble Model\""
   ]
  },
  {
   "cell_type": "markdown",
   "metadata": {
    "colab_type": "text",
    "id": "z47K0yNEqyAN"
   },
   "source": [
    "## Importing libraries"
   ]
  },
  {
   "cell_type": "code",
   "execution_count": 2,
   "metadata": {
    "colab": {
     "base_uri": "https://localhost:8080/",
     "height": 71
    },
    "colab_type": "code",
    "executionInfo": {
     "elapsed": 2870,
     "status": "ok",
     "timestamp": 1599029207104,
     "user": {
      "displayName": "Subrata Maji",
      "photoUrl": "https://lh3.googleusercontent.com/a-/AOh14Ghxu8VIGqB6XL51-t5wM_f1R1LdmEePYHIwb9b-=s64",
      "userId": "03124174213573157612"
     },
     "user_tz": -330
    },
    "id": "f6ONB_pfCiB_",
    "outputId": "626f8d7c-872b-44c4-bff4-87228ca77fb9"
   },
   "outputs": [],
   "source": [
    "import numpy as np  # for array\n",
    "import pandas as pd  # for csv files and dataframe\n",
    "import matplotlib.pyplot as plt  # for plotting\n",
    "import seaborn as sns  # plotting\n",
    "from scipy import stats\n",
    "from tqdm import tqdm  # Progress bar\n",
    "\n",
    "import pickle  # To load data int disk\n",
    "from prettytable import PrettyTable  # To print in tabular format\n",
    "\n",
    "import warnings\n",
    "warnings.filterwarnings(\"ignore\")\n",
    "\n",
    "from sklearn.preprocessing import StandardScaler  # Standardizer\n",
    "from sklearn.preprocessing import LabelEncoder, OneHotEncoder  # One hot Encoder\n",
    "from scipy.sparse import csr_matrix  # For sparse matrix\n",
    "\n",
    "from sklearn.model_selection import train_test_split\n",
    "# Different Models\n",
    "from sklearn.linear_model import LogisticRegression, SGDClassifier  # LR\n",
    "from sklearn.svm import LinearSVC  # SVM\n",
    "from sklearn.tree import DecisionTreeClassifier  #DT\n",
    "from sklearn.ensemble import RandomForestClassifier  # RF\n",
    "import xgboost as xgb  #XGB\n",
    "\n",
    "from sklearn.metrics import accuracy_score, confusion_matrix, make_scorer  # Scoring functions\n",
    "from sklearn.metrics import auc, f1_score, roc_curve, roc_auc_score  # Scoring fns\n",
    "from sklearn.model_selection import GridSearchCV, RandomizedSearchCV  # Cross validation\n",
    "\n",
    "%matplotlib inline"
   ]
  },
  {
   "cell_type": "markdown",
   "metadata": {
    "colab_type": "text",
    "id": "kTKxIgPsw1FE"
   },
   "source": [
    "## Loading files"
   ]
  },
  {
   "cell_type": "code",
   "execution_count": 3,
   "metadata": {
    "colab": {},
    "colab_type": "code",
    "id": "qWC2DjSSw31G"
   },
   "outputs": [],
   "source": [
    "# Train and Test data\n",
    "x_train, y_train = pickle.load(open(file_path+'/final_train.pkl', 'rb'))\n",
    "x_test, y_test = pickle.load(open(file_path+'/final_test.pkl', 'rb'))\n",
    "\n",
    "# Dictionaries\n",
    "saved_dict = pickle.load(open(file_path+'/saved_dict.pkl', 'rb'))\n",
    "mode_dict = pickle.load(open(file_path+'/mode_dict.pkl', 'rb'))\n",
    "\n",
    "# Standard scaler\n",
    "scaler = pickle.load(open(file_path+'/scaler.pkl', 'rb'))\n",
    "\n",
    "# Onehot encoders\n",
    "ohe_proto = pickle.load(open(file_path+'/ohe_proto.pkl', 'rb'))\n",
    "ohe_service = pickle.load(open(file_path+'/ohe_service.pkl', 'rb'))\n",
    "ohe_state = pickle.load(open(file_path+'/ohe_state.pkl', 'rb'))"
   ]
  },
  {
   "cell_type": "code",
   "execution_count": 4,
   "metadata": {
    "colab": {},
    "colab_type": "code",
    "id": "OD0LSBiVQK-K"
   },
   "outputs": [],
   "source": [
    "# Making the train data sparse matrix\n",
    "x_train_csr = csr_matrix(x_train.values)\n",
    "\n",
    "col = x_train.columns\n",
    "\n",
    "# Creating sparse dataframe with x_train sparse matrix\n",
    "x_train = pd.DataFrame.sparse.from_spmatrix(x_train_csr, columns=col)"
   ]
  },
  {
   "cell_type": "code",
   "execution_count": 5,
   "metadata": {
    "colab": {},
    "colab_type": "code",
    "id": "wGYEoUbOQK-m"
   },
   "outputs": [],
   "source": [
    "# Saving it to disk to use later\n",
    "pickle.dump((x_train, y_train), open(file_path+'/train_sparse.pkl', 'wb'))\n",
    "\n",
    "# Loading sparse data\n",
    "x_train, y_train = pickle.load(open(file_path+'/train_sparse.pkl', 'rb'))"
   ]
  },
  {
   "cell_type": "code",
   "execution_count": 6,
   "metadata": {
    "colab": {
     "base_uri": "https://localhost:8080/",
     "height": 270
    },
    "colab_type": "code",
    "executionInfo": {
     "elapsed": 2812,
     "status": "ok",
     "timestamp": 1597910875080,
     "user": {
      "displayName": "Subrata Maji",
      "photoUrl": "https://lh3.googleusercontent.com/a-/AOh14Ghxu8VIGqB6XL51-t5wM_f1R1LdmEePYHIwb9b-=s64",
      "userId": "03124174213573157612"
     },
     "user_tz": -330
    },
    "id": "EorH6H9NQK-x",
    "outputId": "fbccc1fa-5680-40d8-e37b-5592cf1b7c6b"
   },
   "outputs": [
    {
     "data": {
      "text/html": [
       "<div>\n",
       "<style scoped>\n",
       "    .dataframe tbody tr th:only-of-type {\n",
       "        vertical-align: middle;\n",
       "    }\n",
       "\n",
       "    .dataframe tbody tr th {\n",
       "        vertical-align: top;\n",
       "    }\n",
       "\n",
       "    .dataframe thead th {\n",
       "        text-align: right;\n",
       "    }\n",
       "</style>\n",
       "<table border=\"1\" class=\"dataframe\">\n",
       "  <thead>\n",
       "    <tr style=\"text-align: right;\">\n",
       "      <th></th>\n",
       "      <th>sttl</th>\n",
       "      <th>dttl</th>\n",
       "      <th>swin</th>\n",
       "      <th>trans_depth</th>\n",
       "      <th>res_bdy_len</th>\n",
       "      <th>stime</th>\n",
       "      <th>sintpkt</th>\n",
       "      <th>dintpkt</th>\n",
       "      <th>tcprtt</th>\n",
       "      <th>synack</th>\n",
       "      <th>...</th>\n",
       "      <th>state_INT</th>\n",
       "      <th>state_MAS</th>\n",
       "      <th>state_PAR</th>\n",
       "      <th>state_REQ</th>\n",
       "      <th>state_RST</th>\n",
       "      <th>state_TST</th>\n",
       "      <th>state_TXD</th>\n",
       "      <th>state_URH</th>\n",
       "      <th>state_URN</th>\n",
       "      <th>state_no</th>\n",
       "    </tr>\n",
       "  </thead>\n",
       "  <tbody>\n",
       "    <tr>\n",
       "      <th>0</th>\n",
       "      <td>2.561444</td>\n",
       "      <td>-0.717760</td>\n",
       "      <td>-1.196045</td>\n",
       "      <td>-0.225343</td>\n",
       "      <td>-0.089113</td>\n",
       "      <td>-1.172764</td>\n",
       "      <td>-0.057567</td>\n",
       "      <td>-0.055099</td>\n",
       "      <td>-0.136439</td>\n",
       "      <td>-0.128893</td>\n",
       "      <td>...</td>\n",
       "      <td>1.0</td>\n",
       "      <td>0.0</td>\n",
       "      <td>0.0</td>\n",
       "      <td>0.0</td>\n",
       "      <td>0.0</td>\n",
       "      <td>0.0</td>\n",
       "      <td>0.0</td>\n",
       "      <td>0.0</td>\n",
       "      <td>0.0</td>\n",
       "      <td>0.0</td>\n",
       "    </tr>\n",
       "    <tr>\n",
       "      <th>1</th>\n",
       "      <td>-0.037542</td>\n",
       "      <td>-0.717760</td>\n",
       "      <td>-1.196045</td>\n",
       "      <td>-0.225343</td>\n",
       "      <td>-0.089113</td>\n",
       "      <td>0.868469</td>\n",
       "      <td>-0.069616</td>\n",
       "      <td>-0.055099</td>\n",
       "      <td>-0.136439</td>\n",
       "      <td>-0.128893</td>\n",
       "      <td>...</td>\n",
       "      <td>1.0</td>\n",
       "      <td>0.0</td>\n",
       "      <td>0.0</td>\n",
       "      <td>0.0</td>\n",
       "      <td>0.0</td>\n",
       "      <td>0.0</td>\n",
       "      <td>0.0</td>\n",
       "      <td>0.0</td>\n",
       "      <td>0.0</td>\n",
       "      <td>0.0</td>\n",
       "    </tr>\n",
       "    <tr>\n",
       "      <th>2</th>\n",
       "      <td>-0.426051</td>\n",
       "      <td>-0.041365</td>\n",
       "      <td>0.836096</td>\n",
       "      <td>-0.225343</td>\n",
       "      <td>-0.089113</td>\n",
       "      <td>-1.157401</td>\n",
       "      <td>-0.069485</td>\n",
       "      <td>-0.054857</td>\n",
       "      <td>-0.121383</td>\n",
       "      <td>-0.107394</td>\n",
       "      <td>...</td>\n",
       "      <td>0.0</td>\n",
       "      <td>0.0</td>\n",
       "      <td>0.0</td>\n",
       "      <td>0.0</td>\n",
       "      <td>0.0</td>\n",
       "      <td>0.0</td>\n",
       "      <td>0.0</td>\n",
       "      <td>0.0</td>\n",
       "      <td>0.0</td>\n",
       "      <td>0.0</td>\n",
       "    </tr>\n",
       "    <tr>\n",
       "      <th>3</th>\n",
       "      <td>-0.426051</td>\n",
       "      <td>-0.041365</td>\n",
       "      <td>0.836096</td>\n",
       "      <td>-0.225343</td>\n",
       "      <td>-0.089113</td>\n",
       "      <td>-1.136357</td>\n",
       "      <td>-0.063807</td>\n",
       "      <td>-0.044512</td>\n",
       "      <td>-0.120830</td>\n",
       "      <td>-0.107159</td>\n",
       "      <td>...</td>\n",
       "      <td>0.0</td>\n",
       "      <td>0.0</td>\n",
       "      <td>0.0</td>\n",
       "      <td>0.0</td>\n",
       "      <td>0.0</td>\n",
       "      <td>0.0</td>\n",
       "      <td>0.0</td>\n",
       "      <td>0.0</td>\n",
       "      <td>0.0</td>\n",
       "      <td>0.0</td>\n",
       "    </tr>\n",
       "    <tr>\n",
       "      <th>4</th>\n",
       "      <td>-0.426051</td>\n",
       "      <td>-0.041365</td>\n",
       "      <td>0.836096</td>\n",
       "      <td>-0.225343</td>\n",
       "      <td>-0.089113</td>\n",
       "      <td>-1.144197</td>\n",
       "      <td>-0.069180</td>\n",
       "      <td>-0.054358</td>\n",
       "      <td>-0.123351</td>\n",
       "      <td>-0.110421</td>\n",
       "      <td>...</td>\n",
       "      <td>0.0</td>\n",
       "      <td>0.0</td>\n",
       "      <td>0.0</td>\n",
       "      <td>0.0</td>\n",
       "      <td>0.0</td>\n",
       "      <td>0.0</td>\n",
       "      <td>0.0</td>\n",
       "      <td>0.0</td>\n",
       "      <td>0.0</td>\n",
       "      <td>0.0</td>\n",
       "    </tr>\n",
       "  </tbody>\n",
       "</table>\n",
       "<p>5 rows × 197 columns</p>\n",
       "</div>"
      ],
      "text/plain": [
       "       sttl      dttl      swin  trans_depth  res_bdy_len     stime   sintpkt  \\\n",
       "0  2.561444 -0.717760 -1.196045    -0.225343    -0.089113 -1.172764 -0.057567   \n",
       "1 -0.037542 -0.717760 -1.196045    -0.225343    -0.089113  0.868469 -0.069616   \n",
       "2 -0.426051 -0.041365  0.836096    -0.225343    -0.089113 -1.157401 -0.069485   \n",
       "3 -0.426051 -0.041365  0.836096    -0.225343    -0.089113 -1.136357 -0.063807   \n",
       "4 -0.426051 -0.041365  0.836096    -0.225343    -0.089113 -1.144197 -0.069180   \n",
       "\n",
       "    dintpkt    tcprtt    synack  ...  state_INT  state_MAS  state_PAR  \\\n",
       "0 -0.055099 -0.136439 -0.128893  ...        1.0        0.0        0.0   \n",
       "1 -0.055099 -0.136439 -0.128893  ...        1.0        0.0        0.0   \n",
       "2 -0.054857 -0.121383 -0.107394  ...        0.0        0.0        0.0   \n",
       "3 -0.044512 -0.120830 -0.107159  ...        0.0        0.0        0.0   \n",
       "4 -0.054358 -0.123351 -0.110421  ...        0.0        0.0        0.0   \n",
       "\n",
       "   state_REQ  state_RST  state_TST  state_TXD  state_URH  state_URN  state_no  \n",
       "0        0.0        0.0        0.0        0.0        0.0        0.0       0.0  \n",
       "1        0.0        0.0        0.0        0.0        0.0        0.0       0.0  \n",
       "2        0.0        0.0        0.0        0.0        0.0        0.0       0.0  \n",
       "3        0.0        0.0        0.0        0.0        0.0        0.0       0.0  \n",
       "4        0.0        0.0        0.0        0.0        0.0        0.0       0.0  \n",
       "\n",
       "[5 rows x 197 columns]"
      ]
     },
     "execution_count": 6,
     "metadata": {},
     "output_type": "execute_result"
    }
   ],
   "source": [
    "x_train.sparse.to_dense().head()"
   ]
  },
  {
   "cell_type": "code",
   "execution_count": 7,
   "metadata": {
    "colab": {
     "base_uri": "https://localhost:8080/",
     "height": 34
    },
    "colab_type": "code",
    "executionInfo": {
     "elapsed": 1061,
     "status": "ok",
     "timestamp": 1597923762862,
     "user": {
      "displayName": "Subrata Maji",
      "photoUrl": "https://lh3.googleusercontent.com/a-/AOh14Ghxu8VIGqB6XL51-t5wM_f1R1LdmEePYHIwb9b-=s64",
      "userId": "03124174213573157612"
     },
     "user_tz": -330
    },
    "id": "IOtsVAiBx0nl",
    "outputId": "962389ed-c3cd-43ab-d8c8-b72b83709115"
   },
   "outputs": [
    {
     "data": {
      "text/plain": [
       "((1778032, 197), (1778032,))"
      ]
     },
     "execution_count": 7,
     "metadata": {},
     "output_type": "execute_result"
    }
   ],
   "source": [
    "x_train.shape, y_train.shape"
   ]
  },
  {
   "cell_type": "code",
   "execution_count": 8,
   "metadata": {},
   "outputs": [
    {
     "name": "stdout",
     "output_type": "stream",
     "text": [
      "<class 'pandas.core.frame.DataFrame'>\n",
      "RangeIndex: 1778032 entries, 0 to 1778031\n",
      "Columns: 197 entries, sttl to state_no\n",
      "dtypes: Sparse[float64, 0](197)\n",
      "memory usage: 732.5 MB\n"
     ]
    }
   ],
   "source": [
    "x_train.info()"
   ]
  },
  {
   "cell_type": "code",
   "execution_count": 9,
   "metadata": {},
   "outputs": [
    {
     "data": {
      "text/plain": [
       "<Compressed Sparse Row sparse matrix of dtype 'float64'\n",
       "\twith 64009152 stored elements and shape (1778032, 197)>"
      ]
     },
     "execution_count": 9,
     "metadata": {},
     "output_type": "execute_result"
    }
   ],
   "source": [
    "x_train_csr"
   ]
  },
  {
   "cell_type": "code",
   "execution_count": 10,
   "metadata": {},
   "outputs": [
    {
     "data": {
      "text/plain": [
       "0    0\n",
       "1    0\n",
       "2    0\n",
       "3    0\n",
       "4    0\n",
       "Name: label, dtype: int64"
      ]
     },
     "execution_count": 10,
     "metadata": {},
     "output_type": "execute_result"
    }
   ],
   "source": [
    "y_train.head()"
   ]
  },
  {
   "cell_type": "markdown",
   "metadata": {
    "colab_type": "text",
    "id": "7XeCaHLKvW3-"
   },
   "source": [
    "## Pipeline functions"
   ]
  },
  {
   "cell_type": "code",
   "execution_count": 11,
   "metadata": {
    "colab": {},
    "colab_type": "code",
    "id": "KO4QJwGIvSFY"
   },
   "outputs": [],
   "source": [
    "#------------------------------------------------------------------------------------------\n",
    "# Data Cleaning\n",
    "#------------------------------------------------------------------------------------------\n",
    "def clean_data(data):\n",
    "    '''\n",
    "    Cleans given raw data. Performs various cleaning, removes Null and wrong values.\n",
    "    Check for columns datatype and fix them.\n",
    "    '''\n",
    "    numerical_col = data.select_dtypes(include=np.number).columns  # All the numerical columns list\n",
    "    categorical_col = data.select_dtypes(exclude=np.number).columns  # All the categorical columns list\n",
    "    \n",
    "    # Cleaning the data\n",
    "    for col in data.columns:\n",
    "        val = mode_dict[col]  # Mode value of the column in train data\n",
    "        data[col] = data[col].fillna(value=val)\n",
    "        data[col] = data[col].replace(' ', value=val)\n",
    "        data[col] = data[col].apply(lambda x:\"none\" if x==\"-\" else x)\n",
    "\n",
    "        # Fixing binary columns\n",
    "        if col in saved_dict['binary_col']:\n",
    "            data[col] = np.where(data[col]>1, val, data[col])\n",
    "\n",
    "    # Fixing datatype of columns\n",
    "    bad_dtypes = list(set(categorical_col) - set(saved_dict['cat_col']))\n",
    "    for bad_col in bad_dtypes:\n",
    "        data[col] = data[col].astype(float)\n",
    "    \n",
    "    return data\n",
    "\n",
    "#------------------------------------------------------------------------------------------\n",
    "# Feature Engineering: Apply log1p\n",
    "#------------------------------------------------------------------------------------------\n",
    "def apply_log1p(data):\n",
    "    '''\n",
    "    Performs FE on the data. Apply log1p on the specified columns create new column and remove those original columns.\n",
    "    '''\n",
    "    for col in saved_dict['log1p_col']:\n",
    "        new_col = col + '_log1p'  # New col name\n",
    "        data[new_col] = data[col].apply(np.log1p)  # Creating new column on transformed data\n",
    "        data.drop(col, axis=1, inplace=True)  # Removing old columns\n",
    "    return data\n",
    "\n",
    "#------------------------------------------------------------------------------------------\n",
    "# Standardizing: Mean centering an d varience scaling\n",
    "#------------------------------------------------------------------------------------------\n",
    "def standardize(data):\n",
    "    '''\n",
    "    Stanardize the given data. Performs mean centering and varience scaling.\n",
    "    Using stanardscaler object trained on train data.\n",
    "    '''\n",
    "    data[saved_dict['num_col']] = scaler.transform(data[saved_dict['num_col']])\n",
    "    return data\n",
    "\n",
    "#------------------------------------------------------------------------------------------\n",
    "# Onehot encoding of categorical columns\n",
    "#------------------------------------------------------------------------------------------\n",
    "def ohencoding(data):\n",
    "    '''\n",
    "    Onehot encoding the categoricla columns.\n",
    "    Add the ohe columns with the data and removes categorical columns.\n",
    "    Using Onehotencoder objects trained on train data.\n",
    "    '''\n",
    "    # Onehot encoding cat col using onehotencoder objects\n",
    "    X = ohe_service.transform(data['service'].values.reshape(-1, 1))\n",
    "    Xm = ohe_proto.transform(data['proto'].values.reshape(-1, 1))\n",
    "    Xmm = ohe_state.transform(data['state'].values.reshape(-1, 1))\n",
    "    \n",
    "    # Adding encoding data to original data\n",
    "    data = pd.concat([data,\n",
    "                      pd.DataFrame(Xm.toarray(), columns=['proto_'+i for i in ohe_proto.categories_[0]]),\n",
    "                      pd.DataFrame(X.toarray(), columns=['service_'+i for i in ohe_service.categories_[0]]),\n",
    "                      pd.DataFrame(Xmm.toarray(), columns=['state_'+i for i in ohe_state.categories_[0]])],\n",
    "                      axis=1)\n",
    "    \n",
    "    # Removing cat columns\n",
    "    data.drop(['proto', 'service', 'state'], axis=1, inplace=True)\n",
    "    return data"
   ]
  },
  {
   "cell_type": "code",
   "execution_count": 12,
   "metadata": {
    "colab": {},
    "colab_type": "code",
    "id": "g5UdbeyfwFhZ"
   },
   "outputs": [],
   "source": [
    "def get_final_data(data, saved_dict=saved_dict, mode_dict=mode_dict):\n",
    "    '''\n",
    "    This functions takes raw input and convert that to model required output.\n",
    "    '''\n",
    "    data.reset_index(drop=True, inplace=True)\n",
    "    data.columns = saved_dict['columns']\n",
    "    \n",
    "    data['network_bytes'] = data['dbytes'] + data['sbytes']\n",
    "    \n",
    "    dropable_col = saved_dict['to_drop'] + saved_dict['corr_col']\n",
    "    data.drop(columns=dropable_col, inplace=True)\n",
    "    \n",
    "    data = clean_data(data)\n",
    "    data = apply_log1p(data)\n",
    "    data = standardize(data)\n",
    "    data = ohencoding(data)\n",
    "    \n",
    "    return data"
   ]
  },
  {
   "cell_type": "markdown",
   "metadata": {
    "colab_type": "text",
    "id": "96616ttTVVXw"
   },
   "source": [
    "## Training and validation of models"
   ]
  },
  {
   "cell_type": "code",
   "execution_count": 13,
   "metadata": {},
   "outputs": [
    {
     "data": {
      "text/plain": [
       "Index(['srcip', 'sport', 'dstip', 'dsport', 'proto', 'state', 'dur', 'sbytes',\n",
       "       'dbytes', 'sttl', 'dttl', 'sloss', 'dloss', 'service', 'sload', 'dload',\n",
       "       'spkts', 'dpkts', 'swin', 'dwin', 'stcpb', 'dtcpb', 'smeansz',\n",
       "       'dmeansz', 'trans_depth', 'res_bdy_len', 'sjit', 'djit', 'stime',\n",
       "       'ltime', 'sintpkt', 'dintpkt', 'tcprtt', 'synack', 'ackdat',\n",
       "       'is_sm_ips_ports', 'ct_state_ttl', 'ct_flw_http_mthd', 'is_ftp_login',\n",
       "       'ct_ftp_cmd', 'ct_srv_src', 'ct_srv_dst', 'ct_dst_ltm', 'ct_src_ltm',\n",
       "       'ct_src_dport_ltm', 'ct_dst_sport_ltm', 'ct_dst_src_ltm', 'attack_cat'],\n",
       "      dtype='object')"
      ]
     },
     "execution_count": 13,
     "metadata": {},
     "output_type": "execute_result"
    }
   ],
   "source": [
    "x_test.columns"
   ]
  },
  {
   "cell_type": "code",
   "execution_count": 14,
   "metadata": {},
   "outputs": [
    {
     "data": {
      "text/plain": [
       "[array(['dhcp', 'dns', 'ftp', 'ftp-data', 'http', 'irc', 'none', 'pop3',\n",
       "        'radius', 'smtp', 'snmp', 'ssh', 'ssl'], dtype=object)]"
      ]
     },
     "execution_count": 14,
     "metadata": {},
     "output_type": "execute_result"
    }
   ],
   "source": [
    "ohe_service.categories_"
   ]
  },
  {
   "cell_type": "code",
   "execution_count": 15,
   "metadata": {
    "colab": {},
    "colab_type": "code",
    "id": "-KmqiTDryAzo"
   },
   "outputs": [],
   "source": [
    "# Using pipeline to prepare test data\n",
    "x_test = get_final_data(x_test)"
   ]
  },
  {
   "cell_type": "code",
   "execution_count": 16,
   "metadata": {
    "colab": {},
    "colab_type": "code",
    "id": "jCjkr8BHSEMR"
   },
   "outputs": [],
   "source": [
    "# Making test data sparse matrix\n",
    "x_test_csr = csr_matrix(x_test.values)\n",
    "col = x_test.columns\n",
    "\n",
    "# Creating x_test sparse dataframe\n",
    "x_test = pd.DataFrame.sparse.from_spmatrix(x_test_csr, columns=col)"
   ]
  },
  {
   "cell_type": "code",
   "execution_count": 17,
   "metadata": {
    "colab": {
     "base_uri": "https://localhost:8080/",
     "height": 34
    },
    "colab_type": "code",
    "executionInfo": {
     "elapsed": 846,
     "status": "ok",
     "timestamp": 1599029462611,
     "user": {
      "displayName": "Subrata Maji",
      "photoUrl": "https://lh3.googleusercontent.com/a-/AOh14Ghxu8VIGqB6XL51-t5wM_f1R1LdmEePYHIwb9b-=s64",
      "userId": "03124174213573157612"
     },
     "user_tz": -330
    },
    "id": "CKIi6hoWXhH9",
    "outputId": "8c35df9f-b219-448f-fe83-72953218c842"
   },
   "outputs": [
    {
     "data": {
      "text/plain": [
       "((1778032, 197), (1778032,))"
      ]
     },
     "execution_count": 17,
     "metadata": {},
     "output_type": "execute_result"
    }
   ],
   "source": [
    "x_train.shape, y_train.shape"
   ]
  },
  {
   "cell_type": "code",
   "execution_count": 18,
   "metadata": {
    "colab": {
     "base_uri": "https://localhost:8080/",
     "height": 34
    },
    "colab_type": "code",
    "executionInfo": {
     "elapsed": 963,
     "status": "ok",
     "timestamp": 1599029464501,
     "user": {
      "displayName": "Subrata Maji",
      "photoUrl": "https://lh3.googleusercontent.com/a-/AOh14Ghxu8VIGqB6XL51-t5wM_f1R1LdmEePYHIwb9b-=s64",
      "userId": "03124174213573157612"
     },
     "user_tz": -330
    },
    "id": "TNfSeNtFXloM",
    "outputId": "f3eeaa50-48f7-45ee-b3d7-3c0fa4d4a9a4"
   },
   "outputs": [
    {
     "data": {
      "text/plain": [
       "((762015, 197), (762015,))"
      ]
     },
     "execution_count": 18,
     "metadata": {},
     "output_type": "execute_result"
    }
   ],
   "source": [
    "x_test.shape, y_test.shape"
   ]
  },
  {
   "cell_type": "code",
   "execution_count": 19,
   "metadata": {
    "colab": {
     "base_uri": "https://localhost:8080/",
     "height": 34
    },
    "colab_type": "code",
    "executionInfo": {
     "elapsed": 990,
     "status": "ok",
     "timestamp": 1599029468164,
     "user": {
      "displayName": "Subrata Maji",
      "photoUrl": "https://lh3.googleusercontent.com/a-/AOh14Ghxu8VIGqB6XL51-t5wM_f1R1LdmEePYHIwb9b-=s64",
      "userId": "03124174213573157612"
     },
     "user_tz": -330
    },
    "id": "anT63qVRXnlV",
    "outputId": "5d3c154d-5343-42e6-cacf-4eabc609c314"
   },
   "outputs": [
    {
     "data": {
      "text/plain": [
       "True"
      ]
     },
     "execution_count": 19,
     "metadata": {},
     "output_type": "execute_result"
    }
   ],
   "source": [
    "all(x_train.columns == x_test.columns)"
   ]
  },
  {
   "cell_type": "markdown",
   "metadata": {
    "colab_type": "text",
    "id": "Ai4j2X1aXuyt"
   },
   "source": [
    "### Utility functions"
   ]
  },
  {
   "cell_type": "code",
   "execution_count": 20,
   "metadata": {
    "colab": {},
    "colab_type": "code",
    "id": "Gdja8j5EXq-D"
   },
   "outputs": [],
   "source": [
    "def false_alarm_rate(y_true, y_pred):\n",
    "    \"\"\"\n",
    "    This function will return False Alarm Rate for given true and predicted values.\n",
    "    False Alarm Rate is average of False Negetive Rate and False Positive Rate\n",
    "    \"\"\"\n",
    "    tn, fp, fn, tp = confusion_matrix(y_true, y_pred).ravel()\n",
    "    FPR = fp / (fp + tn)  # False positive rate\n",
    "    FNR = fn / (fn + tp)  # False negative rate\n",
    "    return (FPR+FNR)/2  # False alarm rate"
   ]
  },
  {
   "cell_type": "code",
   "execution_count": 21,
   "metadata": {
    "colab": {},
    "colab_type": "code",
    "id": "CUSBozUMX2Dc"
   },
   "outputs": [],
   "source": [
    "def hyperparam_tuning(clf, parameters, x, y, method='gridsearch', cv=None):\n",
    "    \"\"\"\n",
    "    Utility function for Tuning hyperparameters\n",
    "    \"\"\"\n",
    "    # initialization\n",
    "    scoring = {'auc':'roc_auc',\n",
    "               'f1':'f1',\n",
    "               'FAR':make_scorer(false_alarm_rate, greater_is_better=False)}  # using custom scoring function FAR.\n",
    "                \n",
    "    # param tuning\n",
    "    if method=='gridsearch':\n",
    "        # As we are using multi scoring, So we need to point refit to scoring function with which we want to evaluate score\n",
    "        tuning_clf = GridSearchCV(clf, parameters, scoring=scoring, refit='auc',\n",
    "                                  cv=cv, verbose=3, return_train_score=True)\n",
    "        result = tuning_clf.fit(x, y)\n",
    "    \n",
    "    elif method=='randomsearch':\n",
    "        tuning_clf = RandomizedSearchCV(clf, parameters, scoring=scoring, refit='auc',\n",
    "                                        cv=cv, verbose=3, return_train_score=True)\n",
    "        result = tuning_clf.fit(x, y)\n",
    "\n",
    "    return result"
   ]
  },
  {
   "cell_type": "code",
   "execution_count": 22,
   "metadata": {
    "colab": {},
    "colab_type": "code",
    "id": "00M0mXE4X5VL"
   },
   "outputs": [],
   "source": [
    "def result_visualization(tuned_clf, parameters, param1=None, param2=None):\n",
    "    \"\"\"\n",
    "    Utility function to plot the results obtained after hyper parameter tuning \n",
    "    \"\"\"\n",
    "    # getting train and test scores to plot\n",
    "    train_score = tuned_clf.cv_results_['mean_train_auc']\n",
    "    test_score = tuned_clf.cv_results_['mean_test_auc']\n",
    "\n",
    "    # print results\n",
    "    print(\"Best Score: {}\".format(tuned_clf.best_score_))\n",
    "    print(\"Best Parameters: {}\".format(tuned_clf.best_params_))\n",
    "\n",
    "    # Want to visualize score with 2 params, plot heatmap of the 3 variables\n",
    "    if param2 is not None:\n",
    "        # heatmap\n",
    "        train_cmap=sns.light_palette(\"green\")\n",
    "        test_cmap=sns.light_palette(\"blue\")\n",
    "        \n",
    "        # Figure and axis\n",
    "        fig = plt.figure(figsize=(20,5))\n",
    "        train_ax = fig.add_subplot(1,2,1)\n",
    "        test_ax = fig.add_subplot(1,2,2)\n",
    "        \n",
    "        # train heatmap\n",
    "        sns.heatmap(train_score.reshape(len(parameters[param1]), len(parameters[param2])),\n",
    "                    cmap=train_cmap, annot=True, fmt='.4f', ax=train_ax,\n",
    "                    xticklabels=parameters[param2], yticklabels=parameters[param1])\n",
    "        \n",
    "        # test heapmap\n",
    "        sns.heatmap(test_score.reshape(len(parameters[param1]), len(parameters[param2])),\n",
    "                    cmap=test_cmap, annot=True, fmt='.6f', ax=test_ax,\n",
    "                    xticklabels=parameters[param2], yticklabels=parameters[param1])\n",
    "        \n",
    "        # axis labels and plot title\n",
    "        train_ax.set_title(\"Train hyperparam heatmap\")\n",
    "        train_ax.set_xlabel(param2)\n",
    "        train_ax.set_ylabel(param1)\n",
    "\n",
    "        test_ax.set_title(\"Test hyperparam heatmap\")\n",
    "        test_ax.set_xlabel(param2)\n",
    "        test_ax.set_ylabel(param1)\n",
    "        plt.show()\n",
    "    \n",
    "    # Want to visualize score with one param, simply plot score and param\n",
    "    else:\n",
    "        plt.figure(figsize=(10,5))\n",
    "        plt.plot(np.log10(parameters[param1]), train_score, label=\"train\")\n",
    "        plt.plot(np.log10(parameters[param1]), test_score, label=\"test\")\n",
    "\n",
    "        # Plot for train data\n",
    "        for i, txt in enumerate(train_score):\n",
    "            plt.annotate((parameters[param1][i], np.round(txt, 3)), (np.log10(parameters[param1])[i], train_score[i]))\n",
    "        \n",
    "        # Plot for test data\n",
    "        for i, txt in enumerate(test_score):\n",
    "            plt.annotate((parameters[param1][i], np.round(txt, 3)), (np.log10(parameters[param1])[i], test_score[i]))\n",
    "        \n",
    "        plt.xlabel(param1)\n",
    "        plt.ylabel('performance')\n",
    "        plt.grid()\n",
    "        plt.legend()\n",
    "        plt.show()"
   ]
  },
  {
   "cell_type": "code",
   "execution_count": 23,
   "metadata": {
    "colab": {},
    "colab_type": "code",
    "id": "-Qg4Pr0dX6V8"
   },
   "outputs": [],
   "source": [
    "def evaluate_result(clf, x_train, y_train, x_test, y_test, model_name):\n",
    "    \"\"\" \n",
    "    Utility function to get result on test data from best found classifier using hyper parameter tuning.\n",
    "    Print the accuracy and False Alarm Rate for both train and test.\n",
    "    Plot confusion matrix of train and test.\n",
    "    \"\"\"\n",
    "    cmap=sns.light_palette(\"blue\")\n",
    "    labels= ['non-attack', 'attack']\n",
    "    \n",
    "    # Training te best model\n",
    "    clf.fit(x_train, y_train)\n",
    "    y_train_pred = clf.predict(x_train)  # prediction on train data\n",
    "    y_test_pred = clf.predict(x_test)  # prediction on test data\n",
    "    \n",
    "    # auc curve\n",
    "    train_fpr, train_tpr, tr_thresholds = roc_curve(y_train, y_train_pred)\n",
    "    test_fpr, test_tpr, te_thresholds = roc_curve(y_test, y_test_pred)\n",
    "    \n",
    "    # Scores of train dataset\n",
    "    train_auc = auc(train_fpr, train_tpr)\n",
    "    train_f1 = f1_score(y_train, y_train_pred)\n",
    "    train_far = false_alarm_rate(y_train, y_train_pred)\n",
    "    \n",
    "    # Scores of test dataset\n",
    "    test_auc = auc(test_fpr, test_tpr)\n",
    "    test_f1 = f1_score(y_test, y_test_pred)\n",
    "    test_far = false_alarm_rate(y_test, y_test_pred)\n",
    "    \n",
    "    # Printing the result as a table\n",
    "    x = PrettyTable()\n",
    "    x.field_names = ['Dataset', 'Model', 'AUC', 'F1-score', 'False Alarm Rate']\n",
    "    x.add_row(['Train', model_name, train_auc, train_f1, train_far])\n",
    "    x.add_row(['Test', model_name, test_auc, test_f1, test_far])\n",
    "    print(x)\n",
    "\n",
    "    # Plot AUC curve\n",
    "    plt.figure()\n",
    "    plt.plot(train_fpr, train_tpr, label=f\"Train AUC: {train_auc}\")\n",
    "    plt.plot(test_fpr, test_tpr, label=f\"Test AUC: {test_auc}\")\n",
    "    plt.grid()\n",
    "    plt.legend()\n",
    "    plt.show()\n",
    "\n",
    "    # Confusion martix of train and test\n",
    "    # Train confusion matrix\n",
    "    plt.figure(figsize=(16,5))\n",
    "    plt.subplot(1,2,1)\n",
    "    sns.heatmap(confusion_matrix(y_train, y_train_pred),\n",
    "                annot=True, cmap=cmap, fmt='d',\n",
    "                xticklabels=labels, yticklabels=labels)\n",
    "    plt.xlabel(\"Predicted\")\n",
    "    plt.ylabel(\"Actual\")\n",
    "    plt.title(\"Train Confusion Matrix\")\n",
    "\n",
    "    # Test confusion matrix\n",
    "    plt.subplot(1,2,2)\n",
    "    sns.heatmap(confusion_matrix(y_test, y_test_pred),\n",
    "                annot=True, cmap=cmap, fmt='d',\n",
    "                xticklabels=labels, yticklabels=labels)\n",
    "    plt.xlabel(\"Predicted\")\n",
    "    plt.ylabel(\"Actual\")\n",
    "    plt.title(\"Test Confusion Matrix\")\n",
    "    plt.show()\n",
    "    \n",
    "    # Returning scores of test data\n",
    "    return clf, test_auc, test_f1, test_far\n"
   ]
  },
  {
   "cell_type": "markdown",
   "metadata": {
    "colab_type": "text",
    "id": "t5ZUWwexWJiY"
   },
   "source": [
    "### Logistic Regression\n",
    "\n",
    "We are starting with basic Logistic Regression for training our data.\n",
    "\n",
    "Going tune hyperparameter \"alpha\" and \"penalty\""
   ]
  },
  {
   "cell_type": "code",
   "execution_count": 24,
   "metadata": {
    "colab": {
     "base_uri": "https://localhost:8080/",
     "height": 918
    },
    "colab_type": "code",
    "executionInfo": {
     "elapsed": 277411,
     "status": "ok",
     "timestamp": 1597909821533,
     "user": {
      "displayName": "Subrata Maji",
      "photoUrl": "https://lh3.googleusercontent.com/a-/AOh14Ghxu8VIGqB6XL51-t5wM_f1R1LdmEePYHIwb9b-=s64",
      "userId": "03124174213573157612"
     },
     "user_tz": -330
    },
    "id": "0Q7L0F_LhOtc",
    "outputId": "f683f6a2-f13c-44b7-ecb9-df1b0cffa567"
   },
   "outputs": [
    {
     "name": "stdout",
     "output_type": "stream",
     "text": [
      "Fitting 3 folds for each of 8 candidates, totalling 24 fits\n",
      "[CV 1/3] END alpha=1e-06; FAR: (train=-0.025, test=-0.025) auc: (train=0.999, test=0.999) f1: (train=0.957, test=0.956) total time=  14.0s\n",
      "[CV 2/3] END alpha=1e-06; FAR: (train=-0.026, test=-0.027) auc: (train=0.999, test=0.999) f1: (train=0.958, test=0.957) total time=  13.0s\n",
      "[CV 3/3] END alpha=1e-06; FAR: (train=-0.010, test=-0.009) auc: (train=0.999, test=0.999) f1: (train=0.955, test=0.956) total time=  13.4s\n",
      "[CV 1/3] END alpha=1e-05; FAR: (train=-0.011, test=-0.011) auc: (train=0.999, test=0.999) f1: (train=0.956, test=0.955) total time=   4.9s\n",
      "[CV 2/3] END alpha=1e-05; FAR: (train=-0.031, test=-0.032) auc: (train=0.999, test=0.999) f1: (train=0.954, test=0.954) total time=   5.0s\n",
      "[CV 3/3] END alpha=1e-05; FAR: (train=-0.020, test=-0.019) auc: (train=0.999, test=0.999) f1: (train=0.958, test=0.959) total time=   5.3s\n",
      "[CV 1/3] END alpha=0.0001; FAR: (train=-0.013, test=-0.013) auc: (train=0.999, test=0.999) f1: (train=0.956, test=0.955) total time=   3.6s\n",
      "[CV 2/3] END alpha=0.0001; FAR: (train=-0.016, test=-0.017) auc: (train=0.999, test=0.999) f1: (train=0.957, test=0.957) total time=   3.3s\n",
      "[CV 3/3] END alpha=0.0001; FAR: (train=-0.020, test=-0.019) auc: (train=0.999, test=0.999) f1: (train=0.957, test=0.958) total time=   3.4s\n",
      "[CV 1/3] END alpha=0.001; FAR: (train=-0.018, test=-0.019) auc: (train=0.999, test=0.998) f1: (train=0.945, test=0.944) total time=   3.3s\n",
      "[CV 2/3] END alpha=0.001; FAR: (train=-0.019, test=-0.019) auc: (train=0.999, test=0.999) f1: (train=0.945, test=0.945) total time=   3.3s\n",
      "[CV 3/3] END alpha=0.001; FAR: (train=-0.018, test=-0.018) auc: (train=0.999, test=0.999) f1: (train=0.945, test=0.945) total time=   3.3s\n",
      "[CV 1/3] END alpha=0.01; FAR: (train=-0.026, test=-0.026) auc: (train=0.997, test=0.997) f1: (train=0.932, test=0.931) total time=   3.0s\n",
      "[CV 2/3] END alpha=0.01; FAR: (train=-0.027, test=-0.027) auc: (train=0.997, test=0.997) f1: (train=0.931, test=0.932) total time=   3.0s\n",
      "[CV 3/3] END alpha=0.01; FAR: (train=-0.026, test=-0.026) auc: (train=0.997, test=0.997) f1: (train=0.932, test=0.932) total time=   2.9s\n",
      "[CV 1/3] END alpha=0.1; FAR: (train=-0.025, test=-0.025) auc: (train=0.997, test=0.996) f1: (train=0.929, test=0.928) total time=   2.9s\n",
      "[CV 2/3] END alpha=0.1; FAR: (train=-0.026, test=-0.026) auc: (train=0.996, test=0.997) f1: (train=0.927, test=0.928) total time=   3.0s\n",
      "[CV 3/3] END alpha=0.1; FAR: (train=-0.025, test=-0.026) auc: (train=0.997, test=0.996) f1: (train=0.928, test=0.928) total time=   2.9s\n",
      "[CV 1/3] END alpha=1.0; FAR: (train=-0.075, test=-0.075) auc: (train=0.988, test=0.988) f1: (train=0.701, test=0.701) total time=   2.8s\n",
      "[CV 2/3] END alpha=1.0; FAR: (train=-0.075, test=-0.075) auc: (train=0.988, test=0.988) f1: (train=0.701, test=0.701) total time=   2.8s\n",
      "[CV 3/3] END alpha=1.0; FAR: (train=-0.076, test=-0.076) auc: (train=0.988, test=0.988) f1: (train=0.701, test=0.701) total time=   2.9s\n",
      "[CV 1/3] END alpha=10.0; FAR: (train=-0.099, test=-0.099) auc: (train=0.960, test=0.961) f1: (train=0.671, test=0.672) total time=   2.9s\n",
      "[CV 2/3] END alpha=10.0; FAR: (train=-0.099, test=-0.100) auc: (train=0.960, test=0.960) f1: (train=0.671, test=0.670) total time=   2.9s\n",
      "[CV 3/3] END alpha=10.0; FAR: (train=-0.099, test=-0.099) auc: (train=0.960, test=0.960) f1: (train=0.668, test=0.669) total time=   2.8s\n"
     ]
    }
   ],
   "source": [
    "# Tuning \"alpha\" for l2 \"penalty\"\n",
    "clf = SGDClassifier(loss='log_loss', penalty='l2')\n",
    "param = {'alpha':np.logspace(-6, 1, 8)}  # Values of alpha\n",
    "\n",
    "lr_clf = hyperparam_tuning(clf, param, x_train_csr, y_train, cv=3)"
   ]
  },
  {
   "cell_type": "code",
   "execution_count": 25,
   "metadata": {
    "colab": {
     "base_uri": "https://localhost:8080/",
     "height": 368
    },
    "colab_type": "code",
    "executionInfo": {
     "elapsed": 999,
     "status": "ok",
     "timestamp": 1597909836026,
     "user": {
      "displayName": "Subrata Maji",
      "photoUrl": "https://lh3.googleusercontent.com/a-/AOh14Ghxu8VIGqB6XL51-t5wM_f1R1LdmEePYHIwb9b-=s64",
      "userId": "03124174213573157612"
     },
     "user_tz": -330
    },
    "id": "eYal7-dziaIM",
    "outputId": "064aeed1-dac8-46b5-b87b-91c79ef3739a"
   },
   "outputs": [
    {
     "name": "stdout",
     "output_type": "stream",
     "text": [
      "Best Score: 0.9991801027281436\n",
      "Best Parameters: {'alpha': np.float64(1e-05)}\n"
     ]
    },
    {
     "data": {
      "image/png": "[encoded data removed]",
      "text/plain": [
       "<Figure size 1000x500 with 1 Axes>"
      ]
     },
     "metadata": {},
     "output_type": "display_data"
    }
   ],
   "source": [
    "# Plotting the result to select best parameter\n",
    "result_visualization(lr_clf, param, param1='alpha')"
   ]
  },
  {
   "cell_type": "code",
   "execution_count": null,
   "metadata": {
    "colab": {
     "base_uri": "https://localhost:8080/",
     "height": 1000
    },
    "colab_type": "code",
    "executionInfo": {
     "elapsed": 708967,
     "status": "ok",
     "timestamp": 1597910581881,
     "user": {
      "displayName": "Subrata Maji",
      "photoUrl": "https://lh3.googleusercontent.com/a-/AOh14Ghxu8VIGqB6XL51-t5wM_f1R1LdmEePYHIwb9b-=s64",
      "userId": "03124174213573157612"
     },
     "user_tz": -330
    },
    "id": "rTJyN-luK0C8",
    "outputId": "7c1eeb8e-29d6-493c-9620-4a8f1249e283"
   },
   "outputs": [
    {
     "name": "stdout",
     "output_type": "stream",
     "text": [
      "Fitting 5 folds for each of 8 candidates, totalling 40 fits\n",
      "[CV 1/5] END alpha=1e-06; FAR: (train=-0.014, test=-0.015) auc: (train=0.999, test=0.999) f1: (train=0.957, test=0.956) total time=  14.4s\n",
      "[CV 2/5] END alpha=1e-06; FAR: (train=-0.033, test=-0.034) auc: (train=0.999, test=0.999) f1: (train=0.953, test=0.952) total time=  14.7s\n",
      "[CV 3/5] END alpha=1e-06; FAR: (train=-0.028, test=-0.028) auc: (train=0.999, test=0.999) f1: (train=0.954, test=0.955) total time=  16.8s\n",
      "[CV 4/5] END alpha=1e-06; FAR: (train=-0.015, test=-0.014) auc: (train=0.999, test=0.999) f1: (train=0.956, test=0.957) total time=  17.7s\n",
      "[CV 5/5] END alpha=1e-06; FAR: (train=-0.019, test=-0.019) auc: (train=0.999, test=0.999) f1: (train=0.956, test=0.956) total time=  16.0s\n",
      "[CV 1/5] END alpha=1e-05; FAR: (train=-0.020, test=-0.020) auc: (train=0.999, test=0.999) f1: (train=0.958, test=0.956) total time=   8.1s\n",
      "[CV 2/5] END alpha=1e-05; FAR: (train=-0.021, test=-0.022) auc: (train=0.999, test=0.999) f1: (train=0.957, test=0.955) total time=   9.8s\n",
      "[CV 3/5] END alpha=1e-05; FAR: (train=-0.031, test=-0.031) auc: (train=0.999, test=0.999) f1: (train=0.951, test=0.951) total time=  28.6s\n",
      "[CV 4/5] END alpha=1e-05; FAR: (train=-0.021, test=-0.021) auc: (train=0.999, test=0.999) f1: (train=0.956, test=0.956) total time=  12.4s\n",
      "[CV 5/5] END alpha=1e-05; FAR: (train=-0.032, test=-0.030) auc: (train=0.999, test=0.999) f1: (train=0.954, test=0.957) total time=   8.6s\n",
      "[CV 1/5] END alpha=0.0001; FAR: (train=-0.026, test=-0.026) auc: (train=0.999, test=0.999) f1: (train=0.952, test=0.952) total time=  16.3s\n",
      "[CV 2/5] END alpha=0.0001; FAR: (train=-0.026, test=-0.027) auc: (train=0.998, test=0.998) f1: (train=0.951, test=0.949) total time=  13.2s\n",
      "[CV 3/5] END alpha=0.0001; FAR: (train=-0.022, test=-0.022) auc: (train=0.998, test=0.998) f1: (train=0.955, test=0.956) total time=  11.6s\n",
      "[CV 4/5] END alpha=0.0001; FAR: (train=-0.027, test=-0.027) auc: (train=0.997, test=0.997) f1: (train=0.950, test=0.951) total time=  14.6s\n",
      "[CV 5/5] END alpha=0.0001; FAR: (train=-0.026, test=-0.025) auc: (train=0.998, test=0.998) f1: (train=0.952, test=0.953) total time=  18.9s\n",
      "[CV 1/5] END alpha=0.001; FAR: (train=-0.026, test=-0.026) auc: (train=0.997, test=0.997) f1: (train=0.949, test=0.948) total time=   6.6s\n",
      "[CV 2/5] END alpha=0.001; FAR: (train=-0.021, test=-0.022) auc: (train=0.999, test=0.999) f1: (train=0.951, test=0.950) total time=   5.5s\n",
      "[CV 3/5] END alpha=0.001; FAR: (train=-0.021, test=-0.020) auc: (train=0.996, test=0.996) f1: (train=0.951, test=0.952) total time=   7.5s\n",
      "[CV 4/5] END alpha=0.001; FAR: (train=-0.021, test=-0.022) auc: (train=0.995, test=0.995) f1: (train=0.945, test=0.945) total time=   5.4s\n"
     ]
    }
   ],
   "source": [
    "# Tuning \"alpha\" for l1 \"penalty\"\n",
    "clf = SGDClassifier(loss='log_loss', penalty='l1')\n",
    "param = {'alpha':np.logspace(-6, 1, 8)}  # Values of alpha\n",
    "\n",
    "lr_clf = hyperparam_tuning(clf, param, x_train_csr, y_train)"
   ]
  },
  {
   "cell_type": "code",
   "execution_count": null,
   "metadata": {
    "colab": {
     "base_uri": "https://localhost:8080/",
     "height": 368
    },
    "colab_type": "code",
    "executionInfo": {
     "elapsed": 1139,
     "status": "ok",
     "timestamp": 1597910584839,
     "user": {
      "displayName": "Subrata Maji",
      "photoUrl": "https://lh3.googleusercontent.com/a-/AOh14Ghxu8VIGqB6XL51-t5wM_f1R1LdmEePYHIwb9b-=s64",
      "userId": "03124174213573157612"
     },
     "user_tz": -330
    },
    "id": "1vDEtyKhPO3k",
    "outputId": "87ceaea6-2bbe-418e-f6de-376dc3c844bb",
    "scrolled": true
   },
   "outputs": [],
   "source": [
    "# Plotting alpha vs score\n",
    "result_visualization(lr_clf, param, 'alpha')"
   ]
  },
  {
   "cell_type": "code",
   "execution_count": null,
   "metadata": {
    "colab": {},
    "colab_type": "code",
    "id": "vMY1N9M4TGtP"
   },
   "outputs": [],
   "source": [
    "# Best LR model\n",
    "lr_bst_clf = SGDClassifier(penalty='l1', alpha=1e-6)"
   ]
  },
  {
   "cell_type": "code",
   "execution_count": null,
   "metadata": {
    "colab": {
     "base_uri": "https://localhost:8080/",
     "height": 700
    },
    "colab_type": "code",
    "executionInfo": {
     "elapsed": 78227,
     "status": "ok",
     "timestamp": 1597910835128,
     "user": {
      "displayName": "Subrata Maji",
      "photoUrl": "https://lh3.googleusercontent.com/a-/AOh14Ghxu8VIGqB6XL51-t5wM_f1R1LdmEePYHIwb9b-=s64",
      "userId": "03124174213573157612"
     },
     "user_tz": -330
    },
    "id": "IIawL5Xzi8ZO",
    "outputId": "b2ba99be-33a8-4f27-85d5-bf2321271fae"
   },
   "outputs": [],
   "source": [
    "# Getting best model's performance on train and test data\n",
    "lr_clf, lr_auc, lr_f1, lr_far = evaluate_result(lr_bst_clf, x_train, y_train, x_test, y_test, 'LR')"
   ]
  },
  {
   "cell_type": "markdown",
   "metadata": {
    "colab_type": "text",
    "id": "lBg0z22tK7tR"
   },
   "source": [
    "**Observation**\n",
    "1. Using wide range of values for \"alpha\" from 10^-6 to 10^3 and \"penalty\" l1 and l2\n",
    "2. Can observe that upto alpha=0.1 model's score is good and then its falling down heavily.\n",
    "3. The best parameter of the model for our data is \"penalty\" l1 and \"alpha\" 10^-6\n",
    "4. Both train and test auc score are very close that means model is not overfitting.\n",
    "5. Model is performing well but there are few False Positive points in the result"
   ]
  },
  {
   "cell_type": "code",
   "execution_count": null,
   "metadata": {
    "colab": {},
    "colab_type": "code",
    "id": "jls9cB24Ts3T"
   },
   "outputs": [],
   "source": [
    "# An empty dictionary to store the result of all the models\n",
    "result_dict = {\"name\":[], \"auc\":[], \"f1\":[], \"far\":[]}"
   ]
  },
  {
   "cell_type": "code",
   "execution_count": null,
   "metadata": {
    "colab": {},
    "colab_type": "code",
    "id": "dWZFoElTUW4R"
   },
   "outputs": [],
   "source": [
    "# Storinig result for LR\n",
    "result_dict['name'].append(\"LR\")\n",
    "result_dict['auc'].append(lr_auc)\n",
    "result_dict['f1'].append(lr_f1)\n",
    "result_dict['far'].append(lr_far)"
   ]
  },
  {
   "cell_type": "code",
   "execution_count": null,
   "metadata": {
    "colab": {},
    "colab_type": "code",
    "id": "0DqMB8rAF4Ct"
   },
   "outputs": [],
   "source": [
    "pickle.dump(lr_clf, open(file_path+'/lr_clf.pkl', 'wb'))"
   ]
  },
  {
   "cell_type": "code",
   "execution_count": null,
   "metadata": {
    "colab": {
     "base_uri": "https://localhost:8080/",
     "height": 85
    },
    "colab_type": "code",
    "executionInfo": {
     "elapsed": 880,
     "status": "ok",
     "timestamp": 1597910910951,
     "user": {
      "displayName": "Subrata Maji",
      "photoUrl": "https://lh3.googleusercontent.com/a-/AOh14Ghxu8VIGqB6XL51-t5wM_f1R1LdmEePYHIwb9b-=s64",
      "userId": "03124174213573157612"
     },
     "user_tz": -330
    },
    "id": "BUF2Ow4sU75Y",
    "outputId": "0e550e27-dad4-4578-be35-28943b56624a"
   },
   "outputs": [],
   "source": [
    "result_dict"
   ]
  },
  {
   "cell_type": "markdown",
   "metadata": {
    "colab_type": "text",
    "id": "E5GwZWh3V0wR"
   },
   "source": [
    "### Linear SVC\n",
    "The next model we are going to try is Linear Support Vector Classifier\n",
    "\n",
    "Tune parameters for \"alpha\" and \"penalty\""
   ]
  },
  {
   "cell_type": "code",
   "execution_count": null,
   "metadata": {
    "colab": {
     "base_uri": "https://localhost:8080/",
     "height": 1000
    },
    "colab_type": "code",
    "executionInfo": {
     "elapsed": 514283,
     "status": "ok",
     "timestamp": 1597913511020,
     "user": {
      "displayName": "Subrata Maji",
      "photoUrl": "https://lh3.googleusercontent.com/a-/AOh14Ghxu8VIGqB6XL51-t5wM_f1R1LdmEePYHIwb9b-=s64",
      "userId": "03124174213573157612"
     },
     "user_tz": -330
    },
    "id": "oDAwLUTRU73r",
    "outputId": "ce39df0f-07ee-4c6e-86c6-84a9fa2d1ede"
   },
   "outputs": [],
   "source": [
    "# Tuning \"alpha\" and \"penalty\"\n",
    "clf = SGDClassifier(loss='hinge')\n",
    "param = {'alpha':[10**x for x in range(-5,3)],  # Values for alpha\n",
    "         'penalty':['l1', 'l2']}  # l1 an d l2 penalty\n",
    "\n",
    "svm_clf = hyperparam_tuning(clf, param, x_train_csr, y_train, cv=3)"
   ]
  },
  {
   "cell_type": "code",
   "execution_count": null,
   "metadata": {
    "colab": {
     "base_uri": "https://localhost:8080/",
     "height": 384
    },
    "colab_type": "code",
    "executionInfo": {
     "elapsed": 1873,
     "status": "ok",
     "timestamp": 1597913720675,
     "user": {
      "displayName": "Subrata Maji",
      "photoUrl": "https://lh3.googleusercontent.com/a-/AOh14Ghxu8VIGqB6XL51-t5wM_f1R1LdmEePYHIwb9b-=s64",
      "userId": "03124174213573157612"
     },
     "user_tz": -330
    },
    "id": "2qiuMgblaPeP",
    "outputId": "fcf5058b-7465-48c6-fd27-2487d45c8b35"
   },
   "outputs": [],
   "source": [
    "# Visualising scores, using heatmap to check the performance on \"alpha\" and \"penalty\"\n",
    "result_visualization(svm_clf, param, 'alpha', 'penalty')"
   ]
  },
  {
   "cell_type": "code",
   "execution_count": null,
   "metadata": {
    "colab": {},
    "colab_type": "code",
    "id": "uUyhsaPJQDyQ"
   },
   "outputs": [],
   "source": [
    "# Best svc model\n",
    "best_svm_clf = svm_clf.best_estimator_"
   ]
  },
  {
   "cell_type": "code",
   "execution_count": null,
   "metadata": {
    "colab": {
     "base_uri": "https://localhost:8080/",
     "height": 700
    },
    "colab_type": "code",
    "executionInfo": {
     "elapsed": 14977,
     "status": "ok",
     "timestamp": 1597913797141,
     "user": {
      "displayName": "Subrata Maji",
      "photoUrl": "https://lh3.googleusercontent.com/a-/AOh14Ghxu8VIGqB6XL51-t5wM_f1R1LdmEePYHIwb9b-=s64",
      "userId": "03124174213573157612"
     },
     "user_tz": -330
    },
    "id": "_NU-WNLNeG35",
    "outputId": "e61d1804-410c-42d4-e268-62803ba6a007"
   },
   "outputs": [],
   "source": [
    "# Model performance on train and test\n",
    "svm_clf, svm_auc, svm_f1, svm_far = evaluate_result(clf, x_train_csr, y_train, x_test_csr, y_test, \"SVM\")"
   ]
  },
  {
   "cell_type": "markdown",
   "metadata": {
    "colab_type": "text",
    "id": "BHASg09nQpy_"
   },
   "source": [
    "**Observation**\n",
    "1. Using wide range of \"alpha\" values from 10^-5 to 10^2 and l1, l2 \"penalty\"\n",
    "2. For penalty=l1 model is behaving like a random model with auc=0.5 from alpha=1 to 100.\n",
    "3. Best set of parameters for the model is alpha=10^-4 and penalty=l2\n",
    "4. Train and Test score is very close so no overfitting here, getting better value of auc and FAR tha Logistic Regression\n",
    "5. FAR value of this model is really good. The no of FP increased than LR but there are very few FN points in the result."
   ]
  },
  {
   "cell_type": "code",
   "execution_count": null,
   "metadata": {
    "colab": {},
    "colab_type": "code",
    "id": "RqHrLdm0ebQ_"
   },
   "outputs": [],
   "source": [
    "# Saving result of SVM\n",
    "result_dict['name'].append(\"SVM\")\n",
    "result_dict['auc'].append(svm_auc)\n",
    "result_dict['f1'].append(svm_f1)\n",
    "result_dict['far'].append(svm_far)"
   ]
  },
  {
   "cell_type": "code",
   "execution_count": null,
   "metadata": {
    "colab": {},
    "colab_type": "code",
    "id": "0pKklxvsFhVO"
   },
   "outputs": [],
   "source": [
    "pickle.dump(svm_clf, open(file_path+'/svm_clf.pkl', 'wb'))"
   ]
  },
  {
   "cell_type": "code",
   "execution_count": null,
   "metadata": {
    "colab": {},
    "colab_type": "code",
    "id": "rMxBuhLsehEv"
   },
   "outputs": [],
   "source": [
    "pickle.dump(result_dict, open('result_dict.pkl', 'wb'))"
   ]
  },
  {
   "cell_type": "markdown",
   "metadata": {
    "colab_type": "text",
    "id": "p8i-vIrI3n7A"
   },
   "source": [
    "### Decision Tree\n",
    "Trying out DT for the next model.\n",
    "\n",
    "Tune parameters for \"max_depth\", \"min_samples_split\" and \"min_samples_leaf\""
   ]
  },
  {
   "cell_type": "markdown",
   "metadata": {
    "colab_type": "text",
    "id": "tLpOoPOfa1x1"
   },
   "source": []
  },
  {
   "cell_type": "code",
   "execution_count": null,
   "metadata": {
    "colab": {
     "base_uri": "https://localhost:8080/",
     "height": 1000
    },
    "colab_type": "code",
    "executionInfo": {
     "elapsed": 920115,
     "status": "ok",
     "timestamp": 1597915012654,
     "user": {
      "displayName": "Subrata Maji",
      "photoUrl": "https://lh3.googleusercontent.com/a-/AOh14Ghxu8VIGqB6XL51-t5wM_f1R1LdmEePYHIwb9b-=s64",
      "userId": "03124174213573157612"
     },
     "user_tz": -330
    },
    "id": "Sag139CvjfsB",
    "outputId": "1d7b6f1d-e51d-4858-ada4-f19670ff06e5"
   },
   "outputs": [],
   "source": [
    "# DT classifier\n",
    "clf = DecisionTreeClassifier()\n",
    "param = {'max_depth':[8, 10, 12, 14],\n",
    "         'min_samples_split':[2, 4, 6]}\n",
    "\n",
    "dt_clf = hyperparam_tuning(clf, param, x_train_csr, y_train, cv=3)"
   ]
  },
  {
   "cell_type": "code",
   "execution_count": null,
   "metadata": {
    "colab": {
     "base_uri": "https://localhost:8080/",
     "height": 385
    },
    "colab_type": "code",
    "executionInfo": {
     "elapsed": 1310,
     "status": "ok",
     "timestamp": 1597915042665,
     "user": {
      "displayName": "Subrata Maji",
      "photoUrl": "https://lh3.googleusercontent.com/a-/AOh14Ghxu8VIGqB6XL51-t5wM_f1R1LdmEePYHIwb9b-=s64",
      "userId": "03124174213573157612"
     },
     "user_tz": -330
    },
    "id": "P2P5xm7YkitG",
    "outputId": "9f9bc915-f8b8-4ead-9367-8bb5d7510bbe"
   },
   "outputs": [],
   "source": [
    "# Plotting heatmap of scores with params\n",
    "result_visualization(dt_clf, param, 'max_depth', 'min_samples_split')"
   ]
  },
  {
   "cell_type": "code",
   "execution_count": null,
   "metadata": {
    "colab": {
     "base_uri": "https://localhost:8080/",
     "height": 119
    },
    "colab_type": "code",
    "executionInfo": {
     "elapsed": 900,
     "status": "ok",
     "timestamp": 1597912903914,
     "user": {
      "displayName": "Subrata Maji",
      "photoUrl": "https://lh3.googleusercontent.com/a-/AOh14Ghxu8VIGqB6XL51-t5wM_f1R1LdmEePYHIwb9b-=s64",
      "userId": "03124174213573157612"
     },
     "user_tz": -330
    },
    "id": "oJpJivSKnnM_",
    "outputId": "02b13a54-e5f0-4a03-b9da-0f95b4887c39"
   },
   "outputs": [],
   "source": [
    "dt_clf.best_estimator_"
   ]
  },
  {
   "cell_type": "code",
   "execution_count": null,
   "metadata": {
    "colab": {
     "base_uri": "https://localhost:8080/",
     "height": 408
    },
    "colab_type": "code",
    "executionInfo": {
     "elapsed": 1184655,
     "status": "ok",
     "timestamp": 1597912834734,
     "user": {
      "displayName": "Subrata Maji",
      "photoUrl": "https://lh3.googleusercontent.com/a-/AOh14Ghxu8VIGqB6XL51-t5wM_f1R1LdmEePYHIwb9b-=s64",
      "userId": "03124174213573157612"
     },
     "user_tz": -330
    },
    "id": "sRCptt-RlCPs",
    "outputId": "3c8a5ce2-0258-4925-a95f-35cb2eafaec4"
   },
   "outputs": [],
   "source": [
    "# Tuning \"min_samples_leaf\" on top of best found params\n",
    "clf = dt_clf.best_estimator_\n",
    "param = {'min_samples_leaf':[9, 11, 13]}\n",
    "\n",
    "dt_clf = hyperparam_tuning(clf, param, x_train_csr, y_train,cv=3)"
   ]
  },
  {
   "cell_type": "code",
   "execution_count": null,
   "metadata": {
    "colab": {
     "base_uri": "https://localhost:8080/",
     "height": 369
    },
    "colab_type": "code",
    "executionInfo": {
     "elapsed": 1126,
     "status": "ok",
     "timestamp": 1597912840448,
     "user": {
      "displayName": "Subrata Maji",
      "photoUrl": "https://lh3.googleusercontent.com/a-/AOh14Ghxu8VIGqB6XL51-t5wM_f1R1LdmEePYHIwb9b-=s64",
      "userId": "03124174213573157612"
     },
     "user_tz": -330
    },
    "id": "4ngvGAQPobh8",
    "outputId": "409994a4-2918-4f44-b174-d7d905b1af6c"
   },
   "outputs": [],
   "source": [
    "result_visualization(dt_clf, param, 'min_samples_leaf')"
   ]
  },
  {
   "cell_type": "markdown",
   "metadata": {
    "colab_type": "text",
    "id": "JvrI_BsnWm6Y"
   },
   "source": [
    "Best value of \"min_samples_leaf\" is 11"
   ]
  },
  {
   "cell_type": "code",
   "execution_count": null,
   "metadata": {
    "colab": {},
    "colab_type": "code",
    "id": "fbMf_hAt59Bo"
   },
   "outputs": [],
   "source": [
    "dt_param = {'max_depth': 10, 'min_samples_split': 6, 'min_samples_leaf':9}\n",
    "\n",
    "dt_best_clf = DecisionTreeClassifier(**dt_param)"
   ]
  },
  {
   "cell_type": "code",
   "execution_count": null,
   "metadata": {
    "colab": {
     "base_uri": "https://localhost:8080/",
     "height": 700
    },
    "colab_type": "code",
    "executionInfo": {
     "elapsed": 43178,
     "status": "ok",
     "timestamp": 1597915237494,
     "user": {
      "displayName": "Subrata Maji",
      "photoUrl": "https://lh3.googleusercontent.com/a-/AOh14Ghxu8VIGqB6XL51-t5wM_f1R1LdmEePYHIwb9b-=s64",
      "userId": "03124174213573157612"
     },
     "user_tz": -330
    },
    "id": "iqZ8Mk8YlekD",
    "outputId": "054fab3a-d9f5-4996-b858-21929cdc42ac"
   },
   "outputs": [],
   "source": [
    "dt_clf, dt_auc, dt_f1, dt_far = evaluate_result(dt_best_clf, x_train_csr, y_train, x_test_csr, y_test, 'DT')"
   ]
  },
  {
   "cell_type": "code",
   "execution_count": null,
   "metadata": {
    "colab": {},
    "colab_type": "code",
    "id": "GDHesPFVK77_"
   },
   "outputs": [],
   "source": [
    "# Saving the Model to disk\n",
    "pickle.dump(dt_clf, open(file_path+'/dt_clf.pkl', 'wb'))"
   ]
  },
  {
   "cell_type": "code",
   "execution_count": null,
   "metadata": {
    "colab": {},
    "colab_type": "code",
    "id": "xj_yzxv7ktR6"
   },
   "outputs": [],
   "source": [
    "result_dict = pickle.load(open('./result_dict.pkl', 'rb'))"
   ]
  },
  {
   "cell_type": "code",
   "execution_count": null,
   "metadata": {
    "colab": {},
    "colab_type": "code",
    "id": "dLcOw5Fh6nYb"
   },
   "outputs": [],
   "source": [
    "# Saving scores of DT\n",
    "result_dict['name'].append(\"DT\")\n",
    "result_dict['auc'].append(dt_auc)\n",
    "result_dict['f1'].append(dt_f1)\n",
    "result_dict['far'].append(dt_far)"
   ]
  },
  {
   "cell_type": "code",
   "execution_count": null,
   "metadata": {
    "colab": {
     "base_uri": "https://localhost:8080/",
     "height": 85
    },
    "colab_type": "code",
    "executionInfo": {
     "elapsed": 663,
     "status": "ok",
     "timestamp": 1597915286570,
     "user": {
      "displayName": "Subrata Maji",
      "photoUrl": "https://lh3.googleusercontent.com/a-/AOh14Ghxu8VIGqB6XL51-t5wM_f1R1LdmEePYHIwb9b-=s64",
      "userId": "03124174213573157612"
     },
     "user_tz": -330
    },
    "id": "Y9-MH-mLy6Bg",
    "outputId": "fc14c094-978d-4f1f-8739-232f49ca55cf"
   },
   "outputs": [],
   "source": [
    "result_dict"
   ]
  },
  {
   "cell_type": "markdown",
   "metadata": {
    "colab_type": "text",
    "id": "oGI9EVReftQQ"
   },
   "source": [
    "**Observation**\n",
    "1. Tuning parameters for \"max_depth\", \"min_sampples_split\" and \"min_samples_leaf\".\n",
    "2. Performance is mostly dependent on \"max_depth\" and less dependent on other 2 params.\n",
    "3. Best parameters for the model max_depth=10, min_samples_split=6 and min_samples_leaf=9\n",
    "4. Train and Test score is very close so no overfitting here, getting better value of F1 score with this model than the other 2 abve.\n",
    "5. NO of False Positive reduced for this model."
   ]
  },
  {
   "cell_type": "markdown",
   "metadata": {
    "colab_type": "text",
    "id": "f6k1OFgPtn06"
   },
   "source": [
    "<br>"
   ]
  },
  {
   "cell_type": "markdown",
   "metadata": {
    "colab_type": "text",
    "id": "tGdKsgCXS_9D"
   },
   "source": [
    "## Cross Validation function"
   ]
  },
  {
   "cell_type": "markdown",
   "metadata": {
    "colab_type": "text",
    "id": "ZmOUWosLhZBS"
   },
   "source": [
    "For Random Forest and XGBClassifier, we will tuning its hyperparameters with train and cv data and using loops. Because the dataset is very large and with grid or randomsearch it will take so much time."
   ]
  },
  {
   "cell_type": "code",
   "execution_count": null,
   "metadata": {
    "colab": {},
    "colab_type": "code",
    "id": "qmHuzdT5Zpov"
   },
   "outputs": [],
   "source": [
    "# Splitting train in train and cv data\n",
    "x_train_new_csr, x_cv_csr, y_train, y_cv = train_test_split(x_train_csr, y_train, test_size=0.2, random_state=42)"
   ]
  },
  {
   "cell_type": "code",
   "execution_count": null,
   "metadata": {
    "colab": {
     "base_uri": "https://localhost:8080/",
     "height": 119
    },
    "colab_type": "code",
    "executionInfo": {
     "elapsed": 853,
     "status": "ok",
     "timestamp": 1599029500185,
     "user": {
      "displayName": "Subrata Maji",
      "photoUrl": "https://lh3.googleusercontent.com/a-/AOh14Ghxu8VIGqB6XL51-t5wM_f1R1LdmEePYHIwb9b-=s64",
      "userId": "03124174213573157612"
     },
     "user_tz": -330
    },
    "id": "lwrNTOqlplEj",
    "outputId": "763bc841-627f-4465-fa98-09da9320b708"
   },
   "outputs": [],
   "source": [
    "x_train_new_csr.shape, y_train.shape, x_cv_csr.shape, y_cv.shape, x_test_csr.shape, y_test.shape"
   ]
  },
  {
   "cell_type": "code",
   "execution_count": null,
   "metadata": {
    "colab": {},
    "colab_type": "code",
    "id": "_0UsiiIRnATJ"
   },
   "outputs": [],
   "source": [
    "def cross_validation(clf_name, param, param_tune,\n",
    "                     x_train=x_train_new_csr, y_train=y_train, x_cv=x_cv_csr, y_cv=y_cv):\n",
    "    \"\"\"\n",
    "    Using this function to cross validate with train and cv data.\n",
    "    Parameters:\n",
    "        clf_name = Name of the classifier\n",
    "        param = Dictionary of hyperparameters and params for classifier\n",
    "        param_tune = Name of the parameter to tune\n",
    "        x_train, y_train = Train data and Train label\n",
    "        x_cv, y_cv = CV data and CV label\n",
    "    \"\"\"\n",
    "    # Initializing empty list to store train and cv scores\n",
    "    train_auc_list = []\n",
    "    cv_auc_list = []\n",
    "    \n",
    "    # Assigning arguments to variables\n",
    "    hyper_param = param_tune\n",
    "    values = param.pop(hyper_param)\n",
    "    classifier = clf_name\n",
    "\n",
    "    # Looping through the list of hyper parameter\n",
    "    for i in tqdm(values):\n",
    "        clf = classifier(**{hyper_param:i}, **param, n_jobs=-1)\n",
    "        clf.fit(x_train, y_train)  # Training\n",
    "\n",
    "        # Predicting probability of targets\n",
    "        y_train_pred = clf.predict_proba(x_train)[:,1]\n",
    "        y_cv_pred = clf.predict_proba(x_cv)[:,1]\n",
    "\n",
    "        # Getting scores\n",
    "        train_auc_list.append(roc_auc_score(y_train, y_train_pred))\n",
    "        cv_auc_list.append(roc_auc_score(y_cv, y_cv_pred))\n",
    "\n",
    "        print(\"For {}: {}, train auc: {} and test auc {}\".format(hyper_param, i, train_auc_list[-1], cv_auc_list[-1]))\n",
    "    \n",
    "    # Plotting scores\n",
    "    plt.figure(figsize=(10,5))\n",
    "    plt.plot(values, train_auc_list, label=\"train\")\n",
    "    plt.plot(values, cv_auc_list, label=\"cv\")\n",
    "\n",
    "    for i, txt in enumerate(train_auc_list):\n",
    "        plt.annotate((values[i], np.round(txt, 3)), (values[i], train_auc_list[i]))\n",
    "    for i, txt in enumerate(cv_auc_list):\n",
    "        plt.annotate((values[i], np.round(txt, 3)), (values[i], cv_auc_list[i]))\n",
    "    \n",
    "    plt.xlabel(hyper_param)\n",
    "    plt.ylabel('auc score')\n",
    "    plt.grid()\n",
    "    plt.legend()\n",
    "    plt.show()\n",
    "\n",
    "    # Finding best parameter with highest cv score\n",
    "    best_param = np.argmax(cv_auc_list)\n",
    "    clf = classifier(**{hyper_param:values[best_param]}, **param)  # Trained model\n",
    "\n",
    "    return clf, hyper_param, values[best_param]"
   ]
  },
  {
   "cell_type": "markdown",
   "metadata": {
    "colab_type": "text",
    "id": "sYfihypoLScu"
   },
   "source": [
    "### Random Forest\n",
    "\n",
    "Trying Random Forest Classifier next.\n",
    "<br>\n",
    "Tuning 'n_estimators', 'max_depth', 'min_samples_split' and 'criterion'"
   ]
  },
  {
   "cell_type": "code",
   "execution_count": null,
   "metadata": {
    "colab": {},
    "colab_type": "code",
    "id": "uZomMRa7q8qT"
   },
   "outputs": [],
   "source": [
    "# Classifier Name\n",
    "CLF_NAME = RandomForestClassifier"
   ]
  },
  {
   "cell_type": "code",
   "execution_count": null,
   "metadata": {
    "colab": {
     "base_uri": "https://localhost:8080/",
     "height": 420
    },
    "colab_type": "code",
    "executionInfo": {
     "elapsed": 3125247,
     "status": "ok",
     "timestamp": 1597691029033,
     "user": {
      "displayName": "Subrata Maji",
      "photoUrl": "https://lh3.googleusercontent.com/a-/AOh14Ghxu8VIGqB6XL51-t5wM_f1R1LdmEePYHIwb9b-=s64",
      "userId": "03124174213573157612"
     },
     "user_tz": -330
    },
    "id": "66J3boSXO4b4",
    "outputId": "17fb3177-1886-45a9-e6cc-1aa62af63691"
   },
   "outputs": [],
   "source": [
    "# Tuning No of estimators\n",
    "param = {'n_estimators':[100, 200, 300, 400]}\n",
    "rf_clf, param1, val1 = cross_validation(CLF_NAME, param, 'n_estimators')"
   ]
  },
  {
   "cell_type": "code",
   "execution_count": null,
   "metadata": {
    "colab": {
     "base_uri": "https://localhost:8080/",
     "height": 403
    },
    "colab_type": "code",
    "executionInfo": {
     "elapsed": 1710098,
     "status": "ok",
     "timestamp": 1597918264976,
     "user": {
      "displayName": "Subrata Maji",
      "photoUrl": "https://lh3.googleusercontent.com/a-/AOh14Ghxu8VIGqB6XL51-t5wM_f1R1LdmEePYHIwb9b-=s64",
      "userId": "03124174213573157612"
     },
     "user_tz": -330
    },
    "id": "LlMxK0be0p-E",
    "outputId": "7f091911-d511-4bf5-ba36-1e7a37703555"
   },
   "outputs": [],
   "source": [
    "# Tuning Max depth\n",
    "param = {'max_depth':[20, 22, 24]}\n",
    "dt_clf, param2, val2 = cross_validation(CLF_NAME, param, 'max_depth')"
   ]
  },
  {
   "cell_type": "code",
   "execution_count": null,
   "metadata": {
    "colab": {
     "base_uri": "https://localhost:8080/",
     "height": 403
    },
    "colab_type": "code",
    "executionInfo": {
     "elapsed": 644490,
     "status": "ok",
     "timestamp": 1597694893288,
     "user": {
      "displayName": "Subrata Maji",
      "photoUrl": "https://lh3.googleusercontent.com/a-/AOh14Ghxu8VIGqB6XL51-t5wM_f1R1LdmEePYHIwb9b-=s64",
      "userId": "03124174213573157612"
     },
     "user_tz": -330
    },
    "id": "q4uWsVn1gNOy",
    "outputId": "c6ea13e3-5c4f-4010-db2d-d23c4878a4c8"
   },
   "outputs": [],
   "source": [
    "# Tuning Min samples split\n",
    "param = {'min_samples_split':[2, 4, 6], 'max_depth':22}\n",
    "dt_clf = cross_validation(CLF_NAME, param, 'min_samples_split')"
   ]
  },
  {
   "cell_type": "code",
   "execution_count": null,
   "metadata": {
    "colab": {
     "base_uri": "https://localhost:8080/",
     "height": 388
    },
    "colab_type": "code",
    "executionInfo": {
     "elapsed": 410626,
     "status": "ok",
     "timestamp": 1597695705835,
     "user": {
      "displayName": "Subrata Maji",
      "photoUrl": "https://lh3.googleusercontent.com/a-/AOh14Ghxu8VIGqB6XL51-t5wM_f1R1LdmEePYHIwb9b-=s64",
      "userId": "03124174213573157612"
     },
     "user_tz": -330
    },
    "id": "sTYFXM24hFCO",
    "outputId": "18b6b0fb-7538-4ee0-b0c3-a39090b57eec"
   },
   "outputs": [],
   "source": [
    "# Tuning Criterion\n",
    "param = {'criterion':['gini', 'entropy'], 'min_samples_split':6, 'max_depth':22}\n",
    "dt_clf, _, _ = cross_validation(CLF_NAME, param, 'criterion')"
   ]
  },
  {
   "cell_type": "code",
   "execution_count": null,
   "metadata": {
    "colab": {},
    "colab_type": "code",
    "id": "QC3tLYzjivEa"
   },
   "outputs": [],
   "source": [
    "# Best RandomForest model\n",
    "rf_bst_clf = RandomForestClassifier(criterion='gini', max_depth=22, min_samples_split=6, n_estimators=300, n_jobs=-1)"
   ]
  },
  {
   "cell_type": "code",
   "execution_count": null,
   "metadata": {
    "colab": {
     "base_uri": "https://localhost:8080/",
     "height": 887
    },
    "colab_type": "code",
    "executionInfo": {
     "elapsed": 1295736,
     "status": "ok",
     "timestamp": 1597919888732,
     "user": {
      "displayName": "Subrata Maji",
      "photoUrl": "https://lh3.googleusercontent.com/a-/AOh14Ghxu8VIGqB6XL51-t5wM_f1R1LdmEePYHIwb9b-=s64",
      "userId": "03124174213573157612"
     },
     "user_tz": -330
    },
    "id": "FM7TN8askEDj",
    "outputId": "89118023-96cc-441c-877e-564cb30f3730"
   },
   "outputs": [],
   "source": [
    "# Getting result on train and test data\n",
    "evaluate_result(rf_bst_clf, x_train_new_csr, y_train, x_test_csr, y_test, \"RF\")"
   ]
  },
  {
   "cell_type": "markdown",
   "metadata": {
    "colab_type": "text",
    "id": "b7y-QkaUunnW"
   },
   "source": [
    "**Observation**\n",
    "1. Tuning lots of parameters for this classifier with appropriate values.\n",
    "2. Performance is mostly dependent on \"n_estimators\", \"max_depth\" and less dependent on other 2 params.\n",
    "3. Best parameters for the model: criterion='gini', max_depth=22, min_samples_split=6, n_estimators=300\n",
    "4. Train and Test score is  close but compared to above models there is a gap between train and test score. So it is overfitting on train data if wwe compare with above models. But the gap is very low so not much of overfitting.\n",
    "5. No of False Positive reduced heavily, but No of False Negetive incresed."
   ]
  },
  {
   "cell_type": "code",
   "execution_count": null,
   "metadata": {
    "colab": {},
    "colab_type": "code",
    "id": "eaSzzR-nc_Po"
   },
   "outputs": [],
   "source": [
    "pickle.dump(rf_bst_clf, open(file_path+'/rf_best_clf.pkl', 'wb'))"
   ]
  },
  {
   "cell_type": "code",
   "execution_count": null,
   "metadata": {
    "colab": {},
    "colab_type": "code",
    "id": "C5cavmPmGUcX"
   },
   "outputs": [],
   "source": [
    "result_dict = pickle.load(open('result_dict.pkl', 'rb'))"
   ]
  },
  {
   "cell_type": "code",
   "execution_count": null,
   "metadata": {
    "colab": {},
    "colab_type": "code",
    "id": "4EfYGDSlJcCU"
   },
   "outputs": [],
   "source": [
    "# Adding results\n",
    "result_dict['name'].append(\"RF\")\n",
    "result_dict['auc'].append(0.9854768258366028)\n",
    "result_dict['f1'].append(0.9767504956694146)\n",
    "result_dict['far'].append(0.01452317416339732)"
   ]
  },
  {
   "cell_type": "code",
   "execution_count": null,
   "metadata": {
    "colab": {
     "base_uri": "https://localhost:8080/",
     "height": 173
    },
    "colab_type": "code",
    "executionInfo": {
     "elapsed": 1133,
     "status": "ok",
     "timestamp": 1597919953826,
     "user": {
      "displayName": "Subrata Maji",
      "photoUrl": "https://lh3.googleusercontent.com/a-/AOh14Ghxu8VIGqB6XL51-t5wM_f1R1LdmEePYHIwb9b-=s64",
      "userId": "03124174213573157612"
     },
     "user_tz": -330
    },
    "id": "Sj5Kt62UJs6d",
    "outputId": "377ceb1a-2def-4f93-dc9e-8a469dcd9367"
   },
   "outputs": [],
   "source": [
    "pd.DataFrame(result_dict)"
   ]
  },
  {
   "cell_type": "code",
   "execution_count": null,
   "metadata": {
    "colab": {},
    "colab_type": "code",
    "id": "hzu20rI2Jt-c"
   },
   "outputs": [],
   "source": [
    "pickle.dump(result_dict, open(file_path+'/final_result_dict.pkl', 'wb'))"
   ]
  },
  {
   "cell_type": "markdown",
   "metadata": {
    "colab_type": "text",
    "id": "BfELATx3LV9p"
   },
   "source": [
    "### GBDT\n",
    "\n",
    "Trying out Gradient boosted decision tree.\n",
    "\n",
    "For this model there are lots of hyperparameters to tune like, 'learning_rate', 'max_depth', 'colsample_bylevel', 'subsample' and 'n_estimators'"
   ]
  },
  {
   "cell_type": "code",
   "execution_count": null,
   "metadata": {
    "colab": {},
    "colab_type": "code",
    "id": "XQ9WpPOTsDe7"
   },
   "outputs": [],
   "source": [
    "CLF_NAME = xgb.XGBClassifier"
   ]
  },
  {
   "cell_type": "code",
   "execution_count": null,
   "metadata": {
    "colab": {
     "base_uri": "https://localhost:8080/",
     "height": 403
    },
    "colab_type": "code",
    "executionInfo": {
     "elapsed": 1983487,
     "status": "ok",
     "timestamp": 1597732863991,
     "user": {
      "displayName": "Subrata Maji",
      "photoUrl": "https://lh3.googleusercontent.com/a-/AOh14Ghxu8VIGqB6XL51-t5wM_f1R1LdmEePYHIwb9b-=s64",
      "userId": "03124174213573157612"
     },
     "user_tz": -330
    },
    "id": "j-Jup5ZzJ7f-",
    "outputId": "25215f06-e004-444c-953f-d30a38b78ea6"
   },
   "outputs": [],
   "source": [
    "param = {'learning_rate':[0.001, 0.01, 0.1]}\n",
    "xgb_clf = cross_validation(CLF_NAME, param, 'learning_rate')"
   ]
  },
  {
   "cell_type": "code",
   "execution_count": null,
   "metadata": {
    "colab": {
     "base_uri": "https://localhost:8080/",
     "height": 403
    },
    "colab_type": "code",
    "executionInfo": {
     "elapsed": 4786489,
     "status": "ok",
     "timestamp": 1597741018308,
     "user": {
      "displayName": "Subrata Maji",
      "photoUrl": "https://lh3.googleusercontent.com/a-/AOh14Ghxu8VIGqB6XL51-t5wM_f1R1LdmEePYHIwb9b-=s64",
      "userId": "03124174213573157612"
     },
     "user_tz": -330
    },
    "id": "02sLwywqLgD-",
    "outputId": "e6594845-53a8-4ccd-e1d8-472bc282b7be"
   },
   "outputs": [],
   "source": [
    "param = {'max_depth':[4, 8, 12]}\n",
    "\n",
    "xgb_clf, _, _ = cross_validation(CLF_NAME, param, 'max_depth')\n"
   ]
  },
  {
   "cell_type": "code",
   "execution_count": null,
   "metadata": {},
   "outputs": [],
   "source": [
    "x_train_test, y_train_test = pickle.load(open(file_path+'/final_train.pkl', 'rb'))"
   ]
  },
  {
   "cell_type": "code",
   "execution_count": null,
   "metadata": {
    "colab": {},
    "colab_type": "code",
    "id": "uLqIKQobzAbk"
   },
   "outputs": [],
   "source": [
    "train_sample = np.random.randint(0, x_train_new_csr.shape[0], size=700000)"
   ]
  },
  {
   "cell_type": "code",
   "execution_count": null,
   "metadata": {},
   "outputs": [],
   "source": [
    "train_sample"
   ]
  },
  {
   "cell_type": "code",
   "execution_count": null,
   "metadata": {},
   "outputs": [],
   "source": [
    "x_train_new_csr[train_sample]"
   ]
  },
  {
   "cell_type": "code",
   "execution_count": null,
   "metadata": {},
   "outputs": [],
   "source": [
    "y_train.shape"
   ]
  },
  {
   "cell_type": "code",
   "execution_count": null,
   "metadata": {
    "colab": {
     "base_uri": "https://localhost:8080/",
     "height": 403
    },
    "colab_type": "code",
    "executionInfo": {
     "elapsed": 609523,
     "status": "ok",
     "timestamp": 1597742432479,
     "user": {
      "displayName": "Subrata Maji",
      "photoUrl": "https://lh3.googleusercontent.com/a-/AOh14Ghxu8VIGqB6XL51-t5wM_f1R1LdmEePYHIwb9b-=s64",
      "userId": "03124174213573157612"
     },
     "user_tz": -330
    },
    "id": "Y8CnO2Ovy3Uj",
    "outputId": "8b014ddc-fca0-4cd3-caee-5020a2966347"
   },
   "outputs": [],
   "source": [
    "param = {'colsample_bylevel':[0.1, 0.5, 1]}\n",
    "xgb_clf,_,_ = cross_validation(CLF_NAME, param, 'colsample_bylevel', x_train=x_train_new_csr[train_sample], y_train=y_train.iloc[train_sample])"
   ]
  },
  {
   "cell_type": "code",
   "execution_count": null,
   "metadata": {
    "colab": {
     "base_uri": "https://localhost:8080/",
     "height": 422
    },
    "colab_type": "code",
    "executionInfo": {
     "elapsed": 1311029,
     "status": "ok",
     "timestamp": 1597743835133,
     "user": {
      "displayName": "Subrata Maji",
      "photoUrl": "https://lh3.googleusercontent.com/a-/AOh14Ghxu8VIGqB6XL51-t5wM_f1R1LdmEePYHIwb9b-=s64",
      "userId": "03124174213573157612"
     },
     "user_tz": -330
    },
    "id": "8FUVFB-Z3xen",
    "outputId": "fb6a30e0-a21c-4493-fc76-7bb9909276eb"
   },
   "outputs": [],
   "source": [
    "param = {'subsample':[0.1, 0.4, 0.7, 1]}\n",
    "xgb_xlf,_,_ = cross_validation(CLF_NAME, param, 'subsample', x_train=x_train_new_csr[train_sample], y_train=y_train_test.iloc[train_sample])"
   ]
  },
  {
   "cell_type": "code",
   "execution_count": null,
   "metadata": {
    "colab": {
     "base_uri": "https://localhost:8080/",
     "height": 403
    },
    "colab_type": "code",
    "executionInfo": {
     "elapsed": 2832866,
     "status": "ok",
     "timestamp": 1597750190231,
     "user": {
      "displayName": "Subrata Maji",
      "photoUrl": "https://lh3.googleusercontent.com/a-/AOh14Ghxu8VIGqB6XL51-t5wM_f1R1LdmEePYHIwb9b-=s64",
      "userId": "03124174213573157612"
     },
     "user_tz": -330
    },
    "id": "Bo2IxsCnKQ25",
    "outputId": "50a1b6d5-f389-4dbb-f058-89ac5f520713"
   },
   "outputs": [],
   "source": [
    "param = {'n_estimators':[200, 300, 400]}\n",
    "xgb_clf,_,_ = cross_validation(CLF_NAME, param, 'n_estimators', x_train=x_train_new_csr[train_sample], y_train=y_train_test.iloc[train_sample])"
   ]
  },
  {
   "cell_type": "code",
   "execution_count": null,
   "metadata": {
    "colab": {
     "base_uri": "https://localhost:8080/",
     "height": 700
    },
    "colab_type": "code",
    "executionInfo": {
     "elapsed": 1941511,
     "status": "ok",
     "timestamp": 1597926034039,
     "user": {
      "displayName": "Subrata Maji",
      "photoUrl": "https://lh3.googleusercontent.com/a-/AOh14Ghxu8VIGqB6XL51-t5wM_f1R1LdmEePYHIwb9b-=s64",
      "userId": "03124174213573157612"
     },
     "user_tz": -330
    },
    "id": "1qnvqdssT90_",
    "outputId": "7df914b3-b1a7-4fed-a81f-2adf367d2163"
   },
   "outputs": [],
   "source": [
    "best_params = {'n_estimators':400,\n",
    "               'max_depth':12,\n",
    "               'learning_rate':0.1,\n",
    "               'colsample_bylevel':0.5,\n",
    "               'subsample':0.1,\n",
    "               'n_jobs':-1}\n",
    "\n",
    "xgb_bst_clf = xgb.XGBClassifier(**best_params)\n",
    "xgb_clf, xgb_auc, xgb_f1, xgb_far = evaluate_result(xgb_bst_clf, x_train_new_csr, y_train, x_test_csr, y_test, 'XGB')"
   ]
  },
  {
   "cell_type": "code",
   "execution_count": null,
   "metadata": {
    "colab": {},
    "colab_type": "code",
    "id": "N9uNKpOAaZks"
   },
   "outputs": [],
   "source": [
    "pickle.dump(xgb_clf, open(file_path+'/xgb_clf.pkl', 'wb'))"
   ]
  },
  {
   "cell_type": "code",
   "execution_count": null,
   "metadata": {
    "colab": {},
    "colab_type": "code",
    "id": "aE2yewme2s-m"
   },
   "outputs": [],
   "source": [
    "result_dict = pickle.load(open(file_path+'/final_result_dict.pkl', 'rb'))"
   ]
  },
  {
   "cell_type": "code",
   "execution_count": null,
   "metadata": {
    "colab": {},
    "colab_type": "code",
    "id": "KyrZXRBpuzRh"
   },
   "outputs": [],
   "source": [
    "result_dict['name'].append('XGB')\n",
    "result_dict['auc'].append(xgb_auc)\n",
    "result_dict['f1'].append(xgb_f1)\n",
    "result_dict['far'].append(xgb_far)"
   ]
  },
  {
   "cell_type": "code",
   "execution_count": null,
   "metadata": {
    "colab": {
     "base_uri": "https://localhost:8080/",
     "height": 204
    },
    "colab_type": "code",
    "executionInfo": {
     "elapsed": 739,
     "status": "ok",
     "timestamp": 1597926791572,
     "user": {
      "displayName": "Subrata Maji",
      "photoUrl": "https://lh3.googleusercontent.com/a-/AOh14Ghxu8VIGqB6XL51-t5wM_f1R1LdmEePYHIwb9b-=s64",
      "userId": "03124174213573157612"
     },
     "user_tz": -330
    },
    "id": "iq4yZIA0u1MX",
    "outputId": "4d996a5d-19a8-410f-b32f-abebba9d5c7a"
   },
   "outputs": [],
   "source": [
    "pd.DataFrame(result_dict)[['name', 'auc', 'f1', 'far']]"
   ]
  },
  {
   "cell_type": "markdown",
   "metadata": {
    "colab_type": "text",
    "id": "52b8teBz7gWZ"
   },
   "source": [
    "**Observation**\n",
    "1. Tuning lots of parameters for this classifier with appropriate values.\n",
    "2. Performance is mostly dependent on \"learning_rate\" somewhat on \"max_depth\" and \"n_estimators\" and less dependent on other 2 params.\n",
    "3. Best parameters for the model- 'n_estimators':400, 'max_depth':12, 'learning_rate':0.1,              'colsample_bylevel':0.5, 'subsample':0.1,              'n_jobs':-1\n",
    "4. Train and Test score is  close but compared to above models there is a gap between train and test score. So it is overfitting on train data if wwe compare with above models. But the gap is very low so not much of overfitting.\n",
    "5. In train data FAR is very very low, but in test there is still almost equal FN and FP"
   ]
  },
  {
   "cell_type": "code",
   "execution_count": null,
   "metadata": {
    "colab": {},
    "colab_type": "code",
    "id": "_pITQxwrvirR"
   },
   "outputs": [],
   "source": [
    "pickle.dump(result_dict, open('result_dict.pkl', 'wb'))"
   ]
  },
  {
   "cell_type": "code",
   "execution_count": null,
   "metadata": {
    "colab": {},
    "colab_type": "code",
    "id": "FCYaaHfxEeor"
   },
   "outputs": [],
   "source": [
    "XGB_clf = pickle.load(open(file_path+'/xgb_clf.pkl', 'rb'))"
   ]
  },
  {
   "cell_type": "markdown",
   "metadata": {
    "colab_type": "text",
    "id": "mQInAAKb8zVO"
   },
   "source": [
    "### Getting Important features"
   ]
  },
  {
   "cell_type": "code",
   "execution_count": null,
   "metadata": {
    "colab": {
     "base_uri": "https://localhost:8080/",
     "height": 34
    },
    "colab_type": "code",
    "executionInfo": {
     "elapsed": 1865,
     "status": "ok",
     "timestamp": 1597929156133,
     "user": {
      "displayName": "Subrata Maji",
      "photoUrl": "https://lh3.googleusercontent.com/a-/AOh14Ghxu8VIGqB6XL51-t5wM_f1R1LdmEePYHIwb9b-=s64",
      "userId": "03124174213573157612"
     },
     "user_tz": -330
    },
    "id": "onPbm1irv2ke",
    "outputId": "ae1b511d-5716-482f-ae7d-218ad44ad7fa"
   },
   "outputs": [],
   "source": [
    "# Totol features with some importance\n",
    "np.count_nonzero(XGB_clf.feature_importances_)"
   ]
  },
  {
   "cell_type": "code",
   "execution_count": null,
   "metadata": {
    "colab": {},
    "colab_type": "code",
    "id": "5ubERZxmEmaN"
   },
   "outputs": [],
   "source": [
    "# Getting the indices of the features sorted in descending order\n",
    "indices = np.argsort(-1 * abs(xgb_clf.feature_importances_))[:55]"
   ]
  },
  {
   "cell_type": "code",
   "execution_count": null,
   "metadata": {
    "colab": {},
    "colab_type": "code",
    "id": "kTBZ8weV3U_4"
   },
   "outputs": [],
   "source": [
    "# Saving for later use\n",
    "saved_dict['imp_indices'] = indices"
   ]
  },
  {
   "cell_type": "code",
   "execution_count": null,
   "metadata": {
    "colab": {},
    "colab_type": "code",
    "id": "h3CjVNLs3fSM"
   },
   "outputs": [],
   "source": [
    "pickle.dump(saved_dict, open(file_path+'/saved_dict.pkl', 'wb'))"
   ]
  },
  {
   "cell_type": "code",
   "execution_count": null,
   "metadata": {
    "colab": {
     "base_uri": "https://localhost:8080/",
     "height": 34
    },
    "colab_type": "code",
    "executionInfo": {
     "elapsed": 1083,
     "status": "ok",
     "timestamp": 1597926402023,
     "user": {
      "displayName": "Subrata Maji",
      "photoUrl": "https://lh3.googleusercontent.com/a-/AOh14Ghxu8VIGqB6XL51-t5wM_f1R1LdmEePYHIwb9b-=s64",
      "userId": "03124174213573157612"
     },
     "user_tz": -330
    },
    "id": "u4l3uG5UFIWc",
    "outputId": "1b797af0-a78b-410a-accc-ad8bae9be640"
   },
   "outputs": [],
   "source": [
    "x_train_new_csr[:,indices].shape"
   ]
  },
  {
   "cell_type": "markdown",
   "metadata": {
    "colab_type": "text",
    "id": "hpKKJk9t9L7u"
   },
   "source": [
    "### Plotting Features and their Importance"
   ]
  },
  {
   "cell_type": "code",
   "execution_count": null,
   "metadata": {
    "colab": {
     "base_uri": "https://localhost:8080/",
     "height": 608
    },
    "colab_type": "code",
    "executionInfo": {
     "elapsed": 2523,
     "status": "ok",
     "timestamp": 1597926458721,
     "user": {
      "displayName": "Subrata Maji",
      "photoUrl": "https://lh3.googleusercontent.com/a-/AOh14Ghxu8VIGqB6XL51-t5wM_f1R1LdmEePYHIwb9b-=s64",
      "userId": "03124174213573157612"
     },
     "user_tz": -330
    },
    "id": "WAHPrKMUjKSc",
    "outputId": "8b8c1f41-dd95-47e2-b8ec-ef2510642fc7"
   },
   "outputs": [],
   "source": [
    "plt.figure(figsize=(20,8))\n",
    "plt.bar(x_train.columns[indices], abs(xgb_clf.feature_importances_[indices]))\n",
    "plt.xticks(rotation=90)\n",
    "plt.xlabel(\"Features\")\n",
    "plt.ylabel(\"Importance\")\n",
    "plt.title(\"Plot of features and its importance\")\n",
    "plt.grid()\n",
    "plt.show()"
   ]
  },
  {
   "cell_type": "markdown",
   "metadata": {
    "colab_type": "text",
    "id": "1xX-P1uFFkck"
   },
   "source": [
    "## Models on Important features\n",
    "\n",
    "Again Training few models from above and then compare the result of model with all parameters and only important parameters."
   ]
  },
  {
   "cell_type": "markdown",
   "metadata": {
    "colab_type": "text",
    "id": "n65J7T529nM7"
   },
   "source": [
    "### DT with Imp Param"
   ]
  },
  {
   "cell_type": "code",
   "execution_count": null,
   "metadata": {
    "colab": {
     "base_uri": "https://localhost:8080/",
     "height": 700
    },
    "colab_type": "code",
    "executionInfo": {
     "elapsed": 30289,
     "status": "ok",
     "timestamp": 1597927131523,
     "user": {
      "displayName": "Subrata Maji",
      "photoUrl": "https://lh3.googleusercontent.com/a-/AOh14Ghxu8VIGqB6XL51-t5wM_f1R1LdmEePYHIwb9b-=s64",
      "userId": "03124174213573157612"
     },
     "user_tz": -330
    },
    "id": "OnSH67WwFSVU",
    "outputId": "2812c3f5-20cb-4f47-db56-fbe94e3f61b4"
   },
   "outputs": [],
   "source": [
    "dt_clf_imp = DecisionTreeClassifier(max_depth=10, min_samples_split=6, min_samples_leaf=9)\n",
    "dt_clf_imp, dt_fi_auc, dt_fi_f1, dt_fi_far = evaluate_result(dt_clf_imp, x_train_new_csr[:,indices], y_train, x_test_csr[:,indices], y_test, 'DT_FI')"
   ]
  },
  {
   "cell_type": "code",
   "execution_count": null,
   "metadata": {
    "colab": {},
    "colab_type": "code",
    "id": "Me8y9CCtHC5f"
   },
   "outputs": [],
   "source": [
    "#result_dict = pickle.load(open('result_dict.pkl', 'rb'))\n",
    "\n",
    "result_dict['name'].append('DT_FI')\n",
    "result_dict['auc'].append(dt_fi_auc)\n",
    "result_dict['f1'].append(dt_fi_f1)\n",
    "result_dict['far'].append(dt_fi_far)"
   ]
  },
  {
   "cell_type": "code",
   "execution_count": null,
   "metadata": {
    "colab": {
     "base_uri": "https://localhost:8080/",
     "height": 235
    },
    "colab_type": "code",
    "executionInfo": {
     "elapsed": 1297,
     "status": "ok",
     "timestamp": 1597927174562,
     "user": {
      "displayName": "Subrata Maji",
      "photoUrl": "https://lh3.googleusercontent.com/a-/AOh14Ghxu8VIGqB6XL51-t5wM_f1R1LdmEePYHIwb9b-=s64",
      "userId": "03124174213573157612"
     },
     "user_tz": -330
    },
    "id": "1s9BOrE-HT4Q",
    "outputId": "e9e41cb5-ceb5-43dc-ae8e-6265c308ace2"
   },
   "outputs": [],
   "source": [
    "pd.DataFrame(result_dict)"
   ]
  },
  {
   "cell_type": "markdown",
   "metadata": {
    "colab_type": "text",
    "id": "pyezpNF_9sZp"
   },
   "source": [
    "**Observations**\n",
    "1. Retraining the best Decision Tree model with data containing only important features.\n",
    "2. From observing the result we can see that there is not much difference in scores, but yes they have reduced very little."
   ]
  },
  {
   "cell_type": "code",
   "execution_count": null,
   "metadata": {
    "colab": {},
    "colab_type": "code",
    "id": "_ZfYhog14isO"
   },
   "outputs": [],
   "source": [
    "pickle.dump(dt_clf_imp, open(file_path+'/dt_clf_imp.pkl', 'wb'))"
   ]
  },
  {
   "cell_type": "markdown",
   "metadata": {
    "colab_type": "text",
    "id": "DcYq1Cei-Jzd"
   },
   "source": [
    "### RF with Imp Params"
   ]
  },
  {
   "cell_type": "code",
   "execution_count": null,
   "metadata": {
    "colab": {
     "base_uri": "https://localhost:8080/",
     "height": 700
    },
    "colab_type": "code",
    "executionInfo": {
     "elapsed": 1362302,
     "status": "ok",
     "timestamp": 1597928665394,
     "user": {
      "displayName": "Subrata Maji",
      "photoUrl": "https://lh3.googleusercontent.com/a-/AOh14Ghxu8VIGqB6XL51-t5wM_f1R1LdmEePYHIwb9b-=s64",
      "userId": "03124174213573157612"
     },
     "user_tz": -330
    },
    "id": "Gc0PGPUyHkXr",
    "outputId": "f381c3d2-47cf-4080-d6bd-3a5f2d9b0c61"
   },
   "outputs": [],
   "source": [
    "rf_clf_imp = RandomForestClassifier(criterion='gini', max_depth=22, min_samples_split=6, n_estimators=300, n_jobs=-1)\n",
    "rf_clf_imp, rf_fi_auc, rf_fi_f1, rf_fi_far = evaluate_result(rf_clf_imp, x_train_new_csr[:,indices], y_train, x_test_csr[:,indices], y_test, 'RF_FI')"
   ]
  },
  {
   "cell_type": "code",
   "execution_count": null,
   "metadata": {
    "colab": {},
    "colab_type": "code",
    "id": "4hoHZGPL_CAJ"
   },
   "outputs": [],
   "source": [
    "pickle.dump(rf_clf_imp, open(file_path+'/rf_clf_imp.pkl', 'wb'))"
   ]
  },
  {
   "cell_type": "code",
   "execution_count": null,
   "metadata": {
    "colab": {},
    "colab_type": "code",
    "id": "hcxwDJDZJBWA"
   },
   "outputs": [],
   "source": [
    "for i,j in zip(result_dict.keys(), [\"RF_FI\", rf_fi_auc, rf_fi_f1, rf_fi_far]):\n",
    "    result_dict[i].append(j)"
   ]
  },
  {
   "cell_type": "code",
   "execution_count": null,
   "metadata": {
    "colab": {
     "base_uri": "https://localhost:8080/",
     "height": 266
    },
    "colab_type": "code",
    "executionInfo": {
     "elapsed": 1208,
     "status": "ok",
     "timestamp": 1597928875719,
     "user": {
      "displayName": "Subrata Maji",
      "photoUrl": "https://lh3.googleusercontent.com/a-/AOh14Ghxu8VIGqB6XL51-t5wM_f1R1LdmEePYHIwb9b-=s64",
      "userId": "03124174213573157612"
     },
     "user_tz": -330
    },
    "id": "2ETuwOT9Mv8i",
    "outputId": "5afe0ab4-c72d-44e3-f684-ba2864805bde"
   },
   "outputs": [],
   "source": [
    "pd.DataFrame(result_dict)"
   ]
  },
  {
   "cell_type": "markdown",
   "metadata": {
    "colab_type": "text",
    "id": "t0xmthZu-P9s"
   },
   "source": [
    "**Observations**\n",
    "1. Training the best Random Forest model again with only important features\n",
    "2. We can see that the performance has increased\n",
    "3. This model is giving the highest scores amongst all the models we have trained till now"
   ]
  },
  {
   "cell_type": "code",
   "execution_count": null,
   "metadata": {
    "colab": {},
    "colab_type": "code",
    "id": "-F8DmshUNv95"
   },
   "outputs": [],
   "source": [
    "# Re-creating data with imp feat\n",
    "\n",
    "x_train = x_train_new_csr[:, indices]\n",
    "x_cv = x_cv_csr[:, indices]\n",
    "x_test = x_test_csr[:, indices]"
   ]
  },
  {
   "cell_type": "code",
   "execution_count": null,
   "metadata": {
    "colab": {
     "base_uri": "https://localhost:8080/",
     "height": 34
    },
    "colab_type": "code",
    "executionInfo": {
     "elapsed": 1178,
     "status": "ok",
     "timestamp": 1597929217236,
     "user": {
      "displayName": "Subrata Maji",
      "photoUrl": "https://lh3.googleusercontent.com/a-/AOh14Ghxu8VIGqB6XL51-t5wM_f1R1LdmEePYHIwb9b-=s64",
      "userId": "03124174213573157612"
     },
     "user_tz": -330
    },
    "id": "dGE_Z89DAJwB",
    "outputId": "59bcd77e-5a0d-4856-e487-01b5db110040"
   },
   "outputs": [],
   "source": [
    "x_train.shape, x_cv.shape, x_test.shape"
   ]
  },
  {
   "cell_type": "markdown",
   "metadata": {
    "colab_type": "text",
    "id": "3G_wl6ElNovA"
   },
   "source": [
    "## Ensembles"
   ]
  },
  {
   "cell_type": "markdown",
   "metadata": {
    "colab_type": "text",
    "id": "GRAqR0QL-sMd"
   },
   "source": [
    "### Voting Classifier Model\n",
    "\n",
    "Trining a ensemble model using voting classifier, Taking 3 classifiers DecisionTree, RandomForest and XGBClassifier"
   ]
  },
  {
   "cell_type": "code",
   "execution_count": null,
   "metadata": {
    "colab": {},
    "colab_type": "code",
    "id": "neDsDT3FOKcv"
   },
   "outputs": [],
   "source": [
    "from sklearn.ensemble import VotingClassifier"
   ]
  },
  {
   "cell_type": "code",
   "execution_count": null,
   "metadata": {
    "colab": {},
    "colab_type": "code",
    "id": "DwILsZ8lOY04"
   },
   "outputs": [],
   "source": [
    "# Initializing all the 3 classifiers with best found parameters\n",
    "dt_clf = DecisionTreeClassifier(max_depth=10, min_samples_split=6, min_samples_leaf=9)\n",
    "rf_clf = RandomForestClassifier(criterion='gini', max_depth=22, min_samples_split=6, n_estimators=300, n_jobs=-1)\n",
    "xgb_clf = xgb.XGBClassifier(n_estimators=400, max_depth=12, learning_rate=0.1, colsample_bylevel=0.5, subsample=0.1, n_jobs=-1)"
   ]
  },
  {
   "cell_type": "code",
   "execution_count": null,
   "metadata": {
    "colab": {
     "base_uri": "https://localhost:8080/",
     "height": 700
    },
    "colab_type": "code",
    "executionInfo": {
     "elapsed": 3514926,
     "status": "ok",
     "timestamp": 1597932906996,
     "user": {
      "displayName": "Subrata Maji",
      "photoUrl": "https://lh3.googleusercontent.com/a-/AOh14Ghxu8VIGqB6XL51-t5wM_f1R1LdmEePYHIwb9b-=s64",
      "userId": "03124174213573157612"
     },
     "user_tz": -330
    },
    "id": "ZAkUp7czM3BK",
    "outputId": "4bb8041f-8d36-4335-969c-b7c6caa3078f"
   },
   "outputs": [],
   "source": [
    "# Result with voting classifier\n",
    "v_clf = VotingClassifier(estimators=[('dt', dt_clf), ('rf', rf_clf), ('xgb', xgb_clf)], voting='soft', n_jobs=-1)\n",
    "v_clf, v_auc, v_f1, v_far = evaluate_result(v_clf, x_train, y_train, x_test, y_test, \"Voting Clf\")"
   ]
  },
  {
   "cell_type": "code",
   "execution_count": null,
   "metadata": {
    "colab": {},
    "colab_type": "code",
    "id": "R4TmBm2hQobj"
   },
   "outputs": [],
   "source": [
    "pickle.dump(v_clf, open(file_path+'/v_clf.pkl', 'wb'))"
   ]
  },
  {
   "cell_type": "code",
   "execution_count": null,
   "metadata": {
    "colab": {},
    "colab_type": "code",
    "id": "z1z-pKReiXq8"
   },
   "outputs": [],
   "source": [
    "for i,j in zip(result_dict.keys(), [\"Voting\", v_auc, v_f1, v_far]):\n",
    "    result_dict[i].append(j)"
   ]
  },
  {
   "cell_type": "code",
   "execution_count": null,
   "metadata": {
    "colab": {
     "base_uri": "https://localhost:8080/",
     "height": 297
    },
    "colab_type": "code",
    "executionInfo": {
     "elapsed": 1049,
     "status": "ok",
     "timestamp": 1597933053433,
     "user": {
      "displayName": "Subrata Maji",
      "photoUrl": "https://lh3.googleusercontent.com/a-/AOh14Ghxu8VIGqB6XL51-t5wM_f1R1LdmEePYHIwb9b-=s64",
      "userId": "03124174213573157612"
     },
     "user_tz": -330
    },
    "id": "3bEoaX6_ik3-",
    "outputId": "4a2fbe01-955f-4710-e7e8-d5a4bd51c144"
   },
   "outputs": [],
   "source": [
    "pd.DataFrame(result_dict)"
   ]
  },
  {
   "cell_type": "markdown",
   "metadata": {
    "colab_type": "text",
    "id": "xubK_BOD_Y3j"
   },
   "source": [
    "**Observations**\n",
    "1. Training this model using 3 model best Dt, best RF and best XGB.\n",
    "2. The auc score of this model is higher than any other model.\n",
    "3. There is a gap in train and test auc and higher gap in train and test f1 and FAR\n",
    "4. In train the FAR is very very low but in test there are still few FP and FN and they are almost equal in number"
   ]
  },
  {
   "cell_type": "code",
   "execution_count": null,
   "metadata": {
    "colab": {},
    "colab_type": "code",
    "id": "zVTiXlVfmoC3"
   },
   "outputs": [],
   "source": [
    "pickle.dump(result_dict, open(file_path+'/final_result_dict.pkl', 'wb'))"
   ]
  },
  {
   "cell_type": "code",
   "execution_count": null,
   "metadata": {
    "colab": {},
    "colab_type": "code",
    "id": "ztPbozuGO-p3"
   },
   "outputs": [],
   "source": [
    "best_model = pickle.load(open(file_path+'/rf_clf_imp.pkl', 'rb'))"
   ]
  },
  {
   "cell_type": "code",
   "execution_count": null,
   "metadata": {
    "colab": {
     "base_uri": "https://localhost:8080/",
     "height": 34
    },
    "colab_type": "code",
    "executionInfo": {
     "elapsed": 19630,
     "status": "ok",
     "timestamp": 1597933483843,
     "user": {
      "displayName": "Subrata Maji",
      "photoUrl": "https://lh3.googleusercontent.com/a-/AOh14Ghxu8VIGqB6XL51-t5wM_f1R1LdmEePYHIwb9b-=s64",
      "userId": "03124174213573157612"
     },
     "user_tz": -330
    },
    "id": "Gv5P0WrBPcGc",
    "outputId": "e7db8fc8-0271-49df-df19-bc20ec38508a"
   },
   "outputs": [],
   "source": [
    "f1_score(y_test, best_model.predict(x_test_csr[:, indices]))"
   ]
  },
  {
   "cell_type": "code",
   "execution_count": null,
   "metadata": {},
   "outputs": [],
   "source": []
  },
  {
   "cell_type": "code",
   "execution_count": null,
   "metadata": {},
   "outputs": [],
   "source": []
  }
 ],
 "metadata": {
  "colab": {
   "authorship_tag": "ABX9TyMIo9xBIBMNKzxxWGW1ssAy",
   "collapsed_sections": [],
   "name": "finalversion_casestudy1_alldata_onlyModels.ipynb",
   "provenance": []
  },
  "kernelspec": {
   "display_name": "Python 3 (ipykernel)",
   "language": "python",
   "name": "python3"
  },
  "language_info": {
   "codemirror_mode": {
    "name": "ipython",
    "version": 3
   },
   "file_extension": ".py",
   "mimetype": "text/x-python",
   "name": "python",
   "nbconvert_exporter": "python",
   "pygments_lexer": "ipython3",
   "version": "3.12.3"
  },
  "toc": {
   "base_numbering": 1,
   "nav_menu": {},
   "number_sections": true,
   "sideBar": true,
   "skip_h1_title": false,
   "title_cell": "Table of Contents",
   "title_sidebar": "Contents",
   "toc_cell": false,
   "toc_position": {},
   "toc_section_display": true,
   "toc_window_display": true
  }
 },
 "nbformat": 4,
 "nbformat_minor": 4
}
