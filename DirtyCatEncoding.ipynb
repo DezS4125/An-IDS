{
 "cells": [
  {
   "cell_type": "code",
   "execution_count": null,
   "id": "228ead6f-17c2-4594-b63b-31fa6824f400",
   "metadata": {},
   "outputs": [],
   "source": [
    "dataset1=\"datasets/MachineLearningCVE/Friday-WorkingHours-Afternoon-DDos.pcap_ISCX.csv\"\n",
    "dataset2=\"datasets/TrafficLabelling /Friday-WorkingHours-Afternoon-DDos.pcap_ISCX.csv\"\n",
    "dataset3=\"datasets/UNSW-NB15/Training and Testing Sets/UNSW_NB15_training-set.csv\""
   ]
  },
  {
   "cell_type": "code",
   "execution_count": null,
   "id": "bac9f946-6c28-4cee-bd26-ba3a780d46f1",
   "metadata": {},
   "outputs": [],
   "source": [
    "import pandas\n",
    "\n",
    "df = pandas.read_csv(dataset3)"
   ]
  },
  {
   "cell_type": "code",
   "execution_count": null,
   "id": "30476a87-4261-4a76-aa4c-e1591df70a37",
   "metadata": {},
   "outputs": [],
   "source": [
    "# Imports\n",
    "from dirty_cat import SuperVectorizer\n",
    "from sklearn.ensemble import RandomForestRegressor\n",
    "from sklearn.pipeline import make_pipeline\n"
   ]
  },
  {
   "cell_type": "code",
   "execution_count": null,
   "id": "9670739b-aa94-4433-8696-1336441edfde",
   "metadata": {},
   "outputs": [],
   "source": [
    "# Model\n",
    "pipeline = make_pipeline(\n",
    "    SuperVectorizer(), \n",
    "    RandomForestRegressor()\n",
    ")\n"
   ]
  },
  {
   "cell_type": "code",
   "execution_count": null,
   "id": "24ccc003-64fa-4336-983b-feb8c27fc29e",
   "metadata": {},
   "outputs": [],
   "source": [
    "# Fit Model\n",
    "pipeline.fit(X_train, y_train)"
   ]
  }
 ],
 "metadata": {
  "kernelspec": {
   "display_name": "Python 3 (ipykernel)",
   "language": "python",
   "name": "python3"
  },
  "language_info": {
   "codemirror_mode": {
    "name": "ipython",
    "version": 3
   },
   "file_extension": ".py",
   "mimetype": "text/x-python",
   "name": "python",
   "nbconvert_exporter": "python",
   "pygments_lexer": "ipython3",
   "version": "3.12.3"
  }
 },
 "nbformat": 4,
 "nbformat_minor": 5
}
