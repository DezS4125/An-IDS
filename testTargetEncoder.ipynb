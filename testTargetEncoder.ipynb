{
 "cells": [
  {
   "cell_type": "code",
   "execution_count": 4,
   "id": "1ea38e71-46e0-405f-9158-04e119885438",
   "metadata": {},
   "outputs": [],
   "source": [
    "import numpy as np\n",
    "from sklearn.preprocessing import TargetEncoder"
   ]
  },
  {
   "cell_type": "code",
   "execution_count": 15,
   "id": "57da280f-7be0-43b6-a787-bf98af58e9c8",
   "metadata": {},
   "outputs": [],
   "source": [
    "X = np.array([[\"dog\"] * 20 + [\"cat\"] * 30 + [\"snake\"] * 38], dtype=object).T\n",
    "y = [90.3] * 5 + [80.1] * 15 + [20.4] * 5 + [20.1] * 25 + [21.2] * 8 + [49] * 30"
   ]
  },
  {
   "cell_type": "code",
   "execution_count": 18,
   "id": "9973049a-4f46-4d45-8e10-ff3c9f39bad1",
   "metadata": {},
   "outputs": [
    {
     "name": "stdout",
     "output_type": "stream",
     "text": [
      "   Animal  Value\n",
      "0     dog   90.3\n",
      "1     dog   90.3\n",
      "2     dog   90.3\n",
      "3     dog   90.3\n",
      "4     dog   90.3\n",
      "..    ...    ...\n",
      "83  snake   49.0\n",
      "84  snake   49.0\n",
      "85  snake   49.0\n",
      "86  snake   49.0\n",
      "87  snake   49.0\n",
      "\n",
      "[88 rows x 2 columns]\n"
     ]
    }
   ],
   "source": [
    "import pandas as pd\n",
    "import numpy as np\n",
    "\n",
    "X = np.array([[\"dog\"] * 20 + [\"cat\"] * 30 + [\"snake\"] * 38], dtype=object).T\n",
    "y = [90.3] * 5 + [80.1] * 15 + [20.4] * 5 + [20.1] * 25 + [21.2] * 8 + [49] * 30\n",
    "\n",
    "df = pd.DataFrame({'Animal': X.flatten(), 'Value': y})\n",
    "\n",
    "\n",
    "print(df)"
   ]
  },
  {
   "cell_type": "code",
   "execution_count": 19,
   "id": "ef7560a3-947e-4862-83c3-a691ecbbdd53",
   "metadata": {},
   "outputs": [],
   "source": [
    "enc_auto = TargetEncoder(smooth=\"auto\")\n",
    "X_trans = enc_auto.fit_transform(X, y)"
   ]
  },
  {
   "cell_type": "code",
   "execution_count": 20,
   "id": "48cc7e4c-7cc4-49da-ae69-898cfb30b5c2",
   "metadata": {},
   "outputs": [
    {
     "data": {
      "text/plain": [
       "[array([44.1412796 , 44.43807497, 44.27664477])]"
      ]
     },
     "execution_count": 20,
     "metadata": {},
     "output_type": "execute_result"
    }
   ],
   "source": [
    "# A high `smooth` parameter puts more weight on global mean on the categorical\n",
    "# encodings:\n",
    "enc_high_smooth = TargetEncoder(smooth=5000.0).fit(X, y)\n",
    "enc_high_smooth.target_mean_\n",
    "enc_high_smooth.encodings_"
   ]
  },
  {
   "cell_type": "code",
   "execution_count": 21,
   "id": "f12f4fef-e597-434f-9f1e-b24a6b07cf60",
   "metadata": {},
   "outputs": [
    {
     "data": {
      "text/plain": [
       "[array([20.92855572, 80.82310606, 43.17654429])]"
      ]
     },
     "execution_count": 21,
     "metadata": {},
     "output_type": "execute_result"
    }
   ],
   "source": [
    "# On the other hand, a low `smooth` parameter puts more weight on target\n",
    "# conditioned on the value of the categorical:\n",
    "enc_low_smooth = TargetEncoder(smooth=1.0).fit(X, y)\n",
    "enc_low_smooth.encodings_"
   ]
  },
  {
   "cell_type": "code",
   "execution_count": null,
   "id": "b8115b4a-bd8d-49bc-96e7-29dff8cd21a6",
   "metadata": {},
   "outputs": [],
   "source": []
  }
 ],
 "metadata": {
  "kernelspec": {
   "display_name": "Python 3 (ipykernel)",
   "language": "python",
   "name": "python3"
  },
  "language_info": {
   "codemirror_mode": {
    "name": "ipython",
    "version": 3
   },
   "file_extension": ".py",
   "mimetype": "text/x-python",
   "name": "python",
   "nbconvert_exporter": "python",
   "pygments_lexer": "ipython3",
   "version": "3.12.3"
  }
 },
 "nbformat": 4,
 "nbformat_minor": 5
}
