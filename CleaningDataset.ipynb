{
 "cells": [
  {
   "cell_type": "code",
   "execution_count": null,
   "id": "955bb5e2-e6ca-4e76-8094-464117be3858",
   "metadata": {},
   "outputs": [],
   "source": [
    "##Khang here, credit go to https://github.com/SubrataMaji/IDS-UNSW-NB15/blob/master/1.%20Dataset/About%20Dataset%20and%20It's%20Cleaning.ipynb##"
   ]
  },
  {
   "cell_type": "code",
   "execution_count": 1,
   "id": "455f7b0c-12d1-463d-badf-a9f5da1b98f6",
   "metadata": {},
   "outputs": [],
   "source": [
    "dataset_path=\"datasets/UNSW-NB15/UNSW-NB15_{}.csv\""
   ]
  },
  {
   "cell_type": "code",
   "execution_count": null,
   "id": "72e562a5-7ce1-4d20-a80f-ff9f5a80ac3e",
   "metadata": {},
   "outputs": [],
   "source": [
    "##IMPORT DATA##"
   ]
  },
  {
   "cell_type": "code",
   "execution_count": 2,
   "id": "d016e2f4-a3fd-484b-83f7-8dd78e9d9afd",
   "metadata": {},
   "outputs": [],
   "source": [
    "import pandas as pd"
   ]
  },
  {
   "cell_type": "code",
   "execution_count": 3,
   "id": "fc9433e3-ff3d-47fa-8b4f-3e85e5c85420",
   "metadata": {},
   "outputs": [
    {
     "name": "stderr",
     "output_type": "stream",
     "text": [
      "/tmp/ipykernel_17031/1373810992.py:3: DtypeWarning: Columns (1,3,47) have mixed types. Specify dtype option on import or set low_memory=False.\n",
      "  dfs.append(pd.read_csv(dataset_path.format(i),header=None))\n",
      "/tmp/ipykernel_17031/1373810992.py:3: DtypeWarning: Columns (3,39,47) have mixed types. Specify dtype option on import or set low_memory=False.\n",
      "  dfs.append(pd.read_csv(dataset_path.format(i),header=None))\n"
     ]
    }
   ],
   "source": [
    "dfs=[]\n",
    "for i in range (1,5):\n",
    "    dfs.append(pd.read_csv(dataset_path.format(i),header=None))\n",
    "all_data = pd.concat(dfs).reset_index(drop=True)"
   ]
  },
  {
   "cell_type": "code",
   "execution_count": 4,
   "id": "a03b342c-041f-4c5a-b606-80e00f22b105",
   "metadata": {},
   "outputs": [],
   "source": [
    "column_names=pd.read_csv(\"datasets/UNSW-NB15/NUSW-NB15_features.csv\", encoding='ISO-8859-1')"
   ]
  },
  {
   "cell_type": "code",
   "execution_count": 5,
   "id": "89c6e510-a1ef-418c-932c-12a67f334ddd",
   "metadata": {},
   "outputs": [],
   "source": [
    "column_names['Name'] = column_names['Name'].apply(lambda x: x.strip().replace(' ', '').lower())"
   ]
  },
  {
   "cell_type": "code",
   "execution_count": 6,
   "id": "707f2502-137b-4688-9508-1b567bd00d3e",
   "metadata": {},
   "outputs": [],
   "source": [
    "all_data.columns=column_names[\"Name\"]"
   ]
  },
  {
   "cell_type": "code",
   "execution_count": 7,
   "id": "cb4f29f0-5a2d-4135-b23f-3c1631abc732",
   "metadata": {},
   "outputs": [],
   "source": [
    "saved_dict = {}\n",
    "saved_dict['columns'] = column_names['Name'][column_names['Name']!='label'].tolist()"
   ]
  },
  {
   "cell_type": "code",
   "execution_count": 8,
   "id": "63839a28-a9ed-49d5-98d9-4c732a48c768",
   "metadata": {},
   "outputs": [],
   "source": [
    "del column_names"
   ]
  },
  {
   "cell_type": "code",
   "execution_count": 9,
   "id": "ba89a3fd-cd6a-4052-9237-cf838d19c9c2",
   "metadata": {},
   "outputs": [
    {
     "data": {
      "text/plain": [
       "(2540047, 49)"
      ]
     },
     "execution_count": 9,
     "metadata": {},
     "output_type": "execute_result"
    }
   ],
   "source": [
    "all_data.shape"
   ]
  },
  {
   "cell_type": "code",
   "execution_count": 10,
   "id": "f8fec4ab-4c5c-4809-a8b8-7fd436bc1cb1",
   "metadata": {},
   "outputs": [
    {
     "data": {
      "text/plain": [
       "<bound method DataFrame.info of Name            srcip  sport           dstip dsport proto state       dur  \\\n",
       "0          59.166.0.0   1390   149.171.126.6     53   udp   CON  0.001055   \n",
       "1          59.166.0.0  33661   149.171.126.9   1024   udp   CON  0.036133   \n",
       "2          59.166.0.6   1464   149.171.126.7     53   udp   CON  0.001119   \n",
       "3          59.166.0.5   3593   149.171.126.5     53   udp   CON  0.001209   \n",
       "4          59.166.0.3  49664   149.171.126.0     53   udp   CON  0.001169   \n",
       "...               ...    ...             ...    ...   ...   ...       ...   \n",
       "2540042    59.166.0.5  33094   149.171.126.7  43433   tcp   FIN  0.087306   \n",
       "2540043    59.166.0.7  20848   149.171.126.4     21   tcp   CON  0.365058   \n",
       "2540044    59.166.0.3  21511   149.171.126.9     21   tcp   CON  6.335154   \n",
       "2540045    59.166.0.9  35433   149.171.126.0     80   tcp   CON  2.200934   \n",
       "2540046  175.45.176.0  17293  149.171.126.17    110   tcp   CON  0.942984   \n",
       "\n",
       "Name     sbytes  dbytes  sttl  ...  ct_ftp_cmd  ct_srv_src  ct_srv_dst  \\\n",
       "0           132     164    31  ...           0           3           7   \n",
       "1           528     304    31  ...           0           2           4   \n",
       "2           146     178    31  ...           0          12           8   \n",
       "3           132     164    31  ...           0           6           9   \n",
       "4           146     178    31  ...           0           7           9   \n",
       "...         ...     ...   ...  ...         ...         ...         ...   \n",
       "2540042     320    1828    31  ...                       1           2   \n",
       "2540043     456     346    31  ...           2           2           2   \n",
       "2540044    1802    2088    31  ...           2           2           2   \n",
       "2540045    3498  166054    31  ...                       1           1   \n",
       "2540046     574     676    62  ...                       1           1   \n",
       "\n",
       "Name    ct_dst_ltm  ct_src_ltm  ct_src_dport_ltm  ct_dst_sport_ltm  \\\n",
       "0                1           3                 1                 1   \n",
       "1                2           3                 1                 1   \n",
       "2                1           2                 2                 1   \n",
       "3                1           1                 1                 1   \n",
       "4                1           1                 1                 1   \n",
       "...            ...         ...               ...               ...   \n",
       "2540042          3           3                 1                 1   \n",
       "2540043          2           2                 2                 2   \n",
       "2540044          4           2                 2                 2   \n",
       "2540045          2           4                 2                 2   \n",
       "2540046          2           4                 2                 2   \n",
       "\n",
       "Name     ct_dst_src_ltm  attack_cat  label  \n",
       "0                     1         NaN      0  \n",
       "1                     2         NaN      0  \n",
       "2                     1         NaN      0  \n",
       "3                     1         NaN      0  \n",
       "4                     1         NaN      0  \n",
       "...                 ...         ...    ...  \n",
       "2540042               3         NaN      0  \n",
       "2540043               2         NaN      0  \n",
       "2540044               2         NaN      0  \n",
       "2540045               2         NaN      0  \n",
       "2540046               2    Exploits      1  \n",
       "\n",
       "[2540047 rows x 49 columns]>"
      ]
     },
     "execution_count": 10,
     "metadata": {},
     "output_type": "execute_result"
    }
   ],
   "source": [
    "all_data.info"
   ]
  },
  {
   "cell_type": "code",
   "execution_count": 11,
   "id": "460b704f-b02a-461d-bdba-fcfd1da9624e",
   "metadata": {},
   "outputs": [
    {
     "data": {
      "text/html": [
       "<div>\n",
       "<style scoped>\n",
       "    .dataframe tbody tr th:only-of-type {\n",
       "        vertical-align: middle;\n",
       "    }\n",
       "\n",
       "    .dataframe tbody tr th {\n",
       "        vertical-align: top;\n",
       "    }\n",
       "\n",
       "    .dataframe thead th {\n",
       "        text-align: right;\n",
       "    }\n",
       "</style>\n",
       "<table border=\"1\" class=\"dataframe\">\n",
       "  <thead>\n",
       "    <tr style=\"text-align: right;\">\n",
       "      <th>Name</th>\n",
       "      <th>srcip</th>\n",
       "      <th>sport</th>\n",
       "      <th>dstip</th>\n",
       "      <th>dsport</th>\n",
       "      <th>proto</th>\n",
       "      <th>state</th>\n",
       "      <th>dur</th>\n",
       "      <th>sbytes</th>\n",
       "      <th>dbytes</th>\n",
       "      <th>sttl</th>\n",
       "      <th>...</th>\n",
       "      <th>ct_ftp_cmd</th>\n",
       "      <th>ct_srv_src</th>\n",
       "      <th>ct_srv_dst</th>\n",
       "      <th>ct_dst_ltm</th>\n",
       "      <th>ct_src_ltm</th>\n",
       "      <th>ct_src_dport_ltm</th>\n",
       "      <th>ct_dst_sport_ltm</th>\n",
       "      <th>ct_dst_src_ltm</th>\n",
       "      <th>attack_cat</th>\n",
       "      <th>label</th>\n",
       "    </tr>\n",
       "  </thead>\n",
       "  <tbody>\n",
       "    <tr>\n",
       "      <th>0</th>\n",
       "      <td>59.166.0.0</td>\n",
       "      <td>1390</td>\n",
       "      <td>149.171.126.6</td>\n",
       "      <td>53</td>\n",
       "      <td>udp</td>\n",
       "      <td>CON</td>\n",
       "      <td>0.001055</td>\n",
       "      <td>132</td>\n",
       "      <td>164</td>\n",
       "      <td>31</td>\n",
       "      <td>...</td>\n",
       "      <td>0</td>\n",
       "      <td>3</td>\n",
       "      <td>7</td>\n",
       "      <td>1</td>\n",
       "      <td>3</td>\n",
       "      <td>1</td>\n",
       "      <td>1</td>\n",
       "      <td>1</td>\n",
       "      <td>NaN</td>\n",
       "      <td>0</td>\n",
       "    </tr>\n",
       "    <tr>\n",
       "      <th>1</th>\n",
       "      <td>59.166.0.0</td>\n",
       "      <td>33661</td>\n",
       "      <td>149.171.126.9</td>\n",
       "      <td>1024</td>\n",
       "      <td>udp</td>\n",
       "      <td>CON</td>\n",
       "      <td>0.036133</td>\n",
       "      <td>528</td>\n",
       "      <td>304</td>\n",
       "      <td>31</td>\n",
       "      <td>...</td>\n",
       "      <td>0</td>\n",
       "      <td>2</td>\n",
       "      <td>4</td>\n",
       "      <td>2</td>\n",
       "      <td>3</td>\n",
       "      <td>1</td>\n",
       "      <td>1</td>\n",
       "      <td>2</td>\n",
       "      <td>NaN</td>\n",
       "      <td>0</td>\n",
       "    </tr>\n",
       "    <tr>\n",
       "      <th>2</th>\n",
       "      <td>59.166.0.6</td>\n",
       "      <td>1464</td>\n",
       "      <td>149.171.126.7</td>\n",
       "      <td>53</td>\n",
       "      <td>udp</td>\n",
       "      <td>CON</td>\n",
       "      <td>0.001119</td>\n",
       "      <td>146</td>\n",
       "      <td>178</td>\n",
       "      <td>31</td>\n",
       "      <td>...</td>\n",
       "      <td>0</td>\n",
       "      <td>12</td>\n",
       "      <td>8</td>\n",
       "      <td>1</td>\n",
       "      <td>2</td>\n",
       "      <td>2</td>\n",
       "      <td>1</td>\n",
       "      <td>1</td>\n",
       "      <td>NaN</td>\n",
       "      <td>0</td>\n",
       "    </tr>\n",
       "    <tr>\n",
       "      <th>3</th>\n",
       "      <td>59.166.0.5</td>\n",
       "      <td>3593</td>\n",
       "      <td>149.171.126.5</td>\n",
       "      <td>53</td>\n",
       "      <td>udp</td>\n",
       "      <td>CON</td>\n",
       "      <td>0.001209</td>\n",
       "      <td>132</td>\n",
       "      <td>164</td>\n",
       "      <td>31</td>\n",
       "      <td>...</td>\n",
       "      <td>0</td>\n",
       "      <td>6</td>\n",
       "      <td>9</td>\n",
       "      <td>1</td>\n",
       "      <td>1</td>\n",
       "      <td>1</td>\n",
       "      <td>1</td>\n",
       "      <td>1</td>\n",
       "      <td>NaN</td>\n",
       "      <td>0</td>\n",
       "    </tr>\n",
       "    <tr>\n",
       "      <th>4</th>\n",
       "      <td>59.166.0.3</td>\n",
       "      <td>49664</td>\n",
       "      <td>149.171.126.0</td>\n",
       "      <td>53</td>\n",
       "      <td>udp</td>\n",
       "      <td>CON</td>\n",
       "      <td>0.001169</td>\n",
       "      <td>146</td>\n",
       "      <td>178</td>\n",
       "      <td>31</td>\n",
       "      <td>...</td>\n",
       "      <td>0</td>\n",
       "      <td>7</td>\n",
       "      <td>9</td>\n",
       "      <td>1</td>\n",
       "      <td>1</td>\n",
       "      <td>1</td>\n",
       "      <td>1</td>\n",
       "      <td>1</td>\n",
       "      <td>NaN</td>\n",
       "      <td>0</td>\n",
       "    </tr>\n",
       "  </tbody>\n",
       "</table>\n",
       "<p>5 rows × 49 columns</p>\n",
       "</div>"
      ],
      "text/plain": [
       "Name       srcip  sport          dstip dsport proto state       dur  sbytes  \\\n",
       "0     59.166.0.0   1390  149.171.126.6     53   udp   CON  0.001055     132   \n",
       "1     59.166.0.0  33661  149.171.126.9   1024   udp   CON  0.036133     528   \n",
       "2     59.166.0.6   1464  149.171.126.7     53   udp   CON  0.001119     146   \n",
       "3     59.166.0.5   3593  149.171.126.5     53   udp   CON  0.001209     132   \n",
       "4     59.166.0.3  49664  149.171.126.0     53   udp   CON  0.001169     146   \n",
       "\n",
       "Name  dbytes  sttl  ...  ct_ftp_cmd  ct_srv_src  ct_srv_dst ct_dst_ltm  \\\n",
       "0        164    31  ...           0           3           7          1   \n",
       "1        304    31  ...           0           2           4          2   \n",
       "2        178    31  ...           0          12           8          1   \n",
       "3        164    31  ...           0           6           9          1   \n",
       "4        178    31  ...           0           7           9          1   \n",
       "\n",
       "Name  ct_src_ltm  ct_src_dport_ltm  ct_dst_sport_ltm  ct_dst_src_ltm  \\\n",
       "0              3                 1                 1               1   \n",
       "1              3                 1                 1               2   \n",
       "2              2                 2                 1               1   \n",
       "3              1                 1                 1               1   \n",
       "4              1                 1                 1               1   \n",
       "\n",
       "Name  attack_cat  label  \n",
       "0            NaN      0  \n",
       "1            NaN      0  \n",
       "2            NaN      0  \n",
       "3            NaN      0  \n",
       "4            NaN      0  \n",
       "\n",
       "[5 rows x 49 columns]"
      ]
     },
     "execution_count": 11,
     "metadata": {},
     "output_type": "execute_result"
    }
   ],
   "source": [
    "all_data.head()"
   ]
  },
  {
   "cell_type": "code",
   "execution_count": 12,
   "id": "bedcd320-3eeb-4af2-8d88-75c586700250",
   "metadata": {},
   "outputs": [],
   "source": [
    "##Cleaning and Preprocessing##"
   ]
  },
  {
   "cell_type": "code",
   "execution_count": 13,
   "id": "0fb611ef-2ae2-47e0-b425-e360e6fb0987",
   "metadata": {},
   "outputs": [],
   "source": [
    "from sklearn.model_selection import train_test_split\n",
    "train, test = train_test_split(all_data,test_size=0.3,random_state=16)"
   ]
  },
  {
   "cell_type": "code",
   "execution_count": null,
   "id": "c8fef1d5-0109-419d-8569-6b634c18856c",
   "metadata": {},
   "outputs": [],
   "source": [
    "del all_data"
   ]
  },
  {
   "cell_type": "code",
   "execution_count": 14,
   "id": "8041a04a-3484-450f-ae8c-b525d3a0b780",
   "metadata": {},
   "outputs": [
    {
     "name": "stdout",
     "output_type": "stream",
     "text": [
      "(1778032, 49) \n",
      " (762015, 49)\n"
     ]
    }
   ],
   "source": [
    "print(train.shape,'\\n',test.shape)"
   ]
  },
  {
   "cell_type": "code",
   "execution_count": 15,
   "id": "364cf09a-e7de-4a25-b431-a79da3a044cb",
   "metadata": {},
   "outputs": [
    {
     "data": {
      "text/plain": [
       "Name\n",
       "srcip                     0\n",
       "sport                     0\n",
       "dstip                     0\n",
       "dsport                    0\n",
       "proto                     0\n",
       "state                     0\n",
       "dur                       0\n",
       "sbytes                    0\n",
       "dbytes                    0\n",
       "sttl                      0\n",
       "dttl                      0\n",
       "sloss                     0\n",
       "dloss                     0\n",
       "service                   0\n",
       "sload                     0\n",
       "dload                     0\n",
       "spkts                     0\n",
       "dpkts                     0\n",
       "swin                      0\n",
       "dwin                      0\n",
       "stcpb                     0\n",
       "dtcpb                     0\n",
       "smeansz                   0\n",
       "dmeansz                   0\n",
       "trans_depth               0\n",
       "res_bdy_len               0\n",
       "sjit                      0\n",
       "djit                      0\n",
       "stime                     0\n",
       "ltime                     0\n",
       "sintpkt                   0\n",
       "dintpkt                   0\n",
       "tcprtt                    0\n",
       "synack                    0\n",
       "ackdat                    0\n",
       "is_sm_ips_ports           0\n",
       "ct_state_ttl              0\n",
       "ct_flw_http_mthd     943876\n",
       "is_ftp_login        1001037\n",
       "ct_ftp_cmd                0\n",
       "ct_srv_src                0\n",
       "ct_srv_dst                0\n",
       "ct_dst_ltm                0\n",
       "ct_src_ltm                0\n",
       "ct_src_dport_ltm          0\n",
       "ct_dst_sport_ltm          0\n",
       "ct_dst_src_ltm            0\n",
       "attack_cat          1552862\n",
       "label                     0\n",
       "dtype: int64"
      ]
     },
     "execution_count": 15,
     "metadata": {},
     "output_type": "execute_result"
    }
   ],
   "source": [
    "train.isnull().sum()"
   ]
  },
  {
   "cell_type": "code",
   "execution_count": 16,
   "id": "e02d15c1-d59e-4e16-85ea-9b1945f404f7",
   "metadata": {},
   "outputs": [
    {
     "data": {
      "text/plain": [
       "attack_cat\n",
       "Generic             150906\n",
       "Exploits             31507\n",
       " Fuzzers             13345\n",
       "DoS                  11433\n",
       " Reconnaissance       8544\n",
       " Fuzzers              3569\n",
       "Analysis              1855\n",
       "Backdoor              1242\n",
       "Reconnaissance        1220\n",
       " Shellcode             904\n",
       "Backdoors              374\n",
       "Shellcode              151\n",
       "Worms                  120\n",
       "Name: count, dtype: int64"
      ]
     },
     "execution_count": 16,
     "metadata": {},
     "output_type": "execute_result"
    }
   ],
   "source": [
    "train['attack_cat'].value_counts()"
   ]
  },
  {
   "cell_type": "code",
   "execution_count": 19,
   "id": "e11b2ddc-87e4-49a7-8ea6-92e959ca2d73",
   "metadata": {},
   "outputs": [],
   "source": [
    "train['attack_cat']=train.attack_cat.fillna(value=\"normal\").apply(lambda x:x.strip().lower())"
   ]
  },
  {
   "cell_type": "code",
   "execution_count": 20,
   "id": "7b088553-7384-4b33-8330-d69192e7924f",
   "metadata": {},
   "outputs": [
    {
     "data": {
      "text/plain": [
       "attack_cat\n",
       "normal            1552862\n",
       "generic            150906\n",
       "exploits            31507\n",
       "fuzzers             16914\n",
       "dos                 11433\n",
       "reconnaissance       9764\n",
       "analysis             1855\n",
       "backdoor             1242\n",
       "shellcode            1055\n",
       "backdoors             374\n",
       "worms                 120\n",
       "Name: count, dtype: int64"
      ]
     },
     "execution_count": 20,
     "metadata": {},
     "output_type": "execute_result"
    }
   ],
   "source": [
    "train['attack_cat'].value_counts()"
   ]
  },
  {
   "cell_type": "code",
   "execution_count": 21,
   "id": "683fa196-0291-478e-be94-dfb4d65c9609",
   "metadata": {},
   "outputs": [],
   "source": [
    "train['ct_flw_http_mthd'] = train.ct_flw_http_mthd.fillna(value=0)"
   ]
  },
  {
   "cell_type": "code",
   "execution_count": 22,
   "id": "492a6fdc-27c1-4497-b6bc-26bf6761e0fe",
   "metadata": {},
   "outputs": [
    {
     "data": {
      "text/plain": [
       "is_ftp_login\n",
       "0.0    746536\n",
       "1.0     30329\n",
       "4.0       109\n",
       "2.0        21\n",
       "Name: count, dtype: int64"
      ]
     },
     "execution_count": 22,
     "metadata": {},
     "output_type": "execute_result"
    }
   ],
   "source": [
    "train['is_ftp_login'].value_counts()"
   ]
  },
  {
   "cell_type": "code",
   "execution_count": 23,
   "id": "263ac050-6843-4b04-89d1-453c530483ed",
   "metadata": {},
   "outputs": [],
   "source": [
    "train['is_ftp_login'] = (train.is_ftp_login.fillna(value=0)).astype(int)"
   ]
  },
  {
   "cell_type": "code",
   "execution_count": 25,
   "id": "9ceeeda7-95c5-4348-a5b2-238c0c21cee7",
   "metadata": {},
   "outputs": [
    {
     "data": {
      "text/plain": [
       "Name\n",
       "srcip               0\n",
       "sport               0\n",
       "dstip               0\n",
       "dsport              0\n",
       "proto               0\n",
       "state               0\n",
       "dur                 0\n",
       "sbytes              0\n",
       "dbytes              0\n",
       "sttl                0\n",
       "dttl                0\n",
       "sloss               0\n",
       "dloss               0\n",
       "service             0\n",
       "sload               0\n",
       "dload               0\n",
       "spkts               0\n",
       "dpkts               0\n",
       "swin                0\n",
       "dwin                0\n",
       "stcpb               0\n",
       "dtcpb               0\n",
       "smeansz             0\n",
       "dmeansz             0\n",
       "trans_depth         0\n",
       "res_bdy_len         0\n",
       "sjit                0\n",
       "djit                0\n",
       "stime               0\n",
       "ltime               0\n",
       "sintpkt             0\n",
       "dintpkt             0\n",
       "tcprtt              0\n",
       "synack              0\n",
       "ackdat              0\n",
       "is_sm_ips_ports     0\n",
       "ct_state_ttl        0\n",
       "ct_flw_http_mthd    0\n",
       "is_ftp_login        0\n",
       "ct_ftp_cmd          0\n",
       "ct_srv_src          0\n",
       "ct_srv_dst          0\n",
       "ct_dst_ltm          0\n",
       "ct_src_ltm          0\n",
       "ct_src_dport_ltm    0\n",
       "ct_dst_sport_ltm    0\n",
       "ct_dst_src_ltm      0\n",
       "attack_cat          0\n",
       "label               0\n",
       "dtype: int64"
      ]
     },
     "execution_count": 25,
     "metadata": {},
     "output_type": "execute_result"
    }
   ],
   "source": [
    "train.isnull().sum()"
   ]
  },
  {
   "cell_type": "code",
   "execution_count": 26,
   "id": "29eb3e97-74b0-4903-b16a-79a53826c1ea",
   "metadata": {},
   "outputs": [
    {
     "data": {
      "text/plain": [
       "Index(['srcip', 'sport', 'dstip', 'dsport', 'proto', 'state', 'dur', 'sbytes',\n",
       "       'dbytes', 'sttl', 'dttl', 'sloss', 'dloss', 'service', 'sload', 'dload',\n",
       "       'spkts', 'dpkts', 'swin', 'dwin', 'stcpb', 'dtcpb', 'smeansz',\n",
       "       'dmeansz', 'trans_depth', 'res_bdy_len', 'sjit', 'djit', 'stime',\n",
       "       'ltime', 'sintpkt', 'dintpkt', 'tcprtt', 'synack', 'ackdat',\n",
       "       'is_sm_ips_ports', 'ct_state_ttl', 'ct_flw_http_mthd', 'is_ftp_login',\n",
       "       'ct_ftp_cmd', 'ct_srv_src', 'ct_srv_dst', 'ct_dst_ltm', 'ct_src_ltm',\n",
       "       'ct_src_dport_ltm', 'ct_dst_sport_ltm', 'ct_dst_src_ltm', 'attack_cat',\n",
       "       'label'],\n",
       "      dtype='object', name='Name')"
      ]
     },
     "execution_count": 26,
     "metadata": {},
     "output_type": "execute_result"
    }
   ],
   "source": [
    "train.columns"
   ]
  },
  {
   "cell_type": "code",
   "execution_count": 27,
   "id": "fe96cde7-34a3-4346-87f0-21e3c8eefdbd",
   "metadata": {},
   "outputs": [
    {
     "name": "stdout",
     "output_type": "stream",
     "text": [
      "In Train: there are 0.8733599845222133 % of class 0 and 0.12664001547778667 % of class 1\n",
      "In Test: there are 0.8738699369434985 % of class 0 and 0.1261300630565015 % of class 1\n"
     ]
    }
   ],
   "source": [
    "train_0, train_1 = train['label'].value_counts()[0] / len(train.index), train['label'].value_counts()[1] / len(train.index)\n",
    "test_0, test_1 = test['label'].value_counts()[0] / len(test.index), test['label'].value_counts()[1] / len(test.index)\n",
    "\n",
    "print(\"In Train: there are {} % of class 0 and {} % of class 1\".format(train_0, train_1))\n",
    "print(\"In Test: there are {} % of class 0 and {} % of class 1\".format(test_0, test_1))\n"
   ]
  },
  {
   "cell_type": "code",
   "execution_count": 29,
   "id": "7e00dcdd-2aea-41b9-8aab-b856bbf8a6a3",
   "metadata": {},
   "outputs": [
    {
     "data": {
      "image/png": "[encoded data removed]",
      "text/plain": [
       "<Figure size 640x480 with 1 Axes>"
      ]
     },
     "metadata": {},
     "output_type": "display_data"
    }
   ],
   "source": [
    "import matplotlib.pyplot as plt\n",
    "\n",
    "# Plotting target label distribution\n",
    "plt.figure()\n",
    "plt.title(\"class distribution of train and test dataset\")\n",
    "train['label'].value_counts().plot(kind=\"bar\", color='b', label=\"train\")\n",
    "test['label'].value_counts().plot(kind=\"bar\", color='orange', label=\"test\")\n",
    "plt.xlabel(\"Class\")\n",
    "plt.ylabel(\"Count\")\n",
    "plt.legend()\n",
    "plt.show()"
   ]
  },
  {
   "cell_type": "code",
   "execution_count": 30,
   "id": "dfae4fd2-ea7d-4efc-9190-b070f670ef57",
   "metadata": {},
   "outputs": [
    {
     "data": {
      "text/plain": [
       "(np.int64(0), np.int64(1499013))"
      ]
     },
     "execution_count": 30,
     "metadata": {},
     "output_type": "execute_result"
    }
   ],
   "source": [
    "# Check if any null value present in datasets\n",
    "train.isnull().sum().sum(), test.isnull().sum().sum()  # No Null in train and test data is still raw"
   ]
  },
  {
   "cell_type": "code",
   "execution_count": 31,
   "id": "90074a21-9435-4a8d-a712-9377f2ecd282",
   "metadata": {},
   "outputs": [
    {
     "name": "stdout",
     "output_type": "stream",
     "text": [
      "<class 'pandas.core.frame.DataFrame'>\n",
      "Index: 1778032 entries, 81030 to 2079982\n",
      "Data columns (total 49 columns):\n",
      " #   Column            Dtype  \n",
      "---  ------            -----  \n",
      " 0   srcip             object \n",
      " 1   sport             object \n",
      " 2   dstip             object \n",
      " 3   dsport            object \n",
      " 4   proto             object \n",
      " 5   state             object \n",
      " 6   dur               float64\n",
      " 7   sbytes            int64  \n",
      " 8   dbytes            int64  \n",
      " 9   sttl              int64  \n",
      " 10  dttl              int64  \n",
      " 11  sloss             int64  \n",
      " 12  dloss             int64  \n",
      " 13  service           object \n",
      " 14  sload             float64\n",
      " 15  dload             float64\n",
      " 16  spkts             int64  \n",
      " 17  dpkts             int64  \n",
      " 18  swin              int64  \n",
      " 19  dwin              int64  \n",
      " 20  stcpb             int64  \n",
      " 21  dtcpb             int64  \n",
      " 22  smeansz           int64  \n",
      " 23  dmeansz           int64  \n",
      " 24  trans_depth       int64  \n",
      " 25  res_bdy_len       int64  \n",
      " 26  sjit              float64\n",
      " 27  djit              float64\n",
      " 28  stime             int64  \n",
      " 29  ltime             int64  \n",
      " 30  sintpkt           float64\n",
      " 31  dintpkt           float64\n",
      " 32  tcprtt            float64\n",
      " 33  synack            float64\n",
      " 34  ackdat            float64\n",
      " 35  is_sm_ips_ports   int64  \n",
      " 36  ct_state_ttl      int64  \n",
      " 37  ct_flw_http_mthd  float64\n",
      " 38  is_ftp_login      int64  \n",
      " 39  ct_ftp_cmd        object \n",
      " 40  ct_srv_src        int64  \n",
      " 41  ct_srv_dst        int64  \n",
      " 42  ct_dst_ltm        int64  \n",
      " 43  ct_src_ltm        int64  \n",
      " 44  ct_src_dport_ltm  int64  \n",
      " 45  ct_dst_sport_ltm  int64  \n",
      " 46  ct_dst_src_ltm    int64  \n",
      " 47  attack_cat        object \n",
      " 48  label             int64  \n",
      "dtypes: float64(11), int64(29), object(9)\n",
      "memory usage: 678.3+ MB\n"
     ]
    }
   ],
   "source": [
    "train.info()"
   ]
  },
  {
   "cell_type": "code",
   "execution_count": 32,
   "id": "dadaddd2-f443-41d8-afb0-83bcc1f3da66",
   "metadata": {},
   "outputs": [
    {
     "data": {
      "text/plain": [
       "int64      29\n",
       "float64    11\n",
       "object      9\n",
       "Name: count, dtype: int64"
      ]
     },
     "execution_count": 32,
     "metadata": {},
     "output_type": "execute_result"
    }
   ],
   "source": [
    "train.dtypes.value_counts()"
   ]
  },
  {
   "cell_type": "code",
   "execution_count": 34,
   "id": "bf1d8c7a-3c2a-41ea-9236-274a18e8f6d8",
   "metadata": {},
   "outputs": [
    {
     "data": {
      "text/plain": [
       "Index(['srcip', 'sport', 'dstip', 'dsport', 'proto', 'state', 'service',\n",
       "       'ct_ftp_cmd', 'attack_cat'],\n",
       "      dtype='object', name='Name')"
      ]
     },
     "execution_count": 34,
     "metadata": {},
     "output_type": "execute_result"
    }
   ],
   "source": [
    "import numpy as np\n",
    "train.select_dtypes(exclude=np.number).columns"
   ]
  },
  {
   "cell_type": "code",
   "execution_count": 35,
   "id": "7250584b-b002-4fa5-b740-87136b52aa52",
   "metadata": {},
   "outputs": [
    {
     "data": {
      "text/plain": [
       "array([0, ' ', 1, '1', '0', 5, 2, 3, 4, '4', 6, '2', 8], dtype=object)"
      ]
     },
     "execution_count": 35,
     "metadata": {},
     "output_type": "execute_result"
    }
   ],
   "source": [
    "train['ct_ftp_cmd'].unique()"
   ]
  },
  {
   "cell_type": "code",
   "execution_count": 36,
   "id": "891bfccb-5a12-4ea4-b3f0-e8d85817734f",
   "metadata": {},
   "outputs": [],
   "source": [
    "train['ct_ftp_cmd'] = train['ct_ftp_cmd'].replace(to_replace=' ', value=0).astype(int)"
   ]
  },
  {
   "cell_type": "code",
   "execution_count": 37,
   "id": "47fba24c-38d8-4430-b3d5-d17dc447c03e",
   "metadata": {},
   "outputs": [
    {
     "data": {
      "text/plain": [
       "array([0, 1, 5, 2, 3, 4, 6, 8])"
      ]
     },
     "execution_count": 37,
     "metadata": {},
     "output_type": "execute_result"
    }
   ],
   "source": [
    "train['ct_ftp_cmd'].unique()"
   ]
  },
  {
   "cell_type": "code",
   "execution_count": 38,
   "id": "bb3fab7c-6ea0-4fb9-b59b-494431f9ef01",
   "metadata": {},
   "outputs": [
    {
     "data": {
      "text/plain": [
       "Index(['srcip', 'sport', 'dstip', 'dsport', 'proto', 'state', 'service',\n",
       "       'attack_cat'],\n",
       "      dtype='object', name='Name')"
      ]
     },
     "execution_count": 38,
     "metadata": {},
     "output_type": "execute_result"
    }
   ],
   "source": [
    "train.select_dtypes(exclude=np.number).columns"
   ]
  },
  {
   "cell_type": "code",
   "execution_count": 39,
   "id": "efe90227-7a42-4196-b2ed-c6883326405c",
   "metadata": {},
   "outputs": [
    {
     "data": {
      "text/plain": [
       "Index(['dur', 'sbytes', 'dbytes', 'sttl', 'dttl', 'sloss', 'dloss', 'sload',\n",
       "       'dload', 'spkts', 'dpkts', 'swin', 'dwin', 'stcpb', 'dtcpb', 'smeansz',\n",
       "       'dmeansz', 'trans_depth', 'res_bdy_len', 'sjit', 'djit', 'stime',\n",
       "       'ltime', 'sintpkt', 'dintpkt', 'tcprtt', 'synack', 'ackdat',\n",
       "       'is_sm_ips_ports', 'ct_state_ttl', 'ct_flw_http_mthd', 'is_ftp_login',\n",
       "       'ct_ftp_cmd', 'ct_srv_src', 'ct_srv_dst', 'ct_dst_ltm', 'ct_src_ltm',\n",
       "       'ct_src_dport_ltm', 'ct_dst_sport_ltm', 'ct_dst_src_ltm', 'label'],\n",
       "      dtype='object', name='Name')"
      ]
     },
     "execution_count": 39,
     "metadata": {},
     "output_type": "execute_result"
    }
   ],
   "source": [
    "train.select_dtypes(include=np.number).columns"
   ]
  },
  {
   "cell_type": "code",
   "execution_count": 40,
   "id": "8c10e08f-b967-4968-9086-650880746cd1",
   "metadata": {},
   "outputs": [],
   "source": [
    "saved_dict['binary_col'] = ['is_sm_ips_ports', 'is_ftp_login']"
   ]
  },
  {
   "cell_type": "code",
   "execution_count": 41,
   "id": "974ffc48-15f1-405f-a9f0-ffb2579fdbe0",
   "metadata": {},
   "outputs": [
    {
     "data": {
      "text/plain": [
       "{'columns': ['srcip',\n",
       "  'sport',\n",
       "  'dstip',\n",
       "  'dsport',\n",
       "  'proto',\n",
       "  'state',\n",
       "  'dur',\n",
       "  'sbytes',\n",
       "  'dbytes',\n",
       "  'sttl',\n",
       "  'dttl',\n",
       "  'sloss',\n",
       "  'dloss',\n",
       "  'service',\n",
       "  'sload',\n",
       "  'dload',\n",
       "  'spkts',\n",
       "  'dpkts',\n",
       "  'swin',\n",
       "  'dwin',\n",
       "  'stcpb',\n",
       "  'dtcpb',\n",
       "  'smeansz',\n",
       "  'dmeansz',\n",
       "  'trans_depth',\n",
       "  'res_bdy_len',\n",
       "  'sjit',\n",
       "  'djit',\n",
       "  'stime',\n",
       "  'ltime',\n",
       "  'sintpkt',\n",
       "  'dintpkt',\n",
       "  'tcprtt',\n",
       "  'synack',\n",
       "  'ackdat',\n",
       "  'is_sm_ips_ports',\n",
       "  'ct_state_ttl',\n",
       "  'ct_flw_http_mthd',\n",
       "  'is_ftp_login',\n",
       "  'ct_ftp_cmd',\n",
       "  'ct_srv_src',\n",
       "  'ct_srv_dst',\n",
       "  'ct_dst_ltm',\n",
       "  'ct_src_ltm',\n",
       "  'ct_src_dport_ltm',\n",
       "  'ct_dst_sport_ltm',\n",
       "  'ct_dst_src_ltm',\n",
       "  'attack_cat'],\n",
       " 'binary_col': ['is_sm_ips_ports', 'is_ftp_login']}"
      ]
     },
     "execution_count": 41,
     "metadata": {},
     "output_type": "execute_result"
    }
   ],
   "source": [
    "saved_dict"
   ]
  },
  {
   "cell_type": "code",
   "execution_count": 42,
   "id": "7498b847-be9e-49ab-a5e5-be13f301c401",
   "metadata": {},
   "outputs": [
    {
     "name": "stdout",
     "output_type": "stream",
     "text": [
      "is_sm_ips_ports\n",
      "0    1775116\n",
      "1       2916\n",
      "Name: count, dtype: int64\n",
      "\n",
      "is_ftp_login\n",
      "0    1747573\n",
      "1      30329\n",
      "4        109\n",
      "2         21\n",
      "Name: count, dtype: int64\n",
      "\n"
     ]
    }
   ],
   "source": [
    "for col in 'is_sm_ips_ports', 'is_ftp_login':\n",
    "    print(train[col].value_counts())\n",
    "    print()"
   ]
  },
  {
   "cell_type": "code",
   "execution_count": 43,
   "id": "c8c2b3cf-4256-4dea-9aa9-e465d6f8a2cc",
   "metadata": {},
   "outputs": [],
   "source": [
    "train['is_ftp_login'] = np.where(train['is_ftp_login']>1, 1, train['is_ftp_login'])"
   ]
  },
  {
   "cell_type": "code",
   "execution_count": 44,
   "id": "d6a2f96d-a5aa-473d-9899-bbe045db246f",
   "metadata": {},
   "outputs": [
    {
     "data": {
      "text/plain": [
       "is_ftp_login\n",
       "0    1747573\n",
       "1      30459\n",
       "Name: count, dtype: int64"
      ]
     },
     "execution_count": 44,
     "metadata": {},
     "output_type": "execute_result"
    }
   ],
   "source": [
    "train['is_ftp_login'].value_counts()"
   ]
  },
  {
   "cell_type": "code",
   "execution_count": 45,
   "id": "6207e5d3-9eaa-45f5-bb08-7c404a867e27",
   "metadata": {},
   "outputs": [
    {
     "data": {
      "text/plain": [
       "service\n",
       "-           872286\n",
       "dns         547094\n",
       "http        144555\n",
       "ftp-data     88310\n",
       "smtp         57160\n",
       "ftp          34293\n",
       "ssh          32897\n",
       "pop3          1076\n",
       "dhcp           124\n",
       "ssl            109\n",
       "snmp            81\n",
       "radius          27\n",
       "irc             20\n",
       "Name: count, dtype: int64"
      ]
     },
     "execution_count": 45,
     "metadata": {},
     "output_type": "execute_result"
    }
   ],
   "source": [
    "train['service'].value_counts()"
   ]
  },
  {
   "cell_type": "code",
   "execution_count": 46,
   "id": "c8cbbb96-b11f-4213-862c-25497d30cdb5",
   "metadata": {},
   "outputs": [],
   "source": [
    "train['service'] = train['service'].apply(lambda x:\"None\" if x==\"-\" else x)"
   ]
  },
  {
   "cell_type": "code",
   "execution_count": 47,
   "id": "7e6126b5-2083-4a1a-8f6e-81d6385b2310",
   "metadata": {},
   "outputs": [
    {
     "data": {
      "text/plain": [
       "service\n",
       "None        872286\n",
       "dns         547094\n",
       "http        144555\n",
       "ftp-data     88310\n",
       "smtp         57160\n",
       "ftp          34293\n",
       "ssh          32897\n",
       "pop3          1076\n",
       "dhcp           124\n",
       "ssl            109\n",
       "snmp            81\n",
       "radius          27\n",
       "irc             20\n",
       "Name: count, dtype: int64"
      ]
     },
     "execution_count": 47,
     "metadata": {},
     "output_type": "execute_result"
    }
   ],
   "source": [
    "train['service'].value_counts()"
   ]
  },
  {
   "cell_type": "code",
   "execution_count": 48,
   "id": "07b0980a-f1c2-40b2-8a06-5ce369a5fb16",
   "metadata": {},
   "outputs": [
    {
     "data": {
      "text/plain": [
       "11"
      ]
     },
     "execution_count": 48,
     "metadata": {},
     "output_type": "execute_result"
    }
   ],
   "source": [
    "train['attack_cat'].nunique()"
   ]
  },
  {
   "cell_type": "code",
   "execution_count": 49,
   "id": "7ee73cc3-b400-475a-bf99-67534b1d445d",
   "metadata": {},
   "outputs": [
    {
     "data": {
      "text/plain": [
       "attack_cat\n",
       "normal            1552862\n",
       "generic            150906\n",
       "exploits            31507\n",
       "fuzzers             16914\n",
       "dos                 11433\n",
       "reconnaissance       9764\n",
       "analysis             1855\n",
       "backdoor             1242\n",
       "shellcode            1055\n",
       "backdoors             374\n",
       "worms                 120\n",
       "Name: count, dtype: int64"
      ]
     },
     "execution_count": 49,
     "metadata": {},
     "output_type": "execute_result"
    }
   ],
   "source": [
    "train['attack_cat'].value_counts()"
   ]
  },
  {
   "cell_type": "code",
   "execution_count": 50,
   "id": "597d6616-6c83-43e3-84e3-5e102463384a",
   "metadata": {},
   "outputs": [],
   "source": [
    "train['attack_cat'] = train['attack_cat'].replace('backdoors','backdoor', regex=True).apply(lambda x: x.strip().lower())"
   ]
  },
  {
   "cell_type": "code",
   "execution_count": 51,
   "id": "ec698de8-e35d-48cc-81dc-ac14dc407d6d",
   "metadata": {},
   "outputs": [
    {
     "data": {
      "text/plain": [
       "((1778032, 49), (762015, 49))"
      ]
     },
     "execution_count": 51,
     "metadata": {},
     "output_type": "execute_result"
    }
   ],
   "source": [
    "train.shape, test.shape"
   ]
  },
  {
   "cell_type": "code",
   "execution_count": null,
   "id": "d367f056-eb58-4d67-9ec2-1d88e8f603ea",
   "metadata": {},
   "outputs": [],
   "source": [
    "train.to_csv('./train_alldata_EDA.csv', index=False)\n",
    "test.to_csv('./test_alldata_EDA.csv', index=False)"
   ]
  },
  {
   "cell_type": "code",
   "execution_count": 54,
   "id": "c2676794-ab84-478f-af48-a773ed463852",
   "metadata": {},
   "outputs": [],
   "source": [
    "import pickle\n",
    "pickle.dump(saved_dict, open('./final_ipynb', 'wb'))"
   ]
  },
  {
   "cell_type": "code",
   "execution_count": null,
   "id": "22756d3d-80d6-491a-ab2e-fc3e4b524baa",
   "metadata": {},
   "outputs": [],
   "source": []
  }
 ],
 "metadata": {
  "kernelspec": {
   "display_name": "Python 3 (ipykernel)",
   "language": "python",
   "name": "python3"
  },
  "language_info": {
   "codemirror_mode": {
    "name": "ipython",
    "version": 3
   },
   "file_extension": ".py",
   "mimetype": "text/x-python",
   "name": "python",
   "nbconvert_exporter": "python",
   "pygments_lexer": "ipython3",
   "version": "3.12.3"
  }
 },
 "nbformat": 4,
 "nbformat_minor": 5
}
