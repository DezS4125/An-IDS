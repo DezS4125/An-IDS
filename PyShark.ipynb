{
 "cells": [
  {
   "cell_type": "code",
   "execution_count": 1,
   "id": "6ef99351-6088-4a0a-b312-fb8d058bd4e6",
   "metadata": {},
   "outputs": [],
   "source": [
    "import pyshark"
   ]
  },
  {
   "cell_type": "markdown",
   "id": "38f46692-8bae-4b89-9ff6-112fcd4b1394",
   "metadata": {},
   "source": [
    "Reading from pcap file"
   ]
  },
  {
   "cell_type": "code",
   "execution_count": 9,
   "id": "ae70175d-929c-490a-97ee-503fe4b85a10",
   "metadata": {},
   "outputs": [
    {
     "data": {
      "text/plain": [
       "<FileCapture /home/dezs/test.pcap>"
      ]
     },
     "execution_count": 9,
     "metadata": {},
     "output_type": "execute_result"
    }
   ],
   "source": [
    "cap = pyshark.FileCapture('/home/dezs/test.pcap')\n",
    "cap"
   ]
  },
  {
   "cell_type": "code",
   "execution_count": 10,
   "id": "25c3c4db-1489-4f5e-b56f-2ac9a9548443",
   "metadata": {},
   "outputs": [
    {
     "name": "stdout",
     "output_type": "stream",
     "text": [
      "Total number of packets: 0\n"
     ]
    }
   ],
   "source": [
    "first_packet = cap  # Access the first packet (index 0)\n",
    "\n",
    "num_packets = cap.__len__()  # Get the number of packets\n",
    "\n",
    "print(f\"Total number of packets: {num_packets}\")"
   ]
  },
  {
   "cell_type": "markdown",
   "id": "dd8f7c7b-0d6c-418c-b83e-6514045115da",
   "metadata": {},
   "source": [
    "Reading live"
   ]
  },
  {
   "cell_type": "code",
   "execution_count": 5,
   "id": "71d58e05-0672-4842-b45d-d46f59ebf96e",
   "metadata": {},
   "outputs": [
    {
     "ename": "CalledProcessError",
     "evalue": "Command '['/usr/bin/tshark', '-D']' returned non-zero exit status 13.",
     "output_type": "error",
     "traceback": [
      "\u001b[0;31m---------------------------------------------------------------------------\u001b[0m",
      "\u001b[0;31mCalledProcessError\u001b[0m                        Traceback (most recent call last)",
      "Cell \u001b[0;32mIn[5], line 1\u001b[0m\n\u001b[0;32m----> 1\u001b[0m capture \u001b[38;5;241m=\u001b[39m \u001b[43mpyshark\u001b[49m\u001b[38;5;241;43m.\u001b[39;49m\u001b[43mLiveCapture\u001b[49m\u001b[43m(\u001b[49m\u001b[43minterface\u001b[49m\u001b[38;5;241;43m=\u001b[39;49m\u001b[38;5;124;43m'\u001b[39;49m\u001b[38;5;124;43mwlp0s20f3\u001b[39;49m\u001b[38;5;124;43m'\u001b[39;49m\u001b[43m)\u001b[49m\n\u001b[1;32m      2\u001b[0m capture\u001b[38;5;241m.\u001b[39msniff(timeout\u001b[38;5;241m=\u001b[39m\u001b[38;5;241m50\u001b[39m)\n\u001b[1;32m      3\u001b[0m capture\n",
      "File \u001b[0;32m~/miniconda3/envs/myIDS/lib/python3.12/site-packages/pyshark/capture/live_capture.py:58\u001b[0m, in \u001b[0;36mLiveCapture.__init__\u001b[0;34m(self, interface, bpf_filter, display_filter, only_summaries, decryption_key, encryption_type, output_file, decode_as, disable_protocol, tshark_path, override_prefs, capture_filter, monitor_mode, use_json, use_ek, include_raw, eventloop, custom_parameters, debug)\u001b[0m\n\u001b[1;32m     55\u001b[0m \u001b[38;5;28mself\u001b[39m\u001b[38;5;241m.\u001b[39mbpf_filter \u001b[38;5;241m=\u001b[39m bpf_filter\n\u001b[1;32m     56\u001b[0m \u001b[38;5;28mself\u001b[39m\u001b[38;5;241m.\u001b[39mmonitor_mode \u001b[38;5;241m=\u001b[39m monitor_mode\n\u001b[0;32m---> 58\u001b[0m all_interfaces \u001b[38;5;241m=\u001b[39m \u001b[43mget_tshark_interfaces\u001b[49m\u001b[43m(\u001b[49m\u001b[43mtshark_path\u001b[49m\u001b[43m)\u001b[49m\n\u001b[1;32m     59\u001b[0m \u001b[38;5;28;01mif\u001b[39;00m interface \u001b[38;5;129;01mis\u001b[39;00m \u001b[38;5;28;01mNone\u001b[39;00m:\n\u001b[1;32m     60\u001b[0m     \u001b[38;5;28mself\u001b[39m\u001b[38;5;241m.\u001b[39minterfaces \u001b[38;5;241m=\u001b[39m all_interfaces\n",
      "File \u001b[0;32m~/miniconda3/envs/myIDS/lib/python3.12/site-packages/pyshark/tshark/tshark.py:114\u001b[0m, in \u001b[0;36mget_tshark_interfaces\u001b[0;34m(tshark_path)\u001b[0m\n\u001b[1;32m    112\u001b[0m parameters \u001b[38;5;241m=\u001b[39m [get_process_path(tshark_path), \u001b[38;5;124m\"\u001b[39m\u001b[38;5;124m-D\u001b[39m\u001b[38;5;124m\"\u001b[39m]\n\u001b[1;32m    113\u001b[0m \u001b[38;5;28;01mwith\u001b[39;00m \u001b[38;5;28mopen\u001b[39m(os\u001b[38;5;241m.\u001b[39mdevnull, \u001b[38;5;124m\"\u001b[39m\u001b[38;5;124mw\u001b[39m\u001b[38;5;124m\"\u001b[39m) \u001b[38;5;28;01mas\u001b[39;00m null:\n\u001b[0;32m--> 114\u001b[0m     tshark_interfaces \u001b[38;5;241m=\u001b[39m \u001b[43msubprocess\u001b[49m\u001b[38;5;241;43m.\u001b[39;49m\u001b[43mcheck_output\u001b[49m\u001b[43m(\u001b[49m\u001b[43mparameters\u001b[49m\u001b[43m,\u001b[49m\u001b[43m \u001b[49m\u001b[43mstderr\u001b[49m\u001b[38;5;241;43m=\u001b[39;49m\u001b[43mnull\u001b[49m\u001b[43m)\u001b[49m\u001b[38;5;241m.\u001b[39mdecode(\u001b[38;5;124m\"\u001b[39m\u001b[38;5;124mutf-8\u001b[39m\u001b[38;5;124m\"\u001b[39m)\n\u001b[1;32m    116\u001b[0m \u001b[38;5;28;01mreturn\u001b[39;00m [line\u001b[38;5;241m.\u001b[39msplit(\u001b[38;5;124m\"\u001b[39m\u001b[38;5;124m \u001b[39m\u001b[38;5;124m\"\u001b[39m)[\u001b[38;5;241m1\u001b[39m] \u001b[38;5;28;01mfor\u001b[39;00m line \u001b[38;5;129;01min\u001b[39;00m tshark_interfaces\u001b[38;5;241m.\u001b[39msplitlines() \u001b[38;5;28;01mif\u001b[39;00m \u001b[38;5;124m'\u001b[39m\u001b[38;5;130;01m\\\\\u001b[39;00m\u001b[38;5;130;01m\\\\\u001b[39;00m\u001b[38;5;124m.\u001b[39m\u001b[38;5;130;01m\\\\\u001b[39;00m\u001b[38;5;124m'\u001b[39m \u001b[38;5;129;01mnot\u001b[39;00m \u001b[38;5;129;01min\u001b[39;00m line]\n",
      "File \u001b[0;32m~/miniconda3/envs/myIDS/lib/python3.12/subprocess.py:466\u001b[0m, in \u001b[0;36mcheck_output\u001b[0;34m(timeout, *popenargs, **kwargs)\u001b[0m\n\u001b[1;32m    463\u001b[0m         empty \u001b[38;5;241m=\u001b[39m \u001b[38;5;124mb\u001b[39m\u001b[38;5;124m'\u001b[39m\u001b[38;5;124m'\u001b[39m\n\u001b[1;32m    464\u001b[0m     kwargs[\u001b[38;5;124m'\u001b[39m\u001b[38;5;124minput\u001b[39m\u001b[38;5;124m'\u001b[39m] \u001b[38;5;241m=\u001b[39m empty\n\u001b[0;32m--> 466\u001b[0m \u001b[38;5;28;01mreturn\u001b[39;00m \u001b[43mrun\u001b[49m\u001b[43m(\u001b[49m\u001b[38;5;241;43m*\u001b[39;49m\u001b[43mpopenargs\u001b[49m\u001b[43m,\u001b[49m\u001b[43m \u001b[49m\u001b[43mstdout\u001b[49m\u001b[38;5;241;43m=\u001b[39;49m\u001b[43mPIPE\u001b[49m\u001b[43m,\u001b[49m\u001b[43m \u001b[49m\u001b[43mtimeout\u001b[49m\u001b[38;5;241;43m=\u001b[39;49m\u001b[43mtimeout\u001b[49m\u001b[43m,\u001b[49m\u001b[43m \u001b[49m\u001b[43mcheck\u001b[49m\u001b[38;5;241;43m=\u001b[39;49m\u001b[38;5;28;43;01mTrue\u001b[39;49;00m\u001b[43m,\u001b[49m\n\u001b[1;32m    467\u001b[0m \u001b[43m           \u001b[49m\u001b[38;5;241;43m*\u001b[39;49m\u001b[38;5;241;43m*\u001b[39;49m\u001b[43mkwargs\u001b[49m\u001b[43m)\u001b[49m\u001b[38;5;241m.\u001b[39mstdout\n",
      "File \u001b[0;32m~/miniconda3/envs/myIDS/lib/python3.12/subprocess.py:571\u001b[0m, in \u001b[0;36mrun\u001b[0;34m(input, capture_output, timeout, check, *popenargs, **kwargs)\u001b[0m\n\u001b[1;32m    569\u001b[0m     retcode \u001b[38;5;241m=\u001b[39m process\u001b[38;5;241m.\u001b[39mpoll()\n\u001b[1;32m    570\u001b[0m     \u001b[38;5;28;01mif\u001b[39;00m check \u001b[38;5;129;01mand\u001b[39;00m retcode:\n\u001b[0;32m--> 571\u001b[0m         \u001b[38;5;28;01mraise\u001b[39;00m CalledProcessError(retcode, process\u001b[38;5;241m.\u001b[39margs,\n\u001b[1;32m    572\u001b[0m                                  output\u001b[38;5;241m=\u001b[39mstdout, stderr\u001b[38;5;241m=\u001b[39mstderr)\n\u001b[1;32m    573\u001b[0m \u001b[38;5;28;01mreturn\u001b[39;00m CompletedProcess(process\u001b[38;5;241m.\u001b[39margs, retcode, stdout, stderr)\n",
      "\u001b[0;31mCalledProcessError\u001b[0m: Command '['/usr/bin/tshark', '-D']' returned non-zero exit status 13."
     ]
    }
   ],
   "source": [
    "capture = pyshark.LiveCapture(interface='wlp0s20f3')\n",
    "capture.sniff(timeout=50)\n",
    "capture"
   ]
  },
  {
   "cell_type": "code",
   "execution_count": null,
   "id": "3ded29c4-1626-4c2f-bd06-655161110fdf",
   "metadata": {},
   "outputs": [],
   "source": [
    ">>> <LiveCapture (5 packets)>\n",
    "capture[3]\n",
    "<UDP/HTTP Packet>"
   ]
  },
  {
   "cell_type": "code",
   "execution_count": null,
   "id": "3ccfd424-470c-4a77-abd9-6e79dc18f8f0",
   "metadata": {},
   "outputs": [],
   "source": [
    "for packet in capture.sniff_continuously(packet_count=5):\n",
    "    print 'Just arrived:', packet"
   ]
  }
 ],
 "metadata": {
  "kernelspec": {
   "display_name": "Python 3 (ipykernel)",
   "language": "python",
   "name": "python3"
  },
  "language_info": {
   "codemirror_mode": {
    "name": "ipython",
    "version": 3
   },
   "file_extension": ".py",
   "mimetype": "text/x-python",
   "name": "python",
   "nbconvert_exporter": "python",
   "pygments_lexer": "ipython3",
   "version": "3.12.3"
  }
 },
 "nbformat": 4,
 "nbformat_minor": 5
}
