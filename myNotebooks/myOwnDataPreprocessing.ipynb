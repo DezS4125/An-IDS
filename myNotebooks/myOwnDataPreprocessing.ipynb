{
 "cells": [
  {
   "cell_type": "code",
   "execution_count": 1,
   "metadata": {
    "id": "4PGLiwORzRg4"
   },
   "outputs": [],
   "source": [
    "import numpy as np  # for array\n",
    "import pandas as pd  # for csv files and dataframe\n",
    "import matplotlib.pyplot as plt  # for plotting\n",
    "import seaborn as sns  # plotting\n",
    "from scipy import stats\n",
    "\n",
    "import pickle  # To load data int disk\n",
    "from prettytable import PrettyTable  # To print in tabular format\n",
    "\n",
    "import warnings\n",
    "warnings.filterwarnings(\"ignore\")\n",
    "\n",
    "from sklearn.preprocessing import StandardScaler\n",
    "from sklearn.preprocessing import LabelEncoder, OneHotEncoder\n",
    "\n",
    "from sklearn.model_selection import train_test_split\n",
    "from sklearn.linear_model import LogisticRegression, SGDClassifier\n",
    "from sklearn.svm import LinearSVC\n",
    "from sklearn.naive_bayes import MultinomialNB\n",
    "from sklearn.tree import DecisionTreeClassifier\n",
    "from sklearn.ensemble import RandomForestClassifier\n",
    "import xgboost as xgb\n",
    "\n",
    "from sklearn.metrics import accuracy_score, confusion_matrix, make_scorer\n",
    "from sklearn.metrics import auc, f1_score, roc_curve\n",
    "from sklearn.model_selection import GridSearchCV, RandomizedSearchCV\n",
    "from sklearn.model_selection import cross_validate, cross_val_predict\n",
    "\n",
    "%matplotlib inline"
   ]
  },
  {
   "cell_type": "code",
   "execution_count": 2,
   "metadata": {
    "colab": {
     "base_uri": "https://localhost:8080/"
    },
    "id": "ys4aOewWzhUW",
    "outputId": "e50d7488-1c08-4686-e5b5-b6a64254fc50"
   },
   "outputs": [],
   "source": [
    "# from google.colab import drive\n",
    "# drive.mount('/content/drive')\n",
    "# drive_path=\"drive/MyDrive/\""
   ]
  },
  {
   "cell_type": "code",
   "execution_count": 3,
   "metadata": {},
   "outputs": [],
   "source": [
    "drive_path=\"/home/dezs/projects/myIDS/datasets/\""
   ]
  },
  {
   "cell_type": "code",
   "execution_count": 4,
   "metadata": {
    "id": "52sY1z2Nzb4f"
   },
   "outputs": [],
   "source": [
    "train=pd.read_csv(drive_path+\"myDataset/train_clean.csv\")\n",
    "test=pd.read_csv(drive_path+\"myDataset/test_clean.csv\")"
   ]
  },
  {
   "cell_type": "code",
   "execution_count": 5,
   "metadata": {
    "id": "m3jBcvMn0CLr"
   },
   "outputs": [],
   "source": [
    "def multi_corr(col1, col2=\"label\", df=train):\n",
    "    '''\n",
    "    This function returns correlation between 2 given features.\n",
    "    Also gives corr of the given features with \"label\" afetr applying log1p to it.\n",
    "    '''\n",
    "    corr = df[[col1, col2]].corr().iloc[0,1]\n",
    "    log_corr = df[col1].apply(np.log1p).corr(df[col2])\n",
    "\n",
    "    print(\"Correlation : {}\\nlog_Correlation: {}\".format(corr, log_corr))\n",
    "\n",
    "def corr(col1, col2=\"label\", df=train):\n",
    "    \"\"\"\n",
    "    This function returns correlation between 2 given features\n",
    "    \"\"\"\n",
    "    return df[[col1, col2]].corr().iloc[0,1]"
   ]
  },
  {
   "cell_type": "code",
   "execution_count": 6,
   "metadata": {
    "id": "vF8FuIwa1fe-"
   },
   "outputs": [],
   "source": [
    "# Selecting all the features with high correlation values with other features\n",
    "# Refer: https://chrisalbon.com/machine_learning/feature_selection/drop_highly_correlated_features/\n",
    "\n",
    "train_prep = train.select_dtypes(exclude=['object'])\n",
    "\n",
    "corr_matrix = train_prep.corr().abs()\n"
   ]
  },
  {
   "cell_type": "code",
   "execution_count": 7,
   "metadata": {
    "id": "FDhKIoyg3R5J"
   },
   "outputs": [],
   "source": [
    "\n",
    "# Select upper triangle of correlation matrix\n",
    "upper = corr_matrix.where(np.triu(np.ones(corr_matrix.shape), k=1).astype(bool))\n",
    "\n",
    "# Find index of feature columns with correlation greater than 0.9\n",
    "to_drop = [column for column in upper.columns if any(upper[column] > 0.9)]"
   ]
  },
  {
   "cell_type": "code",
   "execution_count": 8,
   "metadata": {
    "colab": {
     "base_uri": "https://localhost:8080/"
    },
    "id": "XUhtOBSY1n5b",
    "outputId": "caac215b-9817-48e2-a286-aad5f56e9233"
   },
   "outputs": [
    {
     "name": "stdout",
     "output_type": "stream",
     "text": [
      "['sloss', 'dloss', 'dpkts', 'dwin', 'ltime', 'synack', 'ackdat', 'ct_ftp_cmd']\n"
     ]
    }
   ],
   "source": [
    "# We don't want to use these features for plotting because these are having high corr\n",
    "# And most likely have same kind of plots with already plotted feature\n",
    "print(to_drop)"
   ]
  },
  {
   "cell_type": "code",
   "execution_count": 9,
   "metadata": {
    "colab": {
     "base_uri": "https://localhost:8080/"
    },
    "id": "K7cJLMkh6VTF",
    "outputId": "176d5796-cdaf-459f-8950-a537ed4290ba"
   },
   "outputs": [],
   "source": [
    "#removed since it is label\n",
    "# to_drop.remove('label')\n",
    "# to_drop"
   ]
  },
  {
   "cell_type": "code",
   "execution_count": 10,
   "metadata": {
    "colab": {
     "base_uri": "https://localhost:8080/"
    },
    "id": "GY4Aqxcy63Ja",
    "outputId": "9974cb43-322f-4443-8415-b6008e998b1f"
   },
   "outputs": [
    {
     "name": "stdout",
     "output_type": "stream",
     "text": [
      "8\n"
     ]
    }
   ],
   "source": [
    "print(len(to_drop))"
   ]
  },
  {
   "cell_type": "code",
   "execution_count": 11,
   "metadata": {
    "colab": {
     "base_uri": "https://localhost:8080/"
    },
    "id": "sHp2dHKv1pRo",
    "outputId": "3cd699d3-f4b1-401e-c7c7-c1b2638d2b13"
   },
   "outputs": [
    {
     "name": "stdout",
     "output_type": "stream",
     "text": [
      "{'columns': ['srcip', 'sport', 'dstip', 'dsport', 'proto', 'state', 'dur', 'sbytes', 'dbytes', 'sttl', 'dttl', 'sloss', 'dloss', 'service', 'sload', 'dload', 'spkts', 'dpkts', 'swin', 'dwin', 'stcpb', 'dtcpb', 'smeansz', 'dmeansz', 'trans_depth', 'res_bdy_len', 'sjit', 'djit', 'stime', 'ltime', 'sintpkt', 'dintpkt', 'tcprtt', 'synack', 'ackdat', 'is_sm_ips_ports', 'ct_state_ttl', 'ct_flw_http_mthd', 'is_ftp_login', 'ct_ftp_cmd', 'ct_srv_src', 'ct_srv_dst', 'ct_dst_ltm', 'ct_src_ltm', 'ct_src_dport_ltm', 'ct_dst_sport_ltm', 'ct_dst_src_ltm', 'label'], 'binary_col': ['is_sm_ips_ports', 'is_ftp_login'], 'corr_col': ['sloss', 'dloss', 'dpkts', 'dwin', 'ltime', 'synack', 'ackdat', 'ct_ftp_cmd'], 'to_drop': ['srcip', 'sport', 'dstip', 'dsport', 'label'], 'cat_col': ['proto', 'service', 'state'], 'num_col': ['dload', 'dbytes', 'ct_srv_src', 'ct_src_ltm', 'network_bytes', 'stcpb', 'tcprtt', 'djit', 'ct_dst_sport_ltm', 'dttl', 'sload', 'is_ftp_login', 'sjit', 'ct_src_dport_ltm', 'dur', 'ct_state_ttl', 'trans_depth', 'dtcpb', 'sttl', 'sintpkt', 'res_bdy_len', 'ct_srv_dst', 'ct_dst_src_ltm', 'smeansz', 'swin', 'ct_flw_http_mthd', 'dintpkt', 'spkts', 'sbytes', 'ct_dst_ltm', 'dmeansz', 'is_sm_ips_ports', 'stime']}\n"
     ]
    }
   ],
   "source": [
    "import pickle\n",
    "\n",
    "# Load the saved object\n",
    "with open(drive_path+'myDataset/saved_infos.pkl', 'rb') as f:\n",
    "    saved_infos = pickle.load(f)\n",
    "\n",
    "# Now you can use the loaded_dict\n",
    "print(saved_infos)\n",
    "saved_infos['corr_col'] = to_drop"
   ]
  },
  {
   "cell_type": "code",
   "execution_count": 12,
   "metadata": {
    "id": "i_geQQuA6sgZ"
   },
   "outputs": [],
   "source": [
    "train.drop(columns=to_drop, inplace=True)"
   ]
  },
  {
   "cell_type": "code",
   "execution_count": 13,
   "metadata": {
    "colab": {
     "base_uri": "https://localhost:8080/"
    },
    "id": "BPdUiCsp7plf",
    "outputId": "85999f8f-e990-4962-eedd-7faba443873f"
   },
   "outputs": [
    {
     "data": {
      "text/plain": [
       "(1441591, 41)"
      ]
     },
     "execution_count": 13,
     "metadata": {},
     "output_type": "execute_result"
    }
   ],
   "source": [
    "train.shape"
   ]
  },
  {
   "cell_type": "code",
   "execution_count": 14,
   "metadata": {},
   "outputs": [
    {
     "data": {
      "text/plain": [
       "Index(['srcip', 'sport', 'dstip', 'dsport', 'proto', 'state', 'dur', 'sbytes',\n",
       "       'dbytes', 'sttl', 'dttl', 'service', 'sload', 'dload', 'spkts', 'swin',\n",
       "       'stcpb', 'dtcpb', 'smeansz', 'dmeansz', 'trans_depth', 'res_bdy_len',\n",
       "       'sjit', 'djit', 'stime', 'sintpkt', 'dintpkt', 'tcprtt',\n",
       "       'is_sm_ips_ports', 'ct_state_ttl', 'ct_flw_http_mthd', 'is_ftp_login',\n",
       "       'ct_srv_src', 'ct_srv_dst', 'ct_dst_ltm', 'ct_src_ltm',\n",
       "       'ct_src_dport_ltm', 'ct_dst_sport_ltm', 'ct_dst_src_ltm', 'attack_cat',\n",
       "       'label'],\n",
       "      dtype='object')"
      ]
     },
     "execution_count": 14,
     "metadata": {},
     "output_type": "execute_result"
    }
   ],
   "source": [
    "train.columns"
   ]
  },
  {
   "cell_type": "code",
   "execution_count": 15,
   "metadata": {
    "id": "nEOsO91Q7rN8"
   },
   "outputs": [],
   "source": [
    "train['network_bytes'] = train['sbytes'] + train['dbytes']"
   ]
  },
  {
   "cell_type": "code",
   "execution_count": 16,
   "metadata": {
    "colab": {
     "base_uri": "https://localhost:8080/"
    },
    "id": "Q8XlxO_07wdX",
    "outputId": "25e6ad36-3b93-4d0d-a74e-5bdf56131f5f"
   },
   "outputs": [
    {
     "data": {
      "text/plain": [
       "(1441591, 42)"
      ]
     },
     "execution_count": 16,
     "metadata": {},
     "output_type": "execute_result"
    }
   ],
   "source": [
    "train.shape"
   ]
  },
  {
   "cell_type": "code",
   "execution_count": 17,
   "metadata": {
    "id": "sOcAC9H97xXG"
   },
   "outputs": [],
   "source": [
    "#drop IP columns, port and label since we are doing categorical classification\n",
    "train.drop(['srcip', 'sport', 'dstip', 'dsport', 'label'], axis=1, inplace=True)"
   ]
  },
  {
   "cell_type": "code",
   "execution_count": 18,
   "metadata": {
    "colab": {
     "base_uri": "https://localhost:8080/"
    },
    "id": "VSQWzP3c7-vW",
    "outputId": "ff78f35f-b5cf-4fca-e59f-c13a37bd5d46"
   },
   "outputs": [],
   "source": [
    "saved_infos['to_drop'] = ['srcip', 'sport', 'dstip', 'dsport', 'label']"
   ]
  },
  {
   "cell_type": "code",
   "execution_count": 19,
   "metadata": {
    "id": "wSMkltUM8ZcP"
   },
   "outputs": [],
   "source": [
    "x_train, y_train = train.drop(columns=['attack_cat']), train['attack_cat']\n",
    "x_test, y_test = test.drop(columns=['attack_cat']), test['attack_cat']"
   ]
  },
  {
   "cell_type": "code",
   "execution_count": 20,
   "metadata": {
    "colab": {
     "base_uri": "https://localhost:8080/"
    },
    "id": "Mkg2zygFHg4A",
    "outputId": "9aabdce6-fafa-498f-9220-1aaff0e3a882"
   },
   "outputs": [
    {
     "name": "stdout",
     "output_type": "stream",
     "text": [
      "(1441591, 36) (1441591,)\n",
      "(617826, 48) (617826,)\n"
     ]
    }
   ],
   "source": [
    "print(x_train.shape, y_train.shape)\n",
    "print(x_test.shape, y_test.shape)"
   ]
  },
  {
   "cell_type": "code",
   "execution_count": 21,
   "metadata": {},
   "outputs": [],
   "source": [
    "mode_dict = train.mode().iloc[0].to_dict()"
   ]
  },
  {
   "cell_type": "code",
   "execution_count": 22,
   "metadata": {
    "id": "FbbcVDrxKLQe"
   },
   "outputs": [],
   "source": [
    "# # Saving all the files to disk to use later\n",
    "# pickle.dump((x_train, y_train), open(drive_path+'myDataset/final_large_oversampled_train.pkl', 'wb'))\n",
    "# pickle.dump((x_test, y_test), open(drive_path+'myDataset/final_test.pkl', 'wb'))"
   ]
  },
  {
   "cell_type": "code",
   "execution_count": 23,
   "metadata": {
    "colab": {
     "base_uri": "https://localhost:8080/"
    },
    "id": "m1bjN2JDH_lc",
    "outputId": "c72bfd91-6648-4b4d-83df-6af3429260b4"
   },
   "outputs": [
    {
     "name": "stdout",
     "output_type": "stream",
     "text": [
      "Categorical Columns:\n",
      "proto\n",
      "state\n",
      "service\n",
      "\n",
      "Numerical Columns:\n",
      "dur\n",
      "sbytes\n",
      "dbytes\n",
      "sttl\n",
      "dttl\n",
      "sload\n",
      "dload\n",
      "spkts\n",
      "swin\n",
      "stcpb\n",
      "dtcpb\n",
      "smeansz\n",
      "dmeansz\n",
      "trans_depth\n",
      "res_bdy_len\n",
      "sjit\n",
      "djit\n",
      "stime\n",
      "sintpkt\n",
      "dintpkt\n",
      "tcprtt\n",
      "is_sm_ips_ports\n",
      "ct_state_ttl\n",
      "ct_flw_http_mthd\n",
      "is_ftp_login\n",
      "ct_srv_src\n",
      "ct_srv_dst\n",
      "ct_dst_ltm\n",
      "ct_src_ltm\n",
      "ct_src_dport_ltm\n",
      "ct_dst_sport_ltm\n",
      "ct_dst_src_ltm\n",
      "network_bytes\n"
     ]
    }
   ],
   "source": [
    "categorical_cols = x_train.select_dtypes(include=['object']).columns.tolist()\n",
    "numerical_cols = x_train.select_dtypes(exclude=['object']).columns.tolist()\n",
    "\n",
    "print(\"Categorical Columns:\")\n",
    "for col in categorical_cols:\n",
    "    print(col)\n",
    "print(\"\\nNumerical Columns:\")\n",
    "for col in numerical_cols:\n",
    "    print(col)"
   ]
  },
  {
   "cell_type": "code",
   "execution_count": 24,
   "metadata": {
    "id": "t6vkngkbH9YA"
   },
   "outputs": [],
   "source": [
    "# getting categorical and numerical columns in 2 diff lists\n",
    "cat_col = ['proto', 'service', 'state']\n",
    "num_col = list(set(x_train.columns) - set(cat_col))"
   ]
  },
  {
   "cell_type": "code",
   "execution_count": 25,
   "metadata": {
    "id": "1Sm9qjM5IVgp"
   },
   "outputs": [],
   "source": [
    "# To use later, during test data cleaning\n",
    "saved_infos['cat_col'] = cat_col\n",
    "saved_infos['num_col'] = num_col"
   ]
  },
  {
   "cell_type": "code",
   "execution_count": 26,
   "metadata": {
    "id": "6M1yl8BgHkFI"
   },
   "outputs": [],
   "source": [
    "scaler = StandardScaler()\n",
    "scaler = scaler.fit(x_train[num_col])"
   ]
  },
  {
   "cell_type": "code",
   "execution_count": 27,
   "metadata": {
    "colab": {
     "base_uri": "https://localhost:8080/",
     "height": 256
    },
    "id": "4_rnuiKYKw2S",
    "outputId": "371e4b5c-f81c-4f79-8bf0-77c3e49a39c4"
   },
   "outputs": [
    {
     "data": {
      "text/html": [
       "<div>\n",
       "<style scoped>\n",
       "    .dataframe tbody tr th:only-of-type {\n",
       "        vertical-align: middle;\n",
       "    }\n",
       "\n",
       "    .dataframe tbody tr th {\n",
       "        vertical-align: top;\n",
       "    }\n",
       "\n",
       "    .dataframe thead th {\n",
       "        text-align: right;\n",
       "    }\n",
       "</style>\n",
       "<table border=\"1\" class=\"dataframe\">\n",
       "  <thead>\n",
       "    <tr style=\"text-align: right;\">\n",
       "      <th></th>\n",
       "      <th>sbytes</th>\n",
       "      <th>dttl</th>\n",
       "      <th>smeansz</th>\n",
       "      <th>network_bytes</th>\n",
       "      <th>is_sm_ips_ports</th>\n",
       "      <th>dur</th>\n",
       "      <th>ct_flw_http_mthd</th>\n",
       "      <th>ct_src_ltm</th>\n",
       "      <th>dmeansz</th>\n",
       "      <th>stime</th>\n",
       "      <th>...</th>\n",
       "      <th>res_bdy_len</th>\n",
       "      <th>spkts</th>\n",
       "      <th>sttl</th>\n",
       "      <th>stcpb</th>\n",
       "      <th>dload</th>\n",
       "      <th>dintpkt</th>\n",
       "      <th>ct_srv_src</th>\n",
       "      <th>dtcpb</th>\n",
       "      <th>sjit</th>\n",
       "      <th>swin</th>\n",
       "    </tr>\n",
       "  </thead>\n",
       "  <tbody>\n",
       "    <tr>\n",
       "      <th>0</th>\n",
       "      <td>2934</td>\n",
       "      <td>29</td>\n",
       "      <td>56</td>\n",
       "      <td>6676</td>\n",
       "      <td>0</td>\n",
       "      <td>0.842647</td>\n",
       "      <td>0.0</td>\n",
       "      <td>2</td>\n",
       "      <td>69</td>\n",
       "      <td>1424227202</td>\n",
       "      <td>...</td>\n",
       "      <td>0</td>\n",
       "      <td>52</td>\n",
       "      <td>31</td>\n",
       "      <td>1407942856</td>\n",
       "      <td>3.487107e+04</td>\n",
       "      <td>15.888717</td>\n",
       "      <td>1</td>\n",
       "      <td>1408936820</td>\n",
       "      <td>1570.058531</td>\n",
       "      <td>255</td>\n",
       "    </tr>\n",
       "    <tr>\n",
       "      <th>1</th>\n",
       "      <td>3598</td>\n",
       "      <td>29</td>\n",
       "      <td>60</td>\n",
       "      <td>49634</td>\n",
       "      <td>0</td>\n",
       "      <td>0.043046</td>\n",
       "      <td>0.0</td>\n",
       "      <td>4</td>\n",
       "      <td>743</td>\n",
       "      <td>1421935380</td>\n",
       "      <td>...</td>\n",
       "      <td>0</td>\n",
       "      <td>60</td>\n",
       "      <td>31</td>\n",
       "      <td>3352695520</td>\n",
       "      <td>8.417785e+06</td>\n",
       "      <td>0.695869</td>\n",
       "      <td>4</td>\n",
       "      <td>3352969491</td>\n",
       "      <td>0.000000</td>\n",
       "      <td>255</td>\n",
       "    </tr>\n",
       "    <tr>\n",
       "      <th>2</th>\n",
       "      <td>146</td>\n",
       "      <td>29</td>\n",
       "      <td>73</td>\n",
       "      <td>324</td>\n",
       "      <td>0</td>\n",
       "      <td>0.000973</td>\n",
       "      <td>0.0</td>\n",
       "      <td>1</td>\n",
       "      <td>89</td>\n",
       "      <td>1421931152</td>\n",
       "      <td>...</td>\n",
       "      <td>0</td>\n",
       "      <td>2</td>\n",
       "      <td>31</td>\n",
       "      <td>0</td>\n",
       "      <td>7.317574e+05</td>\n",
       "      <td>0.004000</td>\n",
       "      <td>1</td>\n",
       "      <td>0</td>\n",
       "      <td>0.000000</td>\n",
       "      <td>0</td>\n",
       "    </tr>\n",
       "    <tr>\n",
       "      <th>3</th>\n",
       "      <td>1040</td>\n",
       "      <td>29</td>\n",
       "      <td>130</td>\n",
       "      <td>1864</td>\n",
       "      <td>0</td>\n",
       "      <td>0.003741</td>\n",
       "      <td>1.0</td>\n",
       "      <td>8</td>\n",
       "      <td>82</td>\n",
       "      <td>1421962992</td>\n",
       "      <td>...</td>\n",
       "      <td>83</td>\n",
       "      <td>8</td>\n",
       "      <td>31</td>\n",
       "      <td>2416355142</td>\n",
       "      <td>1.586742e+06</td>\n",
       "      <td>0.361556</td>\n",
       "      <td>2</td>\n",
       "      <td>2417282316</td>\n",
       "      <td>30.822092</td>\n",
       "      <td>255</td>\n",
       "    </tr>\n",
       "    <tr>\n",
       "      <th>4</th>\n",
       "      <td>1580</td>\n",
       "      <td>29</td>\n",
       "      <td>132</td>\n",
       "      <td>11748</td>\n",
       "      <td>0</td>\n",
       "      <td>1.005966</td>\n",
       "      <td>1.0</td>\n",
       "      <td>4</td>\n",
       "      <td>565</td>\n",
       "      <td>1421944600</td>\n",
       "      <td>...</td>\n",
       "      <td>3924</td>\n",
       "      <td>12</td>\n",
       "      <td>31</td>\n",
       "      <td>3074820599</td>\n",
       "      <td>7.637634e+04</td>\n",
       "      <td>59.141999</td>\n",
       "      <td>2</td>\n",
       "      <td>3075926884</td>\n",
       "      <td>9529.590799</td>\n",
       "      <td>255</td>\n",
       "    </tr>\n",
       "  </tbody>\n",
       "</table>\n",
       "<p>5 rows × 33 columns</p>\n",
       "</div>"
      ],
      "text/plain": [
       "   sbytes  dttl  smeansz  network_bytes  is_sm_ips_ports       dur  \\\n",
       "0    2934    29       56           6676                0  0.842647   \n",
       "1    3598    29       60          49634                0  0.043046   \n",
       "2     146    29       73            324                0  0.000973   \n",
       "3    1040    29      130           1864                0  0.003741   \n",
       "4    1580    29      132          11748                0  1.005966   \n",
       "\n",
       "   ct_flw_http_mthd  ct_src_ltm  dmeansz       stime  ...  res_bdy_len  spkts  \\\n",
       "0               0.0           2       69  1424227202  ...            0     52   \n",
       "1               0.0           4      743  1421935380  ...            0     60   \n",
       "2               0.0           1       89  1421931152  ...            0      2   \n",
       "3               1.0           8       82  1421962992  ...           83      8   \n",
       "4               1.0           4      565  1421944600  ...         3924     12   \n",
       "\n",
       "   sttl       stcpb         dload    dintpkt  ct_srv_src       dtcpb  \\\n",
       "0    31  1407942856  3.487107e+04  15.888717           1  1408936820   \n",
       "1    31  3352695520  8.417785e+06   0.695869           4  3352969491   \n",
       "2    31           0  7.317574e+05   0.004000           1           0   \n",
       "3    31  2416355142  1.586742e+06   0.361556           2  2417282316   \n",
       "4    31  3074820599  7.637634e+04  59.141999           2  3075926884   \n",
       "\n",
       "          sjit  swin  \n",
       "0  1570.058531   255  \n",
       "1     0.000000   255  \n",
       "2     0.000000     0  \n",
       "3    30.822092   255  \n",
       "4  9529.590799   255  \n",
       "\n",
       "[5 rows x 33 columns]"
      ]
     },
     "execution_count": 27,
     "metadata": {},
     "output_type": "execute_result"
    }
   ],
   "source": [
    "x_train[num_col].head()"
   ]
  },
  {
   "cell_type": "code",
   "execution_count": 28,
   "metadata": {
    "id": "hWQJS8bBH2Lu"
   },
   "outputs": [],
   "source": [
    "x_train[num_col] = scaler.transform(x_train[num_col])"
   ]
  },
  {
   "cell_type": "code",
   "execution_count": 29,
   "metadata": {
    "colab": {
     "base_uri": "https://localhost:8080/",
     "height": 256
    },
    "id": "9UGXF3PyKlYL",
    "outputId": "78741667-84b2-47df-bc10-f784b95323cd"
   },
   "outputs": [
    {
     "data": {
      "text/html": [
       "<div>\n",
       "<style scoped>\n",
       "    .dataframe tbody tr th:only-of-type {\n",
       "        vertical-align: middle;\n",
       "    }\n",
       "\n",
       "    .dataframe tbody tr th {\n",
       "        vertical-align: top;\n",
       "    }\n",
       "\n",
       "    .dataframe thead th {\n",
       "        text-align: right;\n",
       "    }\n",
       "</style>\n",
       "<table border=\"1\" class=\"dataframe\">\n",
       "  <thead>\n",
       "    <tr style=\"text-align: right;\">\n",
       "      <th></th>\n",
       "      <th>sbytes</th>\n",
       "      <th>dttl</th>\n",
       "      <th>smeansz</th>\n",
       "      <th>network_bytes</th>\n",
       "      <th>is_sm_ips_ports</th>\n",
       "      <th>dur</th>\n",
       "      <th>ct_flw_http_mthd</th>\n",
       "      <th>ct_src_ltm</th>\n",
       "      <th>dmeansz</th>\n",
       "      <th>stime</th>\n",
       "      <th>...</th>\n",
       "      <th>res_bdy_len</th>\n",
       "      <th>spkts</th>\n",
       "      <th>sttl</th>\n",
       "      <th>stcpb</th>\n",
       "      <th>dload</th>\n",
       "      <th>dintpkt</th>\n",
       "      <th>ct_srv_src</th>\n",
       "      <th>dtcpb</th>\n",
       "      <th>sjit</th>\n",
       "      <th>swin</th>\n",
       "    </tr>\n",
       "  </thead>\n",
       "  <tbody>\n",
       "    <tr>\n",
       "      <th>0</th>\n",
       "      <td>-0.035545</td>\n",
       "      <td>-0.171563</td>\n",
       "      <td>-0.449314</td>\n",
       "      <td>-0.220349</td>\n",
       "      <td>-0.036481</td>\n",
       "      <td>0.014196</td>\n",
       "      <td>-0.236945</td>\n",
       "      <td>-0.602764</td>\n",
       "      <td>-0.769157</td>\n",
       "      <td>0.980729</td>\n",
       "      <td>...</td>\n",
       "      <td>-0.098957</td>\n",
       "      <td>0.167911</td>\n",
       "      <td>-0.24911</td>\n",
       "      <td>-0.071535</td>\n",
       "      <td>-0.651961</td>\n",
       "      <td>-0.040198</td>\n",
       "      <td>-0.849636</td>\n",
       "      <td>-0.070117</td>\n",
       "      <td>-0.006155</td>\n",
       "      <td>0.648648</td>\n",
       "    </tr>\n",
       "    <tr>\n",
       "      <th>1</th>\n",
       "      <td>-0.024502</td>\n",
       "      <td>-0.171563</td>\n",
       "      <td>-0.425003</td>\n",
       "      <td>0.014240</td>\n",
       "      <td>-0.036481</td>\n",
       "      <td>-0.047135</td>\n",
       "      <td>-0.236945</td>\n",
       "      <td>-0.046095</td>\n",
       "      <td>1.214775</td>\n",
       "      <td>-1.019176</td>\n",
       "      <td>...</td>\n",
       "      <td>-0.098957</td>\n",
       "      <td>0.268431</td>\n",
       "      <td>-0.24911</td>\n",
       "      <td>1.287459</td>\n",
       "      <td>1.219132</td>\n",
       "      <td>-0.052027</td>\n",
       "      <td>-0.270688</td>\n",
       "      <td>1.289097</td>\n",
       "      <td>-0.120261</td>\n",
       "      <td>0.648648</td>\n",
       "    </tr>\n",
       "    <tr>\n",
       "      <th>2</th>\n",
       "      <td>-0.081912</td>\n",
       "      <td>-0.171563</td>\n",
       "      <td>-0.345991</td>\n",
       "      <td>-0.255037</td>\n",
       "      <td>-0.036481</td>\n",
       "      <td>-0.050363</td>\n",
       "      <td>-0.236945</td>\n",
       "      <td>-0.881099</td>\n",
       "      <td>-0.710287</td>\n",
       "      <td>-1.022865</td>\n",
       "      <td>...</td>\n",
       "      <td>-0.098957</td>\n",
       "      <td>-0.460342</td>\n",
       "      <td>-0.24911</td>\n",
       "      <td>-1.055405</td>\n",
       "      <td>-0.496414</td>\n",
       "      <td>-0.052565</td>\n",
       "      <td>-0.849636</td>\n",
       "      <td>-1.055207</td>\n",
       "      <td>-0.120261</td>\n",
       "      <td>-1.541695</td>\n",
       "    </tr>\n",
       "    <tr>\n",
       "      <th>3</th>\n",
       "      <td>-0.067044</td>\n",
       "      <td>-0.171563</td>\n",
       "      <td>0.000448</td>\n",
       "      <td>-0.246627</td>\n",
       "      <td>-0.036481</td>\n",
       "      <td>-0.050150</td>\n",
       "      <td>1.752027</td>\n",
       "      <td>1.067243</td>\n",
       "      <td>-0.730891</td>\n",
       "      <td>-0.995081</td>\n",
       "      <td>...</td>\n",
       "      <td>-0.097365</td>\n",
       "      <td>-0.384952</td>\n",
       "      <td>-0.24911</td>\n",
       "      <td>0.633144</td>\n",
       "      <td>-0.305579</td>\n",
       "      <td>-0.052287</td>\n",
       "      <td>-0.656654</td>\n",
       "      <td>0.634890</td>\n",
       "      <td>-0.118021</td>\n",
       "      <td>0.648648</td>\n",
       "    </tr>\n",
       "    <tr>\n",
       "      <th>4</th>\n",
       "      <td>-0.058063</td>\n",
       "      <td>-0.171563</td>\n",
       "      <td>0.012604</td>\n",
       "      <td>-0.192652</td>\n",
       "      <td>-0.036481</td>\n",
       "      <td>0.026724</td>\n",
       "      <td>1.752027</td>\n",
       "      <td>-0.046095</td>\n",
       "      <td>0.690829</td>\n",
       "      <td>-1.011130</td>\n",
       "      <td>...</td>\n",
       "      <td>-0.023656</td>\n",
       "      <td>-0.334691</td>\n",
       "      <td>-0.24911</td>\n",
       "      <td>1.093280</td>\n",
       "      <td>-0.642697</td>\n",
       "      <td>-0.006524</td>\n",
       "      <td>-0.656654</td>\n",
       "      <td>1.095397</td>\n",
       "      <td>0.572315</td>\n",
       "      <td>0.648648</td>\n",
       "    </tr>\n",
       "  </tbody>\n",
       "</table>\n",
       "<p>5 rows × 33 columns</p>\n",
       "</div>"
      ],
      "text/plain": [
       "     sbytes      dttl   smeansz  network_bytes  is_sm_ips_ports       dur  \\\n",
       "0 -0.035545 -0.171563 -0.449314      -0.220349        -0.036481  0.014196   \n",
       "1 -0.024502 -0.171563 -0.425003       0.014240        -0.036481 -0.047135   \n",
       "2 -0.081912 -0.171563 -0.345991      -0.255037        -0.036481 -0.050363   \n",
       "3 -0.067044 -0.171563  0.000448      -0.246627        -0.036481 -0.050150   \n",
       "4 -0.058063 -0.171563  0.012604      -0.192652        -0.036481  0.026724   \n",
       "\n",
       "   ct_flw_http_mthd  ct_src_ltm   dmeansz     stime  ...  res_bdy_len  \\\n",
       "0         -0.236945   -0.602764 -0.769157  0.980729  ...    -0.098957   \n",
       "1         -0.236945   -0.046095  1.214775 -1.019176  ...    -0.098957   \n",
       "2         -0.236945   -0.881099 -0.710287 -1.022865  ...    -0.098957   \n",
       "3          1.752027    1.067243 -0.730891 -0.995081  ...    -0.097365   \n",
       "4          1.752027   -0.046095  0.690829 -1.011130  ...    -0.023656   \n",
       "\n",
       "      spkts     sttl     stcpb     dload   dintpkt  ct_srv_src     dtcpb  \\\n",
       "0  0.167911 -0.24911 -0.071535 -0.651961 -0.040198   -0.849636 -0.070117   \n",
       "1  0.268431 -0.24911  1.287459  1.219132 -0.052027   -0.270688  1.289097   \n",
       "2 -0.460342 -0.24911 -1.055405 -0.496414 -0.052565   -0.849636 -1.055207   \n",
       "3 -0.384952 -0.24911  0.633144 -0.305579 -0.052287   -0.656654  0.634890   \n",
       "4 -0.334691 -0.24911  1.093280 -0.642697 -0.006524   -0.656654  1.095397   \n",
       "\n",
       "       sjit      swin  \n",
       "0 -0.006155  0.648648  \n",
       "1 -0.120261  0.648648  \n",
       "2 -0.120261 -1.541695  \n",
       "3 -0.118021  0.648648  \n",
       "4  0.572315  0.648648  \n",
       "\n",
       "[5 rows x 33 columns]"
      ]
     },
     "execution_count": 29,
     "metadata": {},
     "output_type": "execute_result"
    }
   ],
   "source": [
    "x_train[num_col].head()"
   ]
  },
  {
   "cell_type": "code",
   "execution_count": 30,
   "metadata": {
    "id": "nYRWB2ZtKp6X"
   },
   "outputs": [],
   "source": [
    "service_ = OneHotEncoder()\n",
    "proto_ = OneHotEncoder()\n",
    "state_ = OneHotEncoder()\n",
    "ohe_service = service_.fit(x_train.service.values.reshape(-1,1))\n",
    "ohe_proto = proto_.fit(x_train.proto.values.reshape(-1,1))\n",
    "ohe_state = state_.fit(x_train.state.values.reshape(-1,1))"
   ]
  },
  {
   "cell_type": "code",
   "execution_count": 31,
   "metadata": {},
   "outputs": [
    {
     "data": {
      "text/plain": [
       "(1441591, 36)"
      ]
     },
     "execution_count": 31,
     "metadata": {},
     "output_type": "execute_result"
    }
   ],
   "source": [
    "x_train.shape"
   ]
  },
  {
   "cell_type": "code",
   "execution_count": 32,
   "metadata": {
    "id": "FrLgz0-sK25F"
   },
   "outputs": [],
   "source": [
    "for col, ohe in zip(['proto', 'service', 'state'], [ohe_proto, ohe_service, ohe_state]):\n",
    "    x = ohe.transform(x_train[col].values.reshape(-1,1))\n",
    "    tmp_df = pd.DataFrame(x.todense(), columns=[col+'_'+str(i) for i in ohe.categories_[0]])\n",
    "    x_train = pd.concat([x_train.drop(col, axis=1), tmp_df], axis=1)"
   ]
  },
  {
   "cell_type": "code",
   "execution_count": 33,
   "metadata": {},
   "outputs": [],
   "source": [
    "train=pd.concat([x_train, y_train], axis=1)\n",
    "train = train.rename(columns={0: 'attack_cat'})"
   ]
  },
  {
   "cell_type": "code",
   "execution_count": 34,
   "metadata": {},
   "outputs": [
    {
     "data": {
      "text/html": [
       "<div>\n",
       "<style scoped>\n",
       "    .dataframe tbody tr th:only-of-type {\n",
       "        vertical-align: middle;\n",
       "    }\n",
       "\n",
       "    .dataframe tbody tr th {\n",
       "        vertical-align: top;\n",
       "    }\n",
       "\n",
       "    .dataframe thead th {\n",
       "        text-align: right;\n",
       "    }\n",
       "</style>\n",
       "<table border=\"1\" class=\"dataframe\">\n",
       "  <thead>\n",
       "    <tr style=\"text-align: right;\">\n",
       "      <th></th>\n",
       "      <th>dur</th>\n",
       "      <th>sbytes</th>\n",
       "      <th>dbytes</th>\n",
       "      <th>sttl</th>\n",
       "      <th>dttl</th>\n",
       "      <th>sload</th>\n",
       "      <th>dload</th>\n",
       "      <th>spkts</th>\n",
       "      <th>swin</th>\n",
       "      <th>stcpb</th>\n",
       "      <th>...</th>\n",
       "      <th>state_MAS</th>\n",
       "      <th>state_PAR</th>\n",
       "      <th>state_REQ</th>\n",
       "      <th>state_RST</th>\n",
       "      <th>state_TST</th>\n",
       "      <th>state_TXD</th>\n",
       "      <th>state_URH</th>\n",
       "      <th>state_URN</th>\n",
       "      <th>state_no</th>\n",
       "      <th>attack_cat</th>\n",
       "    </tr>\n",
       "  </thead>\n",
       "  <tbody>\n",
       "    <tr>\n",
       "      <th>0</th>\n",
       "      <td>0.014196</td>\n",
       "      <td>-0.035545</td>\n",
       "      <td>-0.224295</td>\n",
       "      <td>-0.24911</td>\n",
       "      <td>-0.171563</td>\n",
       "      <td>-0.123259</td>\n",
       "      <td>-0.651961</td>\n",
       "      <td>0.167911</td>\n",
       "      <td>0.648648</td>\n",
       "      <td>-0.071535</td>\n",
       "      <td>...</td>\n",
       "      <td>0.0</td>\n",
       "      <td>0.0</td>\n",
       "      <td>0.0</td>\n",
       "      <td>0.0</td>\n",
       "      <td>0.0</td>\n",
       "      <td>0.0</td>\n",
       "      <td>0.0</td>\n",
       "      <td>0.0</td>\n",
       "      <td>0.0</td>\n",
       "      <td>normal</td>\n",
       "    </tr>\n",
       "    <tr>\n",
       "      <th>1</th>\n",
       "      <td>-0.047135</td>\n",
       "      <td>-0.024502</td>\n",
       "      <td>0.023953</td>\n",
       "      <td>-0.24911</td>\n",
       "      <td>-0.171563</td>\n",
       "      <td>-0.114635</td>\n",
       "      <td>1.219132</td>\n",
       "      <td>0.268431</td>\n",
       "      <td>0.648648</td>\n",
       "      <td>1.287459</td>\n",
       "      <td>...</td>\n",
       "      <td>0.0</td>\n",
       "      <td>0.0</td>\n",
       "      <td>0.0</td>\n",
       "      <td>0.0</td>\n",
       "      <td>0.0</td>\n",
       "      <td>0.0</td>\n",
       "      <td>0.0</td>\n",
       "      <td>0.0</td>\n",
       "      <td>0.0</td>\n",
       "      <td>normal</td>\n",
       "    </tr>\n",
       "    <tr>\n",
       "      <th>2</th>\n",
       "      <td>-0.050363</td>\n",
       "      <td>-0.081912</td>\n",
       "      <td>-0.245214</td>\n",
       "      <td>-0.24911</td>\n",
       "      <td>-0.171563</td>\n",
       "      <td>-0.115422</td>\n",
       "      <td>-0.496414</td>\n",
       "      <td>-0.460342</td>\n",
       "      <td>-1.541695</td>\n",
       "      <td>-1.055405</td>\n",
       "      <td>...</td>\n",
       "      <td>0.0</td>\n",
       "      <td>0.0</td>\n",
       "      <td>0.0</td>\n",
       "      <td>0.0</td>\n",
       "      <td>0.0</td>\n",
       "      <td>0.0</td>\n",
       "      <td>0.0</td>\n",
       "      <td>0.0</td>\n",
       "      <td>0.0</td>\n",
       "      <td>normal</td>\n",
       "    </tr>\n",
       "    <tr>\n",
       "      <th>3</th>\n",
       "      <td>-0.050150</td>\n",
       "      <td>-0.067044</td>\n",
       "      <td>-0.241422</td>\n",
       "      <td>-0.24911</td>\n",
       "      <td>-0.171563</td>\n",
       "      <td>-0.097009</td>\n",
       "      <td>-0.305579</td>\n",
       "      <td>-0.384952</td>\n",
       "      <td>0.648648</td>\n",
       "      <td>0.633144</td>\n",
       "      <td>...</td>\n",
       "      <td>0.0</td>\n",
       "      <td>0.0</td>\n",
       "      <td>0.0</td>\n",
       "      <td>0.0</td>\n",
       "      <td>0.0</td>\n",
       "      <td>0.0</td>\n",
       "      <td>0.0</td>\n",
       "      <td>0.0</td>\n",
       "      <td>0.0</td>\n",
       "      <td>normal</td>\n",
       "    </tr>\n",
       "    <tr>\n",
       "      <th>4</th>\n",
       "      <td>0.026724</td>\n",
       "      <td>-0.058063</td>\n",
       "      <td>-0.186577</td>\n",
       "      <td>-0.24911</td>\n",
       "      <td>-0.171563</td>\n",
       "      <td>-0.123476</td>\n",
       "      <td>-0.642697</td>\n",
       "      <td>-0.334691</td>\n",
       "      <td>0.648648</td>\n",
       "      <td>1.093280</td>\n",
       "      <td>...</td>\n",
       "      <td>0.0</td>\n",
       "      <td>0.0</td>\n",
       "      <td>0.0</td>\n",
       "      <td>0.0</td>\n",
       "      <td>0.0</td>\n",
       "      <td>0.0</td>\n",
       "      <td>0.0</td>\n",
       "      <td>0.0</td>\n",
       "      <td>0.0</td>\n",
       "      <td>normal</td>\n",
       "    </tr>\n",
       "  </tbody>\n",
       "</table>\n",
       "<p>5 rows × 198 columns</p>\n",
       "</div>"
      ],
      "text/plain": [
       "        dur    sbytes    dbytes     sttl      dttl     sload     dload  \\\n",
       "0  0.014196 -0.035545 -0.224295 -0.24911 -0.171563 -0.123259 -0.651961   \n",
       "1 -0.047135 -0.024502  0.023953 -0.24911 -0.171563 -0.114635  1.219132   \n",
       "2 -0.050363 -0.081912 -0.245214 -0.24911 -0.171563 -0.115422 -0.496414   \n",
       "3 -0.050150 -0.067044 -0.241422 -0.24911 -0.171563 -0.097009 -0.305579   \n",
       "4  0.026724 -0.058063 -0.186577 -0.24911 -0.171563 -0.123476 -0.642697   \n",
       "\n",
       "      spkts      swin     stcpb  ...  state_MAS  state_PAR  state_REQ  \\\n",
       "0  0.167911  0.648648 -0.071535  ...        0.0        0.0        0.0   \n",
       "1  0.268431  0.648648  1.287459  ...        0.0        0.0        0.0   \n",
       "2 -0.460342 -1.541695 -1.055405  ...        0.0        0.0        0.0   \n",
       "3 -0.384952  0.648648  0.633144  ...        0.0        0.0        0.0   \n",
       "4 -0.334691  0.648648  1.093280  ...        0.0        0.0        0.0   \n",
       "\n",
       "   state_RST  state_TST  state_TXD  state_URH  state_URN  state_no  attack_cat  \n",
       "0        0.0        0.0        0.0        0.0        0.0       0.0      normal  \n",
       "1        0.0        0.0        0.0        0.0        0.0       0.0      normal  \n",
       "2        0.0        0.0        0.0        0.0        0.0       0.0      normal  \n",
       "3        0.0        0.0        0.0        0.0        0.0       0.0      normal  \n",
       "4        0.0        0.0        0.0        0.0        0.0       0.0      normal  \n",
       "\n",
       "[5 rows x 198 columns]"
      ]
     },
     "execution_count": 34,
     "metadata": {},
     "output_type": "execute_result"
    }
   ],
   "source": [
    "train.head()"
   ]
  },
  {
   "cell_type": "code",
   "execution_count": 35,
   "metadata": {},
   "outputs": [
    {
     "data": {
      "image/png": "[encoded data removed]",
      "text/plain": [
       "<Figure size 640x480 with 1 Axes>"
      ]
     },
     "metadata": {},
     "output_type": "display_data"
    }
   ],
   "source": [
    "plt.figure()\n",
    "plt.title(\"Class distribution of train dataset before undersampling and undersampling\")\n",
    "train['attack_cat'].value_counts().plot(kind=\"bar\", color='b', label=\"train\")\n",
    "plt.xlabel(\"Class\")\n",
    "plt.ylabel(\"Count\")\n",
    "plt.legend()\n",
    "plt.show()"
   ]
  },
  {
   "cell_type": "code",
   "execution_count": 36,
   "metadata": {},
   "outputs": [
    {
     "data": {
      "text/plain": [
       "attack_cat\n",
       "normal            1371997\n",
       "exploits            19447\n",
       "generic             17691\n",
       "fuzzers             15175\n",
       "reconnaissance       9297\n",
       "dos                  3970\n",
       "analysis             1488\n",
       "backdoor             1374\n",
       "shellcode            1039\n",
       "worms                 113\n",
       "Name: count, dtype: int64"
      ]
     },
     "execution_count": 36,
     "metadata": {},
     "output_type": "execute_result"
    }
   ],
   "source": [
    "train['attack_cat'].value_counts()"
   ]
  },
  {
   "cell_type": "code",
   "execution_count": 37,
   "metadata": {},
   "outputs": [
    {
     "data": {
      "text/plain": [
       "['normal',\n",
       " 'exploits',\n",
       " 'generic',\n",
       " 'dos',\n",
       " 'reconnaissance',\n",
       " 'fuzzers',\n",
       " 'analysis',\n",
       " 'backdoor',\n",
       " 'worms',\n",
       " 'shellcode']"
      ]
     },
     "execution_count": 37,
     "metadata": {},
     "output_type": "execute_result"
    }
   ],
   "source": [
    "attack_cat=train['attack_cat'].unique().tolist()\n",
    "attack_cat"
   ]
  },
  {
   "cell_type": "code",
   "execution_count": 38,
   "metadata": {},
   "outputs": [],
   "source": [
    "from sklearn.utils import resample\n",
    "def random_undersample(df,n_sample,random_state):\n",
    "    df_undersampled = resample(df, \n",
    "                            replace=False,\n",
    "                            n_samples=n_sample,\n",
    "                            random_state=random_state)\n",
    "    return df_undersampled\n",
    "\n",
    "\n",
    "def random_oversample(df,n_sample,random_state):\n",
    "    df_oversampled = resample(df, \n",
    "                            replace=True,\n",
    "                            n_samples=n_sample,\n",
    "                            random_state=random_state)\n",
    "    return df_oversampled"
   ]
  },
  {
   "cell_type": "code",
   "execution_count": 39,
   "metadata": {},
   "outputs": [
    {
     "data": {
      "text/plain": [
       "attack_cat\n",
       "normal            1371997\n",
       "exploits            19447\n",
       "generic             17691\n",
       "fuzzers             15175\n",
       "reconnaissance       9297\n",
       "dos                  3970\n",
       "analysis             1488\n",
       "backdoor             1374\n",
       "shellcode            1039\n",
       "worms                 113\n",
       "Name: count, dtype: int64"
      ]
     },
     "execution_count": 39,
     "metadata": {},
     "output_type": "execute_result"
    }
   ],
   "source": [
    "train[\"attack_cat\"].value_counts()"
   ]
  },
  {
   "cell_type": "code",
   "execution_count": 40,
   "metadata": {},
   "outputs": [],
   "source": [
    "target_datapoint_count=2000000 #200000 for each category"
   ]
  },
  {
   "cell_type": "code",
   "execution_count": 41,
   "metadata": {},
   "outputs": [],
   "source": [
    "value_counts = train['attack_cat'].value_counts()\n",
    "new_dataset=pd.DataFrame()\n",
    "\n",
    "target_count_per_category=int(target_datapoint_count/10)\n",
    "\n",
    "for label, count in value_counts[value_counts > target_count_per_category].items():\n",
    "    df_undersampled=random_undersample(train[train['attack_cat'] == label], target_count_per_category,3)\n",
    "    new_dataset = pd.concat([new_dataset, df_undersampled])\n",
    "\n",
    "for label, count in value_counts[value_counts <= target_count_per_category].items():\n",
    "    df_oversampled=random_oversample(train[train['attack_cat'] == label], target_count_per_category,3)\n",
    "    new_dataset = pd.concat([new_dataset, df_oversampled])"
   ]
  },
  {
   "cell_type": "code",
   "execution_count": 42,
   "metadata": {},
   "outputs": [
    {
     "data": {
      "text/plain": [
       "attack_cat\n",
       "normal            200000\n",
       "exploits          200000\n",
       "generic           200000\n",
       "fuzzers           200000\n",
       "reconnaissance    200000\n",
       "dos               200000\n",
       "analysis          200000\n",
       "backdoor          200000\n",
       "shellcode         200000\n",
       "worms             200000\n",
       "Name: count, dtype: int64"
      ]
     },
     "execution_count": 42,
     "metadata": {},
     "output_type": "execute_result"
    }
   ],
   "source": [
    "new_dataset[\"attack_cat\"].value_counts()"
   ]
  },
  {
   "cell_type": "code",
   "execution_count": 43,
   "metadata": {},
   "outputs": [],
   "source": [
    "train=new_dataset"
   ]
  },
  {
   "cell_type": "code",
   "execution_count": 44,
   "metadata": {},
   "outputs": [
    {
     "data": {
      "image/png": "[encoded data removed]",
      "text/plain": [
       "<Figure size 640x480 with 1 Axes>"
      ]
     },
     "metadata": {},
     "output_type": "display_data"
    }
   ],
   "source": [
    "plt.figure()\n",
    "plt.title(\"Class distribution of train dataset after undersampling and undersampling\")\n",
    "train['attack_cat'].value_counts().plot(kind=\"bar\", color='b', label=\"train\")\n",
    "plt.xlabel(\"Class\")\n",
    "plt.ylabel(\"Count\")\n",
    "plt.legend()\n",
    "plt.show()"
   ]
  },
  {
   "cell_type": "code",
   "execution_count": 45,
   "metadata": {},
   "outputs": [],
   "source": [
    "train=train.reset_index(drop=True)"
   ]
  },
  {
   "cell_type": "code",
   "execution_count": 46,
   "metadata": {},
   "outputs": [],
   "source": [
    "x_train, y_train = train.drop(columns=['attack_cat']), train['attack_cat']"
   ]
  },
  {
   "cell_type": "code",
   "execution_count": 47,
   "metadata": {
    "id": "NfyXAlYGLdDQ"
   },
   "outputs": [],
   "source": [
    "from sklearn import preprocessing\n",
    "\n",
    "label_encoder = preprocessing.LabelEncoder()\n",
    "y_train= label_encoder.fit_transform(y_train)\n",
    "y_train=  pd.Series(y_train)"
   ]
  },
  {
   "cell_type": "code",
   "execution_count": 48,
   "metadata": {},
   "outputs": [
    {
     "data": {
      "text/plain": [
       "6    200000\n",
       "3    200000\n",
       "5    200000\n",
       "4    200000\n",
       "7    200000\n",
       "2    200000\n",
       "0    200000\n",
       "1    200000\n",
       "8    200000\n",
       "9    200000\n",
       "Name: count, dtype: int64"
      ]
     },
     "execution_count": 48,
     "metadata": {},
     "output_type": "execute_result"
    }
   ],
   "source": [
    "y_train.value_counts()"
   ]
  },
  {
   "cell_type": "code",
   "execution_count": null,
   "metadata": {},
   "outputs": [],
   "source": []
  },
  {
   "cell_type": "code",
   "execution_count": 49,
   "metadata": {
    "id": "vo_EBgHUK9MB"
   },
   "outputs": [],
   "source": [
    "file_path = drive_path+'myDataset/'"
   ]
  },
  {
   "cell_type": "code",
   "execution_count": 50,
   "metadata": {
    "id": "ClHx-ePNLSAv"
   },
   "outputs": [],
   "source": [
    "# pickle.dump(scaler, open(file_path+'scaler.pkl', 'wb'))  # Standard scaler\n",
    "# pickle.dump(saved_infos, open(file_path+'saved_infos.pkl', 'wb'))  # Dictionary with important parameters\n",
    "# pickle.dump(mode_dict, open(file_path+'mode_dict.pkl', 'wb'))  #  Dictionary with most frequent values of columns"
   ]
  },
  {
   "cell_type": "code",
   "execution_count": 51,
   "metadata": {
    "id": "M3wxc0RKLVOK"
   },
   "outputs": [],
   "source": [
    "# # Onehot encoder for categorical columns\n",
    "# pickle.dump(ohe_proto, open(file_path+'ohe_proto.pkl', 'wb'))\n",
    "# pickle.dump(ohe_service, open(file_path+'ohe_service.pkl', 'wb'))\n",
    "# pickle.dump(ohe_state, open(file_path+'ohe_state.pkl', 'wb'))\n",
    "\n",
    "# #save the label encoder\n",
    "# pickle.dump(label_encoder, open(file_path+'label_encoder.pkl', 'wb'))"
   ]
  },
  {
   "cell_type": "code",
   "execution_count": 52,
   "metadata": {
    "id": "cwQPEwt4LV_D"
   },
   "outputs": [],
   "source": [
    "# # Cleaned and processed train data\n",
    "# pickle.dump((x_train, y_train), open(file_path+'final_large_oversampled_train.pkl', 'wb'))"
   ]
  },
  {
   "cell_type": "code",
   "execution_count": null,
   "metadata": {},
   "outputs": [],
   "source": []
  }
 ],
 "metadata": {
  "colab": {
   "provenance": []
  },
  "kernelspec": {
   "display_name": "Python 3 (ipykernel)",
   "language": "python",
   "name": "python3"
  },
  "language_info": {
   "codemirror_mode": {
    "name": "ipython",
    "version": 3
   },
   "file_extension": ".py",
   "mimetype": "text/x-python",
   "name": "python",
   "nbconvert_exporter": "python",
   "pygments_lexer": "ipython3",
   "version": "3.12.3"
  }
 },
 "nbformat": 4,
 "nbformat_minor": 4
}
