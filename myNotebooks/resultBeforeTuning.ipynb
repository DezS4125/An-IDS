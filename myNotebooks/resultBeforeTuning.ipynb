{
 "cells": [
  {
   "cell_type": "code",
   "execution_count": 1,
   "id": "ce8a5a50-5f73-4e74-9333-d0a4bcd29c2d",
   "metadata": {
    "executionInfo": {
     "elapsed": 11891,
     "status": "ok",
     "timestamp": 1732623790993,
     "user": {
      "displayName": "Khang Lam Hoang",
      "userId": "02732529430571730404"
     },
     "user_tz": -420
    },
    "id": "ce8a5a50-5f73-4e74-9333-d0a4bcd29c2d"
   },
   "outputs": [],
   "source": [
    "import numpy as np  # for array\n",
    "import pandas as pd  # for csv files and dataframe\n",
    "import matplotlib.pyplot as plt  # for plotting\n",
    "import seaborn as sns  # plotting\n",
    "from scipy import stats\n",
    "from tqdm import tqdm  # Progress bar\n",
    "\n",
    "import time\n",
    "\n",
    "import pickle  # To load data int disk\n",
    "from prettytable import PrettyTable  # To print in tabular format\n",
    "\n",
    "import warnings\n",
    "warnings.filterwarnings(\"ignore\")\n",
    "\n",
    "from sklearn.preprocessing import StandardScaler  # Standardizer\n",
    "from sklearn.preprocessing import LabelEncoder, OneHotEncoder  # One hot Encoder\n",
    "from scipy.sparse import csr_matrix  # For sparse matrix\n",
    "\n",
    "from sklearn.model_selection import train_test_split\n",
    "# Different Models\n",
    "from sklearn.linear_model import LogisticRegression, SGDClassifier  # LR\n",
    "# from sklearn.svm import LinearSVC  # SVM\n",
    "from sklearn.tree import DecisionTreeClassifier  #DT\n",
    "from sklearn.ensemble import RandomForestClassifier  # RF\n",
    "import xgboost as xgb  #XGB\n",
    "\n",
    "from sklearn.metrics import accuracy_score, confusion_matrix, make_scorer  # Scoring functions\n",
    "from sklearn.metrics import auc, f1_score, roc_curve, roc_auc_score  # Scoring fns\n",
    "from sklearn.model_selection import GridSearchCV, RandomizedSearchCV  # Cross validation\n",
    "from sklearn.metrics import accuracy_score\n",
    "from sklearn.ensemble import VotingClassifier\n",
    "\n",
    "from sklearn import metrics\n",
    "\n",
    "\n",
    "%matplotlib inline"
   ]
  },
  {
   "cell_type": "code",
   "execution_count": 2,
   "id": "PRsGys-Ba532",
   "metadata": {
    "colab": {
     "base_uri": "https://localhost:8080/"
    },
    "executionInfo": {
     "elapsed": 17114,
     "status": "ok",
     "timestamp": 1732623944536,
     "user": {
      "displayName": "Khang Lam Hoang",
      "userId": "02732529430571730404"
     },
     "user_tz": -420
    },
    "id": "PRsGys-Ba532",
    "outputId": "4d2c4b64-e4fc-410f-bf53-a65c8b372c35"
   },
   "outputs": [],
   "source": [
    "# from google.colab import drive\n",
    "# drive.mount('/content/drive')\n",
    "# drive_path=\"drive/MyDrive/\""
   ]
  },
  {
   "cell_type": "code",
   "execution_count": 3,
   "id": "a0c87f82-0b1d-4330-a90a-92d8b62da00b",
   "metadata": {},
   "outputs": [],
   "source": [
    "drive_path=\"/home/dezs/projects/myIDS/datasets/\"\n",
    "model_path=\"/home/dezs/projects/myIDS/models/\""
   ]
  },
  {
   "cell_type": "code",
   "execution_count": 4,
   "id": "01c2155f-9d84-4b0b-88e2-e9abfae7952f",
   "metadata": {
    "colab": {
     "base_uri": "https://localhost:8080/",
     "height": 216
    },
    "executionInfo": {
     "elapsed": 4767,
     "status": "error",
     "timestamp": 1732624082439,
     "user": {
      "displayName": "Khang Lam Hoang",
      "userId": "02732529430571730404"
     },
     "user_tz": -420
    },
    "id": "01c2155f-9d84-4b0b-88e2-e9abfae7952f",
    "outputId": "23484f6e-5f53-42e9-85a0-db003c6890b2"
   },
   "outputs": [],
   "source": [
    "file_path = drive_path+\"myDataset\"\n",
    "# Train and Test data\n",
    "x_train, y_train = pickle.load(open(file_path+'/final_large_oversampled_train.pkl', 'rb'))\n",
    "x_test, y_test = pickle.load(open(file_path+'/final_test.pkl', 'rb'))\n",
    "\n",
    "# Dictionaries\n",
    "saved_infos = pickle.load(open(file_path+'/saved_infos.pkl', 'rb'))\n",
    "mode_dict = pickle.load(open(file_path+'/mode_dict.pkl', 'rb'))\n",
    "\n",
    "# Standard scaler\n",
    "scaler = pickle.load(open(file_path+'/scaler.pkl', 'rb'))\n",
    "\n",
    "# Onehot encoders\n",
    "ohe_proto = pickle.load(open(file_path+'/ohe_proto.pkl', 'rb'))\n",
    "ohe_service = pickle.load(open(file_path+'/ohe_service.pkl', 'rb'))\n",
    "ohe_state = pickle.load(open(file_path+'/ohe_state.pkl', 'rb'))\n",
    "\n",
    "label_encoder = pickle.load(open(file_path+'/label_encoder.pkl', 'rb'))\n"
   ]
  },
  {
   "cell_type": "code",
   "execution_count": 5,
   "id": "95aa1597-287b-40fb-9f84-e393c6ee8aae",
   "metadata": {
    "executionInfo": {
     "elapsed": 20,
     "status": "aborted",
     "timestamp": 1732623958845,
     "user": {
      "displayName": "Khang Lam Hoang",
      "userId": "02732529430571730404"
     },
     "user_tz": -420
    },
    "id": "95aa1597-287b-40fb-9f84-e393c6ee8aae"
   },
   "outputs": [
    {
     "name": "stdout",
     "output_type": "stream",
     "text": [
      "['analysis' 'backdoor' 'dos' 'exploits' 'fuzzers' 'generic' 'normal'\n",
      " 'reconnaissance' 'shellcode' 'worms']\n",
      "[0 1 2 3 4 5 6 7 8 9]\n",
      "{'analysis': np.int64(0), 'backdoor': np.int64(1), 'dos': np.int64(2), 'exploits': np.int64(3), 'fuzzers': np.int64(4), 'generic': np.int64(5), 'normal': np.int64(6), 'reconnaissance': np.int64(7), 'shellcode': np.int64(8), 'worms': np.int64(9)}\n"
     ]
    }
   ],
   "source": [
    "class_labels = label_encoder.classes_\n",
    "print(class_labels)\n",
    "encoded_values = label_encoder.transform(['analysis', 'backdoor', 'dos', 'exploits', 'fuzzers', 'generic', 'normal', 'reconnaissance', 'shellcode', 'worms'])\n",
    "print(encoded_values)\n",
    "mapping = dict(zip(class_labels, encoded_values))\n",
    "print(mapping)"
   ]
  },
  {
   "cell_type": "code",
   "execution_count": 6,
   "id": "dbf2d92b-219b-4dec-8472-cbd98d45a70d",
   "metadata": {},
   "outputs": [
    {
     "data": {
      "text/plain": [
       "(617826, 48)"
      ]
     },
     "execution_count": 6,
     "metadata": {},
     "output_type": "execute_result"
    }
   ],
   "source": [
    "x_test.shape"
   ]
  },
  {
   "cell_type": "code",
   "execution_count": 7,
   "id": "9b915b8a-11ae-4702-8032-ce49f0711a87",
   "metadata": {},
   "outputs": [
    {
     "data": {
      "text/plain": [
       "(2000000, 197)"
      ]
     },
     "execution_count": 7,
     "metadata": {},
     "output_type": "execute_result"
    }
   ],
   "source": [
    "x_train.shape"
   ]
  },
  {
   "cell_type": "markdown",
   "id": "0b4e8ac7-3e27-43f5-aa62-1cce3e24b19d",
   "metadata": {
    "id": "0b4e8ac7-3e27-43f5-aa62-1cce3e24b19d"
   },
   "source": [
    "## Pipeline functions"
   ]
  },
  {
   "cell_type": "code",
   "execution_count": 8,
   "id": "0def3cd4-ebeb-4d3c-9733-297a391522d2",
   "metadata": {
    "executionInfo": {
     "elapsed": 19,
     "status": "aborted",
     "timestamp": 1732623958845,
     "user": {
      "displayName": "Khang Lam Hoang",
      "userId": "02732529430571730404"
     },
     "user_tz": -420
    },
    "id": "0def3cd4-ebeb-4d3c-9733-297a391522d2"
   },
   "outputs": [],
   "source": [
    "#------------------------------------------------------------------------------------------\n",
    "# Data Cleaning\n",
    "#------------------------------------------------------------------------------------------\n",
    "def clean_data(data):\n",
    "    '''\n",
    "    Cleans given raw data. Performs various cleaning, removes Null and wrong values.\n",
    "    Check for columns datatype and fix them.\n",
    "    '''\n",
    "    numerical_col = data.select_dtypes(include=np.number).columns  # All the numerical columns list\n",
    "    categorical_col = data.select_dtypes(exclude=np.number).columns  # All the categorical columns list\n",
    "\n",
    "    # Cleaning the data\n",
    "    for col in data.columns:\n",
    "        val = mode_dict[col]  # Mode value of the column in train data\n",
    "        data[col] = data[col].fillna(value=val)\n",
    "        data[col] = data[col].replace(' ', value=val)\n",
    "        data[col] = data[col].apply(lambda x:\"none\" if x==\"-\" else x)\n",
    "\n",
    "        # Fixing binary columns\n",
    "        if col in saved_infos['binary_col']:\n",
    "            data[col] = np.where(data[col]>1, val, data[col])\n",
    "\n",
    "    # Fixing datatype of columns\n",
    "    bad_dtypes = list(set(categorical_col) - set(saved_infos['cat_col']))\n",
    "    for bad_col in bad_dtypes:\n",
    "        data[col] = data[col].astype(float)\n",
    "\n",
    "    return data\n",
    "\n",
    "#------------------------------------------------------------------------------------------\n",
    "# Feature Engineering: Apply log1p\n",
    "#------------------------------------------------------------------------------------------\n",
    "# def apply_log1p(data):\n",
    "#     '''\n",
    "#     Performs FE on the data. Apply log1p on the specified columns create new column and remove those original columns.\n",
    "#     '''\n",
    "#     for col in saved_infos['log1p_col']:\n",
    "#         new_col = col + '_log1p'  # New col name\n",
    "#         data[new_col] = data[col].apply(np.log1p)  # Creating new column on transformed data\n",
    "#         data.drop(col, axis=1, inplace=True)  # Removing old columns\n",
    "#     return data\n",
    "\n",
    "#------------------------------------------------------------------------------------------\n",
    "# Standardizing: Mean centering an d varience scaling\n",
    "#------------------------------------------------------------------------------------------\n",
    "def standardize(data):\n",
    "    '''\n",
    "    Stanardize the given data. Performs mean centering and varience scaling.\n",
    "    Using stanardscaler object trained on train data.\n",
    "    '''\n",
    "    data[saved_infos['num_col']] = scaler.transform(data[saved_infos['num_col']])\n",
    "    return data\n",
    "\n",
    "#------------------------------------------------------------------------------------------\n",
    "# Onehot encoding of categorical columns\n",
    "#------------------------------------------------------------------------------------------\n",
    "def ohencoding(data):\n",
    "    '''\n",
    "    Onehot encoding the categoricla columns.\n",
    "    Add the ohe columns with the data and removes categorical columns.\n",
    "    Using Onehotencoder objects trained on train data.\n",
    "    '''\n",
    "    # Onehot encoding cat col using onehotencoder objects\n",
    "    X = ohe_service.transform(data['service'].values.reshape(-1, 1))\n",
    "    Xm = ohe_proto.transform(data['proto'].values.reshape(-1, 1))\n",
    "    Xmm = ohe_state.transform(data['state'].values.reshape(-1, 1))\n",
    "\n",
    "    # Adding encoding data to original data\n",
    "    data = pd.concat([data,\n",
    "                      pd.DataFrame(Xm.toarray(), columns=['proto_'+i for i in ohe_proto.categories_[0]]),\n",
    "                      pd.DataFrame(X.toarray(), columns=['service_'+i for i in ohe_service.categories_[0]]),\n",
    "                      pd.DataFrame(Xmm.toarray(), columns=['state_'+i for i in ohe_state.categories_[0]])],\n",
    "                      axis=1)\n",
    "\n",
    "    # Removing cat columns\n",
    "    data.drop(['proto', 'service', 'state'], axis=1, inplace=True)\n",
    "    return data"
   ]
  },
  {
   "cell_type": "code",
   "execution_count": 9,
   "id": "4edd3203-a625-4717-a236-67ff3198d6bd",
   "metadata": {
    "executionInfo": {
     "elapsed": 19,
     "status": "aborted",
     "timestamp": 1732623958845,
     "user": {
      "displayName": "Khang Lam Hoang",
      "userId": "02732529430571730404"
     },
     "user_tz": -420
    },
    "id": "4edd3203-a625-4717-a236-67ff3198d6bd"
   },
   "outputs": [],
   "source": [
    "def labelcoding(data):\n",
    "    data= label_encoder.transform(data)\n",
    "    return data"
   ]
  },
  {
   "cell_type": "code",
   "execution_count": 10,
   "id": "3d5c6266-5bcf-47bc-8114-06750d6132d3",
   "metadata": {
    "executionInfo": {
     "elapsed": 19,
     "status": "aborted",
     "timestamp": 1732623958845,
     "user": {
      "displayName": "Khang Lam Hoang",
      "userId": "02732529430571730404"
     },
     "user_tz": -420
    },
    "id": "3d5c6266-5bcf-47bc-8114-06750d6132d3"
   },
   "outputs": [],
   "source": [
    "def get_final_data(data, saved_infos=saved_infos, mode_dict=mode_dict):\n",
    "    '''\n",
    "    This functions takes raw input and convert that to model required output.\n",
    "    '''\n",
    "    data.reset_index(drop=True, inplace=True)\n",
    "    data.columns = saved_infos['columns']\n",
    "\n",
    "    data['network_bytes'] = data['dbytes'] + data['sbytes']\n",
    "\n",
    "    dropable_col = saved_infos['to_drop'] + saved_infos['corr_col']\n",
    "    data.drop(columns=dropable_col, inplace=True)\n",
    "\n",
    "    data = clean_data(data)\n",
    "    # data = apply_log1p(data)\n",
    "    data = standardize(data)\n",
    "    data = ohencoding(data)\n",
    "\n",
    "    return data"
   ]
  },
  {
   "cell_type": "code",
   "execution_count": 11,
   "id": "02b6dbc4-d547-4b5e-87c4-13e35abefd30",
   "metadata": {
    "executionInfo": {
     "elapsed": 17,
     "status": "aborted",
     "timestamp": 1732623958845,
     "user": {
      "displayName": "Khang Lam Hoang",
      "userId": "02732529430571730404"
     },
     "user_tz": -420
    },
    "id": "02b6dbc4-d547-4b5e-87c4-13e35abefd30"
   },
   "outputs": [
    {
     "data": {
      "text/plain": [
       "[array(['dhcp', 'dns', 'ftp', 'ftp-data', 'http', 'irc', 'none', 'pop3',\n",
       "        'radius', 'smtp', 'snmp', 'ssh', 'ssl'], dtype=object)]"
      ]
     },
     "execution_count": 11,
     "metadata": {},
     "output_type": "execute_result"
    }
   ],
   "source": [
    "ohe_service.categories_"
   ]
  },
  {
   "cell_type": "code",
   "execution_count": 12,
   "id": "633d8e21-4d2e-42e0-abd3-655d518dcb3f",
   "metadata": {
    "executionInfo": {
     "elapsed": 17,
     "status": "aborted",
     "timestamp": 1732623958845,
     "user": {
      "displayName": "Khang Lam Hoang",
      "userId": "02732529430571730404"
     },
     "user_tz": -420
    },
    "id": "633d8e21-4d2e-42e0-abd3-655d518dcb3f"
   },
   "outputs": [],
   "source": [
    "# Using pipeline to prepare test data\n",
    "x_test = get_final_data(x_test)"
   ]
  },
  {
   "cell_type": "code",
   "execution_count": 13,
   "id": "b4cda83d-a2c6-43d0-9b60-b37fb8728e4e",
   "metadata": {
    "executionInfo": {
     "elapsed": 17,
     "status": "aborted",
     "timestamp": 1732623958845,
     "user": {
      "displayName": "Khang Lam Hoang",
      "userId": "02732529430571730404"
     },
     "user_tz": -420
    },
    "id": "b4cda83d-a2c6-43d0-9b60-b37fb8728e4e"
   },
   "outputs": [],
   "source": [
    "y_test=y_test.fillna(value=\"normal\").apply(lambda x:x.strip().lower())\n",
    "y_test = y_test.replace('backdoors','backdoor', regex=True).apply(lambda x: x.strip().lower())\n",
    "y_test= labelcoding(y_test)\n",
    "y_test = pd.DataFrame(y_test,columns=['attack_cat',],)\n",
    "y_test=y_test['attack_cat']"
   ]
  },
  {
   "cell_type": "code",
   "execution_count": 14,
   "id": "0535cc6f-d186-4566-aa47-4524c712ec81",
   "metadata": {
    "executionInfo": {
     "elapsed": 17,
     "status": "aborted",
     "timestamp": 1732623958846,
     "user": {
      "displayName": "Khang Lam Hoang",
      "userId": "02732529430571730404"
     },
     "user_tz": -420
    },
    "id": "0535cc6f-d186-4566-aa47-4524c712ec81"
   },
   "outputs": [
    {
     "data": {
      "text/plain": [
       "((2000000, 197), (2000000,))"
      ]
     },
     "execution_count": 14,
     "metadata": {},
     "output_type": "execute_result"
    }
   ],
   "source": [
    "x_train.shape, y_train.shape"
   ]
  },
  {
   "cell_type": "code",
   "execution_count": 15,
   "id": "77aa4627-9f00-466d-be0f-c432da42c48d",
   "metadata": {
    "executionInfo": {
     "elapsed": 17,
     "status": "aborted",
     "timestamp": 1732623958846,
     "user": {
      "displayName": "Khang Lam Hoang",
      "userId": "02732529430571730404"
     },
     "user_tz": -420
    },
    "id": "77aa4627-9f00-466d-be0f-c432da42c48d"
   },
   "outputs": [
    {
     "data": {
      "text/plain": [
       "((617826, 197), (617826,))"
      ]
     },
     "execution_count": 15,
     "metadata": {},
     "output_type": "execute_result"
    }
   ],
   "source": [
    "x_test.shape, y_test.shape"
   ]
  },
  {
   "cell_type": "code",
   "execution_count": 16,
   "id": "96f62f5f-0a40-41d0-975e-d004fb2943a4",
   "metadata": {},
   "outputs": [
    {
     "name": "stdout",
     "output_type": "stream",
     "text": [
      "Columns only in train: set()\n",
      "Columns only in test: set()\n"
     ]
    }
   ],
   "source": [
    "train_columns = set(x_train.columns)\n",
    "test_columns = set(x_test.columns)\n",
    "\n",
    "# Find columns only in train\n",
    "train_only_columns = train_columns - test_columns\n",
    "\n",
    "# Find columns only in test\n",
    "test_only_columns = test_columns - train_columns\n",
    "\n",
    "print(\"Columns only in train:\", train_only_columns)\n",
    "print(\"Columns only in test:\", test_only_columns)"
   ]
  },
  {
   "cell_type": "code",
   "execution_count": 17,
   "id": "0a95ddc1-c7a4-4d82-8a2c-8f4a8d63fd7a",
   "metadata": {
    "executionInfo": {
     "elapsed": 16,
     "status": "aborted",
     "timestamp": 1732623958846,
     "user": {
      "displayName": "Khang Lam Hoang",
      "userId": "02732529430571730404"
     },
     "user_tz": -420
    },
    "id": "0a95ddc1-c7a4-4d82-8a2c-8f4a8d63fd7a"
   },
   "outputs": [
    {
     "data": {
      "text/plain": [
       "True"
      ]
     },
     "execution_count": 17,
     "metadata": {},
     "output_type": "execute_result"
    }
   ],
   "source": [
    "all(x_train.columns == x_test.columns)"
   ]
  },
  {
   "cell_type": "code",
   "execution_count": null,
   "id": "169bfbc1-ac88-428b-b2be-9a4724783c8f",
   "metadata": {
    "executionInfo": {
     "elapsed": 16,
     "status": "aborted",
     "timestamp": 1732623958846,
     "user": {
      "displayName": "Khang Lam Hoang",
      "userId": "02732529430571730404"
     },
     "user_tz": -420
    },
    "id": "169bfbc1-ac88-428b-b2be-9a4724783c8f"
   },
   "outputs": [],
   "source": []
  },
  {
   "cell_type": "code",
   "execution_count": 18,
   "id": "b079cbef-7098-4559-8983-b9e697f49739",
   "metadata": {
    "executionInfo": {
     "elapsed": 16,
     "status": "aborted",
     "timestamp": 1732623958846,
     "user": {
      "displayName": "Khang Lam Hoang",
      "userId": "02732529430571730404"
     },
     "user_tz": -420
    },
    "id": "b079cbef-7098-4559-8983-b9e697f49739"
   },
   "outputs": [],
   "source": [
    "import matplotlib.pyplot as plt\n",
    "from sklearn.metrics import accuracy_score, precision_score, recall_score, f1_score, confusion_matrix, roc_curve, auc\n",
    "\n",
    "def encode_attack_non_attack(df):\n",
    "    #something broke, so i'm doing this, i'm tired\n",
    "    df=pd.DataFrame(df)\n",
    "    replace_values = [9, 8, 7, 5, 4, 3, 2, 1, 0]\n",
    "    new_df = df.replace(replace_values, 1).replace(6, 0)\n",
    "    return new_df\n",
    "\n",
    "\n",
    "# def calculate_far(y_true, y_pred):\n",
    "#     tn, fp, fn, tp = confusion_matrix(y_true, y_pred).ravel()\n",
    "#     far = fp / (fp + tn)\n",
    "#     return 0\n",
    "\n",
    "# def false_alarm_rate(y_true, y_pred):\n",
    "#     \"\"\"\n",
    "#     This function will return False Alarm Rate for given true and predicted values.\n",
    "#     False Alarm Rate is average of False Negetive Rate and False Positive Rate\n",
    "#     \"\"\"\n",
    "#     # return calculate_far(y_true, y_pred)\n",
    "#     y_true=encode_attack_non_attack(y_true)\n",
    "#     y_pred = encode_attack_non_attack(y_pred)\n",
    "\n",
    "#     c_matrix=confusion_matrix(y_true, y_pred)\n",
    "#     tn, fp, fn, tp = c_matrix.ravel()\n",
    "\n",
    "#     labels= ['non-attack', 'attack']\n",
    "#     plt.figure(figsize=(8, 6))  # Adjust figure size as needed\n",
    "#     sns.heatmap(c_matrix, annot=True, cmap='Blues', fmt='d',xticklabels=labels, yticklabels=labels)  # Customize colors and format\n",
    "#     plt.xlabel('Predicted Label')\n",
    "#     plt.ylabel('True Label')\n",
    "#     plt.title(f'Confusion Matrix for General Attack Detection')\n",
    "#     plt.show()\n",
    "#     FPR = fp / (fp + tn)  # False positive rate\n",
    "#     FNR = fn / (fn + tp)  # False negetive rate\n",
    "#     return (FPR+FNR)/2  # False alarm rate\n",
    "\n",
    "\n",
    "def evaluate_result(y_true, y_pred, model_name):\n",
    "    # far=false_alarm_rate(y_true, y_pred)\n",
    "    # test_f1 = f1_score(y_test, y_test_pred, average=None)\n",
    "    accuracy = accuracy_score(y_true, y_pred)\n",
    "    precision = precision_score(y_true, y_pred, average='weighted')\n",
    "    recall = recall_score(y_true, y_pred, average='weighted')\n",
    "    f1 = f1_score(y_true, y_pred,average='weighted')\n",
    "\n",
    "    # cm_display = metrics.ConfusionMatrixDisplay(confusion_matrix = confusion_matrix, display_labels = [0, 1])\n",
    "\n",
    "    x = PrettyTable()\n",
    "    x.field_names = [ 'Accuracy','Precision','Recall','F1']\n",
    "    x.add_row([accuracy,precision,recall,f1])\n",
    "    print(x)\n",
    "\n",
    "    confusion_matrix = metrics.confusion_matrix(y_true, y_pred)\n",
    "\n",
    "    # Create a heatmap with clear labels and annotations\n",
    "    plt.figure(figsize=(8, 6))  # Adjust figure size as needed\n",
    "    sns.heatmap(confusion_matrix, annot=True, cmap='Blues', fmt='d')  # Customize colors and format\n",
    "    plt.xlabel('Predicted Label')\n",
    "    plt.ylabel('True Label')\n",
    "    plt.title(f'Confusion Matrix for {model_name}')\n",
    "    plt.show()\n",
    "    # cm_display.plot()\n",
    "    # plt.show()\n",
    "\n",
    "    # Returning scores\n",
    "    return accuracy"
   ]
  },
  {
   "cell_type": "code",
   "execution_count": 19,
   "id": "f2ac05bb-cd24-4ef4-ba77-9d53ac2436a9",
   "metadata": {
    "executionInfo": {
     "elapsed": 15,
     "status": "aborted",
     "timestamp": 1732623958846,
     "user": {
      "displayName": "Khang Lam Hoang",
      "userId": "02732529430571730404"
     },
     "user_tz": -420
    },
    "id": "f2ac05bb-cd24-4ef4-ba77-9d53ac2436a9"
   },
   "outputs": [],
   "source": [
    "# old_x_train=x_train\n",
    "# old_y_train=y_train\n",
    "# old_x_test=x_test\n",
    "# old_y_test=y_test"
   ]
  },
  {
   "cell_type": "code",
   "execution_count": 20,
   "id": "78b9b56e-64a9-4976-bf16-d65c1dd3c239",
   "metadata": {
    "executionInfo": {
     "elapsed": 15,
     "status": "aborted",
     "timestamp": 1732623958846,
     "user": {
      "displayName": "Khang Lam Hoang",
      "userId": "02732529430571730404"
     },
     "user_tz": -420
    },
    "id": "78b9b56e-64a9-4976-bf16-d65c1dd3c239"
   },
   "outputs": [],
   "source": [
    "# old_x_train.shape"
   ]
  },
  {
   "cell_type": "code",
   "execution_count": 21,
   "id": "1bf0bb36-7ff2-411a-a4f2-c5ef0c59083c",
   "metadata": {
    "executionInfo": {
     "elapsed": 15,
     "status": "aborted",
     "timestamp": 1732623958846,
     "user": {
      "displayName": "Khang Lam Hoang",
      "userId": "02732529430571730404"
     },
     "user_tz": -420
    },
    "id": "1bf0bb36-7ff2-411a-a4f2-c5ef0c59083c"
   },
   "outputs": [],
   "source": [
    "# line_count=10000\n",
    "\n",
    "# # x_train=old_x_train.head(line_count)\n",
    "# # y_train=old_y_train.head(line_count)\n",
    "# x_test=old_x_test.head(line_count)\n",
    "# y_test=old_y_test.head(line_count)"
   ]
  },
  {
   "cell_type": "code",
   "execution_count": 22,
   "id": "b8be74f2-ac9c-43eb-a510-8d99b7c1bb33",
   "metadata": {},
   "outputs": [
    {
     "data": {
      "text/plain": [
       "(617826, 197)"
      ]
     },
     "execution_count": 22,
     "metadata": {},
     "output_type": "execute_result"
    }
   ],
   "source": [
    "x_test.shape"
   ]
  },
  {
   "cell_type": "markdown",
   "id": "7300ddd4-3b4c-44ea-9093-74383033b776",
   "metadata": {
    "id": "7300ddd4-3b4c-44ea-9093-74383033b776"
   },
   "source": [
    "## Long term short term neural network"
   ]
  },
  {
   "cell_type": "code",
   "execution_count": 23,
   "id": "92b3e92d-182b-4af7-af34-21f71094b26d",
   "metadata": {
    "executionInfo": {
     "elapsed": 15,
     "status": "aborted",
     "timestamp": 1732623958846,
     "user": {
      "displayName": "Khang Lam Hoang",
      "userId": "02732529430571730404"
     },
     "user_tz": -420
    },
    "id": "92b3e92d-182b-4af7-af34-21f71094b26d"
   },
   "outputs": [],
   "source": [
    "# sequence_length = 300\n",
    "# batch_size = 128\n",
    "\n",
    "# X_train_seq = pad_sequences( x_train, maxlen = sequence_length)\n",
    "# X_test_seq = pad_sequences( x_test, maxlen = sequence_length)"
   ]
  },
  {
   "cell_type": "code",
   "execution_count": 24,
   "id": "31a54a0c-8ba6-41c5-8099-b2b8b6ad1888",
   "metadata": {
    "executionInfo": {
     "elapsed": 14,
     "status": "aborted",
     "timestamp": 1732623958846,
     "user": {
      "displayName": "Khang Lam Hoang",
      "userId": "02732529430571730404"
     },
     "user_tz": -420
    },
    "id": "31a54a0c-8ba6-41c5-8099-b2b8b6ad1888"
   },
   "outputs": [],
   "source": [
    "# model = Sequential()\n",
    "\n",
    "# model.add(e)\n",
    "\n",
    "# model.add(LSTM( 128 , dropout = 0.25, recurrent_dropout = 0.25))\n",
    "\n",
    "# model.add(Dense(1, activation = 'sigmoid' ))\n",
    "\n",
    "# model.summary()\n",
    "\n",
    "# model.compile( optimizer = \"adam\" , loss = 'binary_crossentropy' , metrics = ['accuracy'] )\n",
    "\n",
    "# early_stopper = EarlyStopping( monitor = 'val_acc' , min_delta = 0.0005, patience = 3 )\n",
    "\n",
    "# reduce_lr = ReduceLROnPlateau( monitor = 'val_loss' , patience = 2 , cooldown = 0)\n",
    "\n",
    "# callbacks = [ reduce_lr , early_stopper]\n",
    "\n",
    "# train_history = model.fit( X_train_seq , y_train , batch_size = batch_size, epochs = 5,validation_split = 0.1 , verbose = 1 , callbacks = callbacks)\n",
    "\n",
    "# score = model.evaluate( X_test_seq , y_test , batch_size = batch_size)\n",
    "\n",
    "# print( \"Accuracy: {:0.4}\".format( score[1] ))\n",
    "\n",
    "# print( \"Loss:\", score[0] )"
   ]
  },
  {
   "cell_type": "code",
   "execution_count": 25,
   "id": "8776d51c-4555-49ba-abfe-fd693e196abd",
   "metadata": {
    "executionInfo": {
     "elapsed": 14,
     "status": "aborted",
     "timestamp": 1732623958846,
     "user": {
      "displayName": "Khang Lam Hoang",
      "userId": "02732529430571730404"
     },
     "user_tz": -420
    },
    "id": "8776d51c-4555-49ba-abfe-fd693e196abd"
   },
   "outputs": [
    {
     "data": {
      "text/plain": [
       "6    200000\n",
       "3    200000\n",
       "5    200000\n",
       "4    200000\n",
       "7    200000\n",
       "2    200000\n",
       "0    200000\n",
       "1    200000\n",
       "8    200000\n",
       "9    200000\n",
       "Name: count, dtype: int64"
      ]
     },
     "execution_count": 25,
     "metadata": {},
     "output_type": "execute_result"
    }
   ],
   "source": [
    "y_train.value_counts()"
   ]
  },
  {
   "cell_type": "markdown",
   "id": "2281882f-854f-47b9-a6f4-99d86c64961c",
   "metadata": {},
   "source": [
    "## No Parameter"
   ]
  },
  {
   "cell_type": "markdown",
   "id": "c2142385-51a0-4c3c-a157-3c7577b7d231",
   "metadata": {
    "id": "c2142385-51a0-4c3c-a157-3c7577b7d231"
   },
   "source": [
    "## Decision Tree\n"
   ]
  },
  {
   "cell_type": "code",
   "execution_count": 26,
   "id": "20de42e7-b8c3-430d-a985-cd2f66fe5a31",
   "metadata": {
    "executionInfo": {
     "elapsed": 14,
     "status": "aborted",
     "timestamp": 1732623958847,
     "user": {
      "displayName": "Khang Lam Hoang",
      "userId": "02732529430571730404"
     },
     "user_tz": -420
    },
    "id": "20de42e7-b8c3-430d-a985-cd2f66fe5a31"
   },
   "outputs": [
    {
     "name": "stdout",
     "output_type": "stream",
     "text": [
      "Training time: 30.3540 seconds\n"
     ]
    }
   ],
   "source": [
    "start_time = time.time() \n",
    "\n",
    "dt_classifier = DecisionTreeClassifier()\n",
    "dt_classifier.fit(x_train,y_train)\n",
    "\n",
    "\n",
    "training_time = time.time() - start_time  \n",
    "\n",
    "print(f\"Training time: {training_time:.4f} seconds\")"
   ]
  },
  {
   "cell_type": "code",
   "execution_count": 27,
   "id": "a442f199-f336-41a2-83cd-981fb3f3bc8c",
   "metadata": {
    "executionInfo": {
     "elapsed": 13,
     "status": "aborted",
     "timestamp": 1732623958847,
     "user": {
      "displayName": "Khang Lam Hoang",
      "userId": "02732529430571730404"
     },
     "user_tz": -420
    },
    "id": "a442f199-f336-41a2-83cd-981fb3f3bc8c"
   },
   "outputs": [
    {
     "name": "stdout",
     "output_type": "stream",
     "text": [
      "Prediction time: 0.3600 seconds\n"
     ]
    }
   ],
   "source": [
    "\n",
    "start_time = time.time() \n",
    "\n",
    "dt_y_test_pred=dt_classifier.predict(x_test)\n",
    "\n",
    "prediction_time = time.time() - start_time  \n",
    "\n",
    "print(f\"Prediction time: {prediction_time:.4f} seconds\")"
   ]
  },
  {
   "cell_type": "code",
   "execution_count": 28,
   "id": "3793ea14-9790-4205-a8c3-ee8ee689f31b",
   "metadata": {
    "executionInfo": {
     "elapsed": 13,
     "status": "aborted",
     "timestamp": 1732623958847,
     "user": {
      "displayName": "Khang Lam Hoang",
      "userId": "02732529430571730404"
     },
     "user_tz": -420
    },
    "id": "3793ea14-9790-4205-a8c3-ee8ee689f31b"
   },
   "outputs": [
    {
     "name": "stdout",
     "output_type": "stream",
     "text": [
      "+--------------------+--------------------+--------------------+--------------------+\n",
      "|      Accuracy      |     Precision      |       Recall       |         F1         |\n",
      "+--------------------+--------------------+--------------------+--------------------+\n",
      "| 0.9777040784945923 | 0.9837437645532487 | 0.9777040784945923 | 0.9803774053588239 |\n",
      "+--------------------+--------------------+--------------------+--------------------+\n"
     ]
    },
    {
     "data": {
      "image/png": "[encoded data removed]",
      "text/plain": [
       "<Figure size 800x600 with 2 Axes>"
      ]
     },
     "metadata": {},
     "output_type": "display_data"
    }
   ],
   "source": [
    "dt_acc =evaluate_result(y_test, dt_y_test_pred, 'DT')"
   ]
  },
  {
   "cell_type": "code",
   "execution_count": 29,
   "id": "0d7353cb-c793-4487-858b-e99a726632f8",
   "metadata": {},
   "outputs": [],
   "source": [
    "with open(model_path+'my_dt.pkl', 'wb') as f:\n",
    "    pickle.dump(dt_classifier, f)"
   ]
  },
  {
   "cell_type": "markdown",
   "id": "665f5b03-55ce-4f5d-aba8-17a47d74b93f",
   "metadata": {
    "id": "665f5b03-55ce-4f5d-aba8-17a47d74b93f"
   },
   "source": [
    "## Random Forest"
   ]
  },
  {
   "cell_type": "code",
   "execution_count": 30,
   "id": "29a21734-dd99-4ec4-a8fb-2d514f80dd6b",
   "metadata": {
    "executionInfo": {
     "elapsed": 10,
     "status": "aborted",
     "timestamp": 1732623958847,
     "user": {
      "displayName": "Khang Lam Hoang",
      "userId": "02732529430571730404"
     },
     "user_tz": -420
    },
    "id": "29a21734-dd99-4ec4-a8fb-2d514f80dd6b"
   },
   "outputs": [
    {
     "name": "stdout",
     "output_type": "stream",
     "text": [
      "Training time: 130.8082 seconds\n"
     ]
    }
   ],
   "source": [
    "from sklearn.ensemble import RandomForestClassifier\n",
    "from sklearn.datasets import make_classification\n",
    "# X, y = make_classification(n_samples=1000, n_features=4,\n",
    "#                            n_informative=2, n_redundant=0,\n",
    "#                            random_state=0, shuffle=False)\n",
    "\n",
    "start_time = time.time() \n",
    "rf_clf = RandomForestClassifier(n_jobs=-1)\n",
    "rf_clf.fit(x_train,y_train)\n",
    "\n",
    "\n",
    "training_time = time.time() - start_time  \n",
    "\n",
    "print(f\"Training time: {training_time:.4f} seconds\")"
   ]
  },
  {
   "cell_type": "code",
   "execution_count": 31,
   "id": "29655e17-b148-485e-a7c4-88f571341f35",
   "metadata": {
    "executionInfo": {
     "elapsed": 10,
     "status": "aborted",
     "timestamp": 1732623958847,
     "user": {
      "displayName": "Khang Lam Hoang",
      "userId": "02732529430571730404"
     },
     "user_tz": -420
    },
    "id": "29655e17-b148-485e-a7c4-88f571341f35"
   },
   "outputs": [
    {
     "name": "stdout",
     "output_type": "stream",
     "text": [
      "Prediction time: 1.8139 seconds\n"
     ]
    }
   ],
   "source": [
    "\n",
    "start_time = time.time() \n",
    "\n",
    "rf_y_test_pred=rf_clf.predict(x_test)\n",
    "\n",
    "prediction_time = time.time() - start_time  \n",
    "\n",
    "print(f\"Prediction time: {prediction_time:.4f} seconds\")"
   ]
  },
  {
   "cell_type": "code",
   "execution_count": 32,
   "id": "55fcc7bb-4b10-4177-a4da-ab3976981f3a",
   "metadata": {
    "executionInfo": {
     "elapsed": 10,
     "status": "aborted",
     "timestamp": 1732623958847,
     "user": {
      "displayName": "Khang Lam Hoang",
      "userId": "02732529430571730404"
     },
     "user_tz": -420
    },
    "id": "55fcc7bb-4b10-4177-a4da-ab3976981f3a"
   },
   "outputs": [
    {
     "name": "stdout",
     "output_type": "stream",
     "text": [
      "+--------------------+-------------------+--------------------+--------------------+\n",
      "|      Accuracy      |     Precision     |       Recall       |         F1         |\n",
      "+--------------------+-------------------+--------------------+--------------------+\n",
      "| 0.9769433465085638 | 0.985701824056296 | 0.9769433465085638 | 0.9803156011944466 |\n",
      "+--------------------+-------------------+--------------------+--------------------+\n"
     ]
    },
    {
     "data": {
      "image/png": "[encoded data removed]",
      "text/plain": [
       "<Figure size 800x600 with 2 Axes>"
      ]
     },
     "metadata": {},
     "output_type": "display_data"
    }
   ],
   "source": [
    "lr_acc =evaluate_result(y_test, rf_y_test_pred, 'RF')"
   ]
  },
  {
   "cell_type": "code",
   "execution_count": 33,
   "id": "5ecb6eef-27f2-4318-8554-84dcad45ca26",
   "metadata": {
    "executionInfo": {
     "elapsed": 10,
     "status": "aborted",
     "timestamp": 1732623958847,
     "user": {
      "displayName": "Khang Lam Hoang",
      "userId": "02732529430571730404"
     },
     "user_tz": -420
    },
    "id": "5ecb6eef-27f2-4318-8554-84dcad45ca26"
   },
   "outputs": [],
   "source": [
    "with open(model_path+'my_rf.pkl', 'wb') as f:\n",
    "    pickle.dump(rf_clf, f)"
   ]
  },
  {
   "cell_type": "markdown",
   "id": "001869e8-a7d0-44e8-8bb4-3a5a2afbb2e3",
   "metadata": {
    "id": "001869e8-a7d0-44e8-8bb4-3a5a2afbb2e3"
   },
   "source": [
    "## XGBoost"
   ]
  },
  {
   "cell_type": "code",
   "execution_count": 34,
   "id": "fb21764a-46b3-4b2c-b312-77a1f5ada773",
   "metadata": {
    "executionInfo": {
     "elapsed": 10,
     "status": "aborted",
     "timestamp": 1732623958847,
     "user": {
      "displayName": "Khang Lam Hoang",
      "userId": "02732529430571730404"
     },
     "user_tz": -420
    },
    "id": "fb21764a-46b3-4b2c-b312-77a1f5ada773"
   },
   "outputs": [
    {
     "name": "stdout",
     "output_type": "stream",
     "text": [
      "Training time: 324.9391 seconds\n"
     ]
    }
   ],
   "source": [
    "from xgboost import XGBClassifier\n",
    "# read data\n",
    "# from sklearn.datasets import load_iris\n",
    "# from sklearn.model_selection import train_test_split\n",
    "# data = load_iris()\n",
    "# X_train, X_test, y_train, y_test = train_test_split(data['data'], data['target'], test_size=.2)\n",
    "# create model instance\n",
    "\n",
    "start_time = time.time() \n",
    "bst = XGBClassifier(n_jobs=-1)\n",
    "# fit model\n",
    "bst.fit(x_train, y_train)\n",
    "\n",
    "\n",
    "training_time = time.time() - start_time  \n",
    "\n",
    "print(f\"Training time: {training_time:.4f} seconds\")"
   ]
  },
  {
   "cell_type": "code",
   "execution_count": 35,
   "id": "6aa80786-462b-4869-8a2e-86962d589618",
   "metadata": {
    "executionInfo": {
     "elapsed": 10,
     "status": "aborted",
     "timestamp": 1732623958847,
     "user": {
      "displayName": "Khang Lam Hoang",
      "userId": "02732529430571730404"
     },
     "user_tz": -420
    },
    "id": "6aa80786-462b-4869-8a2e-86962d589618"
   },
   "outputs": [
    {
     "name": "stdout",
     "output_type": "stream",
     "text": [
      "Prediction time: 1.3634 seconds\n"
     ]
    }
   ],
   "source": [
    "\n",
    "start_time = time.time() \n",
    "\n",
    "xgb_y_test_pred=bst.predict(x_test)\n",
    "\n",
    "prediction_time = time.time() - start_time  \n",
    "\n",
    "print(f\"Prediction time: {prediction_time:.4f} seconds\")"
   ]
  },
  {
   "cell_type": "code",
   "execution_count": 36,
   "id": "e9af3c9f-0ae4-4c1b-beb6-54b6c2fc7e15",
   "metadata": {
    "executionInfo": {
     "elapsed": 10,
     "status": "aborted",
     "timestamp": 1732623958847,
     "user": {
      "displayName": "Khang Lam Hoang",
      "userId": "02732529430571730404"
     },
     "user_tz": -420
    },
    "id": "e9af3c9f-0ae4-4c1b-beb6-54b6c2fc7e15"
   },
   "outputs": [
    {
     "name": "stdout",
     "output_type": "stream",
     "text": [
      "+--------------------+-------------------+--------------------+--------------------+\n",
      "|      Accuracy      |     Precision     |       Recall       |         F1         |\n",
      "+--------------------+-------------------+--------------------+--------------------+\n",
      "| 0.9759009818298355 | 0.986721538291857 | 0.9759009818298355 | 0.9801966923671146 |\n",
      "+--------------------+-------------------+--------------------+--------------------+\n"
     ]
    },
    {
     "data": {
      "image/png": "[encoded data removed]",
      "text/plain": [
       "<Figure size 800x600 with 2 Axes>"
      ]
     },
     "metadata": {},
     "output_type": "display_data"
    }
   ],
   "source": [
    "xgb_acc =evaluate_result(y_test, xgb_y_test_pred, 'XGB')"
   ]
  },
  {
   "cell_type": "code",
   "execution_count": 37,
   "id": "7e9883db-189c-41e0-87ee-39b6c635e4b4",
   "metadata": {
    "executionInfo": {
     "elapsed": 10,
     "status": "aborted",
     "timestamp": 1732623958847,
     "user": {
      "displayName": "Khang Lam Hoang",
      "userId": "02732529430571730404"
     },
     "user_tz": -420
    },
    "id": "7e9883db-189c-41e0-87ee-39b6c635e4b4"
   },
   "outputs": [],
   "source": [
    "with open(model_path+'my_xgb.pkl', 'wb') as f:\n",
    "    pickle.dump(bst, f)"
   ]
  },
  {
   "cell_type": "markdown",
   "id": "a3cef81b-95e0-41db-a1a4-cdba79b9c28f",
   "metadata": {},
   "source": [
    "## Hyperparameter Tuning"
   ]
  },
  {
   "cell_type": "code",
   "execution_count": null,
   "id": "3a6277cc-3346-40fe-9870-c08b11444fb8",
   "metadata": {},
   "outputs": [],
   "source": [
    "## DT\n",
    "from sklearn.model_selection import GridSearchCV\n",
    "\n",
    "param_grid = {'criterion': ['gini', 'entropy','poisson']}\n",
    "\n",
    "dt_model = DecisionTreeClassifier()\n",
    "\n",
    "grid_search = GridSearchCV(dt_model, param_grid, cv=5,n_jobs=-1)\n",
    "grid_search.fit(x_train, y_train)\n",
    "\n",
    "print(\"Best parameters:\", grid_search.best_params_)\n",
    "print(\"Best score:\", grid_search.best_score_)"
   ]
  },
  {
   "cell_type": "code",
   "execution_count": null,
   "id": "aa02071a-c4a4-4c79-8dd2-d8370e8d1417",
   "metadata": {},
   "outputs": [],
   "source": [
    "# ##SVM\n",
    "# from sklearn.model_selection import GridSearchCV\n",
    "# from sklearn.svm import SVC\n",
    "\n",
    "# param_grid = {'kernel': ['rbf', 'poly', 'linear','sigmoid']}\n",
    "\n",
    "# svm_model = SVC()\n",
    "\n",
    "# grid_search = GridSearchCV(svm_model, param_grid, cv=5,n_jobs=-1)\n",
    "# grid_search.fit(x_train, y_train)\n",
    "\n",
    "# print(\"Best parameters:\", grid_search.best_params_)\n",
    "# print(\"Best score:\", grid_search.best_score_)"
   ]
  },
  {
   "cell_type": "code",
   "execution_count": null,
   "id": "c984b44a-abab-4af7-85b5-c80267888902",
   "metadata": {},
   "outputs": [],
   "source": [
    "import numpy as np\n",
    "import pandas as pd\n",
    "import matplotlib.pyplot as plt\n",
    "import seaborn as sns\n",
    "from sklearn.model_selection import train_test_split,cross_val_score,StratifiedKFold\n",
    "from sklearn.metrics import confusion_matrix,classification_report,precision_score, recall_score, f1_score, accuracy_score\n",
    "from sklearn.ensemble import RandomForestClassifier\n",
    "from bayes_opt import BayesianOptimization"
   ]
  },
  {
   "cell_type": "code",
   "execution_count": null,
   "id": "d8625970-0219-4615-a9bb-23a67303f117",
   "metadata": {},
   "outputs": [],
   "source": [
    "def stratified_kfold_score(clf,X,y,n_fold):\n",
    "    X,y = X.values,y.values\n",
    "    strat_kfold = StratifiedKFold(n_splits=n_fold, shuffle=True, random_state=1)\n",
    "    accuracy_list = []\n",
    "\n",
    "    for train_index, test_index in strat_kfold.split(X, y):\n",
    "        x_train_fold, x_test_fold = X[train_index], X[test_index]\n",
    "        y_train_fold, y_test_fold = y[train_index], y[test_index]\n",
    "        clf.fit(x_train_fold, y_train_fold)\n",
    "        preds = clf.predict(x_test_fold)\n",
    "        accuracy_test = accuracy_score(preds,y_test_fold)\n",
    "        accuracy_list.append(accuracy_test)\n",
    "\n",
    "    return np.array(accuracy_list).mean()"
   ]
  },
  {
   "cell_type": "code",
   "execution_count": null,
   "id": "294f6e89-b0cd-416d-a9db-0188f0f28c17",
   "metadata": {},
   "outputs": [],
   "source": [
    "# def bo_params_svm(C, gamma):\n",
    "#     params = {\n",
    "#         'C': C,\n",
    "#         'gamma': gamma\n",
    "#     }\n",
    "#     clf = SVC(C=params['C'], kernel='linear', gamma=params['gamma'])\n",
    "#     score = stratified_kfold_score(clf, x_train, y_train, 5)\n",
    "#     return score\n",
    "\n",
    "\n",
    "\n",
    "def bo_params_dt(max_depth, min_samples_split, min_samples_leaf):\n",
    "    params = {\n",
    "        'max_depth': int(max_depth),\n",
    "        'min_samples_split': int(min_samples_split),\n",
    "        'min_samples_leaf': int(min_samples_leaf)\n",
    "    }\n",
    "    clf = DecisionTreeClassifier(**params)\n",
    "    score = stratified_kfold_score(clf, x_train, y_train, 5)\n",
    "    return score\n",
    "\n",
    "def bo_params_rf(max_samples,n_estimators,max_features):\n",
    "    \n",
    "    params = {\n",
    "        'max_samples': max_samples,\n",
    "        'max_features':max_features,\n",
    "        'n_estimators':int(n_estimators)\n",
    "    }\n",
    "    clf = RandomForestClassifier(max_samples=params['max_samples'],max_features=params['max_features'],n_estimators=params['n_estimators'])\n",
    "    score = stratified_kfold_score(clf,x_train, y_train,5)\n",
    "    return score\n",
    "\n",
    "def bo_params_xgb(max_depth, learning_rate, n_estimators, subsample, colsample_bytree):\n",
    "    params = {\n",
    "        'max_depth': int(max_depth),\n",
    "        'learning_rate': learning_rate,\n",
    "        'n_estimators': int(n_estimators),\n",
    "        'subsample': subsample,\n",
    "        'colsample_bytree': colsample_bytree \n",
    "    }\n",
    "    clf = xgb.XGBClassifier(**params)\n",
    "    score = stratified_kfold_score(clf, x_train, y_train, 5)\n",
    "    return score"
   ]
  },
  {
   "cell_type": "code",
   "execution_count": null,
   "id": "68dbeaf1-55bc-40aa-a956-1f32a1834e3e",
   "metadata": {},
   "outputs": [],
   "source": [
    "\n",
    "# svm_bo = BayesianOptimization(bo_params_svm, {\n",
    "#     'C': (0.1, 10.0),\n",
    "#     # 'kernel': ('linear', 'poly', 'rbf', 'sigmoid'),\n",
    "#     'gamma': (0.001, 10.0)\n",
    "# })\n",
    "\n",
    "dt_bo = BayesianOptimization(bo_params_dt, {\n",
    "    'max_depth': (2, 10),\n",
    "    'min_samples_split': (2, 20),\n",
    "    'min_samples_leaf': (1, 10)\n",
    "})\n",
    "\n",
    "rf_bo = BayesianOptimization(bo_params_rf, {\n",
    "    'max_samples':(0.5,1),\n",
    "    'max_features':(0.5,1),\n",
    "    'n_estimators':(100,200)\n",
    "})\n",
    "\n",
    "\n",
    "xgb_bo = BayesianOptimization(bo_params_xgb, {\n",
    "    'max_depth': (2, 10),\n",
    "    'learning_rate': (0.01, 0.1),\n",
    "    'n_estimators': (100, 500),\n",
    "    'subsample': (0.6, 1.0),\n",
    "    'colsample_bytree': (0.6, 1.0)\n",
    "})"
   ]
  },
  {
   "cell_type": "code",
   "execution_count": null,
   "id": "eb476cfd-01c1-45ec-bbe8-1c724799d517",
   "metadata": {},
   "outputs": [],
   "source": [
    "results={}\n",
    "# results['svm'] = svm_bo.maximize(n_iter=200, init_points=20)"
   ]
  },
  {
   "cell_type": "code",
   "execution_count": null,
   "id": "0175fca4-51b0-4c14-a9a6-5d2e2e18d324",
   "metadata": {},
   "outputs": [],
   "source": [
    "# params = svm_bo.max['params']\n",
    "# params['C']= float(params['C'])\n",
    "# params['gamma']= float(params['gamma'])\n",
    "# print(params)"
   ]
  },
  {
   "cell_type": "code",
   "execution_count": null,
   "id": "d489bf95-f33c-42bc-8654-7528c2302107",
   "metadata": {},
   "outputs": [],
   "source": [
    "results['dt'] = dt_bo.maximize(n_iter=200, init_points=20)"
   ]
  },
  {
   "cell_type": "code",
   "execution_count": null,
   "id": "de5db50c-e1e1-4c4f-8a8e-ffeeebab5b22",
   "metadata": {},
   "outputs": [],
   "source": [
    "all_params"
   ]
  },
  {
   "cell_type": "code",
   "execution_count": null,
   "id": "cc801996-b86f-4464-aec1-8ead9b269b1c",
   "metadata": {},
   "outputs": [],
   "source": [
    "\n",
    "params = dt_bo.max['params']\n",
    "\n",
    "params['max_depth']= int(params['max_depth'])\n",
    "params['min_samples_leaf']= int(params['min_samples_leaf'])\n",
    "params['min_samples_split']= int(params['min_samples_split'])\n",
    "print(params)\n",
    "all_params['dt_params']=params"
   ]
  },
  {
   "cell_type": "code",
   "execution_count": null,
   "id": "bcddee2e-c265-4c22-b908-b9da8cf6dfc3",
   "metadata": {
    "executionInfo": {
     "elapsed": 10,
     "status": "aborted",
     "timestamp": 1732623958848,
     "user": {
      "displayName": "Khang Lam Hoang",
      "userId": "02732529430571730404"
     },
     "user_tz": -420
    },
    "id": "bcddee2e-c265-4c22-b908-b9da8cf6dfc3"
   },
   "outputs": [],
   "source": [
    "results['rf'] = rf_bo.maximize(n_iter=200, init_points=20)"
   ]
  },
  {
   "cell_type": "code",
   "execution_count": null,
   "id": "c60501f0-1fc0-40bc-b0f9-9786b91fdfe4",
   "metadata": {},
   "outputs": [],
   "source": [
    "params = rf_bo.max['params']\n",
    "params['max_samples']= float(params['max_samples'])\n",
    "params['max_features']= float(params['max_features'])\n",
    "params['n_estimators']= int(params['n_estimators'])\n",
    "print(params)\n",
    "all_params['rf_params']=params"
   ]
  },
  {
   "cell_type": "code",
   "execution_count": null,
   "id": "79842155-4a4f-46e4-bcf7-51be8cfd227b",
   "metadata": {},
   "outputs": [],
   "source": [
    "results['xgb'] = xgb_bo.maximize(n_iter=200, init_points=20)"
   ]
  },
  {
   "cell_type": "code",
   "execution_count": null,
   "id": "076c3ccc-1640-4350-a71e-5ed9e6484081",
   "metadata": {},
   "outputs": [],
   "source": [
    "params = xgb_bo.max['params']\n",
    "params['colsample_bytree']= float(params['colsample_bytree'])\n",
    "params['learning_rate']= float(params['learning_rate'])\n",
    "params['max_depth']= int(params['max_depth'])\n",
    "params['max_samples']= float(params['max_samples'])\n",
    "params['max_features']= float(params['max_features'])\n",
    "params['n_estimators']= int(params['n_estimators'])\n",
    "print(params)\n",
    "all_params['xgb_params']=params"
   ]
  },
  {
   "cell_type": "code",
   "execution_count": null,
   "id": "20c6246c-953b-4e39-9f16-646ce4c437d4",
   "metadata": {},
   "outputs": [],
   "source": [
    "temp={}\n",
    "for key,value in params.items():\n",
    "    temp[key]=float(value)\n",
    "temp"
   ]
  },
  {
   "cell_type": "code",
   "execution_count": null,
   "id": "f82dae79-bb3c-49f0-84e8-9d79e5ede2e3",
   "metadata": {},
   "outputs": [],
   "source": [
    "results"
   ]
  },
  {
   "cell_type": "code",
   "execution_count": null,
   "id": "3bf6fee4-8b8e-4ce1-b55a-f629475e121f",
   "metadata": {},
   "outputs": [],
   "source": [
    "# svc_params={'C': 8.876951085871351,'kernel':'linear', 'gamma': 6.251282342506629}\n",
    "# dt_params={'max_depth': 9, 'min_samples_leaf': 1, 'min_samples_split': 4}\n",
    "# rf_params={'max_features': 0.585664929515135, 'max_samples': 0.5998288751638163, 'n_estimators': 121}\n",
    "# xgb_params={'colsample_bytree': 0.6419255804983351,\n",
    "#  'learning_rate': 0.02368115203787831,\n",
    "#  'max_depth': 7,\n",
    "#  'n_estimators': 205,\n",
    "#  'subsample': 0.9204170326972261}"
   ]
  },
  {
   "cell_type": "markdown",
   "id": "3623e82c-b4ce-4400-a7aa-02113b301019",
   "metadata": {
    "id": "c2142385-51a0-4c3c-a157-3c7577b7d231"
   },
   "source": [
    "## Decision Tree\n"
   ]
  },
  {
   "cell_type": "code",
   "execution_count": null,
   "id": "c356c3e1-57ad-416f-a980-45f00e8c1105",
   "metadata": {
    "executionInfo": {
     "elapsed": 14,
     "status": "aborted",
     "timestamp": 1732623958847,
     "user": {
      "displayName": "Khang Lam Hoang",
      "userId": "02732529430571730404"
     },
     "user_tz": -420
    },
    "id": "20de42e7-b8c3-430d-a985-cd2f66fe5a31"
   },
   "outputs": [],
   "source": [
    "start_time = time.time() \n",
    "\n",
    "dt_classifier = DecisionTreeClassifier(**all_params['dt_params'])\n",
    "dt_classifier.fit(x_train,y_train)\n",
    "\n",
    "\n",
    "training_time = time.time() - start_time  \n",
    "\n",
    "print(f\"Training time: {training_time:.4f} seconds\")"
   ]
  },
  {
   "cell_type": "code",
   "execution_count": null,
   "id": "430151bb-ecc8-4c0e-9d6f-23a43ccc4862",
   "metadata": {
    "executionInfo": {
     "elapsed": 13,
     "status": "aborted",
     "timestamp": 1732623958847,
     "user": {
      "displayName": "Khang Lam Hoang",
      "userId": "02732529430571730404"
     },
     "user_tz": -420
    },
    "id": "a442f199-f336-41a2-83cd-981fb3f3bc8c"
   },
   "outputs": [],
   "source": [
    "\n",
    "start_time = time.time() \n",
    "\n",
    "dt_y_test_pred=dt_classifier.predict(x_test)\n",
    "\n",
    "prediction_time = time.time() - start_time  \n",
    "\n",
    "print(f\"Prediction time: {prediction_time:.4f} seconds\")"
   ]
  },
  {
   "cell_type": "code",
   "execution_count": null,
   "id": "b9abbb83-f42d-4177-8554-9b282b42dec7",
   "metadata": {
    "executionInfo": {
     "elapsed": 13,
     "status": "aborted",
     "timestamp": 1732623958847,
     "user": {
      "displayName": "Khang Lam Hoang",
      "userId": "02732529430571730404"
     },
     "user_tz": -420
    },
    "id": "3793ea14-9790-4205-a8c3-ee8ee689f31b"
   },
   "outputs": [],
   "source": [
    "dt_acc =evaluate_result(y_test, dt_y_test_pred, 'DT')"
   ]
  },
  {
   "cell_type": "code",
   "execution_count": null,
   "id": "f247271f-927e-426d-9f21-167355e8ac81",
   "metadata": {},
   "outputs": [],
   "source": [
    "with open(model_path+'my_dt.pkl', 'wb') as f:\n",
    "    pickle.dump(dt_classifier, f)"
   ]
  },
  {
   "cell_type": "markdown",
   "id": "874fd570-f757-4d31-b8a7-2c6a0e839614",
   "metadata": {
    "id": "665f5b03-55ce-4f5d-aba8-17a47d74b93f"
   },
   "source": [
    "## Random Forest"
   ]
  },
  {
   "cell_type": "code",
   "execution_count": null,
   "id": "50abfd11-d8f1-458a-bff5-a330eff5051b",
   "metadata": {
    "executionInfo": {
     "elapsed": 10,
     "status": "aborted",
     "timestamp": 1732623958847,
     "user": {
      "displayName": "Khang Lam Hoang",
      "userId": "02732529430571730404"
     },
     "user_tz": -420
    },
    "id": "29a21734-dd99-4ec4-a8fb-2d514f80dd6b"
   },
   "outputs": [],
   "source": [
    "from sklearn.ensemble import RandomForestClassifier\n",
    "from sklearn.datasets import make_classification\n",
    "# X, y = make_classification(n_samples=1000, n_features=4,\n",
    "#                            n_informative=2, n_redundant=0,\n",
    "#                            random_state=0, shuffle=False)\n",
    "\n",
    "start_time = time.time() \n",
    "rf_clf = RandomForestClassifier(**all_params['rf_params'],n_jobs=-1)\n",
    "rf_clf.fit(x_train,y_train)\n",
    "\n",
    "\n",
    "training_time = time.time() - start_time  \n",
    "\n",
    "print(f\"Training time: {training_time:.4f} seconds\")"
   ]
  },
  {
   "cell_type": "code",
   "execution_count": null,
   "id": "bbb99ee8-fe49-4c43-9cd8-6c1dd29fbb67",
   "metadata": {
    "executionInfo": {
     "elapsed": 10,
     "status": "aborted",
     "timestamp": 1732623958847,
     "user": {
      "displayName": "Khang Lam Hoang",
      "userId": "02732529430571730404"
     },
     "user_tz": -420
    },
    "id": "29655e17-b148-485e-a7c4-88f571341f35"
   },
   "outputs": [],
   "source": [
    "\n",
    "start_time = time.time() \n",
    "\n",
    "rf_y_test_pred=rf_clf.predict(x_test)\n",
    "\n",
    "prediction_time = time.time() - start_time  \n",
    "\n",
    "print(f\"Prediction time: {prediction_time:.4f} seconds\")"
   ]
  },
  {
   "cell_type": "code",
   "execution_count": null,
   "id": "bd91e13d-23a8-404d-869d-4fdfb1fe94e4",
   "metadata": {
    "executionInfo": {
     "elapsed": 10,
     "status": "aborted",
     "timestamp": 1732623958847,
     "user": {
      "displayName": "Khang Lam Hoang",
      "userId": "02732529430571730404"
     },
     "user_tz": -420
    },
    "id": "55fcc7bb-4b10-4177-a4da-ab3976981f3a"
   },
   "outputs": [],
   "source": [
    "lr_acc =evaluate_result(y_test, rf_y_test_pred, 'RF')"
   ]
  },
  {
   "cell_type": "code",
   "execution_count": null,
   "id": "546b3065-519b-4509-8383-08cc96b47966",
   "metadata": {
    "executionInfo": {
     "elapsed": 10,
     "status": "aborted",
     "timestamp": 1732623958847,
     "user": {
      "displayName": "Khang Lam Hoang",
      "userId": "02732529430571730404"
     },
     "user_tz": -420
    },
    "id": "5ecb6eef-27f2-4318-8554-84dcad45ca26"
   },
   "outputs": [],
   "source": [
    "with open(model_path+'my_rf.pkl', 'wb') as f:\n",
    "    pickle.dump(rf_clf, f)"
   ]
  },
  {
   "cell_type": "markdown",
   "id": "3a4ab315-ce60-4f7c-aa6b-3043a745be08",
   "metadata": {
    "id": "001869e8-a7d0-44e8-8bb4-3a5a2afbb2e3"
   },
   "source": [
    "## XGBoost"
   ]
  },
  {
   "cell_type": "code",
   "execution_count": null,
   "id": "5a6e1036-309b-4107-a9f8-7195e575d6d1",
   "metadata": {
    "executionInfo": {
     "elapsed": 10,
     "status": "aborted",
     "timestamp": 1732623958847,
     "user": {
      "displayName": "Khang Lam Hoang",
      "userId": "02732529430571730404"
     },
     "user_tz": -420
    },
    "id": "fb21764a-46b3-4b2c-b312-77a1f5ada773"
   },
   "outputs": [],
   "source": [
    "from xgboost import XGBClassifier\n",
    "# read data\n",
    "# from sklearn.datasets import load_iris\n",
    "# from sklearn.model_selection import train_test_split\n",
    "# data = load_iris()\n",
    "# X_train, X_test, y_train, y_test = train_test_split(data['data'], data['target'], test_size=.2)\n",
    "# create model instance\n",
    "\n",
    "start_time = time.time() \n",
    "bst = XGBClassifier(**all_params['xgb_params'],n_jobs=-1)\n",
    "# fit model\n",
    "bst.fit(x_train, y_train)\n",
    "\n",
    "\n",
    "training_time = time.time() - start_time  \n",
    "\n",
    "print(f\"Training time: {training_time:.4f} seconds\")"
   ]
  },
  {
   "cell_type": "code",
   "execution_count": null,
   "id": "58a632e2-c45f-49eb-b943-a2ce0db78ae7",
   "metadata": {
    "executionInfo": {
     "elapsed": 10,
     "status": "aborted",
     "timestamp": 1732623958847,
     "user": {
      "displayName": "Khang Lam Hoang",
      "userId": "02732529430571730404"
     },
     "user_tz": -420
    },
    "id": "6aa80786-462b-4869-8a2e-86962d589618"
   },
   "outputs": [],
   "source": [
    "\n",
    "start_time = time.time() \n",
    "\n",
    "xgb_y_test_pred=bst.predict(x_test)\n",
    "\n",
    "prediction_time = time.time() - start_time  \n",
    "\n",
    "print(f\"Prediction time: {prediction_time:.4f} seconds\")"
   ]
  },
  {
   "cell_type": "code",
   "execution_count": null,
   "id": "eae8a06a-dd5d-4a34-849a-61d8008ae427",
   "metadata": {
    "executionInfo": {
     "elapsed": 10,
     "status": "aborted",
     "timestamp": 1732623958847,
     "user": {
      "displayName": "Khang Lam Hoang",
      "userId": "02732529430571730404"
     },
     "user_tz": -420
    },
    "id": "e9af3c9f-0ae4-4c1b-beb6-54b6c2fc7e15"
   },
   "outputs": [],
   "source": [
    "xgb_acc =evaluate_result(y_test, xgb_y_test_pred, 'XGB')"
   ]
  },
  {
   "cell_type": "code",
   "execution_count": null,
   "id": "e8c197ef-c97a-4de0-9d4c-5ccfc91e4b52",
   "metadata": {
    "executionInfo": {
     "elapsed": 10,
     "status": "aborted",
     "timestamp": 1732623958847,
     "user": {
      "displayName": "Khang Lam Hoang",
      "userId": "02732529430571730404"
     },
     "user_tz": -420
    },
    "id": "7e9883db-189c-41e0-87ee-39b6c635e4b4"
   },
   "outputs": [],
   "source": [
    "with open(model_path+'my_xgb.pkl', 'wb') as f:\n",
    "    pickle.dump(bst, f)"
   ]
  },
  {
   "cell_type": "code",
   "execution_count": null,
   "id": "4749b3dc-9c97-42c5-9aa3-915f16882929",
   "metadata": {},
   "outputs": [],
   "source": [
    "# all_params={'svc_params':svc_params,'dt_params':dt_params,'rf_params':rf_params,'xgb_params':xgb_params}"
   ]
  },
  {
   "cell_type": "code",
   "execution_count": null,
   "id": "f9a771e1-12c0-40d7-97a6-c39a9b3f0e57",
   "metadata": {},
   "outputs": [],
   "source": [
    "all_params"
   ]
  },
  {
   "cell_type": "code",
   "execution_count": null,
   "id": "b6ffff62-c727-4a27-8d3f-58da54fb49be",
   "metadata": {},
   "outputs": [],
   "source": [
    "with open(model_path+'my_params.pkl', 'wb') as f:\n",
    "    pickle.dump(all_params, f)"
   ]
  },
  {
   "cell_type": "code",
   "execution_count": null,
   "id": "11d2fc1b-f24e-496d-b3fa-e3edd6eec637",
   "metadata": {},
   "outputs": [],
   "source": [
    "test = pickle.load(open(model_path+'my_params.pkl', 'rb'))"
   ]
  },
  {
   "cell_type": "code",
   "execution_count": null,
   "id": "48427aa5-f673-4571-b6ff-382ab79cf7a5",
   "metadata": {},
   "outputs": [],
   "source": [
    "test"
   ]
  },
  {
   "cell_type": "markdown",
   "id": "6debe9f9-514d-4976-b95a-b81cc01bdc19",
   "metadata": {},
   "source": [
    "## Ensemble"
   ]
  },
  {
   "cell_type": "code",
   "execution_count": null,
   "id": "a723b672-7c51-4ead-bfe1-bc66d13f50e9",
   "metadata": {},
   "outputs": [],
   "source": [
    "from sklearn.ensemble import VotingClassifier\n",
    "# Initializing all the 3 classifiers with best found parameters\n",
    "\n",
    "start_time = time.time() \n",
    "dt_clf = DecisionTreeClassifier(**my_params['dt_params'])\n",
    "rf_clf = RandomForestClassifier(**my_params['rf_params'], n_jobs=-1)\n",
    "xgb_clf = xgb.XGBClassifier(**my_params['xgb_params'], n_jobs=-1)\n",
    "v_clf = VotingClassifier(estimators=[('lr', dt_clf), ('rf', rf_clf), ('xgb', xgb_clf)], voting='soft', n_jobs=-1)\n",
    "\n",
    "v_clf.fit(x_train, y_train)\n",
    "\n",
    "training_time = time.time() - start_time  \n",
    "\n",
    "print(f\"Training time: {training_time:.4f} seconds\")"
   ]
  },
  {
   "cell_type": "code",
   "execution_count": null,
   "id": "1cfb88a5-6f7f-4aa8-8b21-5a60f9b37ee9",
   "metadata": {},
   "outputs": [],
   "source": [
    "start_time = time.time() \n",
    "\n",
    "v_clf_y_test_pred=v_clf.predict(x_test)\n",
    "\n",
    "prediction_time = time.time() - start_time  \n",
    "\n",
    "print(f\"Prediction time: {prediction_time:.4f} seconds\")"
   ]
  },
  {
   "cell_type": "code",
   "execution_count": null,
   "id": "e5faf86f-af62-4c84-bf48-e5e8b029ea0c",
   "metadata": {},
   "outputs": [],
   "source": [
    "v_clf_acc =evaluate_result(y_test, v_clf_y_test_pred, 'Ensemble Classifier')"
   ]
  },
  {
   "cell_type": "code",
   "execution_count": null,
   "id": "79432ec3-493f-4dd4-a60a-63ff3fa465d1",
   "metadata": {},
   "outputs": [],
   "source": [
    "with open(model_path+'my_ensemble_clf.pkl', 'wb') as f:\n",
    "    pickle.dump(v_clf, f)"
   ]
  },
  {
   "cell_type": "code",
   "execution_count": null,
   "id": "94377125-23c7-4919-8b25-8d574845d8aa",
   "metadata": {},
   "outputs": [],
   "source": []
  }
 ],
 "metadata": {
  "colab": {
   "provenance": []
  },
  "kernelspec": {
   "display_name": "Python 3 (ipykernel)",
   "language": "python",
   "name": "python3"
  },
  "language_info": {
   "codemirror_mode": {
    "name": "ipython",
    "version": 3
   },
   "file_extension": ".py",
   "mimetype": "text/x-python",
   "name": "python",
   "nbconvert_exporter": "python",
   "pygments_lexer": "ipython3",
   "version": "3.12.3"
  }
 },
 "nbformat": 4,
 "nbformat_minor": 5
}
