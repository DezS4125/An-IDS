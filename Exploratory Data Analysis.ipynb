{
 "cells": [
  {
   "cell_type": "markdown",
   "metadata": {
    "colab_type": "text",
    "id": "gPaIPu6aXIhr"
   },
   "source": [
    "# UNSW-NB15: Exploratory Data Analysis"
   ]
  },
  {
   "cell_type": "markdown",
   "metadata": {
    "colab_type": "text",
    "id": "jVAjGsN8XvV8"
   },
   "source": [
    "Performing EDA on the dataset in this notebook.\n",
    "\n",
    "Below is my plan:\n",
    "1. Correlation of the features and its heatmap\n",
    "2. Pairplot between highly correlated features.\n",
    "3. For all the categorial or columns with small number of unique values, countplot or barplot of those features.\n",
    "4. For any numerical features, plot pdf"
   ]
  },
  {
   "cell_type": "markdown",
   "metadata": {
    "colab_type": "text",
    "id": "rylLMc_sXn2T"
   },
   "source": [
    "## Loading data from disk"
   ]
  },
  {
   "cell_type": "code",
   "execution_count": 1,
   "metadata": {},
   "outputs": [],
   "source": [
    "import numpy as np  # for array\n",
    "import pandas as pd  # for csv files and dataframe\n",
    "import matplotlib.pyplot as plt  # for plotting\n",
    "import seaborn as sns  # plotting\n",
    "from scipy import stats\n",
    "\n",
    "import pickle  # To load data int disk\n",
    "from prettytable import PrettyTable  # To print in tabular format\n",
    "\n",
    "import warnings\n",
    "warnings.filterwarnings(\"ignore\")\n",
    "\n",
    "from sklearn.preprocessing import StandardScaler\n",
    "from sklearn.preprocessing import LabelEncoder, OneHotEncoder\n",
    "\n",
    "from sklearn.model_selection import train_test_split\n",
    "from sklearn.linear_model import LogisticRegression, SGDClassifier\n",
    "from sklearn.svm import LinearSVC\n",
    "from sklearn.naive_bayes import MultinomialNB\n",
    "from sklearn.tree import DecisionTreeClassifier\n",
    "from sklearn.ensemble import RandomForestClassifier\n",
    "import xgboost as xgb\n",
    "\n",
    "from sklearn.metrics import accuracy_score, confusion_matrix, make_scorer\n",
    "from sklearn.metrics import auc, f1_score, roc_curve\n",
    "from sklearn.model_selection import GridSearchCV, RandomizedSearchCV\n",
    "from sklearn.model_selection import cross_validate, cross_val_predict\n",
    "\n",
    "%matplotlib inline"
   ]
  },
  {
   "cell_type": "code",
   "execution_count": 2,
   "metadata": {
    "colab": {},
    "colab_type": "code",
    "id": "GU-IL9W34dvE"
   },
   "outputs": [],
   "source": [
    "train = pd.read_csv('./train_alldata_EDA.csv')\n",
    "test = pd.read_csv('./test_alldata_EDA.csv')"
   ]
  },
  {
   "cell_type": "code",
   "execution_count": 3,
   "metadata": {
    "colab": {
     "base_uri": "https://localhost:8080/",
     "height": 34
    },
    "colab_type": "code",
    "executionInfo": {
     "elapsed": 942,
     "status": "ok",
     "timestamp": 1598251511180,
     "user": {
      "displayName": "Subrata Maji",
      "photoUrl": "https://lh3.googleusercontent.com/a-/AOh14Ghxu8VIGqB6XL51-t5wM_f1R1LdmEePYHIwb9b-=s64",
      "userId": "03124174213573157612"
     },
     "user_tz": -330
    },
    "id": "YUxQIJVv4yS7",
    "outputId": "8aec4fa5-cef1-428f-bcba-d20ba2da5c7f"
   },
   "outputs": [
    {
     "data": {
      "text/plain": [
       "((1778032, 49), (762015, 49))"
      ]
     },
     "execution_count": 3,
     "metadata": {},
     "output_type": "execute_result"
    }
   ],
   "source": [
    "train.shape, test.shape"
   ]
  },
  {
   "cell_type": "code",
   "execution_count": 4,
   "metadata": {
    "colab": {},
    "colab_type": "code",
    "id": "9fhkiLsVo08Y"
   },
   "outputs": [],
   "source": [
    "# Dividing the train data into attack and non-attack category\n",
    "normal = train[train['label']==0]\n",
    "anomaly = train[train['label']==1]"
   ]
  },
  {
   "cell_type": "markdown",
   "metadata": {
    "colab_type": "text",
    "id": "0jQ5H8uQsJsU"
   },
   "source": [
    "## Correlation\n",
    "Getting correlation values for all the features.\n",
    "\n",
    "Plot heatmap of correaltion for better visualization"
   ]
  },
  {
   "cell_type": "markdown",
   "metadata": {
    "colab_type": "text",
    "id": "-EBLCeb_VgA8"
   },
   "source": [
    "### Utility functions"
   ]
  },
  {
   "cell_type": "code",
   "execution_count": 5,
   "metadata": {
    "colab": {},
    "colab_type": "code",
    "id": "KvqfsM-KSa-g"
   },
   "outputs": [],
   "source": [
    "def multi_corr(col1, col2=\"label\", df=train):\n",
    "    '''\n",
    "    This function returns correlation between 2 given features.\n",
    "    Also gives corr of the given features with \"label\" afetr applying log1p to it.\n",
    "    '''\n",
    "    corr = df[[col1, col2]].corr().iloc[0,1]\n",
    "    log_corr = df[col1].apply(np.log1p).corr(df[col2])\n",
    "\n",
    "    print(\"Correlation : {}\\nlog_Correlation: {}\".format(corr, log_corr))"
   ]
  },
  {
   "cell_type": "code",
   "execution_count": 6,
   "metadata": {
    "colab": {},
    "colab_type": "code",
    "id": "xV4ciADWnzQW"
   },
   "outputs": [],
   "source": [
    "def corr(col1, col2=\"label\", df=train):\n",
    "    \"\"\"\n",
    "    This function returns correlation between 2 given features\n",
    "    \"\"\"\n",
    "    return df[[col1, col2]].corr().iloc[0,1]"
   ]
  },
  {
   "cell_type": "code",
   "execution_count": 7,
   "metadata": {},
   "outputs": [
    {
     "data": {
      "text/plain": [
       "srcip                object\n",
       "sport                object\n",
       "dstip                object\n",
       "dsport               object\n",
       "proto                object\n",
       "state                object\n",
       "dur                 float64\n",
       "sbytes                int64\n",
       "dbytes                int64\n",
       "sttl                  int64\n",
       "dttl                  int64\n",
       "sloss                 int64\n",
       "dloss                 int64\n",
       "service              object\n",
       "sload               float64\n",
       "dload               float64\n",
       "spkts                 int64\n",
       "dpkts                 int64\n",
       "swin                  int64\n",
       "dwin                  int64\n",
       "stcpb                 int64\n",
       "dtcpb                 int64\n",
       "smeansz               int64\n",
       "dmeansz               int64\n",
       "trans_depth           int64\n",
       "res_bdy_len           int64\n",
       "sjit                float64\n",
       "djit                float64\n",
       "stime                 int64\n",
       "ltime                 int64\n",
       "sintpkt             float64\n",
       "dintpkt             float64\n",
       "tcprtt              float64\n",
       "synack              float64\n",
       "ackdat              float64\n",
       "is_sm_ips_ports       int64\n",
       "ct_state_ttl          int64\n",
       "ct_flw_http_mthd    float64\n",
       "is_ftp_login          int64\n",
       "ct_ftp_cmd            int64\n",
       "ct_srv_src            int64\n",
       "ct_srv_dst            int64\n",
       "ct_dst_ltm            int64\n",
       "ct_src_ltm            int64\n",
       "ct_src_dport_ltm      int64\n",
       "ct_dst_sport_ltm      int64\n",
       "ct_dst_src_ltm        int64\n",
       "attack_cat           object\n",
       "label                 int64\n",
       "dtype: object"
      ]
     },
     "execution_count": 7,
     "metadata": {},
     "output_type": "execute_result"
    }
   ],
   "source": [
    "train.dtypes"
   ]
  },
  {
   "cell_type": "code",
   "execution_count": 8,
   "metadata": {},
   "outputs": [
    {
     "name": "stdout",
     "output_type": "stream",
     "text": [
      "{'columns': ['srcip', 'sport', 'dstip', 'dsport', 'proto', 'state', 'dur', 'sbytes', 'dbytes', 'sttl', 'dttl', 'sloss', 'dloss', 'service', 'sload', 'dload', 'spkts', 'dpkts', 'swin', 'dwin', 'stcpb', 'dtcpb', 'smeansz', 'dmeansz', 'trans_depth', 'res_bdy_len', 'sjit', 'djit', 'stime', 'ltime', 'sintpkt', 'dintpkt', 'tcprtt', 'synack', 'ackdat', 'is_sm_ips_ports', 'ct_state_ttl', 'ct_flw_http_mthd', 'is_ftp_login', 'ct_ftp_cmd', 'ct_srv_src', 'ct_srv_dst', 'ct_dst_ltm', 'ct_src_ltm', 'ct_src_dport_ltm', 'ct_dst_sport_ltm', 'ct_dst_src_ltm', 'label'], 'binary_col': ['is_sm_ips_ports', 'is_ftp_login']}\n"
     ]
    }
   ],
   "source": [
    "import pickle\n",
    "\n",
    "# Load the saved object\n",
    "with open('./final_ipynb', 'rb') as f:\n",
    "    loaded_dict = pickle.load(f)\n",
    "\n",
    "# Now you can use the loaded_dict\n",
    "print(loaded_dict)"
   ]
  },
  {
   "cell_type": "code",
   "execution_count": 9,
   "metadata": {},
   "outputs": [
    {
     "data": {
      "text/plain": [
       "Index(['srcip', 'sport', 'dstip', 'dsport', 'proto', 'state', 'dur', 'sbytes',\n",
       "       'dbytes', 'sttl', 'dttl', 'sloss', 'dloss', 'service', 'sload', 'dload',\n",
       "       'spkts', 'dpkts', 'swin', 'dwin', 'stcpb', 'dtcpb', 'smeansz',\n",
       "       'dmeansz', 'trans_depth', 'res_bdy_len', 'sjit', 'djit', 'stime',\n",
       "       'ltime', 'sintpkt', 'dintpkt', 'tcprtt', 'synack', 'ackdat',\n",
       "       'is_sm_ips_ports', 'ct_state_ttl', 'ct_flw_http_mthd', 'is_ftp_login',\n",
       "       'ct_ftp_cmd', 'ct_srv_src', 'ct_srv_dst', 'ct_dst_ltm', 'ct_src_ltm',\n",
       "       'ct_src_dport_ltm', 'ct_dst_sport_ltm', 'ct_dst_src_ltm', 'attack_cat',\n",
       "       'label'],\n",
       "      dtype='object')"
      ]
     },
     "execution_count": 9,
     "metadata": {},
     "output_type": "execute_result"
    }
   ],
   "source": [
    "train.columns"
   ]
  },
  {
   "cell_type": "code",
   "execution_count": 10,
   "metadata": {
    "colab": {
     "base_uri": "https://localhost:8080/",
     "height": 736
    },
    "colab_type": "code",
    "executionInfo": {
     "elapsed": 10550,
     "status": "ok",
     "timestamp": 1598245431850,
     "user": {
      "displayName": "Subrata Maji",
      "photoUrl": "https://lh3.googleusercontent.com/a-/AOh14Ghxu8VIGqB6XL51-t5wM_f1R1LdmEePYHIwb9b-=s64",
      "userId": "03124174213573157612"
     },
     "user_tz": -330
    },
    "id": "wAMp7tqvUtmJ",
    "outputId": "0d637ad9-3d08-414f-978f-014f91def310"
   },
   "outputs": [
    {
     "data": {
      "image/png": "[encoded data removed]",
      "text/plain": [
       "<Figure size 1200x1200 with 2 Axes>"
      ]
     },
     "metadata": {},
     "output_type": "display_data"
    }
   ],
   "source": [
    "# Plotting the correlation matrix of the dataset\n",
    "# Refer: https://towardsdatascience.com/feature-selection-correlation-and-p-value-da8921bfb3cf\n",
    "\n",
    "method = \"pearson\"\n",
    "# correlation matrix\n",
    "train_prep = train.select_dtypes(exclude=['object'])\n",
    "\n",
    "corr_mat = train_prep.corr(method=method)\n",
    "\n",
    "plt.figure(figsize=(12,12)) \n",
    "sns.heatmap(corr_mat, square=True)\n",
    "plt.show()"
   ]
  },
  {
   "cell_type": "code",
   "execution_count": 11,
   "metadata": {
    "colab": {
     "base_uri": "https://localhost:8080/",
     "height": 323
    },
    "colab_type": "code",
    "executionInfo": {
     "elapsed": 985,
     "status": "ok",
     "timestamp": 1598245452595,
     "user": {
      "displayName": "Subrata Maji",
      "photoUrl": "https://lh3.googleusercontent.com/a-/AOh14Ghxu8VIGqB6XL51-t5wM_f1R1LdmEePYHIwb9b-=s64",
      "userId": "03124174213573157612"
     },
     "user_tz": -330
    },
    "id": "0KMHTLpKu437",
    "outputId": "2057276c-623a-4473-f1df-36f23c7967fe"
   },
   "outputs": [
    {
     "name": "stdout",
     "output_type": "stream",
     "text": [
      "sbytes               sloss                0.9515464133660682\n",
      "dbytes               dloss                0.9912941785427634\n",
      "dbytes               dpkts                0.9705744719061106\n",
      "sttl                 ct_state_ttl         0.9058027624589845\n",
      "sttl                 label                0.9043459910087561\n",
      "dloss                dpkts                0.9921743916746946\n",
      "swin                 dwin                 0.9971933359586712\n",
      "stime                ltime                0.9999999998073185\n",
      "tcprtt               synack               0.9332414134584021\n",
      "tcprtt               ackdat               0.9202047490089745\n",
      "ct_srv_src           ct_srv_dst           0.956721026945663\n",
      "ct_srv_src           ct_dst_src_ltm       0.942148711061324\n",
      "ct_srv_dst           ct_dst_src_ltm       0.9510250540010916\n",
      "ct_dst_ltm           ct_src_ltm           0.9384612565049639\n",
      "ct_dst_ltm           ct_src_dport_ltm     0.9601144948755526\n",
      "ct_src_ltm           ct_src_dport_ltm     0.9453045008443021\n",
      "ct_src_dport_ltm     ct_dst_sport_ltm     0.9214458874161181\n",
      "ct_src_dport_ltm     ct_dst_src_ltm       0.9109191341192471\n"
     ]
    }
   ],
   "source": [
    "# Getting and printing high correlated features\n",
    "limit = 0.9\n",
    "\n",
    "columns = corr_mat.columns\n",
    "for i in range(corr_mat.shape[0]):\n",
    "    for j in range(i+1, corr_mat.shape[0]):\n",
    "        if corr_mat.iloc[i, j] >= 0.9:\n",
    "            print(f\"{columns[i]:20s} {columns[j]:20s} {corr_mat.iloc[i, j]}\")\n"
   ]
  },
  {
   "cell_type": "markdown",
   "metadata": {
    "colab_type": "text",
    "id": "ku8itWfCyfdv"
   },
   "source": [
    "Most correlated features are:\n",
    "* sbytes, sloss\n",
    "* dpkts, dbytes, dloss\n",
    "* sttl, ct_state_ttl, label\n",
    "* swin, dwin\n",
    "* stime, dtime\n",
    "* tcprtt, synack, ackdat\n",
    "* ct_srv_src, ct_dst_src_ltm, ct_srv_dst\n",
    "* ct_dst_ltm, ct_src_ltm, ct_src_dport_ltm, ct_dst_sport_ltm\n",
    "\n"
   ]
  },
  {
   "cell_type": "markdown",
   "metadata": {
    "colab_type": "text",
    "id": "rJeXiKl6QiaE"
   },
   "source": [
    "## Pairplots of highly correlated features"
   ]
  },
  {
   "cell_type": "markdown",
   "metadata": {
    "colab_type": "text",
    "id": "NGSGf2FOZaF6"
   },
   "source": [
    "### sbytes and sloss\n",
    "1. These features are having very high corr between them more 95%\n",
    "2. All the features are following a straight line except for the starting points that means they are having incresing relation with each other."
   ]
  },
  {
   "cell_type": "code",
   "execution_count": 12,
   "metadata": {
    "colab": {
     "base_uri": "https://localhost:8080/",
     "height": 398
    },
    "colab_type": "code",
    "executionInfo": {
     "elapsed": 11809,
     "status": "ok",
     "timestamp": 1598247462385,
     "user": {
      "displayName": "Subrata Maji",
      "photoUrl": "https://lh3.googleusercontent.com/a-/AOh14Ghxu8VIGqB6XL51-t5wM_f1R1LdmEePYHIwb9b-=s64",
      "userId": "03124174213573157612"
     },
     "user_tz": -330
    },
    "id": "HHSvsJHrxWiN",
    "outputId": "ecdd396e-d661-414d-eb3c-65729842770b"
   },
   "outputs": [
    {
     "data": {
      "image/png": "[encoded data removed]",
      "text/plain": [
       "<Figure size 500x500 with 6 Axes>"
      ]
     },
     "metadata": {},
     "output_type": "display_data"
    }
   ],
   "source": [
    "sns.set_style(\"whitegrid\")\n",
    "sns.pairplot(data=train, vars=['sbytes', 'sloss'])\n",
    "plt.show()"
   ]
  },
  {
   "cell_type": "markdown",
   "metadata": {
    "colab_type": "text",
    "id": "tMMfip9MZdWm"
   },
   "source": [
    "### dpkts, dbytes and dloss\n",
    "1. These features are also showing same charecteristics as above.\n",
    "2. \"dpkts\" and \"dbytes\" are following a strainght line except for first few point and have 97% corr.\n",
    "3. \"dloss\" and \"dbytes\" are completely following straight line with more than 99% corr."
   ]
  },
  {
   "cell_type": "code",
   "execution_count": 13,
   "metadata": {
    "colab": {
     "base_uri": "https://localhost:8080/",
     "height": 567
    },
    "colab_type": "code",
    "executionInfo": {
     "elapsed": 31300,
     "status": "ok",
     "timestamp": 1598247137770,
     "user": {
      "displayName": "Subrata Maji",
      "photoUrl": "https://lh3.googleusercontent.com/a-/AOh14Ghxu8VIGqB6XL51-t5wM_f1R1LdmEePYHIwb9b-=s64",
      "userId": "03124174213573157612"
     },
     "user_tz": -330
    },
    "id": "FUNGV_Mx0a_X",
    "outputId": "f2ffbc1d-22a7-49c4-8006-116ae8e30f66",
    "scrolled": true
   },
   "outputs": [
    {
     "data": {
      "image/png": "[encoded data removed]",
      "text/plain": [
       "<Figure size 750x750 with 12 Axes>"
      ]
     },
     "metadata": {},
     "output_type": "display_data"
    }
   ],
   "source": [
    "sns.set_style('whitegrid')\n",
    "sns.pairplot(train, vars=['dpkts', 'dbytes', 'dloss'])\n",
    "plt.show()"
   ]
  },
  {
   "cell_type": "markdown",
   "metadata": {
    "colab_type": "text",
    "id": "zaoGZwssZrjj"
   },
   "source": [
    "### sttl, ct_state_ttl, label\n",
    "1. sttl and ct_state_ttl are having 90% correlation between them.\n",
    "\n",
    "But one important thing to notice that these 2 features are also highly correlated with target features i.e, label.\n",
    "\n",
    "Going to drop 1 feature, and the remaining feature could play a vital role for the classification task."
   ]
  },
  {
   "cell_type": "code",
   "execution_count": 14,
   "metadata": {
    "colab": {
     "base_uri": "https://localhost:8080/",
     "height": 567
    },
    "colab_type": "code",
    "executionInfo": {
     "elapsed": 32639,
     "status": "ok",
     "timestamp": 1598247391816,
     "user": {
      "displayName": "Subrata Maji",
      "photoUrl": "https://lh3.googleusercontent.com/a-/AOh14Ghxu8VIGqB6XL51-t5wM_f1R1LdmEePYHIwb9b-=s64",
      "userId": "03124174213573157612"
     },
     "user_tz": -330
    },
    "id": "dzTmFZA63t_4",
    "outputId": "5ab864e7-9827-4152-8a49-d24c29b52ce8"
   },
   "outputs": [
    {
     "data": {
      "image/png": "[encoded data removed]",
      "text/plain": [
       "<Figure size 750x750 with 12 Axes>"
      ]
     },
     "metadata": {},
     "output_type": "display_data"
    }
   ],
   "source": [
    "sns.set_style('whitegrid')\n",
    "sns.pairplot(train, vars=['sttl', 'ct_state_ttl', 'label'])\n",
    "plt.show()"
   ]
  },
  {
   "cell_type": "markdown",
   "metadata": {
    "colab_type": "text",
    "id": "8aKAYQtFadPr"
   },
   "source": [
    "### swin, dwin\n",
    "swin: Source TCP window advertisement, dwin: Destination TCP window advertisement\n",
    "\n",
    "Correlation values is 99% between them. Even though these 2 columns are numerical but most of their values are only 0 and 255."
   ]
  },
  {
   "cell_type": "code",
   "execution_count": 15,
   "metadata": {
    "colab": {
     "base_uri": "https://localhost:8080/",
     "height": 387
    },
    "colab_type": "code",
    "executionInfo": {
     "elapsed": 14857,
     "status": "ok",
     "timestamp": 1600197688946,
     "user": {
      "displayName": "Subrata Maji",
      "photoUrl": "https://lh3.googleusercontent.com/a-/AOh14Ghxu8VIGqB6XL51-t5wM_f1R1LdmEePYHIwb9b-=s64",
      "userId": "03124174213573157612"
     },
     "user_tz": -330
    },
    "id": "3OVMZVYBN2Bh",
    "outputId": "fc19f004-196e-41d9-a5a9-b2add52a2902"
   },
   "outputs": [
    {
     "data": {
      "image/png": "[encoded data removed]",
      "text/plain": [
       "<Figure size 500x500 with 6 Axes>"
      ]
     },
     "metadata": {},
     "output_type": "display_data"
    }
   ],
   "source": [
    "sns.set_style('whitegrid')\n",
    "sns.pairplot(train, vars=['swin', 'dwin'])\n",
    "plt.show()"
   ]
  },
  {
   "cell_type": "markdown",
   "metadata": {
    "colab_type": "text",
    "id": "fY0eu-cqa_tR"
   },
   "source": [
    "### tcprtt, synack and ackdat\n",
    "synack: The time between the SYN and the SYN_ACK packets of the TCP.\n",
    "<br>\n",
    "ackdat: The time between the SYN_ACK and the ACK ackets of the TCP.\n",
    "<br>\n",
    "tcprtt: sum of above 2 columns.\n",
    "\n",
    "1. There are some similarity between \"tcprtt\" and \"synack\" and \"tcsprtt\" and \"actdat\" as value of x increases value of y also increases.\n",
    "2. But for \"synack\" and \"ackdat\" values are scattered all over. And its corr value also not over 90%"
   ]
  },
  {
   "cell_type": "code",
   "execution_count": null,
   "metadata": {
    "colab": {
     "base_uri": "https://localhost:8080/",
     "height": 567
    },
    "colab_type": "code",
    "executionInfo": {
     "elapsed": 31339,
     "status": "ok",
     "timestamp": 1598247589015,
     "user": {
      "displayName": "Subrata Maji",
      "photoUrl": "https://lh3.googleusercontent.com/a-/AOh14Ghxu8VIGqB6XL51-t5wM_f1R1LdmEePYHIwb9b-=s64",
      "userId": "03124174213573157612"
     },
     "user_tz": -330
    },
    "id": "QdnWPgQt04m1",
    "outputId": "a53cc579-8294-400b-a367-ba186577753e"
   },
   "outputs": [],
   "source": [
    "sns.set_style('whitegrid')\n",
    "sns.pairplot(train, vars=['tcprtt', 'synack', 'ackdat'])\n",
    "plt.show()"
   ]
  },
  {
   "cell_type": "markdown",
   "metadata": {
    "colab_type": "text",
    "id": "g2KaEJaccpqa"
   },
   "source": [
    "### ct_srv_src, ct_srv_dst and ct_dst_src_ltm\n",
    "1. Range of all the features are between 0 to 60.\n",
    "2. Most of the values are close to 0 and less than 10.\n",
    "3. Values are well scattered but there are clear line that means have some linear relationship."
   ]
  },
  {
   "cell_type": "code",
   "execution_count": null,
   "metadata": {
    "colab": {
     "base_uri": "https://localhost:8080/",
     "height": 570
    },
    "colab_type": "code",
    "executionInfo": {
     "elapsed": 32255,
     "status": "ok",
     "timestamp": 1598247709639,
     "user": {
      "displayName": "Subrata Maji",
      "photoUrl": "https://lh3.googleusercontent.com/a-/AOh14Ghxu8VIGqB6XL51-t5wM_f1R1LdmEePYHIwb9b-=s64",
      "userId": "03124174213573157612"
     },
     "user_tz": -330
    },
    "id": "jXh9WdUm2KyV",
    "outputId": "1655df07-de36-4d8a-d096-48834b9c5a5f"
   },
   "outputs": [],
   "source": [
    "sns.pairplot(train, vars=['ct_srv_src', 'ct_srv_dst', 'ct_dst_src_ltm'])\n",
    "plt.show()"
   ]
  },
  {
   "cell_type": "markdown",
   "metadata": {
    "colab_type": "text",
    "id": "wF6cHfDFcxg2"
   },
   "source": [
    "### ct_dst_ltm, ct_src_ltm, ct_src_dport_ltm and ct_dst_sport_ltm\n",
    "1. values range from 0 to 60.\n",
    "2. Most of the values are close to 0 and lesser than 20.\n",
    "3. ct_dst_ltm highly corr with ct_dst_sport_ltm\n",
    "4. ct_src_ltm corr with ct_src_dport_ltm\n",
    "5. ct_src_dport_ltm corr with ct_dst_sport_ltm"
   ]
  },
  {
   "cell_type": "code",
   "execution_count": null,
   "metadata": {
    "colab": {
     "base_uri": "https://localhost:8080/",
     "height": 750
    },
    "colab_type": "code",
    "executionInfo": {
     "elapsed": 61943,
     "status": "ok",
     "timestamp": 1598247815604,
     "user": {
      "displayName": "Subrata Maji",
      "photoUrl": "https://lh3.googleusercontent.com/a-/AOh14Ghxu8VIGqB6XL51-t5wM_f1R1LdmEePYHIwb9b-=s64",
      "userId": "03124174213573157612"
     },
     "user_tz": -330
    },
    "id": "93HKbPTt2lsy",
    "outputId": "2ff5b938-1f05-440b-ff3e-0ea8405f10cf"
   },
   "outputs": [],
   "source": [
    "sns.pairplot(train, vars=['ct_dst_ltm', 'ct_src_ltm', 'ct_src_dport_ltm', 'ct_dst_sport_ltm'])\n",
    "plt.show()"
   ]
  },
  {
   "cell_type": "markdown",
   "metadata": {
    "colab_type": "text",
    "id": "ns1ej_PCQzJO"
   },
   "source": [
    "### Countplots and pdf of features"
   ]
  },
  {
   "cell_type": "markdown",
   "metadata": {
    "colab_type": "text",
    "id": "p-fJkA63OzTX"
   },
   "source": [
    "Utility functions"
   ]
  },
  {
   "cell_type": "code",
   "execution_count": null,
   "metadata": {
    "colab": {},
    "colab_type": "code",
    "id": "1UFShc2KdC8A"
   },
   "outputs": [],
   "source": [
    "def col_countplot(col, train_data=train):\n",
    "    \"\"\"\n",
    "    This function plots countplot of a given feature for train dataset\n",
    "    \"\"\"\n",
    "    fig, ax = plt.subplots(figsize=(8,4))\n",
    "    sns.set_style('whitegrid')\n",
    "    # countplot of the given column\n",
    "    ax = sns.countplot(x=col, hue='label', data=train_data)\n",
    "    ax.legend(loc=\"upper right\", labels=('normal', 'attack'))\n",
    "    ax.set_title(\"train data\")\n",
    "    plt.xticks(rotation=45)\n",
    "    plt.show()"
   ]
  },
  {
   "cell_type": "code",
   "execution_count": null,
   "metadata": {
    "colab": {},
    "colab_type": "code",
    "id": "aCNi1h_tQ0bX"
   },
   "outputs": [],
   "source": [
    "# Plotting pdf of numerical columns\n",
    "# Refer: https://www.kaggle.com/khairulislam/unsw-nb15-eda\n",
    "\n",
    "def dual_plot(col, data1=normal, data2=anomaly, label1='normal', label2='anomaly', method=None):\n",
    "    \"\"\"\n",
    "    This function plots pdf of the given feature on attack and non-attck data\n",
    "    \"\"\"\n",
    "    if method != None:\n",
    "        sns.set_style('whitegrid')\n",
    "        sns.distplot(data1[col].apply(method), label=label1, hist=False, rug=True)\n",
    "        sns.distplot(data2[col].apply(method), label=label2, hist=False, rug=True)\n",
    "    else:\n",
    "        sns.set_style('whitegrid')\n",
    "        sns.distplot(data1[col], label=label1, hist=False, rug=True)\n",
    "        sns.distplot(data2[col], label=label2, hist=False, rug=True)\n",
    "    plt.legend()"
   ]
  },
  {
   "cell_type": "code",
   "execution_count": null,
   "metadata": {
    "colab": {},
    "colab_type": "code",
    "id": "GG-g7cEvF-Xw"
   },
   "outputs": [],
   "source": [
    "def reduce_column(s, to_keep):\n",
    "    \"\"\"\n",
    "    This function reduce categorical values of a given feature to values provided in to_keep list\n",
    "    and make every other value \"others\"\n",
    "    \"\"\"\n",
    "    s = s.lower().strip()\n",
    "    if s not in to_keep:\n",
    "        return \"others\"\n",
    "    else:\n",
    "        return s"
   ]
  },
  {
   "cell_type": "markdown",
   "metadata": {
    "colab_type": "text",
    "id": "uVEwL-VERD5u"
   },
   "source": [
    "#### Attack Category\n",
    "The name of each attack category. In this\n",
    "data set, there are total nine categories of attack and normal is non-attack.\n",
    "\n",
    "The data is highly imbalanced and have lots of non-attack than attacks.\n",
    "\n",
    "\n",
    "In train data most occured attack data categories are \"Generic\", \"Exploits\", Fuzzers\", \"DoS\" and \"Reconnaissance\""
   ]
  },
  {
   "cell_type": "code",
   "execution_count": null,
   "metadata": {
    "colab": {
     "base_uri": "https://localhost:8080/",
     "height": 348
    },
    "colab_type": "code",
    "executionInfo": {
     "elapsed": 2603,
     "status": "ok",
     "timestamp": 1598251672845,
     "user": {
      "displayName": "Subrata Maji",
      "photoUrl": "https://lh3.googleusercontent.com/a-/AOh14Ghxu8VIGqB6XL51-t5wM_f1R1LdmEePYHIwb9b-=s64",
      "userId": "03124174213573157612"
     },
     "user_tz": -330
    },
    "id": "g-KNgBPGFCDN",
    "outputId": "934b75a5-c5ac-4afd-e7f6-f8319b5ed196"
   },
   "outputs": [],
   "source": [
    "col_countplot('attack_cat')"
   ]
  },
  {
   "cell_type": "markdown",
   "metadata": {
    "colab_type": "text",
    "id": "I-sx2PU1RKBf"
   },
   "source": [
    "#### Proto\n",
    "Categorical feature. Transaction protocol\n",
    "\n",
    "\n",
    "1. The no of unique values of 'proto' in dataset where attack is normal is 7 but in anamoly category its 129. So to plot it we are reducing the no of values.\n",
    "2. Most of the values are consists of udp and tcp\n",
    "3. For non-attacks count of tcp is lot higher\n",
    "4. Considering the imbalce there are lots of udp cat for attacks"
   ]
  },
  {
   "cell_type": "code",
   "execution_count": null,
   "metadata": {
    "colab": {
     "base_uri": "https://localhost:8080/",
     "height": 34
    },
    "colab_type": "code",
    "executionInfo": {
     "elapsed": 1380,
     "status": "ok",
     "timestamp": 1597085824834,
     "user": {
      "displayName": "Subrata Maji",
      "photoUrl": "https://lh3.googleusercontent.com/a-/AOh14Ghxu8VIGqB6XL51-t5wM_f1R1LdmEePYHIwb9b-=s64",
      "userId": "03124174213573157612"
     },
     "user_tz": -330
    },
    "id": "c5ymhCH_FE7y",
    "outputId": "b0260bed-91f6-4c69-8f08-29eab11ffabd"
   },
   "outputs": [],
   "source": [
    "train['proto'].nunique()"
   ]
  },
  {
   "cell_type": "code",
   "execution_count": null,
   "metadata": {
    "colab": {
     "base_uri": "https://localhost:8080/",
     "height": 34
    },
    "colab_type": "code",
    "executionInfo": {
     "elapsed": 1719,
     "status": "ok",
     "timestamp": 1597085827871,
     "user": {
      "displayName": "Subrata Maji",
      "photoUrl": "https://lh3.googleusercontent.com/a-/AOh14Ghxu8VIGqB6XL51-t5wM_f1R1LdmEePYHIwb9b-=s64",
      "userId": "03124174213573157612"
     },
     "user_tz": -330
    },
    "id": "6vd6fjEUfZps",
    "outputId": "d251801c-3970-426c-acb5-05d10fab3857"
   },
   "outputs": [],
   "source": [
    "normal['proto'].nunique(), anomaly['proto'].nunique()"
   ]
  },
  {
   "cell_type": "code",
   "execution_count": null,
   "metadata": {
    "colab": {
     "base_uri": "https://localhost:8080/",
     "height": 204
    },
    "colab_type": "code",
    "executionInfo": {
     "elapsed": 1295,
     "status": "ok",
     "timestamp": 1597085830664,
     "user": {
      "displayName": "Subrata Maji",
      "photoUrl": "https://lh3.googleusercontent.com/a-/AOh14Ghxu8VIGqB6XL51-t5wM_f1R1LdmEePYHIwb9b-=s64",
      "userId": "03124174213573157612"
     },
     "user_tz": -330
    },
    "id": "QMz-UexhFkB2",
    "outputId": "434d5e0c-f8d8-4901-816d-449f97bbb4c6"
   },
   "outputs": [],
   "source": [
    "train['proto'].value_counts().head(10)*100/train.shape[0]"
   ]
  },
  {
   "cell_type": "code",
   "execution_count": null,
   "metadata": {
    "colab": {},
    "colab_type": "code",
    "id": "OkWSnk9jFn0j"
   },
   "outputs": [],
   "source": [
    "to_keep = ['tcp', 'udp', 'unas', 'arp', 'ospf']\n",
    "train['proto_reduced'] = train['proto'].apply(reduce_column, args=(to_keep,))"
   ]
  },
  {
   "cell_type": "code",
   "execution_count": null,
   "metadata": {
    "colab": {
     "base_uri": "https://localhost:8080/",
     "height": 316
    },
    "colab_type": "code",
    "executionInfo": {
     "elapsed": 1976,
     "status": "ok",
     "timestamp": 1598249025573,
     "user": {
      "displayName": "Subrata Maji",
      "photoUrl": "https://lh3.googleusercontent.com/a-/AOh14Ghxu8VIGqB6XL51-t5wM_f1R1LdmEePYHIwb9b-=s64",
      "userId": "03124174213573157612"
     },
     "user_tz": -330
    },
    "id": "ST5g_gi4HaQr",
    "outputId": "7a2d3a94-e16b-40cf-a70f-441de6d91160"
   },
   "outputs": [],
   "source": [
    "col_countplot('proto_reduced')"
   ]
  },
  {
   "cell_type": "markdown",
   "metadata": {
    "colab_type": "text",
    "id": "dHapbShDRPx4"
   },
   "source": [
    "#### Service\n",
    "Categorical Features\n",
    "\n",
    "\n",
    "1. In our dataset we can value \"-\" that is null, we need to remove that and replace it.\n",
    "2. For normal there are lots of others that means most of \"-\" and few rare values.\n",
    "3. In attack data \"dns\" is present higher than any other values. There are few no of others and http also."
   ]
  },
  {
   "cell_type": "code",
   "execution_count": null,
   "metadata": {
    "colab": {
     "base_uri": "https://localhost:8080/",
     "height": 34
    },
    "colab_type": "code",
    "executionInfo": {
     "elapsed": 918,
     "status": "ok",
     "timestamp": 1596826069850,
     "user": {
      "displayName": "Subrata Maji",
      "photoUrl": "https://lh3.googleusercontent.com/a-/AOh14Ghxu8VIGqB6XL51-t5wM_f1R1LdmEePYHIwb9b-=s64",
      "userId": "03124174213573157612"
     },
     "user_tz": -330
    },
    "id": "iDfX7mSeJllu",
    "outputId": "20a4841a-f24f-421c-d9ed-322872ecbc75"
   },
   "outputs": [],
   "source": [
    "train['service'].nunique()"
   ]
  },
  {
   "cell_type": "code",
   "execution_count": null,
   "metadata": {
    "colab": {
     "base_uri": "https://localhost:8080/",
     "height": 255
    },
    "colab_type": "code",
    "executionInfo": {
     "elapsed": 788,
     "status": "ok",
     "timestamp": 1596826071818,
     "user": {
      "displayName": "Subrata Maji",
      "photoUrl": "https://lh3.googleusercontent.com/a-/AOh14Ghxu8VIGqB6XL51-t5wM_f1R1LdmEePYHIwb9b-=s64",
      "userId": "03124174213573157612"
     },
     "user_tz": -330
    },
    "id": "N57_FRlnLCA5",
    "outputId": "07317acd-bce3-4842-ed89-26d218707333"
   },
   "outputs": [],
   "source": [
    "train['service'].value_counts()"
   ]
  },
  {
   "cell_type": "code",
   "execution_count": null,
   "metadata": {
    "colab": {},
    "colab_type": "code",
    "id": "4C0_tM5LLFEe"
   },
   "outputs": [],
   "source": [
    "to_keep = ['dns', 'http', 'smtp', 'ftp-data', 'ftp', 'ssh', 'pop3']\n",
    "train['service_reduced'] = train['service'].apply(reduce_column, args=(to_keep,))"
   ]
  },
  {
   "cell_type": "code",
   "execution_count": null,
   "metadata": {
    "colab": {
     "base_uri": "https://localhost:8080/",
     "height": 321
    },
    "colab_type": "code",
    "executionInfo": {
     "elapsed": 2433,
     "status": "ok",
     "timestamp": 1598249034917,
     "user": {
      "displayName": "Subrata Maji",
      "photoUrl": "https://lh3.googleusercontent.com/a-/AOh14Ghxu8VIGqB6XL51-t5wM_f1R1LdmEePYHIwb9b-=s64",
      "userId": "03124174213573157612"
     },
     "user_tz": -330
    },
    "id": "qRlMdvUSLuD5",
    "outputId": "3a44bca4-9042-44a1-d492-e9217aff5d0e"
   },
   "outputs": [],
   "source": [
    "col_countplot('service_reduced')"
   ]
  },
  {
   "cell_type": "markdown",
   "metadata": {
    "colab_type": "text",
    "id": "crrB6jyIRUJf"
   },
   "source": [
    "#### State\n",
    "Categorical feature. The state and its dependent protocol\n",
    "\n",
    "Reducing very rare values with \"others\" to plot and visualize better\n",
    "\n",
    "1. For non-attacks \"fin\" is very frequent then \"cons\" almost half of \"fin\" and few \"int\" also.\n",
    "2. In attack \"int\" is higher than normal cat values. That could be really important feature to detect. There are very few \"fin\""
   ]
  },
  {
   "cell_type": "code",
   "execution_count": null,
   "metadata": {
    "colab": {
     "base_uri": "https://localhost:8080/",
     "height": 34
    },
    "colab_type": "code",
    "executionInfo": {
     "elapsed": 901,
     "status": "ok",
     "timestamp": 1596826133051,
     "user": {
      "displayName": "Subrata Maji",
      "photoUrl": "https://lh3.googleusercontent.com/a-/AOh14Ghxu8VIGqB6XL51-t5wM_f1R1LdmEePYHIwb9b-=s64",
      "userId": "03124174213573157612"
     },
     "user_tz": -330
    },
    "id": "tR3rItyjLyKs",
    "outputId": "210e25a3-8f15-417c-c5db-b0f3cd2a462a"
   },
   "outputs": [],
   "source": [
    "train['state'].nunique()"
   ]
  },
  {
   "cell_type": "code",
   "execution_count": null,
   "metadata": {
    "colab": {
     "base_uri": "https://localhost:8080/",
     "height": 306
    },
    "colab_type": "code",
    "executionInfo": {
     "elapsed": 1022,
     "status": "ok",
     "timestamp": 1596826134802,
     "user": {
      "displayName": "Subrata Maji",
      "photoUrl": "https://lh3.googleusercontent.com/a-/AOh14Ghxu8VIGqB6XL51-t5wM_f1R1LdmEePYHIwb9b-=s64",
      "userId": "03124174213573157612"
     },
     "user_tz": -330
    },
    "id": "fYSfdohHNPhN",
    "outputId": "c6363b5e-64a2-4e72-cf8b-e6c38bda92a4"
   },
   "outputs": [],
   "source": [
    "train['state'].value_counts()"
   ]
  },
  {
   "cell_type": "code",
   "execution_count": null,
   "metadata": {
    "colab": {},
    "colab_type": "code",
    "id": "ExkEWf9SNTSx"
   },
   "outputs": [],
   "source": [
    "to_keep = ['int', 'fin', 'con', 'req']\n",
    "train['state_reduced'] = train['state'].apply(reduce_column, args=(to_keep,))"
   ]
  },
  {
   "cell_type": "code",
   "execution_count": null,
   "metadata": {
    "colab": {
     "base_uri": "https://localhost:8080/",
     "height": 316
    },
    "colab_type": "code",
    "executionInfo": {
     "elapsed": 3832,
     "status": "ok",
     "timestamp": 1598249044969,
     "user": {
      "displayName": "Subrata Maji",
      "photoUrl": "https://lh3.googleusercontent.com/a-/AOh14Ghxu8VIGqB6XL51-t5wM_f1R1LdmEePYHIwb9b-=s64",
      "userId": "03124174213573157612"
     },
     "user_tz": -330
    },
    "id": "QGe7Ad-pNjxz",
    "outputId": "997d3028-19b3-448f-ca0f-be650736d484"
   },
   "outputs": [],
   "source": [
    "col_countplot('state_reduced')"
   ]
  },
  {
   "cell_type": "code",
   "execution_count": null,
   "metadata": {
    "colab": {},
    "colab_type": "code",
    "id": "1HOVnMkACAzp"
   },
   "outputs": [],
   "source": [
    "train.drop(columns=['proto_reduced', 'state_reduced', 'service_reduced'], inplace=True)"
   ]
  },
  {
   "cell_type": "code",
   "execution_count": null,
   "metadata": {
    "colab": {
     "base_uri": "https://localhost:8080/",
     "height": 34
    },
    "colab_type": "code",
    "executionInfo": {
     "elapsed": 1152,
     "status": "ok",
     "timestamp": 1598249052657,
     "user": {
      "displayName": "Subrata Maji",
      "photoUrl": "https://lh3.googleusercontent.com/a-/AOh14Ghxu8VIGqB6XL51-t5wM_f1R1LdmEePYHIwb9b-=s64",
      "userId": "03124174213573157612"
     },
     "user_tz": -330
    },
    "id": "1Tnpe9ljCNZm",
    "outputId": "63cfc39d-a528-4726-d2c2-646f6f8e8c36"
   },
   "outputs": [],
   "source": [
    "train.shape"
   ]
  },
  {
   "cell_type": "markdown",
   "metadata": {
    "colab_type": "text",
    "id": "JDA3QgS9UD43"
   },
   "source": [
    "#### ct_dst_ltm\n",
    "Numerical feature.<br>\n",
    "No. of connections of the same\n",
    "destination address in 100 connections\n",
    "according to the last time.\n",
    "\n",
    "1. Range of values of this feature is about 0 to 70\n",
    "2. For normal data most of the values are between 0 to 10 and few from 10 to 20.\n",
    "3. For anomaly values are close to 0 and also there are values from 10 to 30.\n",
    "4. Can visualize better after using log1p on the feature"
   ]
  },
  {
   "cell_type": "code",
   "execution_count": null,
   "metadata": {
    "colab": {
     "base_uri": "https://localhost:8080/",
     "height": 34
    },
    "colab_type": "code",
    "executionInfo": {
     "elapsed": 996,
     "status": "ok",
     "timestamp": 1598248589376,
     "user": {
      "displayName": "Subrata Maji",
      "photoUrl": "https://lh3.googleusercontent.com/a-/AOh14Ghxu8VIGqB6XL51-t5wM_f1R1LdmEePYHIwb9b-=s64",
      "userId": "03124174213573157612"
     },
     "user_tz": -330
    },
    "id": "4meN7TojRhcA",
    "outputId": "56bd348a-e58d-4c1a-b1fc-0e8d2e685b39"
   },
   "outputs": [],
   "source": [
    "col = 'ct_dst_ltm'\n",
    "train[col].nunique()"
   ]
  },
  {
   "cell_type": "code",
   "execution_count": null,
   "metadata": {
    "colab": {
     "base_uri": "https://localhost:8080/",
     "height": 280
    },
    "colab_type": "code",
    "executionInfo": {
     "elapsed": 37228,
     "status": "ok",
     "timestamp": 1598248796865,
     "user": {
      "displayName": "Subrata Maji",
      "photoUrl": "https://lh3.googleusercontent.com/a-/AOh14Ghxu8VIGqB6XL51-t5wM_f1R1LdmEePYHIwb9b-=s64",
      "userId": "03124174213573157612"
     },
     "user_tz": -330
    },
    "id": "5lZHTRGlURCV",
    "outputId": "ca734a82-5ef3-4422-b792-707f4c44489a"
   },
   "outputs": [],
   "source": [
    "plt.figure(figsize=(20,4))\n",
    "plt.subplot(121)\n",
    "dual_plot(col)\n",
    "plt.subplot(122)\n",
    "dual_plot(col, method=np.log1p)\n",
    "plt.show()"
   ]
  },
  {
   "cell_type": "markdown",
   "metadata": {
    "colab_type": "text",
    "id": "jCtSQ_ju0a9J"
   },
   "source": [
    "#### ct_flw_http_mthd\n",
    "Numerical feature with small discreate set of values.<br>\n",
    "No. of flows that has methods such as Get\n",
    "and Post in http service.\n",
    "\n",
    "1. For normal almost all the values are 0 and few 1.\n",
    "2. In attack data everything is 0 and there is very very litle no of 1's"
   ]
  },
  {
   "cell_type": "code",
   "execution_count": null,
   "metadata": {
    "colab": {
     "base_uri": "https://localhost:8080/",
     "height": 34
    },
    "colab_type": "code",
    "executionInfo": {
     "elapsed": 911,
     "status": "ok",
     "timestamp": 1596826380134,
     "user": {
      "displayName": "Subrata Maji",
      "photoUrl": "https://lh3.googleusercontent.com/a-/AOh14Ghxu8VIGqB6XL51-t5wM_f1R1LdmEePYHIwb9b-=s64",
      "userId": "03124174213573157612"
     },
     "user_tz": -330
    },
    "id": "rZqPTMokUuTH",
    "outputId": "3aba28b8-cc60-4150-ce89-18cf1825a763"
   },
   "outputs": [],
   "source": [
    "train['ct_flw_http_mthd'].nunique()"
   ]
  },
  {
   "cell_type": "code",
   "execution_count": null,
   "metadata": {
    "colab": {
     "base_uri": "https://localhost:8080/",
     "height": 309
    },
    "colab_type": "code",
    "executionInfo": {
     "elapsed": 2057,
     "status": "ok",
     "timestamp": 1598249236975,
     "user": {
      "displayName": "Subrata Maji",
      "photoUrl": "https://lh3.googleusercontent.com/a-/AOh14Ghxu8VIGqB6XL51-t5wM_f1R1LdmEePYHIwb9b-=s64",
      "userId": "03124174213573157612"
     },
     "user_tz": -330
    },
    "id": "b-heZI3XU70X",
    "outputId": "e2b61bec-d92c-4cb8-8c74-d2aa423d3e4a"
   },
   "outputs": [],
   "source": [
    "col_countplot('ct_flw_http_mthd')"
   ]
  },
  {
   "cell_type": "markdown",
   "metadata": {
    "colab_type": "text",
    "id": "xZO3FdYv1LPn"
   },
   "source": [
    "#### ct_srv_src\n",
    "Numerical feature.<br>\n",
    "No. of connections that contain the same\n",
    "service and source address in 100\n",
    "connections according to the last time.\n",
    "1. Range of the values is between 0 to 70.\n",
    "2. For normal most of the values are from 0 to 15.\n",
    "3. For anomaly most of the values are from 0 to 10 and the values are also distributed between 15 to 50.\n",
    "\n",
    "\n",
    "\n"
   ]
  },
  {
   "cell_type": "code",
   "execution_count": null,
   "metadata": {
    "colab": {
     "base_uri": "https://localhost:8080/",
     "height": 34
    },
    "colab_type": "code",
    "executionInfo": {
     "elapsed": 834,
     "status": "ok",
     "timestamp": 1598249100059,
     "user": {
      "displayName": "Subrata Maji",
      "photoUrl": "https://lh3.googleusercontent.com/a-/AOh14Ghxu8VIGqB6XL51-t5wM_f1R1LdmEePYHIwb9b-=s64",
      "userId": "03124174213573157612"
     },
     "user_tz": -330
    },
    "id": "-H4EkpC3VLZ9",
    "outputId": "67471ced-3589-4747-8846-cb1d769f3518"
   },
   "outputs": [],
   "source": [
    "col = 'ct_srv_src'\n",
    "train[col].nunique()"
   ]
  },
  {
   "cell_type": "code",
   "execution_count": null,
   "metadata": {
    "colab": {
     "base_uri": "https://localhost:8080/",
     "height": 280
    },
    "colab_type": "code",
    "executionInfo": {
     "elapsed": 38626,
     "status": "ok",
     "timestamp": 1598249186873,
     "user": {
      "displayName": "Subrata Maji",
      "photoUrl": "https://lh3.googleusercontent.com/a-/AOh14Ghxu8VIGqB6XL51-t5wM_f1R1LdmEePYHIwb9b-=s64",
      "userId": "03124174213573157612"
     },
     "user_tz": -330
    },
    "id": "KWLSQO1LVZx2",
    "outputId": "fd6c1d45-21c0-4287-dd60-2240f3030f34"
   },
   "outputs": [],
   "source": [
    "plt.figure(figsize=(20,4))\n",
    "plt.subplot(121)\n",
    "dual_plot(col)\n",
    "plt.subplot(122)\n",
    "dual_plot(col, method=np.log1p)\n",
    "plt.show()"
   ]
  },
  {
   "cell_type": "markdown",
   "metadata": {
    "colab_type": "text",
    "id": "X6QwnyAO2D8s"
   },
   "source": [
    "#### ct_state_ttl\n",
    "Numerical feature with small discrete set of values.\n",
    "1. normal data has 0 as most of its values.\n",
    "2. anomaly has most of its value 2.\n",
    "3. There are few attack with value 1 to and also very little non-attack with 1."
   ]
  },
  {
   "cell_type": "code",
   "execution_count": null,
   "metadata": {
    "colab": {
     "base_uri": "https://localhost:8080/",
     "height": 34
    },
    "colab_type": "code",
    "executionInfo": {
     "elapsed": 1369,
     "status": "ok",
     "timestamp": 1596826445493,
     "user": {
      "displayName": "Subrata Maji",
      "photoUrl": "https://lh3.googleusercontent.com/a-/AOh14Ghxu8VIGqB6XL51-t5wM_f1R1LdmEePYHIwb9b-=s64",
      "userId": "03124174213573157612"
     },
     "user_tz": -330
    },
    "id": "RMvGNCVZa17R",
    "outputId": "57edd107-856b-42f2-ea49-99ca4a3fb390"
   },
   "outputs": [],
   "source": [
    "train['ct_state_ttl'].nunique()"
   ]
  },
  {
   "cell_type": "code",
   "execution_count": null,
   "metadata": {
    "colab": {
     "base_uri": "https://localhost:8080/",
     "height": 298
    },
    "colab_type": "code",
    "executionInfo": {
     "elapsed": 1247,
     "status": "ok",
     "timestamp": 1598249265764,
     "user": {
      "displayName": "Subrata Maji",
      "photoUrl": "https://lh3.googleusercontent.com/a-/AOh14Ghxu8VIGqB6XL51-t5wM_f1R1LdmEePYHIwb9b-=s64",
      "userId": "03124174213573157612"
     },
     "user_tz": -330
    },
    "id": "CA0UM4-qa76V",
    "outputId": "072de3c1-c1b2-471f-9f96-a10f6427d53f"
   },
   "outputs": [],
   "source": [
    "col_countplot('ct_state_ttl')"
   ]
  },
  {
   "cell_type": "markdown",
   "metadata": {
    "colab_type": "text",
    "id": "xoFOB7wR8Btj"
   },
   "source": [
    "#### dinpkt\n",
    "Numerical feature. Destination inter-packet arrival time (mSec)\n",
    "1. This feature has 55 unique values.\n",
    "2. Most of the non-attack data has value 1 and there are very very litte 2,3,4, 19,21,23 but they are very less in number not visible in the graoh also.\n",
    "3. Attck data has value 0 most no of time but that is also way too little compared with non-attack data."
   ]
  },
  {
   "cell_type": "markdown",
   "metadata": {
    "colab_type": "text",
    "id": "v8LsDfagNwGI"
   },
   "source": [
    "#### ct_dst_sport_ltm"
   ]
  },
  {
   "cell_type": "code",
   "execution_count": null,
   "metadata": {
    "colab": {
     "base_uri": "https://localhost:8080/",
     "height": 34
    },
    "colab_type": "code",
    "executionInfo": {
     "elapsed": 1089,
     "status": "ok",
     "timestamp": 1598251613588,
     "user": {
      "displayName": "Subrata Maji",
      "photoUrl": "https://lh3.googleusercontent.com/a-/AOh14Ghxu8VIGqB6XL51-t5wM_f1R1LdmEePYHIwb9b-=s64",
      "userId": "03124174213573157612"
     },
     "user_tz": -330
    },
    "id": "GmIeTTHMNvcN",
    "outputId": "7c25cf53-bb66-467d-f77a-4010e82ef2e7"
   },
   "outputs": [],
   "source": [
    "train['ct_dst_sport_ltm'].nunique()"
   ]
  },
  {
   "cell_type": "code",
   "execution_count": null,
   "metadata": {
    "colab": {
     "base_uri": "https://localhost:8080/",
     "height": 302
    },
    "colab_type": "code",
    "executionInfo": {
     "elapsed": 2831,
     "status": "ok",
     "timestamp": 1598251694645,
     "user": {
      "displayName": "Subrata Maji",
      "photoUrl": "https://lh3.googleusercontent.com/a-/AOh14Ghxu8VIGqB6XL51-t5wM_f1R1LdmEePYHIwb9b-=s64",
      "userId": "03124174213573157612"
     },
     "user_tz": -330
    },
    "id": "wemMX6RxOEtT",
    "outputId": "490dac96-fda0-42aa-bd22-24054e036a76"
   },
   "outputs": [],
   "source": [
    "col_countplot('ct_dst_sport_ltm')"
   ]
  },
  {
   "cell_type": "markdown",
   "metadata": {
    "colab_type": "text",
    "id": "GdsSkAZdmx_C"
   },
   "source": [
    "#### dintpkt\n",
    "Numerical feature.\n",
    "<br>\n",
    "Destination inter-packet arrival time (mSec)\n",
    "1. Feature has large range of values upto 60,000\n",
    "2. For nonmal data there is a very high peek from 15,000 to 20,000\n",
    "3. For attack data values are distributed in first 10000"
   ]
  },
  {
   "cell_type": "code",
   "execution_count": null,
   "metadata": {
    "colab": {
     "base_uri": "https://localhost:8080/",
     "height": 34
    },
    "colab_type": "code",
    "executionInfo": {
     "elapsed": 1133,
     "status": "ok",
     "timestamp": 1597086081369,
     "user": {
      "displayName": "Subrata Maji",
      "photoUrl": "https://lh3.googleusercontent.com/a-/AOh14Ghxu8VIGqB6XL51-t5wM_f1R1LdmEePYHIwb9b-=s64",
      "userId": "03124174213573157612"
     },
     "user_tz": -330
    },
    "id": "cDUrwvtGbCA-",
    "outputId": "fb7c6111-9ba7-4f58-bba0-aa46ad178406"
   },
   "outputs": [],
   "source": [
    "train['dintpkt'].nunique()"
   ]
  },
  {
   "cell_type": "code",
   "execution_count": null,
   "metadata": {
    "colab": {
     "base_uri": "https://localhost:8080/",
     "height": 290
    },
    "colab_type": "code",
    "executionInfo": {
     "elapsed": 39911,
     "status": "ok",
     "timestamp": 1598249345406,
     "user": {
      "displayName": "Subrata Maji",
      "photoUrl": "https://lh3.googleusercontent.com/a-/AOh14Ghxu8VIGqB6XL51-t5wM_f1R1LdmEePYHIwb9b-=s64",
      "userId": "03124174213573157612"
     },
     "user_tz": -330
    },
    "id": "3hIYW_0DbfK3",
    "outputId": "c8f1974e-c203-404a-f532-b2959750cec4"
   },
   "outputs": [],
   "source": [
    "plt.figure(figsize=(20,4))\n",
    "plt.subplot(121)\n",
    "dual_plot('dintpkt')\n",
    "plt.subplot(122)\n",
    "dual_plot('dintpkt', method=np.log1p)\n",
    "plt.show()"
   ]
  },
  {
   "cell_type": "markdown",
   "metadata": {
    "colab_type": "text",
    "id": "0cLB2e0R-zII"
   },
   "source": [
    "#### djit\n",
    "Numerical feature. Destination jitter (mSec)\n",
    "1. Range of this feature is huge upto 800,000.\n",
    "2. Normal data distributed over very wide range upto 200,000.\n",
    "3. For attack data there is a huge peek close to 0 and distributioon of values are very narrow."
   ]
  },
  {
   "cell_type": "code",
   "execution_count": null,
   "metadata": {
    "colab": {
     "base_uri": "https://localhost:8080/",
     "height": 34
    },
    "colab_type": "code",
    "executionInfo": {
     "elapsed": 1086,
     "status": "ok",
     "timestamp": 1597086130041,
     "user": {
      "displayName": "Subrata Maji",
      "photoUrl": "https://lh3.googleusercontent.com/a-/AOh14Ghxu8VIGqB6XL51-t5wM_f1R1LdmEePYHIwb9b-=s64",
      "userId": "03124174213573157612"
     },
     "user_tz": -330
    },
    "id": "Kw7sEDDPbhLc",
    "outputId": "397d4463-213f-4480-869b-c554f11208a1"
   },
   "outputs": [],
   "source": [
    "\n",
    "train['djit'].nunique()"
   ]
  },
  {
   "cell_type": "code",
   "execution_count": null,
   "metadata": {
    "colab": {
     "base_uri": "https://localhost:8080/",
     "height": 290
    },
    "colab_type": "code",
    "executionInfo": {
     "elapsed": 36758,
     "status": "ok",
     "timestamp": 1598249467764,
     "user": {
      "displayName": "Subrata Maji",
      "photoUrl": "https://lh3.googleusercontent.com/a-/AOh14Ghxu8VIGqB6XL51-t5wM_f1R1LdmEePYHIwb9b-=s64",
      "userId": "03124174213573157612"
     },
     "user_tz": -330
    },
    "id": "vZYJQ2Brbyhv",
    "outputId": "b1d62765-bddb-4800-af98-a85e69d65a62"
   },
   "outputs": [],
   "source": [
    "plt.figure(figsize=(20,4))\n",
    "plt.subplot(121)\n",
    "dual_plot('djit')\n",
    "plt.subplot(122)\n",
    "dual_plot('djit', method=np.log1p)\n",
    "plt.show()"
   ]
  },
  {
   "cell_type": "markdown",
   "metadata": {
    "colab_type": "text",
    "id": "KMBwYnbLTYjN"
   },
   "source": [
    "#### dload\n",
    "Numerical feature. Destination bits per second\n",
    "1. This feature has high correlation with target feat, 0.35\n",
    "2. Feature has huge range of values upto 1e8\n",
    "3. We can visualize better in log scale. For normal data they are distributed all over, has values close to 0 and also very large values\n",
    "4. And for attack data all the values are very close to 0. IN log scale we can see that values are between 3 to 15"
   ]
  },
  {
   "cell_type": "code",
   "execution_count": null,
   "metadata": {
    "colab": {
     "base_uri": "https://localhost:8080/",
     "height": 34
    },
    "colab_type": "code",
    "executionInfo": {
     "elapsed": 1812,
     "status": "ok",
     "timestamp": 1597086586465,
     "user": {
      "displayName": "Subrata Maji",
      "photoUrl": "https://lh3.googleusercontent.com/a-/AOh14Ghxu8VIGqB6XL51-t5wM_f1R1LdmEePYHIwb9b-=s64",
      "userId": "03124174213573157612"
     },
     "user_tz": -330
    },
    "id": "wA3xFdCQdR_6",
    "outputId": "3b2670b2-7ea6-4226-e621-b64abf38ab91"
   },
   "outputs": [],
   "source": [
    "train['dload'].nunique()"
   ]
  },
  {
   "cell_type": "code",
   "execution_count": null,
   "metadata": {
    "colab": {
     "base_uri": "https://localhost:8080/",
     "height": 290
    },
    "colab_type": "code",
    "executionInfo": {
     "elapsed": 37810,
     "status": "ok",
     "timestamp": 1598249541387,
     "user": {
      "displayName": "Subrata Maji",
      "photoUrl": "https://lh3.googleusercontent.com/a-/AOh14Ghxu8VIGqB6XL51-t5wM_f1R1LdmEePYHIwb9b-=s64",
      "userId": "03124174213573157612"
     },
     "user_tz": -330
    },
    "id": "YLCtL9p2qQ9y",
    "outputId": "1813b7bd-5a1f-4b6d-bfe1-3d36bbbdfe6d"
   },
   "outputs": [],
   "source": [
    "plt.figure(figsize=(20,4))\n",
    "plt.subplot(121)\n",
    "dual_plot('dload')\n",
    "plt.subplot(122)\n",
    "dual_plot('dload', method=np.log1p)\n",
    "plt.show()"
   ]
  },
  {
   "cell_type": "markdown",
   "metadata": {
    "colab_type": "text",
    "id": "uvI-BKL-vQM2"
   },
   "source": [
    "#### dbytes\n",
    "Numerical feature. Destination to source bytes.\n",
    "1. The range of values for this feature is very wide upto 1e7.\n",
    "2. Values of normal categories are grouped together. In log scale can see there are values close to 0 and then from 5 to 12.\n",
    "3. For attck category data values are widely spread. In log scale can see high peeks around 5 to 7."
   ]
  },
  {
   "cell_type": "code",
   "execution_count": null,
   "metadata": {
    "colab": {
     "base_uri": "https://localhost:8080/",
     "height": 34
    },
    "colab_type": "code",
    "executionInfo": {
     "elapsed": 931,
     "status": "ok",
     "timestamp": 1598249555399,
     "user": {
      "displayName": "Subrata Maji",
      "photoUrl": "https://lh3.googleusercontent.com/a-/AOh14Ghxu8VIGqB6XL51-t5wM_f1R1LdmEePYHIwb9b-=s64",
      "userId": "03124174213573157612"
     },
     "user_tz": -330
    },
    "id": "tDTUCVXMvbVf",
    "outputId": "eaff532f-b335-4c12-f231-6bee3ad17b97"
   },
   "outputs": [],
   "source": [
    "col = 'dbytes'\n",
    "train[col].nunique()"
   ]
  },
  {
   "cell_type": "code",
   "execution_count": null,
   "metadata": {
    "colab": {
     "base_uri": "https://localhost:8080/",
     "height": 290
    },
    "colab_type": "code",
    "executionInfo": {
     "elapsed": 37455,
     "status": "ok",
     "timestamp": 1598249608150,
     "user": {
      "displayName": "Subrata Maji",
      "photoUrl": "https://lh3.googleusercontent.com/a-/AOh14Ghxu8VIGqB6XL51-t5wM_f1R1LdmEePYHIwb9b-=s64",
      "userId": "03124174213573157612"
     },
     "user_tz": -330
    },
    "id": "e0BKBLQbGN4M",
    "outputId": "5e80c142-1ba8-4842-9658-b285ff25f1da"
   },
   "outputs": [],
   "source": [
    "plt.figure(figsize=(20,4))\n",
    "plt.subplot(121)\n",
    "dual_plot(col)\n",
    "plt.subplot(122)\n",
    "dual_plot(col, method=np.log1p)\n",
    "plt.show()"
   ]
  },
  {
   "cell_type": "markdown",
   "metadata": {
    "colab_type": "text",
    "id": "mQoTfc6kTYjX"
   },
   "source": [
    "#### dmeansz\n",
    "Numerical feature. Mean of the flow packet size transmitted by the dst\n",
    "1. Feature range between 0 to 1600, with high corr with \"label\" 0.29\n",
    "2. For non-attck data most values are between 0-200. And few of them are distributed from 400 to 800\n",
    "3. Most of the values in anomaly from 0 to 100."
   ]
  },
  {
   "cell_type": "code",
   "execution_count": null,
   "metadata": {
    "colab": {
     "base_uri": "https://localhost:8080/",
     "height": 34
    },
    "colab_type": "code",
    "executionInfo": {
     "elapsed": 1037,
     "status": "ok",
     "timestamp": 1598249644040,
     "user": {
      "displayName": "Subrata Maji",
      "photoUrl": "https://lh3.googleusercontent.com/a-/AOh14Ghxu8VIGqB6XL51-t5wM_f1R1LdmEePYHIwb9b-=s64",
      "userId": "03124174213573157612"
     },
     "user_tz": -330
    },
    "id": "_Q38fy2hqnxy",
    "outputId": "a8b56081-ae3b-4e78-92b6-4630664e0cec"
   },
   "outputs": [],
   "source": [
    "col = 'dmeansz'\n",
    "train[col].nunique()"
   ]
  },
  {
   "cell_type": "code",
   "execution_count": null,
   "metadata": {
    "colab": {
     "base_uri": "https://localhost:8080/",
     "height": 279
    },
    "colab_type": "code",
    "executionInfo": {
     "elapsed": 37816,
     "status": "ok",
     "timestamp": 1598249698955,
     "user": {
      "displayName": "Subrata Maji",
      "photoUrl": "https://lh3.googleusercontent.com/a-/AOh14Ghxu8VIGqB6XL51-t5wM_f1R1LdmEePYHIwb9b-=s64",
      "userId": "03124174213573157612"
     },
     "user_tz": -330
    },
    "id": "WSEg3xpQGkAB",
    "outputId": "1efa6ff6-b4d0-407b-d3d5-5ecfd84b6045"
   },
   "outputs": [],
   "source": [
    "plt.figure(figsize=(20,4))\n",
    "plt.subplot(121)\n",
    "dual_plot(col)\n",
    "plt.subplot(122)\n",
    "dual_plot(col, method=np.log1p)\n",
    "plt.show()"
   ]
  },
  {
   "cell_type": "markdown",
   "metadata": {
    "colab_type": "text",
    "id": "BaDJT0DkTYji"
   },
   "source": [
    "#### dpkts\n",
    "Numerical feature. Destination to source packet count\n",
    "1. Range of values for this feature is around 10,000\n",
    "2. Non-attck cat values are very close to 0. In log scale its upto 5.\n",
    "2. Attack cat values are widely distributed and has higher fraction around 2 and 3 in log1p graph"
   ]
  },
  {
   "cell_type": "code",
   "execution_count": null,
   "metadata": {
    "colab": {
     "base_uri": "https://localhost:8080/",
     "height": 34
    },
    "colab_type": "code",
    "id": "RjXXexmkrviB",
    "outputId": "ca17913f-2429-4576-b1ec-96ea8ced1471"
   },
   "outputs": [],
   "source": [
    "train['dpkts'].nunique()"
   ]
  },
  {
   "cell_type": "code",
   "execution_count": null,
   "metadata": {
    "colab": {
     "base_uri": "https://localhost:8080/",
     "height": 279
    },
    "colab_type": "code",
    "executionInfo": {
     "elapsed": 37391,
     "status": "ok",
     "timestamp": 1598249785924,
     "user": {
      "displayName": "Subrata Maji",
      "photoUrl": "https://lh3.googleusercontent.com/a-/AOh14Ghxu8VIGqB6XL51-t5wM_f1R1LdmEePYHIwb9b-=s64",
      "userId": "03124174213573157612"
     },
     "user_tz": -330
    },
    "id": "Nu9R3s2GssXF",
    "outputId": "aefbf613-8ec9-41a8-bfc1-2029882e5c1f"
   },
   "outputs": [],
   "source": [
    "plt.figure(figsize=(20,4))\n",
    "plt.subplot(121)\n",
    "dual_plot('dpkts')\n",
    "plt.subplot(122)\n",
    "dual_plot('dpkts', method=np.log1p)\n",
    "plt.show()"
   ]
  },
  {
   "cell_type": "markdown",
   "metadata": {
    "colab_type": "text",
    "id": "QIFhYbmBTYjr"
   },
   "source": [
    "#### dtcpb\n",
    "Numerical features. Destination TCP sequence number\n",
    "1. The range of this feature is very very wide 4*10^9\n",
    "2. Values of normal cat are lot more wide spread than anomaly cat.\n",
    "3. From the graphs its not much clear about the distribution.  But can see attack cat values are distributed through out total range."
   ]
  },
  {
   "cell_type": "code",
   "execution_count": null,
   "metadata": {
    "colab": {
     "base_uri": "https://localhost:8080/",
     "height": 34
    },
    "colab_type": "code",
    "executionInfo": {
     "elapsed": 1123,
     "status": "ok",
     "timestamp": 1598249867664,
     "user": {
      "displayName": "Subrata Maji",
      "photoUrl": "https://lh3.googleusercontent.com/a-/AOh14Ghxu8VIGqB6XL51-t5wM_f1R1LdmEePYHIwb9b-=s64",
      "userId": "03124174213573157612"
     },
     "user_tz": -330
    },
    "id": "JK3F5t7Zs2To",
    "outputId": "4ca8488e-4076-4074-fdd6-f272e2dd002d"
   },
   "outputs": [],
   "source": [
    "col = 'dtcpb'\n",
    "train[col].nunique()"
   ]
  },
  {
   "cell_type": "code",
   "execution_count": null,
   "metadata": {
    "colab": {
     "base_uri": "https://localhost:8080/",
     "height": 290
    },
    "colab_type": "code",
    "executionInfo": {
     "elapsed": 39080,
     "status": "ok",
     "timestamp": 1598249925810,
     "user": {
      "displayName": "Subrata Maji",
      "photoUrl": "https://lh3.googleusercontent.com/a-/AOh14Ghxu8VIGqB6XL51-t5wM_f1R1LdmEePYHIwb9b-=s64",
      "userId": "03124174213573157612"
     },
     "user_tz": -330
    },
    "id": "Ace8bytZHbjD",
    "outputId": "d962fe81-8bdf-4d8a-e154-5747880fa675"
   },
   "outputs": [],
   "source": [
    "plt.figure(figsize=(20,4))\n",
    "plt.subplot(121)\n",
    "dual_plot(col)\n",
    "plt.subplot(122)\n",
    "dual_plot(col, method=np.log1p)\n",
    "plt.show()"
   ]
  },
  {
   "cell_type": "markdown",
   "metadata": {
    "colab_type": "text",
    "id": "fOdYusS2TYjw"
   },
   "source": [
    "#### dttl\n",
    "Destination to source time to live\n",
    "<br>\n",
    "Numerical feature with only 11 unique value. Can plot it as categorical feature.\n",
    "\n",
    "\n",
    "Destination to source time to live\n",
    "1. MOst of the values for non-attack data is 29. There are some 0 and very few 252.\n",
    "2. There lots of 0 in attack data, no of 0 in attack is more than non-attack, there are few 252 also and that is also higher than non-attack."
   ]
  },
  {
   "cell_type": "code",
   "execution_count": null,
   "metadata": {
    "colab": {
     "base_uri": "https://localhost:8080/",
     "height": 34
    },
    "colab_type": "code",
    "executionInfo": {
     "elapsed": 1924,
     "status": "ok",
     "timestamp": 1597169106012,
     "user": {
      "displayName": "Subrata Maji",
      "photoUrl": "https://lh3.googleusercontent.com/a-/AOh14Ghxu8VIGqB6XL51-t5wM_f1R1LdmEePYHIwb9b-=s64",
      "userId": "03124174213573157612"
     },
     "user_tz": -330
    },
    "id": "6X4w-2Rptezf",
    "outputId": "bcc2531a-6114-4c4c-b86d-153a9b6148c0"
   },
   "outputs": [],
   "source": [
    "train['dttl'].nunique()"
   ]
  },
  {
   "cell_type": "code",
   "execution_count": null,
   "metadata": {
    "colab": {
     "base_uri": "https://localhost:8080/",
     "height": 306
    },
    "colab_type": "code",
    "executionInfo": {
     "elapsed": 1608,
     "status": "ok",
     "timestamp": 1598249949220,
     "user": {
      "displayName": "Subrata Maji",
      "photoUrl": "https://lh3.googleusercontent.com/a-/AOh14Ghxu8VIGqB6XL51-t5wM_f1R1LdmEePYHIwb9b-=s64",
      "userId": "03124174213573157612"
     },
     "user_tz": -330
    },
    "id": "Jjgk4D7OtxM-",
    "outputId": "355be680-321e-476e-d8a3-b3e0ed5043dc",
    "scrolled": true
   },
   "outputs": [],
   "source": [
    "col_countplot('dttl')"
   ]
  },
  {
   "cell_type": "markdown",
   "metadata": {
    "colab_type": "text",
    "id": "5YTlOJRETYj4"
   },
   "source": [
    "#### dur\n",
    "Numerical feature. Record total duration\n",
    "1. Range of this feature is 0 to 8000\n",
    "2. Both attack and non-attack cat values are very close to 0.\n",
    "3. But attack cat values are widely distributed than non-attack."
   ]
  },
  {
   "cell_type": "code",
   "execution_count": null,
   "metadata": {
    "colab": {
     "base_uri": "https://localhost:8080/",
     "height": 34
    },
    "colab_type": "code",
    "executionInfo": {
     "elapsed": 996,
     "status": "ok",
     "timestamp": 1598249971667,
     "user": {
      "displayName": "Subrata Maji",
      "photoUrl": "https://lh3.googleusercontent.com/a-/AOh14Ghxu8VIGqB6XL51-t5wM_f1R1LdmEePYHIwb9b-=s64",
      "userId": "03124174213573157612"
     },
     "user_tz": -330
    },
    "id": "UomgWmjut1RX",
    "outputId": "5a1f3b2b-bbac-4bb2-bc9d-856da0858e26"
   },
   "outputs": [],
   "source": [
    "col = 'dur'\n",
    "train[col].nunique()"
   ]
  },
  {
   "cell_type": "code",
   "execution_count": null,
   "metadata": {
    "colab": {
     "base_uri": "https://localhost:8080/",
     "height": 279
    },
    "colab_type": "code",
    "executionInfo": {
     "elapsed": 37553,
     "status": "ok",
     "timestamp": 1598250024736,
     "user": {
      "displayName": "Subrata Maji",
      "photoUrl": "https://lh3.googleusercontent.com/a-/AOh14Ghxu8VIGqB6XL51-t5wM_f1R1LdmEePYHIwb9b-=s64",
      "userId": "03124174213573157612"
     },
     "user_tz": -330
    },
    "id": "BsBXO21zH0Fz",
    "outputId": "272d2e0f-9f3c-4882-9211-b8bd906141c1",
    "scrolled": true
   },
   "outputs": [],
   "source": [
    "plt.figure(figsize=(20,4))\n",
    "plt.subplot(121)\n",
    "dual_plot(col)\n",
    "plt.subplot(122)\n",
    "dual_plot(col, method=np.log1p)\n",
    "plt.show()"
   ]
  },
  {
   "cell_type": "markdown",
   "metadata": {
    "colab_type": "text",
    "id": "6rzWJX2FTYka"
   },
   "source": [
    "#### sintpkt\n",
    "Numerical feature. Source inter-packet arrival time (mSec)\n",
    "1. Most of the values in normat cat is close to 0 and spread to 400. And few values are also close to max value of the feature.\n",
    "2. anomaly cat has most of values near to 0 and spread is less compared to normal"
   ]
  },
  {
   "cell_type": "code",
   "execution_count": null,
   "metadata": {
    "colab": {
     "base_uri": "https://localhost:8080/",
     "height": 34
    },
    "colab_type": "code",
    "executionInfo": {
     "elapsed": 1161,
     "status": "ok",
     "timestamp": 1597169329927,
     "user": {
      "displayName": "Subrata Maji",
      "photoUrl": "https://lh3.googleusercontent.com/a-/AOh14Ghxu8VIGqB6XL51-t5wM_f1R1LdmEePYHIwb9b-=s64",
      "userId": "03124174213573157612"
     },
     "user_tz": -330
    },
    "id": "fWDwFj6OvNqk",
    "outputId": "3281bf7a-e826-4e0e-9eab-4dbafb719baa"
   },
   "outputs": [],
   "source": [
    "train['sintpkt'].nunique()"
   ]
  },
  {
   "cell_type": "code",
   "execution_count": null,
   "metadata": {
    "colab": {
     "base_uri": "https://localhost:8080/",
     "height": 290
    },
    "colab_type": "code",
    "executionInfo": {
     "elapsed": 37471,
     "status": "ok",
     "timestamp": 1598250097619,
     "user": {
      "displayName": "Subrata Maji",
      "photoUrl": "https://lh3.googleusercontent.com/a-/AOh14Ghxu8VIGqB6XL51-t5wM_f1R1LdmEePYHIwb9b-=s64",
      "userId": "03124174213573157612"
     },
     "user_tz": -330
    },
    "id": "uRLdtgo-IFHs",
    "outputId": "a039ba2e-c7da-4dad-bb45-f9f7c6b61efb"
   },
   "outputs": [],
   "source": [
    "plt.figure(figsize=(20,4))\n",
    "plt.subplot(121)\n",
    "dual_plot('sintpkt')\n",
    "plt.subplot(122)\n",
    "dual_plot('sintpkt', method=np.log1p)\n",
    "plt.show()"
   ]
  },
  {
   "cell_type": "markdown",
   "metadata": {
    "colab_type": "text",
    "id": "MaMoMQc0TYk-"
   },
   "source": [
    "#### sttl\n",
    "Numerical feature with only 13 unique value.\n",
    "<br>\n",
    "Source to destination time to live\n",
    "1. normal cat data has most of its values 31 and few 60.\n",
    "2. anomaly cat has almost all of its value 254."
   ]
  },
  {
   "cell_type": "code",
   "execution_count": null,
   "metadata": {
    "colab": {
     "base_uri": "https://localhost:8080/",
     "height": 34
    },
    "colab_type": "code",
    "executionInfo": {
     "elapsed": 1046,
     "status": "ok",
     "timestamp": 1597169627261,
     "user": {
      "displayName": "Subrata Maji",
      "photoUrl": "https://lh3.googleusercontent.com/a-/AOh14Ghxu8VIGqB6XL51-t5wM_f1R1LdmEePYHIwb9b-=s64",
      "userId": "03124174213573157612"
     },
     "user_tz": -330
    },
    "id": "3HPKQRmayxf0",
    "outputId": "ab15e9ba-c0e5-4da5-822c-f6de131b0265"
   },
   "outputs": [],
   "source": [
    "train['sttl'].nunique()"
   ]
  },
  {
   "cell_type": "code",
   "execution_count": null,
   "metadata": {
    "colab": {
     "base_uri": "https://localhost:8080/",
     "height": 306
    },
    "colab_type": "code",
    "executionInfo": {
     "elapsed": 1429,
     "status": "ok",
     "timestamp": 1598250164802,
     "user": {
      "displayName": "Subrata Maji",
      "photoUrl": "https://lh3.googleusercontent.com/a-/AOh14Ghxu8VIGqB6XL51-t5wM_f1R1LdmEePYHIwb9b-=s64",
      "userId": "03124174213573157612"
     },
     "user_tz": -330
    },
    "id": "GP-E7aIFzeQ5",
    "outputId": "6ee374fb-afd4-4faa-e696-0449efad0aaa"
   },
   "outputs": [],
   "source": [
    "col_countplot(\"sttl\")"
   ]
  },
  {
   "cell_type": "markdown",
   "metadata": {
    "colab_type": "text",
    "id": "Pz7RTkn9TYlO"
   },
   "source": [
    "#### stcpb\n",
    "Numerical feature. Source TCP sequence number\n",
    "1. The graphs are very similar to 'dtcpb'\n",
    "1. normal cat has higher no of values close to 0 and has spread through out whole range\n",
    "2. anomaly has most of its values near 0 and less spread compared to normal cat.\n"
   ]
  },
  {
   "cell_type": "code",
   "execution_count": null,
   "metadata": {
    "colab": {
     "base_uri": "https://localhost:8080/",
     "height": 34
    },
    "colab_type": "code",
    "executionInfo": {
     "elapsed": 1078,
     "status": "ok",
     "timestamp": 1598250239156,
     "user": {
      "displayName": "Subrata Maji",
      "photoUrl": "https://lh3.googleusercontent.com/a-/AOh14Ghxu8VIGqB6XL51-t5wM_f1R1LdmEePYHIwb9b-=s64",
      "userId": "03124174213573157612"
     },
     "user_tz": -330
    },
    "id": "jd_vcBqHzqrN",
    "outputId": "eac62a42-a721-4bac-9d7b-c6d28a8e9d2f"
   },
   "outputs": [],
   "source": [
    "col = 'stcpb'\n",
    "train[col].nunique()"
   ]
  },
  {
   "cell_type": "code",
   "execution_count": null,
   "metadata": {
    "colab": {
     "base_uri": "https://localhost:8080/",
     "height": 290
    },
    "colab_type": "code",
    "executionInfo": {
     "elapsed": 37642,
     "status": "ok",
     "timestamp": 1598250301838,
     "user": {
      "displayName": "Subrata Maji",
      "photoUrl": "https://lh3.googleusercontent.com/a-/AOh14Ghxu8VIGqB6XL51-t5wM_f1R1LdmEePYHIwb9b-=s64",
      "userId": "03124174213573157612"
     },
     "user_tz": -330
    },
    "id": "Ey9VaILcI3Ek",
    "outputId": "62585d3a-83ef-42f4-d18c-501f61631179"
   },
   "outputs": [],
   "source": [
    "plt.figure(figsize=(20,4))\n",
    "plt.subplot(121)\n",
    "dual_plot(col)\n",
    "plt.subplot(122)\n",
    "dual_plot(col, method=np.log1p)\n",
    "plt.show()"
   ]
  },
  {
   "cell_type": "markdown",
   "metadata": {
    "colab_type": "text",
    "id": "UBCsMS-aTYlX"
   },
   "source": [
    "#### swin\n",
    "Numerical feature with 22 unique value.\n",
    "<br>\n",
    "Source TCP window advertisement\n",
    "1. Most of the values of this feature are just 0 and 255\n",
    "2. Normal cat data has most of its values 255 and 0\n",
    "3. Attack act has large no of 0 and small no of 255, just the inverse of normal cat."
   ]
  },
  {
   "cell_type": "code",
   "execution_count": null,
   "metadata": {
    "colab": {
     "base_uri": "https://localhost:8080/",
     "height": 34
    },
    "colab_type": "code",
    "executionInfo": {
     "elapsed": 729,
     "status": "ok",
     "timestamp": 1597169701237,
     "user": {
      "displayName": "Subrata Maji",
      "photoUrl": "https://lh3.googleusercontent.com/a-/AOh14Ghxu8VIGqB6XL51-t5wM_f1R1LdmEePYHIwb9b-=s64",
      "userId": "03124174213573157612"
     },
     "user_tz": -330
    },
    "id": "mPT0rKf-J9ID",
    "outputId": "0bf71401-8846-4549-8964-0100999fd1d3"
   },
   "outputs": [],
   "source": [
    "train['swin'].nunique()"
   ]
  },
  {
   "cell_type": "code",
   "execution_count": null,
   "metadata": {
    "colab": {
     "base_uri": "https://localhost:8080/",
     "height": 306
    },
    "colab_type": "code",
    "executionInfo": {
     "elapsed": 1550,
     "status": "ok",
     "timestamp": 1598250320426,
     "user": {
      "displayName": "Subrata Maji",
      "photoUrl": "https://lh3.googleusercontent.com/a-/AOh14Ghxu8VIGqB6XL51-t5wM_f1R1LdmEePYHIwb9b-=s64",
      "userId": "03124174213573157612"
     },
     "user_tz": -330
    },
    "id": "ixiwam3TKJYG",
    "outputId": "b040ad0c-da85-48ea-a40d-7bf12abd8e1f"
   },
   "outputs": [],
   "source": [
    "col_countplot('swin')"
   ]
  },
  {
   "cell_type": "markdown",
   "metadata": {
    "colab_type": "text",
    "id": "MdMkgoOUu_cJ"
   },
   "source": [
    "#### sbytes\n",
    "Source to destination bytes\n",
    "<br>\n",
    "Numerical feature with large range of values upto 1e7\n",
    "1. Most of normal cat values are close to 0.\n",
    "2. Attack cat has most of its values around 5 in log1p graph.\n",
    "3. The spread of values is wider in attack compared to normal."
   ]
  },
  {
   "cell_type": "code",
   "execution_count": null,
   "metadata": {
    "colab": {
     "base_uri": "https://localhost:8080/",
     "height": 34
    },
    "colab_type": "code",
    "executionInfo": {
     "elapsed": 1080,
     "status": "ok",
     "timestamp": 1598250328469,
     "user": {
      "displayName": "Subrata Maji",
      "photoUrl": "https://lh3.googleusercontent.com/a-/AOh14Ghxu8VIGqB6XL51-t5wM_f1R1LdmEePYHIwb9b-=s64",
      "userId": "03124174213573157612"
     },
     "user_tz": -330
    },
    "id": "E17Mu1r4KMf2",
    "outputId": "d5c592d9-e5f8-4f6c-b238-83a855db09b5"
   },
   "outputs": [],
   "source": [
    "col = 'sbytes'\n",
    "train[col].nunique()"
   ]
  },
  {
   "cell_type": "code",
   "execution_count": null,
   "metadata": {
    "colab": {
     "base_uri": "https://localhost:8080/",
     "height": 242
    },
    "colab_type": "code",
    "executionInfo": {
     "elapsed": 39256,
     "status": "ok",
     "timestamp": 1598250381411,
     "user": {
      "displayName": "Subrata Maji",
      "photoUrl": "https://lh3.googleusercontent.com/a-/AOh14Ghxu8VIGqB6XL51-t5wM_f1R1LdmEePYHIwb9b-=s64",
      "userId": "03124174213573157612"
     },
     "user_tz": -330
    },
    "id": "fVAt6i-jJK8D",
    "outputId": "69afed8c-59f2-4872-bda1-e8984b81ef88"
   },
   "outputs": [],
   "source": [
    "plt.figure(figsize=(20,4))\n",
    "plt.subplot(121)\n",
    "dual_plot(col)\n",
    "plt.subplot(122)\n",
    "dual_plot(col, method=np.log1p)\n",
    "plt.show()"
   ]
  },
  {
   "cell_type": "code",
   "execution_count": null,
   "metadata": {},
   "outputs": [],
   "source": []
  },
  {
   "cell_type": "code",
   "execution_count": null,
   "metadata": {},
   "outputs": [],
   "source": []
  },
  {
   "cell_type": "code",
   "execution_count": null,
   "metadata": {},
   "outputs": [],
   "source": []
  },
  {
   "cell_type": "code",
   "execution_count": null,
   "metadata": {},
   "outputs": [],
   "source": []
  }
 ],
 "metadata": {
  "colab": {
   "authorship_tag": "ABX9TyNZyqZLLAAirNFVrllW/quW",
   "collapsed_sections": [],
   "name": "CS1_EDA.ipynb",
   "provenance": []
  },
  "kernelspec": {
   "display_name": "Python 3 (ipykernel)",
   "language": "python",
   "name": "python3"
  },
  "language_info": {
   "codemirror_mode": {
    "name": "ipython",
    "version": 3
   },
   "file_extension": ".py",
   "mimetype": "text/x-python",
   "name": "python",
   "nbconvert_exporter": "python",
   "pygments_lexer": "ipython3",
   "version": "3.12.3"
  },
  "toc": {
   "base_numbering": 1,
   "nav_menu": {},
   "number_sections": true,
   "sideBar": true,
   "skip_h1_title": false,
   "title_cell": "Table of Contents",
   "title_sidebar": "Contents",
   "toc_cell": false,
   "toc_position": {
    "height": "calc(100% - 180px)",
    "left": "10px",
    "top": "150px",
    "width": "227px"
   },
   "toc_section_display": true,
   "toc_window_display": true
  }
 },
 "nbformat": 4,
 "nbformat_minor": 4
}
